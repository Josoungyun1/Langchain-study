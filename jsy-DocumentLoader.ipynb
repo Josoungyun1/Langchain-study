{
 "cells": [
  {
   "cell_type": "markdown",
   "metadata": {},
   "source": [
    "## 00-Document & Document Loaders\n",
    "\n",
    "\n",
    "**Document란 무엇인가?**\n",
    "- LangChain의 기본 문서 객체를 나타낸다.\n",
    "\n",
    "**Document의 속성**\n",
    "- page_content: 문서의 내용을 나타내는 문자열\n",
    "- metadata: 문서의 메타데이터를 나타내는 딕셔너리리"
   ]
  },
  {
   "cell_type": "code",
   "execution_count": 4,
   "metadata": {},
   "outputs": [],
   "source": [
    "from langchain_core.documents import Document\n",
    "\n",
    "document = Document(page_content=\"랭체인의 도큐먼트.\")"
   ]
  },
  {
   "cell_type": "markdown",
   "metadata": {},
   "source": [
    "\\_\\_dict\\_\\_ 용도 \n",
    "\n",
    "클래스 객체의 속성 정보를 확인하기 위해 사용\n",
    "객체가 가진 여러가지 속성들을 딕셔너리 형태로 편하게 확인할 수 있다."
   ]
  },
  {
   "cell_type": "code",
   "execution_count": null,
   "metadata": {},
   "outputs": [
    {
     "data": {
      "text/plain": [
       "{'id': None, 'metadata': {}, 'page_content': '랭체인의 도큐먼트.', 'type': 'Document'}"
      ]
     },
     "execution_count": 5,
     "metadata": {},
     "output_type": "execute_result"
    }
   ],
   "source": [
    "#도큐먼트의 속성을 확인한다.\n",
    "document.__dict__"
   ]
  },
  {
   "cell_type": "markdown",
   "metadata": {},
   "source": [
    "metadata에 속성 추가가"
   ]
  },
  {
   "cell_type": "code",
   "execution_count": 7,
   "metadata": {},
   "outputs": [],
   "source": [
    "#메타데이터를 추가 합니다\n",
    "document.metadata[\"source\"] = \"jsyNote\"\n",
    "document.metadata[\"page\"] = \"1\"\n",
    "document.metadata[\"author\"] = \"jsy\""
   ]
  },
  {
   "cell_type": "code",
   "execution_count": 8,
   "metadata": {},
   "outputs": [
    {
     "data": {
      "text/plain": [
       "{'source': 'jsyNote', 'page': '1', 'author': 'jsy'}"
      ]
     },
     "execution_count": 8,
     "metadata": {},
     "output_type": "execute_result"
    }
   ],
   "source": [
    "# 추가한 메타데이터가 잘 추가되었는지 확인\n",
    "document.metadata"
   ]
  },
  {
   "cell_type": "markdown",
   "metadata": {},
   "source": [
    "## Document Loader\n",
    "\n",
    "다양한 파일의 형식으로부터 불러온 내용을 문서 객체로 변환하는 역할을 합니다.\n",
    "\n",
    "## 사용하는 주요 Loader\n",
    "- PyPDFLoader\n",
    "- CSVLoader\n",
    "- UnstructuredHTMLLoader\n",
    "- JSONLoader\n",
    "- TextLoader\n",
    "- DirectoryLoader"
   ]
  },
  {
   "cell_type": "code",
   "execution_count": 13,
   "metadata": {},
   "outputs": [],
   "source": [
    "# 파일의 경로를 FILE_PATH 변수에 저장\n",
    "FILE_PATH = \"./data/SPRI_AI_Brief_2023년12월호_F.pdf\""
   ]
  },
  {
   "cell_type": "code",
   "execution_count": 14,
   "metadata": {},
   "outputs": [],
   "source": [
    "from langchain_community.document_loaders import PyPDFLoader\n",
    "\n",
    "loader = PyPDFLoader(FILE_PATH)"
   ]
  },
  {
   "cell_type": "markdown",
   "metadata": {},
   "source": [
    "load()\n",
    "\n",
    "문서를 로드하여 List[Document] 형태로 반환합니다."
   ]
  },
  {
   "cell_type": "code",
   "execution_count": 15,
   "metadata": {},
   "outputs": [
    {
     "data": {
      "text/plain": [
       "23"
      ]
     },
     "execution_count": 15,
     "metadata": {},
     "output_type": "execute_result"
    }
   ],
   "source": [
    "#PDF 로더\n",
    "docs = loader.load()\n",
    "\n",
    "# 로드된 문서의 수 확인 : 몇 페이저로 이루어져있는지지\n",
    "len(docs)"
   ]
  },
  {
   "cell_type": "code",
   "execution_count": 16,
   "metadata": {},
   "outputs": [
    {
     "data": {
      "text/plain": [
       "Document(metadata={'producer': 'Hancom PDF 1.3.0.542', 'creator': 'Hwp 2018 10.0.0.13462', 'creationdate': '2023-12-08T13:28:38+09:00', 'author': 'dj', 'moddate': '2023-12-08T13:28:38+09:00', 'pdfversion': '1.4', 'source': './data/SPRI_AI_Brief_2023년12월호_F.pdf', 'total_pages': 23, 'page': 2, 'page_label': '3'}, page_content='Ⅰ. 인공지능 산업 동향 브리프')"
      ]
     },
     "execution_count": 16,
     "metadata": {},
     "output_type": "execute_result"
    }
   ],
   "source": [
    "# 목차 내용 확인\n",
    "docs[2]"
   ]
  },
  {
   "cell_type": "markdown",
   "metadata": {},
   "source": [
    "load_and_split()\n",
    "\n",
    "splitter 를 사용하여 문서를 분할하고 반환할 수 있습니다."
   ]
  },
  {
   "cell_type": "code",
   "execution_count": 29,
   "metadata": {},
   "outputs": [
    {
     "name": "stdout",
     "output_type": "stream",
     "text": [
      "문서의 길이: 174\n"
     ]
    },
    {
     "data": {
      "text/plain": [
       "Document(metadata={'producer': 'Hancom PDF 1.3.0.542', 'creator': 'Hwp 2018 10.0.0.13462', 'creationdate': '2023-12-08T13:28:38+09:00', 'author': 'dj', 'moddate': '2023-12-08T13:28:38+09:00', 'pdfversion': '1.4', 'source': './data/SPRI_AI_Brief_2023년12월호_F.pdf', 'total_pages': 23, 'page': 1, 'page_label': '2'}, page_content='2023 년 12월호\\nⅠ. 인공지능 산업 동향 브리프\\n 1. 정책/법제 \\n   ▹ 미국, 안전하고 신뢰할 수 있는 AI 개발과 사용에 관한 행정명령 발표  ························· 1\\n   ▹ G7, 히로시마 AI 프로세스를 통해 AI 기업 대상 국제 행동강령에 합의··························· 2')"
      ]
     },
     "execution_count": 29,
     "metadata": {},
     "output_type": "execute_result"
    }
   ],
   "source": [
    "from langchain_text_splitters import RecursiveCharacterTextSplitter\n",
    "\n",
    "# 분할기 설정 chunk_size 텍스트를 200개 기준으로 나눈다, chunk_overlap 덩어리가 겹치는 개수를 지정한다. -> chunk_size가 커질수록 문서의 길이가 짧아진다.\n",
    "text_splitter = RecursiveCharacterTextSplitter(chunk_size=200, chunk_overlap=0)\n",
    "\n",
    "# 예제 파일 경로\n",
    "FILE_PATH = \"./data/SPRI_AI_Brief_2023년12월호_F.pdf\"\n",
    "\n",
    "# 로더 설정\n",
    "loader = PyPDFLoader(FILE_PATH)\n",
    "\n",
    "# 문서 분할\n",
    "split_docs = loader.load_and_split(text_splitter=text_splitter)\n",
    "\n",
    "# 로드된 문서의 수 확인\n",
    "print(f\"문서의 길이: {len(split_docs)}\")\n",
    "\n",
    "# 첫번째 문서 확인\n",
    "split_docs[1]"
   ]
  },
  {
   "cell_type": "markdown",
   "metadata": {},
   "source": [
    "<img src=\"https://teddylee777.github.io/images/2024-02-06-rag-naver-news-qa/rag-1.png\" width=\"800\" height=\"400\"/>\n",
    "\n",
    "splitter를 사용했을 때 위와 같은 형태로 문서를 분할한다는 것을 확인할 수 있었다."
   ]
  },
  {
   "cell_type": "markdown",
   "metadata": {},
   "source": [
    "lazy_load()\n",
    "\n",
    "generator 방식으로 문서를 로드한다.(generator 는 값을 한 번에 모두 메모리에 올려놓는 대신, 필요할 때 하나씩 값을 생성하여 반환하기 때문에 메모리 효율이 높습니다.)"
   ]
  },
  {
   "cell_type": "code",
   "execution_count": 30,
   "metadata": {},
   "outputs": [
    {
     "data": {
      "text/plain": [
       "<generator object PyPDFLoader.lazy_load at 0x000002947EA574C0>"
      ]
     },
     "execution_count": 30,
     "metadata": {},
     "output_type": "execute_result"
    }
   ],
   "source": [
    "loader.lazy_load()"
   ]
  },
  {
   "cell_type": "code",
   "execution_count": 35,
   "metadata": {},
   "outputs": [
    {
     "name": "stdout",
     "output_type": "stream",
     "text": [
      "{'producer': 'Hancom PDF 1.3.0.542', 'creator': 'Hwp 2018 10.0.0.13462', 'creationdate': '2023-12-08T13:28:38+09:00', 'author': 'dj', 'moddate': '2023-12-08T13:28:38+09:00', 'pdfversion': '1.4', 'source': './data/SPRI_AI_Brief_2023년12월호_F.pdf', 'total_pages': 23, 'page': 0, 'page_label': '1'}\n",
      "{'producer': 'Hancom PDF 1.3.0.542', 'creator': 'Hwp 2018 10.0.0.13462', 'creationdate': '2023-12-08T13:28:38+09:00', 'author': 'dj', 'moddate': '2023-12-08T13:28:38+09:00', 'pdfversion': '1.4', 'source': './data/SPRI_AI_Brief_2023년12월호_F.pdf', 'total_pages': 23, 'page': 1, 'page_label': '2'}\n",
      "{'producer': 'Hancom PDF 1.3.0.542', 'creator': 'Hwp 2018 10.0.0.13462', 'creationdate': '2023-12-08T13:28:38+09:00', 'author': 'dj', 'moddate': '2023-12-08T13:28:38+09:00', 'pdfversion': '1.4', 'source': './data/SPRI_AI_Brief_2023년12월호_F.pdf', 'total_pages': 23, 'page': 2, 'page_label': '3'}\n",
      "{'producer': 'Hancom PDF 1.3.0.542', 'creator': 'Hwp 2018 10.0.0.13462', 'creationdate': '2023-12-08T13:28:38+09:00', 'author': 'dj', 'moddate': '2023-12-08T13:28:38+09:00', 'pdfversion': '1.4', 'source': './data/SPRI_AI_Brief_2023년12월호_F.pdf', 'total_pages': 23, 'page': 3, 'page_label': '4'}\n",
      "{'producer': 'Hancom PDF 1.3.0.542', 'creator': 'Hwp 2018 10.0.0.13462', 'creationdate': '2023-12-08T13:28:38+09:00', 'author': 'dj', 'moddate': '2023-12-08T13:28:38+09:00', 'pdfversion': '1.4', 'source': './data/SPRI_AI_Brief_2023년12월호_F.pdf', 'total_pages': 23, 'page': 4, 'page_label': '5'}\n",
      "{'producer': 'Hancom PDF 1.3.0.542', 'creator': 'Hwp 2018 10.0.0.13462', 'creationdate': '2023-12-08T13:28:38+09:00', 'author': 'dj', 'moddate': '2023-12-08T13:28:38+09:00', 'pdfversion': '1.4', 'source': './data/SPRI_AI_Brief_2023년12월호_F.pdf', 'total_pages': 23, 'page': 5, 'page_label': '6'}\n",
      "{'producer': 'Hancom PDF 1.3.0.542', 'creator': 'Hwp 2018 10.0.0.13462', 'creationdate': '2023-12-08T13:28:38+09:00', 'author': 'dj', 'moddate': '2023-12-08T13:28:38+09:00', 'pdfversion': '1.4', 'source': './data/SPRI_AI_Brief_2023년12월호_F.pdf', 'total_pages': 23, 'page': 6, 'page_label': '7'}\n",
      "{'producer': 'Hancom PDF 1.3.0.542', 'creator': 'Hwp 2018 10.0.0.13462', 'creationdate': '2023-12-08T13:28:38+09:00', 'author': 'dj', 'moddate': '2023-12-08T13:28:38+09:00', 'pdfversion': '1.4', 'source': './data/SPRI_AI_Brief_2023년12월호_F.pdf', 'total_pages': 23, 'page': 7, 'page_label': '8'}\n",
      "{'producer': 'Hancom PDF 1.3.0.542', 'creator': 'Hwp 2018 10.0.0.13462', 'creationdate': '2023-12-08T13:28:38+09:00', 'author': 'dj', 'moddate': '2023-12-08T13:28:38+09:00', 'pdfversion': '1.4', 'source': './data/SPRI_AI_Brief_2023년12월호_F.pdf', 'total_pages': 23, 'page': 8, 'page_label': '9'}\n",
      "{'producer': 'Hancom PDF 1.3.0.542', 'creator': 'Hwp 2018 10.0.0.13462', 'creationdate': '2023-12-08T13:28:38+09:00', 'author': 'dj', 'moddate': '2023-12-08T13:28:38+09:00', 'pdfversion': '1.4', 'source': './data/SPRI_AI_Brief_2023년12월호_F.pdf', 'total_pages': 23, 'page': 9, 'page_label': '10'}\n",
      "{'producer': 'Hancom PDF 1.3.0.542', 'creator': 'Hwp 2018 10.0.0.13462', 'creationdate': '2023-12-08T13:28:38+09:00', 'author': 'dj', 'moddate': '2023-12-08T13:28:38+09:00', 'pdfversion': '1.4', 'source': './data/SPRI_AI_Brief_2023년12월호_F.pdf', 'total_pages': 23, 'page': 10, 'page_label': '11'}\n",
      "{'producer': 'Hancom PDF 1.3.0.542', 'creator': 'Hwp 2018 10.0.0.13462', 'creationdate': '2023-12-08T13:28:38+09:00', 'author': 'dj', 'moddate': '2023-12-08T13:28:38+09:00', 'pdfversion': '1.4', 'source': './data/SPRI_AI_Brief_2023년12월호_F.pdf', 'total_pages': 23, 'page': 11, 'page_label': '12'}\n",
      "{'producer': 'Hancom PDF 1.3.0.542', 'creator': 'Hwp 2018 10.0.0.13462', 'creationdate': '2023-12-08T13:28:38+09:00', 'author': 'dj', 'moddate': '2023-12-08T13:28:38+09:00', 'pdfversion': '1.4', 'source': './data/SPRI_AI_Brief_2023년12월호_F.pdf', 'total_pages': 23, 'page': 12, 'page_label': '13'}\n",
      "{'producer': 'Hancom PDF 1.3.0.542', 'creator': 'Hwp 2018 10.0.0.13462', 'creationdate': '2023-12-08T13:28:38+09:00', 'author': 'dj', 'moddate': '2023-12-08T13:28:38+09:00', 'pdfversion': '1.4', 'source': './data/SPRI_AI_Brief_2023년12월호_F.pdf', 'total_pages': 23, 'page': 13, 'page_label': '14'}\n",
      "{'producer': 'Hancom PDF 1.3.0.542', 'creator': 'Hwp 2018 10.0.0.13462', 'creationdate': '2023-12-08T13:28:38+09:00', 'author': 'dj', 'moddate': '2023-12-08T13:28:38+09:00', 'pdfversion': '1.4', 'source': './data/SPRI_AI_Brief_2023년12월호_F.pdf', 'total_pages': 23, 'page': 14, 'page_label': '15'}\n",
      "{'producer': 'Hancom PDF 1.3.0.542', 'creator': 'Hwp 2018 10.0.0.13462', 'creationdate': '2023-12-08T13:28:38+09:00', 'author': 'dj', 'moddate': '2023-12-08T13:28:38+09:00', 'pdfversion': '1.4', 'source': './data/SPRI_AI_Brief_2023년12월호_F.pdf', 'total_pages': 23, 'page': 15, 'page_label': '16'}\n",
      "{'producer': 'Hancom PDF 1.3.0.542', 'creator': 'Hwp 2018 10.0.0.13462', 'creationdate': '2023-12-08T13:28:38+09:00', 'author': 'dj', 'moddate': '2023-12-08T13:28:38+09:00', 'pdfversion': '1.4', 'source': './data/SPRI_AI_Brief_2023년12월호_F.pdf', 'total_pages': 23, 'page': 16, 'page_label': '17'}\n",
      "{'producer': 'Hancom PDF 1.3.0.542', 'creator': 'Hwp 2018 10.0.0.13462', 'creationdate': '2023-12-08T13:28:38+09:00', 'author': 'dj', 'moddate': '2023-12-08T13:28:38+09:00', 'pdfversion': '1.4', 'source': './data/SPRI_AI_Brief_2023년12월호_F.pdf', 'total_pages': 23, 'page': 17, 'page_label': '18'}\n",
      "{'producer': 'Hancom PDF 1.3.0.542', 'creator': 'Hwp 2018 10.0.0.13462', 'creationdate': '2023-12-08T13:28:38+09:00', 'author': 'dj', 'moddate': '2023-12-08T13:28:38+09:00', 'pdfversion': '1.4', 'source': './data/SPRI_AI_Brief_2023년12월호_F.pdf', 'total_pages': 23, 'page': 18, 'page_label': '19'}\n",
      "{'producer': 'Hancom PDF 1.3.0.542', 'creator': 'Hwp 2018 10.0.0.13462', 'creationdate': '2023-12-08T13:28:38+09:00', 'author': 'dj', 'moddate': '2023-12-08T13:28:38+09:00', 'pdfversion': '1.4', 'source': './data/SPRI_AI_Brief_2023년12월호_F.pdf', 'total_pages': 23, 'page': 19, 'page_label': '20'}\n",
      "{'producer': 'Hancom PDF 1.3.0.542', 'creator': 'Hwp 2018 10.0.0.13462', 'creationdate': '2023-12-08T13:28:38+09:00', 'author': 'dj', 'moddate': '2023-12-08T13:28:38+09:00', 'pdfversion': '1.4', 'source': './data/SPRI_AI_Brief_2023년12월호_F.pdf', 'total_pages': 23, 'page': 20, 'page_label': '21'}\n",
      "{'producer': 'Hancom PDF 1.3.0.542', 'creator': 'Hwp 2018 10.0.0.13462', 'creationdate': '2023-12-08T13:28:38+09:00', 'author': 'dj', 'moddate': '2023-12-08T13:28:38+09:00', 'pdfversion': '1.4', 'source': './data/SPRI_AI_Brief_2023년12월호_F.pdf', 'total_pages': 23, 'page': 21, 'page_label': '22'}\n",
      "{'producer': 'Hancom PDF 1.3.0.542', 'creator': 'Hwp 2018 10.0.0.13462', 'creationdate': '2023-12-08T13:28:38+09:00', 'author': 'dj', 'moddate': '2023-12-08T13:28:38+09:00', 'pdfversion': '1.4', 'source': './data/SPRI_AI_Brief_2023년12월호_F.pdf', 'total_pages': 23, 'page': 22, 'page_label': '23'}\n"
     ]
    }
   ],
   "source": [
    "# generator 방식으로 문서 로드\n",
    "for doc in loader.lazy_load():\n",
    "    print(doc.metadata)"
   ]
  },
  {
   "cell_type": "markdown",
   "metadata": {},
   "source": [
    "aload()\n",
    "\n",
    "비동기(Async) 방식의 문서 로드"
   ]
  },
  {
   "cell_type": "code",
   "execution_count": 32,
   "metadata": {},
   "outputs": [],
   "source": [
    "# 문서를 async 방식으로 로드\n",
    "adocs = loader.aload()"
   ]
  },
  {
   "cell_type": "code",
   "execution_count": 33,
   "metadata": {},
   "outputs": [
    {
     "data": {
      "text/plain": [
       "[Document(metadata={'producer': 'Hancom PDF 1.3.0.542', 'creator': 'Hwp 2018 10.0.0.13462', 'creationdate': '2023-12-08T13:28:38+09:00', 'author': 'dj', 'moddate': '2023-12-08T13:28:38+09:00', 'pdfversion': '1.4', 'source': './data/SPRI_AI_Brief_2023년12월호_F.pdf', 'total_pages': 23, 'page': 0, 'page_label': '1'}, page_content='2023 년 12월호'),\n",
       " Document(metadata={'producer': 'Hancom PDF 1.3.0.542', 'creator': 'Hwp 2018 10.0.0.13462', 'creationdate': '2023-12-08T13:28:38+09:00', 'author': 'dj', 'moddate': '2023-12-08T13:28:38+09:00', 'pdfversion': '1.4', 'source': './data/SPRI_AI_Brief_2023년12월호_F.pdf', 'total_pages': 23, 'page': 1, 'page_label': '2'}, page_content='2023 년 12월호\\nⅠ. 인공지능 산업 동향 브리프\\n 1. 정책/법제 \\n   ▹ 미국, 안전하고 신뢰할 수 있는 AI 개발과 사용에 관한 행정명령 발표  ························· 1\\n   ▹ G7, 히로시마 AI 프로세스를 통해 AI 기업 대상 국제 행동강령에 합의··························· 2\\n   ▹ 영국 AI 안전성 정상회의에 참가한 28개국, AI 위험에 공동 대응 선언··························· 3\\n   ▹ 미국 법원, 예술가들이 생성 AI 기업에 제기한 저작권 소송 기각····································· 4\\n   ▹ 미국 연방거래위원회 , 저작권청에 소비자 보호와 경쟁 측면의 AI 의견서 제출················· 5\\n   ▹ EU AI 법 3자 협상, 기반모델 규제 관련 견해차로 난항··················································· 6\\n \\n 2. 기업/산업 \\n   ▹ 미국 프런티어 모델 포럼, 1,000 만 달러 규모의 AI 안전 기금 조성································ 7\\n   ▹ 코히어 , 데이터 투명성 확보를 위한 데이터 출처 탐색기 공개  ······································· 8\\n   ▹ 알리바바 클라우드 , 최신 LLM ‘통이치엔원 2.0’ 공개 ······················································ 9\\n   ▹ 삼성전자 , 자체 개발 생성 AI ‘삼성 가우스 ’ 공개 ··························································· 10\\n   ▹ 구글, 앤스로픽에 20억 달러 투자로 생성 AI 협력 강화 ················································ 11\\n   ▹ IDC, 2027 년 AI 소프트웨어 매출 2,500 억 달러 돌파 전망··········································· 12\\n   ▹ 빌 게이츠 , AI 에이전트로 인한 컴퓨터 사용의 패러다임 변화 전망································ 13\\n   ▹ 유튜브 , 2024 년부터 AI 생성 콘텐츠 표시 의무화 ···························································· 14\\n 3. 기술/연구\\n   ▹ 영국 과학혁신기술부 , AI 안전 연구소 설립 발표······························································ 15\\n   ▹ 구글 딥마인드 , 범용 AI 모델의 기능과 동작에 대한 분류 체계 발표······························ 16\\n   ▹ 갈릴레오의 LLM 환각 지수 평가에서 GPT-4 가 가장 우수 ··········································· 17\\n   \\n 4. 인력/교육     \\n   ▹ 영국 옥스퍼드 인터넷 연구소 , AI 기술자의 임금이 평균 21% 높아······························· 18\\n   \\n   \\n \\nⅡ. 주요 행사\\n   ▹CES 2024 ····························································································································· 19\\n   ▹AIMLA 2024 ························································································································· 19\\n   ▹AAAI Conference on Artificial Intelligence ·································································· 19'),\n",
       " Document(metadata={'producer': 'Hancom PDF 1.3.0.542', 'creator': 'Hwp 2018 10.0.0.13462', 'creationdate': '2023-12-08T13:28:38+09:00', 'author': 'dj', 'moddate': '2023-12-08T13:28:38+09:00', 'pdfversion': '1.4', 'source': './data/SPRI_AI_Brief_2023년12월호_F.pdf', 'total_pages': 23, 'page': 2, 'page_label': '3'}, page_content='Ⅰ. 인공지능 산업 동향 브리프'),\n",
       " Document(metadata={'producer': 'Hancom PDF 1.3.0.542', 'creator': 'Hwp 2018 10.0.0.13462', 'creationdate': '2023-12-08T13:28:38+09:00', 'author': 'dj', 'moddate': '2023-12-08T13:28:38+09:00', 'pdfversion': '1.4', 'source': './data/SPRI_AI_Brief_2023년12월호_F.pdf', 'total_pages': 23, 'page': 3, 'page_label': '4'}, page_content='1. 정책/법제  2. 기업/산업 3. 기술/연구  4. 인력/교육\\n미국, 안전하고 신뢰할 수 있는 AI 개발과 사용에 관한 행정명령 발표 \\nn미국 바이든 대통령이 ‘안전하고 신뢰할 수 있는 AI 개발과 사용에 관한 행정명령 ’에 서명하고 \\n광범위한 행정 조치를 명시\\nn행정명령은 △AI의 안전과 보안 기준 마련 △개인정보보호 △형평성과 시민권 향상 △소비자 \\n보호 △노동자 지원 △혁신과 경쟁 촉진 △국제협력을 골자로 함KEY Contents\\n£바이든 대통령 , AI 행정명령 통해 안전하고 신뢰할 수 있는 AI 개발과 활용 추진\\nn미국 바이든 대통령이 2023년 10월 30일 연방정부 차원에서 안전하고 신뢰할 수 있는 AI 개발과 \\n사용을 보장하기 위한 행정명령을 발표\\n∙행정명령은 △AI의 안전과 보안 기준 마련 △개인정보보호 △형평성과 시민권 향상 △소비자 보호 \\n△노동자 지원 △혁신과 경쟁 촉진 △국제협력에 관한 내용을 포괄\\nn(AI 안전과 보안 기준) 강력한 AI 시스템을 개발하는 기업에게 안전 테스트 결과와 시스템에 관한 \\n주요 정보를 미국 정부와 공유할 것을 요구하고 , AI 시스템의 안전성과 신뢰성 확인을 위한 표준 및 \\nAI 생성 콘텐츠 표시를 위한 표준과 모범사례 확립을 추진\\n∙△1026 플롭스 (FLOPS, Floating Point Operation Per Second) 를 초과하는 컴퓨팅 성능 또는 생물학적 \\n서열 데이터를 주로 사용하고 1023플롭스를 초과하는 컴퓨팅 성능을 사용하는 모델 △단일 데이터센터에서 \\n1,000Gbit/s 이상의 네트워킹으로 연결되며 AI 훈련에서 이론상 최대 1020 플롭스를 처리할 수 있는 \\n컴퓨팅 용량을 갖춘 컴퓨팅 클러스터가 정보공유 요구대상\\nn(형평성과 시민권 향상) 법률, 주택, 보건 분야에서 AI의 무책임한 사용으로 인한 차별과 편견 및 기타 \\n문제를 방지하는 조치를 확대\\n∙형사사법 시스템에서 AI 사용 모범사례를 개발하고 , 주택 임대 시 AI 알고리즘 차별을 막기 위한 명확한 \\n지침을 제공하며 , 보건복지 부문에서 책임 있는 AI 배포와 사용을 위한 전략을 마련 \\nn(소비자 보호와 근로자 지원) 의료 분야에서 책임 있는 AI 사용을 촉진하고 맞춤형 개인교습 등 학교 \\n내 AI 교육 도구 관련 자원을 개발하며 , AI로 인한 근로자 피해를 완화하고 이점을 극대화하는 원칙과 \\n모범사례를 마련\\nn(혁신과 경쟁 촉진) 국가AI연구자원 (National Artificial Intelligence Research Resource, NAIRR)* 을 \\n통해 미국 전역의 AI 연구를 촉진하고 , 중소기업과 개발자에 기술과 인프라를 지원\\n* 국가 차원에서 AI 연구 인프라를 확충해 더 많은 AI 연구자에게 인프라를 지원하는 프로그램 \\n∙비자 기준과 인터뷰 절차의 현대화와 간소화로 AI 관련 주요 분야의 전문 지식을 갖춘 외국인들이 미국에서 \\n공부하고 취업할 수 있도록 지원\\n☞ 출처 : The White House, Executive Order on the Safe, Secure, and Trustworthy Development and Use of \\nArtificial Intelligence (E.O. 14110), 2023.10.30.'),\n",
       " Document(metadata={'producer': 'Hancom PDF 1.3.0.542', 'creator': 'Hwp 2018 10.0.0.13462', 'creationdate': '2023-12-08T13:28:38+09:00', 'author': 'dj', 'moddate': '2023-12-08T13:28:38+09:00', 'pdfversion': '1.4', 'source': './data/SPRI_AI_Brief_2023년12월호_F.pdf', 'total_pages': 23, 'page': 4, 'page_label': '5'}, page_content='SPRi AI Brief |  \\n2023-12 월호\\n2G7, 히로시마 AI 프로세스를 통해 AI 기업 대상 국제 행동강령에 합의\\nnG7이 첨단 AI 시스템을 개발하는 기업을 대상으로 AI 위험 식별과 완화를 위해 자발적인 \\n채택을 권고하는 AI 국제 행동강령을 마련\\nn행동강령은 AI 수명주기 전반에 걸친 위험 평가와 완화, 투명성과 책임성의 보장, 정보공유와 \\n이해관계자 간 협력, 보안 통제, 콘텐츠 인증과 출처 확인 등의 조치를 요구KEY Contents\\n£G7, 첨단 AI 시스템의 위험 관리를 위한 국제 행동강령 마련\\nn주요 7개국(G7)* 은 2023 년 10월 30일 ‘히로시마 AI 프로세스 ’를 통해 AI 기업 대상의 AI 국제 \\n행동강령 (International Code of Conduct for Advanced AI Systems) 에 합의\\n∙G7은 2023 년 5월 일본 히로시마에서 개최된 정상회의에서 생성 AI에 관한 국제규범 마련과 \\n정보공유를 위해 ‘히로시마 AI 프로세스 ’를 출범**\\n∙기업의 자발적 채택을 위해 마련된 이번 행동강령은 기반모델과 생성 AI를 포함한 첨단 AI 시스템의 \\n위험 식별과 완화에 필요한 조치를 포함\\n* 주요 7개국(G7)은 미국, 일본, 독일, 영국, 프랑스 , 이탈리아 , 캐나다를 의미\\n** 5월 정상회의에는 한국, 호주, 베트남 등을 포함한 8개국이 초청을 받았으나 , AI 국제 행동강령에는 우선 G7 국가만 포함하여 채택\\nnG7은 행동강령을 통해 아래의 조치를 제시했으며 , 빠르게 발전하는 기술에 대응할 수 있도록 \\n이해관계자 협의를 통해 필요에 따라 개정할 예정\\n∙첨단 AI 시스템의 개발 과정에서 AI 수명주기 전반에 걸쳐 위험을 평가 및 완화하는 조치를 채택하고 , \\n첨단 AI 시스템의 출시와 배포 이후 취약점과 오용 사고, 오용 유형을 파악해 완화\\n∙첨단 AI 시스템의 성능과 한계를 공개하고 적절하거나 부적절한 사용영역을 알리는 방법으로 투명성을 \\n보장하고 책임성을 강화\\n∙산업계 , 정부, 시민사회 , 학계를 포함해 첨단 AI 시스템을 개발하는 조직 간 정보공유와 사고 발생 시 \\n신고를 위해 협력하고 , 위험 기반 접근방식을 토대로 개인정보보호 정책과 위험 완화 조치를 포함하는 \\nAI 거버넌스와 위험 관리 정책을 마련\\n∙AI 수명주기 전반에 걸쳐 물리보안 , 사이버보안 , 내부자 위협 보안을 포함한 강력한 보안 통제 구현\\n∙사용자가 AI 생성 콘텐츠를 식별할 수 있도록 워터마크를 비롯하여 기술적으로 가능한 기법으로 \\n신뢰할 수 있는 콘텐츠 인증과 출처 확인 메커니즘을 개발 및 구축 \\n∙사회적 위험과 안전·보안 문제를 완화하는 연구와 효과적인 완화 대책에 우선 투자하고 , 기후 위기 \\n대응, 세계 보건과 교육 등 세계적 난제 해결을 위한 첨단 AI 시스템을 우선 개발\\n∙국제 기술 표준의 개발 및 채택을 가속화하고 , 개인정보와 지식재산권 보호를 위해 데이터 입력과 수집 \\n시 적절한 보호 장치 구현\\n☞ 출처: G7, Hiroshima Process International Code of Conduct for Advanced AI Systems, 2023.10.30.'),\n",
       " Document(metadata={'producer': 'Hancom PDF 1.3.0.542', 'creator': 'Hwp 2018 10.0.0.13462', 'creationdate': '2023-12-08T13:28:38+09:00', 'author': 'dj', 'moddate': '2023-12-08T13:28:38+09:00', 'pdfversion': '1.4', 'source': './data/SPRI_AI_Brief_2023년12월호_F.pdf', 'total_pages': 23, 'page': 5, 'page_label': '6'}, page_content='1. 정책/법제  2. 기업/산업 3. 기술/연구  4. 인력/교육\\n영국 AI 안전성 정상회의에 참가한 28개국, AI 위험에 공동 대응 선언\\nn영국 블레츨리 파크에서 개최된 AI 안전성 정상회의에 참가한 28개국들이 AI 안전 보장을 \\n위한 협력 방안을 담은 블레츨리 선언을 발표\\nn첨단 AI를 개발하는 국가와 기업들은 AI 시스템에 대한 안전 테스트 계획에 합의했으며 , \\n영국의 AI 안전 연구소가 전 세계 국가와 협력해 테스트를 주도할 예정 KEY Contents\\n£AI 안전성 정상회의 참가국들 , 블레츨리 선언 통해 AI 안전 보장을 위한 협력에 합의\\nn2023 년 11월 1~2일 영국 블레츨리 파크에서 열린 AI 안전성 정상회의 (AI Safety Summit) 에 \\n참가한 28개국 대표들이  AI 위험 관리를 위한 ‘블레츨리 선언’을 발표 \\n∙선언은 AI 안전 보장을 위해 국가, 국제기구 , 기업, 시민사회 , 학계를 포함한 모든 이해관계자의 협력이 \\n중요하다고 강조했으며 , 특히 최첨단 AI 시스템 개발 기업은 안전 평가를 비롯한 적절한 조치를 취하여 \\nAI 시스템의 안전을 보장할 책임이 있다고 지적\\n∙각국은 AI 안전 보장을 위해 첨단 AI 개발기업의 투명성 향상, 적절한 평가지표와 안전 테스트 도구 \\n개발, 공공부문 역량 구축과 과학 연구개발 등의 분야에서 협력하기로 합의\\n£영국 총리, 정부 주도의 첨단 AI 시스템 안전 테스트 계획 발표\\nn리시 수낙 영국 총리는 AI 안전성 정상회의를 마무리하며 첨단 AI 모델에 대한 안전성 시험 계획 \\n수립과  테스트 수행을 주도할 영국 AI 안전 연구소의 출범을 발표\\n∙첨단 AI 모델의 안전 테스트는 국가 안보와 안전, 사회적 피해를 포함한 여러 잠재적 유해 기능에 대한 \\n시험을 포함하며 , 참석자들은 정부 주도의 외부 안전 테스트에 합의\\n∙각국 정부는 테스트와 기타 안전 연구를 위한 공공부문 역량에 투자하고 , 테스트 결과가 다른 국가와 \\n관련된 경우 해당 국가와 결과를 공유하며 , 적절한 시기에 공동 표준 개발을 위해 노력하기로 합의 \\nn참가국들은 튜링상을 수상한 AI 학자인 요슈아 벤지오 교수가 주도하는 ‘과학의 현황(State of \\nthe Science)’ 보고서 작성에도 합의했으며 , 보고서를 통해 첨단 AI의 위험과 가능성에 관한 \\n기존 연구를 과학적으로 평가하고 향후 AI 안전 연구를 위한 우선순위를 제시할 계획 \\nn한국은 영국 정부와 6개월 뒤에 온라인으로 AI 미니 정상회의를 공동 개최하기로 합의했으며 , \\n프랑스 정부와는 1년 후 대면 정상회의를 개최할 예정\\n☞ 출처: Gov.uk, The Bletchley Declaration by Countries Attending the AI Safety Summit, 1-2 November 2023, 2023.11.01.\\nGov.uk, World leaders, top AI companies set out plan for safety testing of frontier as first global AI Safety Summit \\nconcludes, 2023.11.02.'),\n",
       " Document(metadata={'producer': 'Hancom PDF 1.3.0.542', 'creator': 'Hwp 2018 10.0.0.13462', 'creationdate': '2023-12-08T13:28:38+09:00', 'author': 'dj', 'moddate': '2023-12-08T13:28:38+09:00', 'pdfversion': '1.4', 'source': './data/SPRI_AI_Brief_2023년12월호_F.pdf', 'total_pages': 23, 'page': 6, 'page_label': '7'}, page_content='SPRi AI Brief |  \\n2023-12 월호\\n4미국 법원, 예술가들이 생성 AI 기업에 제기한 저작권 소송 기각\\nn미국 캘리포니아 북부지방법원은 미드저니 , 스태빌리티 AI, 디비언트아트를 대상으로 예술가 \\n3인이 제기한 저작권 침해 소송을 기각\\nn법원은 기각 이유로 고소장에 제시된 상당수 작품이 저작권청에 등록되지 않았으며 , AI로 \\n생성된 이미지와 특정 작품 간 유사성을 입증하기 어렵다는 점을 제시 KEY Contents\\n£예술가들의 AI 저작권 침해 소송, 저작권 미등록과 증거불충분으로 기각\\nn미국 캘리포니아 북부지방법원의 윌리엄 오릭(W illiam Orrick) 판사는 2023년 10월 30일 미드저니\\n(M idjourney),  스태빌리티 AI(Stability AI), 디비언트아트 (DeviantArt) 에 제기된 저작권 침해 소송을 기각 \\n∙2023 년 1월 예술가 사라 앤더슨 (Sarah Anderson), 캘리 맥커넌 (Kelly McKernan), 칼라 \\n오르티즈 (Karla Ortiz) 는 이미지 생성 AI 서비스를 개발한 3개 기업을 상대로 저작권 침해 소송을 제기\\n∙예술가들은 3개 기업이 AI 모델을 학습시키기 위해 원작자 동의 없이 작품을 학습 데이터셋에 \\n포함하여 저작권을 침해했다고 주장했으며 , 법원은 지난 4월 피소 기업들이 제출한 기각 신청을 \\n수용해 소송을 기각 \\nn오릭 판사는 판결문에서 소송을 기각한 핵심 이유로 예술가들의 저작권 미등록을 제시\\n∙판결문은 소송을 제기한 캘리 맥커넌과 칼라 오르티즈가 미국 저작권청에 예술 작품에 대한 저작권을 \\n제출하지 않았다는 점을 지적했으며 , 사라 앤더슨은 고소장에 인용된 수백 개의 작품 중 16개 작품에 \\n대해서만 저작권을 보유\\nn판결문은 또한 생성 AI 모델 훈련에 사용된 모든 이미지에 저작권이 있다거나 , 생성 AI로 만든 \\n이미지가 저작물을 이용해 훈련되었으므로 저작물의 파생 이미지라는 주장은 개연성이  부족하다고  \\n지적\\n∙AI는 새로운 이미지를 생성할 때 다양한 예술가의 작품을 참조하므로 , 생성된 이미지와 저작권을 가진 \\n특정 작품과의 실질적 유사성을 입증할 수 없다면 저작권 침해를 인정받기 어려움\\nn오릭 판사는 원고 측에 고소장을 수정하고 저작권이 침해된 특정 이미지를 중심으로 소송 범위를 \\n줄여 소송을 다시 제기할 것을 요청\\n∙단, 사라 앤더슨이 저작권을 보유한 16개 작품을 무단으로 복제한 스태빌리티 AI에 대한 저작권 침해 \\n소송은 인정되어 계속 진행됨\\n☞ 출처: Venturebeat, Midjourney, Stability AI and DeviantArt win a victory in copyright case by artists- but the \\nfight continues, 2023.10.30.'),\n",
       " Document(metadata={'producer': 'Hancom PDF 1.3.0.542', 'creator': 'Hwp 2018 10.0.0.13462', 'creationdate': '2023-12-08T13:28:38+09:00', 'author': 'dj', 'moddate': '2023-12-08T13:28:38+09:00', 'pdfversion': '1.4', 'source': './data/SPRI_AI_Brief_2023년12월호_F.pdf', 'total_pages': 23, 'page': 7, 'page_label': '8'}, page_content='1. 정책/법제  2. 기업/산업 3. 기술/연구  4. 인력/교육\\n미국 연방거래위원회 , 저작권청에 소비자 보호와 경쟁 측면의 AI 의견서 제출\\nn미국 FTC는 저작권청이 실시한 저작권과 AI 관련 질의공고에 대하여 소비자 보호와 경쟁 \\n측면의 의견을 제시\\nnFTC는 생성 AI로 인한 창작자와 소비자 피해의 가능성에 우려를 표시하는 한편, 일부 \\n빅테크가 막대한 재원을 활용해 시장 지배력을 더욱 강화할 수 있다는 우려를 제기KEY Contents\\n£FTC, 생성 AI로 인한 소비자와 창작자의 피해 및 빅테크의 시장 지배력 강화 우려\\nn미국 연방거래위원회 (FTC) 가 2023 년 10월 30일 저작권청 (U.S. Copyright Office, USCO) 이 \\n지난 9월 발표한 저작권과 AI 관련 질의공고 (Notice of Inquiry, NOI)에 대한 의견서를 발표\\n∙저작권청은 생성 AI와 관련된 저작권법과 정책 이슈를 조사하고 있으며 , 폭넓은 의견 수렴을 통해 \\n입법과 규제 조치의 필요성을 검토할 계획\\n∙FTC는 생성 AI의 개발과 배포가 소비자 , 근로자 , 중소기업에 피해를 줄 수 있다며 소비자의 개인정보 \\n침해, 차별과 편견의 자동화 , 사기 범죄 등 AI 사용과 관련된 위험에 주목\\nnFTC는 저작권법에 따른 권리와 책임 범위를 넘어서는 저작권 문제에 주목하여 생성 AI로 인해 \\n창작자의 경쟁력이 불공정한 피해를 볼 수 있으며 , 소비자가 특정 창작자의 작품을 생성 AI가 \\n만들었다고 오해할 소지가 있다고 지적\\n∙저작권법에 저촉되는 행위는 불공정 경쟁이나 기만행위에도 해당될 수 있으며 , 창작자의 평판 악화, \\n저작물의 가치 저하나 개인정보 유출로 소비자에 상당한 피해를 초래 가능\\nnFTC는 일부 빅테크가 막대한 재원을 활용해 생성 AI 사용자의 이탈을 막고 저작권이 있는 상용 \\n데이터에 대한 독점 라이선스를 확보해 시장 지배력을 더욱 강화할 수 있다는 우려도 제기\\n∙이와 관련 FTC는 아마존 AI 비서 ‘알렉사 (Alexa)’ 와 스마트홈 보안 기기 ‘링(Ring)’ 이 소비자의 사적 \\n정보를 알고리즘 훈련에 사용하여 프라이버시를 침해한 혐의를 조사하는 등 법적 권한을 활용해 AI \\n관련 불법 행위에 대처하고 있음\\n* FTC는 2023년 5월 31일 동의를 받지 않고 어린이들의 음성과 위치 정보를 활용한 ‘알렉사 ’와 고객의 사적 영상에 대하여 \\n직원에게 무제한 접근 권한을 부여한 ‘링’에 3,080 만 달러(약 420억 원)의 과징금을 부과  \\nnFTC는 빠르게 발전하는 생성 AI가 여러 산업과 비즈니스에 변화를 가져올 수 있지만 , 현행법상 \\nAI에 관한 예외 조항은 없다며 , 모든 권한을 활용해 소비자를 보호하고 개방적이고 공정한 경쟁 \\n시장을 유지하겠다고 강조\\n☞ 출처: FTC, In Comment Submitted to U.S. Copyright Office, FTC Raises AI-related Competition and \\nConsumer Protection Issues, Stressing That It Will Use Its Authority to Protect Competition and \\nConsumers in AI Markets, 2023.10.30.'),\n",
       " Document(metadata={'producer': 'Hancom PDF 1.3.0.542', 'creator': 'Hwp 2018 10.0.0.13462', 'creationdate': '2023-12-08T13:28:38+09:00', 'author': 'dj', 'moddate': '2023-12-08T13:28:38+09:00', 'pdfversion': '1.4', 'source': './data/SPRI_AI_Brief_2023년12월호_F.pdf', 'total_pages': 23, 'page': 8, 'page_label': '9'}, page_content='SPRi AI Brief |  \\n2023-12 월호\\n6EU AI 법 3자 협상, 기반모델 규제 관련 견해차로 난항\\nn유럽의회 , EU 집행위원회 , EU 이사회가 진행 중인 AI 법 최종협상에서 프랑스 , 이탈리아 , \\n독일이 기반모델에 대한 규제에 반대하며 협상이 난관에 봉착\\nn프랑스 , 이탈리아 , 독일 3개국은 기반모델 개발기업에 대하여 자율적 행동강령을 도입하고 \\n준수를 의무화하는 방안을 제안KEY Contents\\n£AI 법 3자 협상, 이사회 일부 국가가 기반모델 규제에 반대하며 차질\\nn유럽의회 , EU 집행위원회 , EU 이사회가 ‘AI 법(AI act)’에 대한 최종협상을 진행 중인 가운데 , \\n일부 국가가 기반모델에 대한 규제에 반대하며 협상이 난관에 봉착  \\n∙10월 24일 열린 3자 협상 회의에서는 사회에 더 큰 영향을 미치는 강력한 AI 모델에 더 엄격한 규칙을 \\n적용하는 계층적 접근방식에 따라 기반 모델 규제에 대한 기본적인 합의에 도달\\n∙그러나 11월 10일 열린 통신작업반 회의에서 EU 이사회의 프랑스 , 독일, 이탈리아 대표가 \\n기반모델에 대한 모든 유형의 규제에 반대하며 협상이 중단됨\\nn유럽 정책 미디어 유랙티브 (Euractive) 에 따르면 프랑스 AI 기업 미스트랄 (Mistral) 이 로비를 통해 \\n기반모델에 대한 규제 반대를 주도  \\n∙독일의 대표적인 AI 기업 알레프 알파(Aleph Alpha) 역시 독일 정부에 압력을 행사하고 있으며 , 이들 \\n기업은 EU의 AI 규제로 인해 미국과 중국의 경쟁사보다 뒤처질 것을 우려 \\n£독일, 프랑스 , 이탈리아 3개국, 기반모델에 대한 ‘의무적 자율규제 ’ 제안\\nn통신작업반 회의가 결렬된 이후 독일, 프랑스 , 이탈리아는 2023 년 11월 19일 비공식 문서를 통해 \\n‘의무적 자율규제 (Mandatory Self-regulation)’ 방식의 기반모델 규제를 제안\\n∙3개국은 기반모델 전반에 대한 규제가 기술 중립적이고 위험 기반의 AI 규제 원칙에 어긋난다고 \\n주장하며 기반모델 전반에 대한 규제가 아닌, 특정 용도로 사용될 수 있는 AI 시스템에 대한 규제를 요구  \\n∙3개국은 자발적인 행동강령을 도입하고 준수를 의무화하는 방안을 제안하며 , 기반모델 개발기업에 \\n머신러닝 기술 정보와 모델의 기능과 한계를 요약한 ‘모델 카드’ 작성을 요구하겠다고 설명\\n∙3개국은 AI 감독기관이 모델 카드를 토대로 기반모델 개발기업의 행동강령 준수 여부를 확인하되 , \\n위반 시 곧바로 제재를 가하지 않고 위반행위 분석과 영향 평가를 시행한 후 제재하는 방안을 제안\\n☞ 출처: Euractiv, EU’s AI Act negotiations hit the brakes over foundation models, 2023.11.1.\\n Euractiv, France, Germany, Italy push for ‘mandatory self-regulation’ for foundation models in EU’s AI law, 2023.11.19.'),\n",
       " Document(metadata={'producer': 'Hancom PDF 1.3.0.542', 'creator': 'Hwp 2018 10.0.0.13462', 'creationdate': '2023-12-08T13:28:38+09:00', 'author': 'dj', 'moddate': '2023-12-08T13:28:38+09:00', 'pdfversion': '1.4', 'source': './data/SPRI_AI_Brief_2023년12월호_F.pdf', 'total_pages': 23, 'page': 9, 'page_label': '10'}, page_content='1. 정책/법제  2. 기업/산업 3. 기술/연구  4. 인력/교육\\n미국 프런티어 모델 포럼, 1,000 만 달러 규모의 AI 안전 기금 조성\\nn구글, 앤스로픽 , 마이크로소프트 , 오픈AI가 참여하는 프런티어 모델 포럼이 자선단체와 함께 AI \\n안전 연구를 위한 1,000 만 달러 규모의 AI 안전 기금을 조성\\nn프런티어 모델 포럼은 AI 모델의 취약점을 발견하고 검증하는 레드팀 활동을 지원하기 위한 \\n모델 평가 기법 개발에 자금을 중점 지원할 계획KEY Contents\\n£프런티어 모델 포럼, 자선단체와 함께 AI 안전 연구를 위한 기금 조성\\nn구글, 앤스로픽 , 마이크로소프트 , 오픈AI가 출범한 프런티어 모델 포럼이 2023년 10월 25일 AI 안전 \\n연구를 위한 기금을 조성한다고 발표\\n∙참여사들은 맥거번 재단(Patrick J. McGovern Foundation), 데이비드 앤 루실 패커드 재단(The \\nDavid and Lucile Packard Foundation ) 등의 자선단체와 함께 AI 안전 연구를 위한 기금에 \\n1,000 만 달러 이상을 기부 \\n∙또한 신기술의 거버넌스와 안전 분야에서 전문성을 갖춘 브루킹스 연구소 출신의 크리스 메서롤 (Chris \\nMeserole) 을 포럼의 상무이사로 임명\\nn최근 AI 기술이 급속히 발전하면서 AI 안전에 관한 연구가 부족한 시점에 , 포럼은 이러한 격차를 해소\\n하기 위해 AI 안전 기금을 조성\\n∙참여사들은 지난 7월 백악관 주재의 AI 안전 서약에서 외부자의 AI 시스템 취약점 발견과 신고를 \\n촉진하기로 약속했으며 , 약속을 이행하기 위해 기금을 활용해 외부 연구집단의 AI 시스템 평가에 \\n자금을 지원할 계획\\n£AI 안전 기금으로 AI 레드팀을 위한 모델 평가 기법 개발을 중점 지원할 계획\\nn프런티어 모델 포럼은 AI 안전 기금을 통해 AI 레드팀 활동을 위한 새로운 모델 평가 기법의  개발을 \\n중점 지원할 예정\\n∙포럼에 따르면 AI 레드팀에 대한 자금 지원은 AI 모델의 안전과 보안 기준의 개선과 함께 AI 시스템 \\n위험 대응 방안에 관한 산업계와 정부, 시민사회의 통찰력 확보에 도움이 될 전망으로 , 포럼은 향후 몇 \\n달 안에 기금 지원을 위한 제안 요청을 받을 계획\\nn프런티어 모델 포럼은 출범 이후 업계 전반에 걸쳐 AI 레드팀 구성에 관한 모범사례 공유를 추진하는  \\n한편, 첨단 AI 모델의 취약점이나 잠재적으로 위험한 기능 및 위험 완화 관련 정보를 공유할 수 \\n있는 공개 절차도 개발 중\\n☞ 출처: Google, Anthropic, Google, Microsoft and OpenAI announce Executive Director of the Frontier Model \\nForum and over $10 million for a new AI Safety Fund, 2023.10.25.'),\n",
       " Document(metadata={'producer': 'Hancom PDF 1.3.0.542', 'creator': 'Hwp 2018 10.0.0.13462', 'creationdate': '2023-12-08T13:28:38+09:00', 'author': 'dj', 'moddate': '2023-12-08T13:28:38+09:00', 'pdfversion': '1.4', 'source': './data/SPRI_AI_Brief_2023년12월호_F.pdf', 'total_pages': 23, 'page': 10, 'page_label': '11'}, page_content='SPRi AI Brief |  \\n2023-12 월호\\n8코히어 , 데이터 투명성 확보를 위한 데이터 출처 탐색기 공개\\nn코히어와 12개 기관이  광범위한 데이터셋에 대한 감사를 통해 원본 데이터 출처, 재라이선스 상태, \\n작성자 등 다양한 정보를 제공하는 ‘데이터 출처 탐색기 ’ 플랫폼을 출시\\nn대화형 플랫폼을 통해 개발자는 데이터셋의 라이선스 상태를 쉽게 파악할 수 있으며 데이터셋의 \\n구성과 계보도 추적 가능KEY Contents\\n£데이터 출처 탐색기 , 광범위한 데이터셋 정보 제공을 통해 데이터 투명성 향상\\nnAI 기업 코히어 (Cohere) 가 매사추세츠 공과⼤(MIT), 하버드 ⼤ 로스쿨 , 카네기멜론 ⼤ 등 12개 기관과  \\n함께 2023 년 10월 25일 ‘데이터 출처 탐색기 (Data Provenance Explorer)’ 플랫폼을 공개\\n∙AI 모델 훈련에 사용되는 데이터셋의 불분명한 출처로 인해 데이터 투명성이 확보되지 않아 다양한 \\n법적·윤리적 문제가 발생\\n∙이에 연구진은 가장 널리 사용되는 2,000 여 개의 미세조정 데이터셋을 감사 및 추적하여 데이터셋에 \\n원본 데이터소스에 대한 태그, 재라이선스 (Relicensing) 상태, 작성자 , 기타 데이터 속성을 지정하고 \\n이러한 정보에 접근할 수 있는 플랫폼을 출시\\n∙대화형 플랫폼 형태의 데이터 출처 탐색기를 통해 데이터셋의 라이선스 상태를 쉽게 파악할 수 있으며 , \\n주요 데이터셋의 구성과 데이터 계보도 추적 가능\\nn연구진은 오픈소스 데이터셋에 대한 광범위한 감사를 통해 데이터 투명성에 영향을 미치는 주요 \\n요인을  발견\\n∙깃허브 (GitHub), 페이퍼위드코드 (Papers with Code) 와 같은 크라우드소싱 플랫폼에서 수집한 \\n데이터로 훈련된 오픈소스 LLM에서는 데이터 라이선스의 누락 비율이 72~83% 에 달함 \\n∙또한 크라우드소싱 플랫폼이 할당한 라이선스는 데이터셋 원저작자의 의도보다 더 광범위한 사용을 \\n허용한 경우가 상당수\\n∙데이터 생태계 분석 결과, 부정확하거나 모호한 라이선스 문서화 등 데이터 출처 입증과 관련된 관행 \\n전반에서 구조적 문제가 드러남\\nn연구진은 데이터 출처 탐색기만으로는 해결이 어려운 법적 이슈도 존재한다며 일관된 법적 프레임\\n워크의 필요성을 제기\\n∙일례로 데이터를 수집한 지역, 모델 훈련 지역, 모델 배포 지역마다 규제가 다르면 어떤 법률을 \\n적용해야 하는지 실무자의 판단이 어려울 수 있으며 , 서로 다른 라이선스를 적용받는 개별 데이터셋을 \\n하나로 통합해 사용하는 경우에도 각각의 라이선스 조건 준수에 어려움이 발생\\n☞ 출처 : Cohere, Data Provenance Explorer Launches to Tackle Data Transparency Crisis, 2023.10.25.'),\n",
       " Document(metadata={'producer': 'Hancom PDF 1.3.0.542', 'creator': 'Hwp 2018 10.0.0.13462', 'creationdate': '2023-12-08T13:28:38+09:00', 'author': 'dj', 'moddate': '2023-12-08T13:28:38+09:00', 'pdfversion': '1.4', 'source': './data/SPRI_AI_Brief_2023년12월호_F.pdf', 'total_pages': 23, 'page': 11, 'page_label': '12'}, page_content='1. 정책/법제  2. 기업/산업 3. 기술/연구  4. 인력/교육\\n알리바바 클라우드 , 최신 LLM ‘통이치엔원 2.0’ 공개\\nn알리바바 클라우드가 복잡한 지침 이해, 광고문구 작성, 추론, 암기 등에서 성능이 향상된 최신 \\nLLM ‘통이치엔원 2.0’을 공개\\nn알리바바 클라우드는 산업별로 특화된 생성 AI 모델을 공개하는 한편, 모델 개발과 애플리케이션 \\n구축 절차를 간소화하는 올인원 AI 모델 구축 플랫폼도 출시KEY Contents\\n£알리바바의 통이치엔원 2.0, 주요 벤치마크 테스트에서 여타 LLM 능가\\nn중국의 알리바바 클라우드가 2023 년 10월 31일 열린 연례 기술 컨퍼런스에서 최신 LLM ‘통이\\n치엔원 (Tongyi Qianwen) 2.0’을 공개\\n∙알리바바 클라우드는 통이치엔원 2.0이 2023 년 4월 출시된 1.0 버전보다 복잡한 지침 이해, \\n광고문구 작성, 추론, 암기 등에서 성능이 향상되었다고 설명\\n∙통이치엔원 2.0은 언어 이해 테스트 (MMLU), 수학(GSM8k), 질문 답변(ARC-C) 과 같은 벤치마크 \\n테스트에서 라마(Llama-2-70B) 와 GPT-3.5 를 비롯한 주요 AI 모델을 능가 \\n∙통이치엔원 2.0은 알리바바 클라우드의 웹사이트와 모바일 앱을 통해 대중에 제공되며 개발자는 \\nAPI를 통해 사용 가능 \\nn알리바바 클라우드는 여러 산업 영역에서 생성 AI를 활용해 사업 성과를 개선할 수 있도록 지원\\n하는 산업별 모델도 출시\\n∙산업 영역은 고객지원 , 법률 상담, 의료, 금융, 문서관리 , 오디오와 동영상 관리, 코드 개발, 캐릭터 \\n제작을 포함\\nn알리바바 클라우드는 급증하는 생성 AI 수요에 대응해 모델 개발과 애플리케이션 구축 절차를 \\n간소화하는 올인원 AI 모델 구축 플랫폼 ‘젠AI(GenAI)’ 도 공개\\n∙이 플랫폼은 데이터 관리, 모델 배포와 평가, 신속한 엔지니어링을 위한 종합 도구 모음을 제공하여 \\n다양한 기업들이 맞춤형 AI 모델을 한층 쉽게 개발할 수 있도록 지원\\n∙생성 AI 개발에 필요한 컴퓨팅과 데이터 처리 요구사항을 지원하기 위해 AI 플랫폼 (PAI), \\n데이터베이스 솔루션 , 컨테이너 서비스와 같은 클라우드 신제품도 발표\\nn알리바바 클라우드는 AI 개발을 촉진하기 위해 올해 말까지 720억 개 매개변수를 가진 통이치엔원  \\n모델을 오픈소스화한다는 계획도 공개\\n☞ 출처 : Alibaba Cloud, Alibaba Cloud Launches Tongyi Qianwen 2.0 and Industry-specific Models to Support \\nCustomers Reap Benefits of Generative AI, 2023.10.31.'),\n",
       " Document(metadata={'producer': 'Hancom PDF 1.3.0.542', 'creator': 'Hwp 2018 10.0.0.13462', 'creationdate': '2023-12-08T13:28:38+09:00', 'author': 'dj', 'moddate': '2023-12-08T13:28:38+09:00', 'pdfversion': '1.4', 'source': './data/SPRI_AI_Brief_2023년12월호_F.pdf', 'total_pages': 23, 'page': 12, 'page_label': '13'}, page_content='SPRi AI Brief |  \\n2023-12 월호\\n10삼성전자 , 자체 개발 생성 AI ‘삼성 가우스 ’ 공개\\nn삼성전자가 온디바이스에서 작동 가능하며 언어, 코드, 이미지의 3개 모델로 구성된 자체 개발 생성 \\nAI 모델 ‘삼성 가우스 ’를 공개\\nn삼성전자는 삼성 가우스를 다양한 제품에 단계적으로 탑재할 계획으로 , 온디바이스 작동이 가능한 \\n삼성 가우스는 외부로 사용자 정보가 유출될 위험이 없다는 장점을 보유KEY Contents\\n£언어, 코드, 이미지의 3개 모델로 구성된 삼성 가우스 , 온디바이스 작동 지원\\nn삼성전자가 2023 년 11월 8일 열린 ‘삼성 AI 포럼 2023’ 행사에서 자체 개발한 생성 AI 모델 \\n‘삼성 가우스 ’를 최초 공개\\n∙정규분포 이론을 정립한 천재 수학자 가우스 (Gauss) 의 이름을 본뜬 삼성 가우스는 다양한 상황에 \\n최적화된 크기의 모델 선택이 가능\\n∙삼성 가우스는 라이선스나 개인정보를 침해하지 않는 안전한 데이터를 통해 학습되었으며 , \\n온디바이스에서 작동하도록 설계되어 외부로 사용자의 정보가 유출되지 않는 장점을 보유\\n∙삼성전자는 삼성 가우스를 활용한 온디바이스 AI 기술도 소개했으며 , 생성 AI 모델을 다양한 제품에 \\n단계적으로 탑재할 계획\\nn삼성 가우스는 △텍스트를 생성하는 언어모델 △코드를 생성하는 코드 모델 △이미지를 생성하는  \\n이미지 모델의 3개 모델로 구성\\n∙언어 모델은 클라우드와 온디바이스 대상 다양한 모델로 구성되며 , 메일 작성, 문서 요약, 번역 업무의 \\n처리를 지원\\n∙코드 모델 기반의 AI 코딩 어시스턴트 ‘코드아이 (code.i)’ 는 대화형 인터페이스로 서비스를 제공하며 \\n사내 소프트웨어 개발에 최적화\\n∙이미지 모델은 창의적인 이미지를 생성하고 기존 이미지를 원하는 대로 바꿀 수 있도록 지원하며 \\n저해상도 이미지의 고해상도 전환도 지원\\nnIT 전문지 테크리퍼블릭 (TechRepublic) 은 온디바이스 AI가 주요 기술 트렌드로 부상했다며 , \\n2024 년부터 가우스를 탑재한 삼성 스마트폰이 메타의 라마(Llama)2 를 탑재한 퀄컴 기기 및 구글 \\n어시스턴트를 적용한 구글 픽셀(Pixel) 과 경쟁할 것으로 예상\\n☞ 출처 : 삼성전자 , ‘삼성 AI 포럼’서 자체 개발 생성형 AI ‘삼성 가우스 ’ 공개, 2023.11.08.\\n삼성전자 , ‘삼성 개발자 콘퍼런스 코리아 2023’ 개최, 2023.11.14.\\nTechRepublic, Samsung Gauss: Samsung Research Reveals Generative AI, 2023.11.08.'),\n",
       " Document(metadata={'producer': 'Hancom PDF 1.3.0.542', 'creator': 'Hwp 2018 10.0.0.13462', 'creationdate': '2023-12-08T13:28:38+09:00', 'author': 'dj', 'moddate': '2023-12-08T13:28:38+09:00', 'pdfversion': '1.4', 'source': './data/SPRI_AI_Brief_2023년12월호_F.pdf', 'total_pages': 23, 'page': 13, 'page_label': '14'}, page_content='1. 정책/법제  2. 기업/산업 3. 기술/연구  4. 인력/교육\\n구글, 앤스로픽에 20억 달러 투자로 생성 AI 협력 강화 \\nn구글이 앤스로픽에 최대 20억 달러 투자에 합의하고 5억 달러를 우선 투자했으며 , 앤스로픽은 \\n구글과 클라우드 서비스 사용 계약도 체결\\nn3대 클라우드 사업자인 구글, 마이크로소프트 , 아마존은 차세대 AI 모델의 대표 기업인 \\n앤스로픽 및 오픈AI와 협력을 확대하는 추세KEY Contents\\n£구글, 앤스로픽에 최대 20억 달러 투자 합의 및 클라우드 서비스 제공\\nn구글이 2023 년 10월 27일 앤스로픽에 최대 20억 달러를 투자하기로 합의했으며 , 이 중 5억 \\n달러를 우선 투자하고 향후 15억 달러를 추가로 투자할 방침\\n∙구글은 2023 년 2월 앤스로픽에 이미 5억 5,000 만 달러를 투자한 바 있으며 , 아마존도 지난 9월 \\n앤스로픽에 최대 40억 달러의 투자 계획을 공개\\n∙한편, 2023 년 11월 8일 블룸버그 보도에 따르면 앤스로픽은 구글의 클라우드 서비스 사용을 위해 \\n4년간 30억 달러 규모의 계약을 체결\\n∙오픈AI 창업자 그룹의 일원이었던 다리오 (Dario Amodei) 와 다니엘라 아모데이 (Daniela Amodei) \\n남매가 2021 년 설립한 앤스로픽은 챗GPT의 대항마 ‘클로드 (Claude)’ LLM을 개발\\nn아마존과 구글의 앤스로픽 투자에 앞서, 마이크로소프트는 차세대 AI 모델의 대표 주자인  오픈\\nAI와 협력을 확대\\n∙마이크로소프트는 오픈AI에 앞서 투자한 30억 달러에 더해 2023 년 1월 추가로 100억 달러를 \\n투자하기로 하면서 오픈AI의 지분 49%를 확보했으며 , 오픈AI는 마이크로소프트의 애저(Azure) \\n클라우드 플랫폼을 사용해 AI 모델을 훈련\\n£구글, 클라우드 경쟁력 강화를 위해 생성 AI 투자 확대\\nn구글은 수익률이 높은 클라우드 컴퓨팅 시장에서 아마존과 마이크로소프트를 따라잡고자 생성 AI를 \\n통한 기업 고객의 클라우드 지출 확대를 위해 AI 투자를 지속  \\n∙구글은 앤스로픽 외에도 AI 동영상 제작 도구를 개발하는 런웨이 (Runway) 와 오픈소스 소프트웨어 \\n기업 허깅 페이스 (Hugging Face) 에도 투자\\n∙구글은 챗GPT의 기반 기술과 직접 경쟁할 수 있는 차세대 LLM ‘제미니 (Gemini)’ 를 포함한 자체 AI \\n시스템 개발에도 수십억 달러를 투자했으며 , 2024 년 제미니를 출시할 계획\\n☞ 출처 : The Wall Street Journal, Google Commits $2 Billion in Funding to AI Startup Anthropic, 2023.10.27.\\nBloomberg, AI Startup Anthropic to Use Google Chips in Expanded Partnership, 2023.11.09.'),\n",
       " Document(metadata={'producer': 'Hancom PDF 1.3.0.542', 'creator': 'Hwp 2018 10.0.0.13462', 'creationdate': '2023-12-08T13:28:38+09:00', 'author': 'dj', 'moddate': '2023-12-08T13:28:38+09:00', 'pdfversion': '1.4', 'source': './data/SPRI_AI_Brief_2023년12월호_F.pdf', 'total_pages': 23, 'page': 14, 'page_label': '15'}, page_content='SPRi AI Brief |  \\n2023-12 월호\\n12IDC, 2027년 AI 소프트웨어 매출 2,500 억 달러 돌파 전망\\nnIDC의 예측에 의하면 AI 소프트웨어 시장은 2027년 2,510 억 달러로 달할 전망이며 , 생성 \\nAI 플랫폼과 애플리케이션은 2027 년까지 283억 달러의 매출을 창출할 전망 \\nn2023년 기준 AI 소프트웨어 매출의 3분의 1을 차지하는 최대 시장인 AI 애플리케이션은 \\n2027년까지 21.1% 의 연평균 성장률을 기록할 전망KEY Contents\\n£기업들의 AI 투자 증가에 힘입어 AI 소프트웨어 시장 급성장 예상\\nn시장조사기관 IDC는 AI 소프트웨어 시장이 2022년 640억 달러에서 2027년 2,510 억 달러로 연평\\n균 성장률 31.4% 를 기록하며 급성장할 것으로 예상\\n∙AI 소프트웨어 시장은 AI 플랫폼 , AI 애플리케이션 , AI 시스템 인프라 소프트웨어 (SIS), AI 애플리케이션 \\n개발·배포(AI AD&D) 소프트웨어를 포괄\\n∙협업, 콘텐츠 관리, 전사적 자원관리 (ERM), 공급망 관리, 생산 및 운영, 엔지니어링 , 고객관계관리 (CRM) 를 \\n포함하는 AI 애플리케이션은 AI 소프트웨어의 최대 시장으로 2023년 전체 매출의 약 3분의 1을 차지하며 \\n2027년까지 21.1% 의 연평균 성장률을 기록할 전망\\n∙AI 비서를 포함한 AI 모델과 애플리케이션의 개발을 뒷받침하는 AI 플랫폼은 두 번째로 시장 규모가 큰 \\n분야로 , 2027년까지 35.8% 의 연평균 성장률이 예상됨\\n∙분석, 비즈니스 인텔리전스 , 데이터 관리와 통합을 포함하는 AI SIS는 기존 소프트웨어 시스템과 통합되어 \\n방대한 데이터를 활용한 의사결정과 운영 최적화를 지원하며 , 현재 매출 규모는 비교적 작지만 5년간 \\n연평균 성장률은 32.6% 로 시장 전체를 웃돌 전망\\n∙애플리케이션 개발, 소프트웨어 품질과 수명주기 관리 소프트웨어 , 애플리케이션 플랫폼을 포함하는 AI \\nAD&D 는 향후 5년간 카테고리 중 가장 높은 38.7% 의 연평균 성장률이 예상됨\\nnIDC에 따르면 경제적 불확실성과 시장 역학의 변화에도 AI와 자동화 기술에 대한 기업들의 투자 \\n의지는 확고하며 , 기업들은 AI 도입이 사업 성공과 경쟁우위에 필수적이라고 인식\\n∙IDC 설문조사에 따르면 향후 12개월 동안 응답자의 3분의 1은 기업이 특정 사용 사례나 응용 영역에서 \\n외부 AI 소프트웨어의 구매를 고려하거나 외부 AI 소프트웨어와 내부 자원의 결합을 고려\\nn한편, AI 소프트웨어 시장에 포함되지 않는 생성 AI 플랫폼과 애플리케이션은 2027 년까지 283억 \\n달러의 매출을 창출할 전망 \\n☞ 출처 : IDC, IDC Forecasts Revenue for Artificial Intelligence Software Will Reach $279 Billion Worldwide in \\n2027, 2023.10.31.'),\n",
       " Document(metadata={'producer': 'Hancom PDF 1.3.0.542', 'creator': 'Hwp 2018 10.0.0.13462', 'creationdate': '2023-12-08T13:28:38+09:00', 'author': 'dj', 'moddate': '2023-12-08T13:28:38+09:00', 'pdfversion': '1.4', 'source': './data/SPRI_AI_Brief_2023년12월호_F.pdf', 'total_pages': 23, 'page': 15, 'page_label': '16'}, page_content='1. 정책/법제  2. 기업/산업 3. 기술/연구  4. 인력/교육\\n빌 게이츠 , AI 에이전트로 인한 컴퓨터 사용의 패러다임 변화 전망\\nn빌 게이츠가 5년 내 일상언어로 모든 작업을 처리할 수 있는 AI 에이전트가 보급되며 컴퓨터를 \\n사용하는 방식이 완전히 바뀔 것으로 예상\\nn에이전트의 보급은 컴퓨터 분야를 넘어 산업 전 영역에 영향을 미칠 전망으로 특히 의료와 \\n교육, 생산성 , 엔터테인먼트 ·쇼핑 영역에서 고가로 제공되던 서비스가 대중화될 전망KEY Contents\\n£5년 내 기기에 일상언어로 말하기만 하면 되는 AI 에이전트의 보급 예상\\nn빌 게이츠 마이크로소프트 창업자가 2023 년 11월 9일 공식 블로그를 통해 AI 에이전트가 컴퓨터  \\n사용방식과 소프트웨어 산업을 완전히 변화시킬 것이라는 전망을 제시\\n∙자연어에 반응하고 사용자에 대한 지식을 바탕으로 다양한 작업을 수행하는 소프트웨어를 의미하는 \\n에이전트는 컴퓨터 사용방식이 키보드 입력에서 아이콘 클릭으로 바뀐 이후 최대의 컴퓨팅 혁명을 \\n가져올 전망\\n∙현재는 컴퓨터 작업 시 작업 내용에 따라 각각 다른 앱을 사용해야 하지만 5년 내 에이전트의 발전으로 \\n기기에 일상언어로 말하기만 하면 되는 미래가 도래할 것\\n∙온라인에 접속하는 모든 사람이 AI 기반의 개인 비서를 사용할 수 있게 되며, 에이전트는 사용자에 대한 \\n풍부한 지식을 바탕으로 맞춤화된 대응이 가능하며 시간이 지날수록 개선됨\\n∙일례로 여행 계획 수립 시 AI 챗봇이 예산에 맞는 호텔을 제안하는데 머문다면 , 에이전트는 사용자의 여행 \\n패턴을 분석해 여행지를 제안하고 관심사에 따른 활동을 추천하며 선호하는 스타일의 레스토랑 예약도 가능  \\n£AI 에이전트가 의료와 교육, 생산성 , 엔터테인먼트 ·쇼핑 영역의 서비스 대중화를 주도할 것\\nn에이전트로 인해 주목할 만한 변화는 고비용 서비스의 대중화로 특히 △의료 △교육 △생산성 △\\n엔터테인먼트 ·쇼핑의 4개 영역에서 대규모 변화 예상\\n∙(의료) 에이전트가 환자 분류를 지원하고 건강 문제에 대한 조언을 제공하며 치료의 필요 여부를 결정하면서 \\n의료진의 의사결정과 생산성 향상에 기여\\n∙(교육) 에이전트가 1대 1 가정교사의 역할을 맡아 모든 학생에게 평등한 교육 기회를 제공할 수 있으며 , \\n아이가 좋아하는 게임이나 노래 등을 활용해 시청각 기반의 풍부한 맞춤형 교육 경험을 제공\\n∙(생산성 ) 사용자의 아이디어를 기반으로 에이전트가 사업계획과 발표 자료 작성, 제품 이미지 생성을 \\n지원하며 , 임원의 개인 비서와 같은 역할도 수행 \\n∙(엔터테인먼트 ·쇼핑) 쇼핑 시 에이전트가 모든 리뷰를 읽고 요약해 최적의 제품을 추천하고 사용자 대신 \\n주문할 수 있으며 사용자의 관심사에 맞춤화된 뉴스와 엔터테인먼트를 구독 가능\\n☞ 출처 : GatesNotes, AI is about to completely change how you use computers, 2023.11.09.'),\n",
       " Document(metadata={'producer': 'Hancom PDF 1.3.0.542', 'creator': 'Hwp 2018 10.0.0.13462', 'creationdate': '2023-12-08T13:28:38+09:00', 'author': 'dj', 'moddate': '2023-12-08T13:28:38+09:00', 'pdfversion': '1.4', 'source': './data/SPRI_AI_Brief_2023년12월호_F.pdf', 'total_pages': 23, 'page': 16, 'page_label': '17'}, page_content='SPRi AI Brief |  \\n2023-12 월호\\n14유튜브 , 2024년부터 AI 생성 콘텐츠 표시 의무화 \\nn유튜브가 몇 달 안에 생성 AI를 사용한 콘텐츠에 AI 라벨 표시를 의무화하기로 했으며 , 이를 \\n준수하지 않는 콘텐츠는 삭제하고 크리에이터에 대한 수익 배분도 중단할 수 있다고 설명\\nn유튜브는 AI 생성 콘텐츠가 신원 파악이 가능한 개인을 모방한 경우 개인정보 침해 신고 \\n절차에 따라 콘텐츠 삭제 요청도 받을 계획KEY Contents\\n£유튜브 , 생성 AI 콘텐츠에 AI 라벨 표시 안 하면 콘텐츠 삭제\\nn유튜브가 2023 년 11월 14일 공식 블로그를 통해 몇 달 안에 생성 AI를 사용한 콘텐츠에 AI \\n라벨을 표시하는 새로운 규칙을 시행한다고 발표 \\n∙실제로 일어나지 않은 사건을 사실적으로 묘사하거나 실제로 하지 않은 말이나 행동을 보여주는 콘텐츠와 \\n같이 AI 도구를 사용해 사실적으로 변경되거나 합성된 콘텐츠에는 AI 라벨을 표시 필요\\n∙유튜브는 이러한 규칙이 선거나 분쟁 상황, 공중 보건, 공직자 관련 문제와 같이 민감한 주제를 다루는 \\n콘텐츠에서 특히 중요하다고 강조했으며 , 크리에이터가 AI로 제작한 콘텐츠에 AI 라벨을 표시하지 않으면 \\n해당 콘텐츠는 삭제되고 광고 수익을 배분하는 유튜브 파트너 프로그램도 정지될 수 있음\\n∙유튜브는 두 가지 방식으로 AI를 이용한 콘텐츠의 변경이나 합성 여부를 시청자에게 전달할 계획으로 \\n동영상 설명 패널에 라벨을 표시하는 방식이 기본이며 , 민감한 주제를 다루는 특정 유형의 콘텐츠는 동영상 \\n플레이어에 더욱 눈에 띄는 라벨을 적용 \\n∙유튜브는 커뮤니티 정책에 위반되는 일부 합성 콘텐츠에 대해서는 라벨 지정 여부와 관계없이 삭제할 \\n방침으로 , 가령 사실적인 폭력을 보여주는 합성 동영상이 시청자에게 충격이나 혐오감을 줄 수 있다면 \\n삭제될 수 있음\\n£유튜브 , 특정인을 모방한 AI 생성 콘텐츠에 대한 삭제 요청에도 대응 계획\\nn유튜브는 몇 달 내에 신원 파악이 가능한 개인의 얼굴이나 음성을 모방한 AI 생성 콘텐츠에 대하\\n여 개인정보 침해 신고 절차를 마련해 삭제 요청을 받을 계획  \\n∙단, 모든 콘텐츠가 삭제 대상은 아니며 유튜브는 콘텐츠가 패러디나 풍자인지 , 해당 영상에서 삭제 요청을 \\n한 특정인을 식별할 수 있는지 , 공직자나 유명인이 등장하는지 등 다양한 요소를 고려할 예정\\n∙유튜브는 음반사가 아티스트의 고유한 노래나 목소리를 모방한 AI 생성 음악에 대하여 삭제를 요청할 수 \\n있는 기능도 도입할 방침\\n☞ 출처 : Youtube, Our approach to responsible AI innovation, 2023.11.14.'),\n",
       " Document(metadata={'producer': 'Hancom PDF 1.3.0.542', 'creator': 'Hwp 2018 10.0.0.13462', 'creationdate': '2023-12-08T13:28:38+09:00', 'author': 'dj', 'moddate': '2023-12-08T13:28:38+09:00', 'pdfversion': '1.4', 'source': './data/SPRI_AI_Brief_2023년12월호_F.pdf', 'total_pages': 23, 'page': 17, 'page_label': '18'}, page_content='1. 정책/법제  2. 기업/산업 3. 기술/연구  4. 인력/교육\\n영국 과학혁신기술부 , AI 안전 연구소 설립 발표\\nn영국 과학혁신기술부가 첨단 AI 시스템에 대한 평가를 통해 안전성을 보장하기 위한 AI \\n안전 연구소를 설립한다고 발표\\nnAI 안전 연구소는 핵심 기능으로 첨단 AI 시스템 평가 개발과 시행, AI 안전 연구 촉진, \\n정보교류 활성화를 추진할 계획KEY Contents\\n£영국 AI 안전 연구소 , 첨단 AI 시스템 평가와 AI 안전 연구, 정보 교류 추진\\nn영국 과학혁신기술부가 2023 년 11월 2일 첨단 AI 안전에 중점을 둔 국가 연구기관으로 AI \\n안전 연구소 (AI Safety Institute) 를 설립한다고 발표\\n∙AI 안전 연구소는 첨단 AI의 위험을 이해하고 거버넌스 마련에 필요한 사회·기술적 인프라 개발을 통해 \\n영국을 AI 안전 연구의 글로벌 허브로 확립하는 것을 목표로 함\\n∙영국 정부는 향후 10년간 연구소에 공공자금을 투자해 연구를 지원할 계획으로 , 연구소는 △첨단 AI 시스템 \\n평가 개발과 시행 △AI 안전 연구 촉진 △정보 교류 활성화를 핵심 기능으로 함\\nn(첨단 AI 시스템 평가 개발과 시행) 시스템의 안전 관련 속성을 중심으로 안전과 보안 기능을 이해\\n하고 사회적 영향을 평가\\n∙평가 우선순위는 △사이버범죄 조장, 허위 정보 유포 등 악의적으로 활용될 수 있는 기능 △사회에 미치는 \\n영향 △시스템 안전과 보안 △인간의 통제력 상실 가능성 순\\n∙연구소는 외부 기관과 협력해 자체 시스템 평가를 개발 및 수행하고 , 평가와 관련된 의견 공유 및 지침 \\n마련을 위해 전문가 커뮤니티를 소집할 계획\\nn(AI 안전 연구 촉진) 외부 연구자를 소집하고 다양한 예비 연구 프로젝트를 통해 AI 안전 기초연구를 수행\\n∙AI 시스템의 효과적 거버넌스를 위한 도구 개발* 및 안전한 AI 시스템 개발을 위한 새로운 접근 방식 연구를 수행\\n* 편향된 훈련 데이터에 대한 분석기술 , 민감한 정보를 포함하는 AI 시스템에 대한 미세 조정 방법\\nn(정보 교류 활성화 ) 현행 개인정보보호와 데이터 규제 하에서 연구소와 정책입안자 , 국제 파트너 , \\n학계, 시민사회 및 일반 대중과 정보 공유 채널을 구축\\n∙AI 안전성 정상회의 (AI Safety Summit) 에서 합의된 대로 첨단 AI 모델의 평가 후 해당 모델이 배포된 \\n타국의 정부 및 연구소와 평가 결과를 공유하고 , 학계와 대중이 AI 시스템의 피해와 취약점을 보고할 수 \\n있는 명확한 절차를 수립\\n☞ 출처 : Gov.uk, Introducing the AI Safety Institute, 2023.11.02.\\n             Venturebeat, Researchers turn to Harry Potter to make AI forget about copyrighted material, 2023.10.06.'),\n",
       " Document(metadata={'producer': 'Hancom PDF 1.3.0.542', 'creator': 'Hwp 2018 10.0.0.13462', 'creationdate': '2023-12-08T13:28:38+09:00', 'author': 'dj', 'moddate': '2023-12-08T13:28:38+09:00', 'pdfversion': '1.4', 'source': './data/SPRI_AI_Brief_2023년12월호_F.pdf', 'total_pages': 23, 'page': 18, 'page_label': '19'}, page_content='16구글 딥마인드 , 범용 AI 모델의 기능과 동작에 대한 분류 체계 발표\\nn구글 딥마인드 연구진이 성능과 범용성 , 자율성을 기준으로 범용 AI(AGI) 의 수준을 \\n0~5단계까지 총 6단계로 구분한 프레임워크를 공개\\nn현재 AGI는 단백질 구조를 예측하는 알파폴드와 같은 특정 용도에서는 5단계 수준을 달성했지만 \\n광범위하게 활용될 수 있는 범용에서는 1단계 수준에 머물러 있음KEY Contents\\n£챗GPT와 구글 바드와 같은 AI 챗봇은 범용 AI 1단계 수준\\nn구글 딥마인드 연구진은 2023 년 11월 4일 범용 AI(Artificial General Intelligence, AGI) 모델을 용도와 \\n성능에 따라 분류하는 프레임워크를 제시한 논문을 발표\\n∙프레임워크의 목적은 AGI의 성능, 범용성 , 자율성 수준을 정의하여 모델 간 비교와 위험 평가, AGI \\n달성까지의 진행 상황을 측정할 수 있는 공통 기준을 제공하기 위함\\nn연구진은 AGI 개념 정의에 필요한 기준을 수립하기 위한 6가지 원칙을 아래와 같이 도출\\n∙(프로세스가 아닌 기능에 중점) AI가 어떻게 작동하는지보다 무엇을 할 수 있는지가 더 중요\\n∙(범용성과 성능을 모두 평가) 진정한 AGI는 인간을 능가하는 폭넓은 범용성과 기술의 깊이를 모두 요구\\n∙(인지와 메타인지 작업에 중점) 물리적 작업의 수행 능력은 AGI의 필수 전제조건이 아니며 , 인지 작업과 \\n메타인지 작업(예; 새로운 작업의 학습 능력, 인간에게 도움을 요청할 시점을 아는 능력)이 핵심\\n∙(실제 구현보다 잠재력에 집중) 통제된 상황에서 발휘되는 성능에 따라 AGI를 규정하고 테스트를 진행 \\n∙(생태학적 타당도를 갖춘 벤치마크 사용) AGI에 대한 벤치마크는 사람들이 경제적 · 사회적 또는 예술적으로 \\n가치 있게 여기는 실질적인 작업을 대상으로 성능 평가 필요\\n∙(종점이 아닌 AGI를 향한 경로에 중점) 단계별 접근방식을 통해 AGI의 발전 상태를 점진적으로 측정\\nn연구진은 상기 원칙에 따라 AI를 성능에 따라 0~5단계와 광범위한 목적에 활용될 수 있는 범용 AI 및 특정 \\n과업에 활용되는 특수 AI로 분류했으며 , 특수 AI에서는 5단계까지 달성되었으나 , 범용 AI는 현재 1단계 수준\\n성능 특수 AI 예시 범용 AI 예시\\n0단계: AI 아님 계산기 소프트웨어 , 컴파일러 아마존 메커니컬 터크\\n1단계: 신진(숙련되지 않은 인간) GOFAI(Good Old Fashioned Artificial Intelligence) 챗GPT, 바드, 라마2\\n2단계: 유능(숙련된 인간의 50% 이상)스마트 스피커 (애플 시리, 아마존 알렉사 , 구글 \\n어시스턴트 ), IBM 왓슨 미달성\\n3단계: 전문가 (숙련된 인간의 90% 이상)문법 교정기 (그래머리 ), 생성 이미지 모델(달리2) 미달성\\n4단계: 거장(숙련된 인간의 99% 이상) 딥블루 , 알파고 미달성\\n5단계: 초인간 (인간을 100% 능가) 알파폴드 , 알파제로 , 스톡피시 미달성<구글 딥마인드의 범용 AI 분류 프레임워크 > \\n☞ 출처 : Arxiv.org, Levels of AGI: Operationalizing Progress on the Path to AGI, 2023.11.04.'),\n",
       " Document(metadata={'producer': 'Hancom PDF 1.3.0.542', 'creator': 'Hwp 2018 10.0.0.13462', 'creationdate': '2023-12-08T13:28:38+09:00', 'author': 'dj', 'moddate': '2023-12-08T13:28:38+09:00', 'pdfversion': '1.4', 'source': './data/SPRI_AI_Brief_2023년12월호_F.pdf', 'total_pages': 23, 'page': 19, 'page_label': '20'}, page_content='1. 정책/법제  2. 기업/산업 3. 기술/연구  4. 인력/교육\\n갈릴레오의 LLM 환각 지수 평가에서 GPT-4 가 가장 우수\\nn주요 LLM의 환각 현상을 평가한 ‘LLM 환각 지수’에 따르면 GPT-4 는 작업 유형과 관계없이 \\n가장 우수한 성능을 보였으며 GPT-3.5 도 거의 동등한 성능을 발휘\\nn오픈소스 모델 중에서는 메타의 라마2가 RAG 없는 질문과 답변 및 긴 형식의 텍스트 \\n생성에서 가장 우수한 성능을 발휘KEY Contents\\n£주요 LLM 중 GPT-4 가 가장 환각 현상 적고 GPT-3.5 터보도 비슷한 성능 기록\\nn머신러닝 데이터 관리 기업 갈릴레오 (Galileo) 가 2023년 11월 15일 주요 LLM의 환각 현상을 평가한 \\n‘LLM 환각 지수(LLM Hallucination Index)’ 를 발표\\n∙생성 AI의 환각 현상은 AI 시스템이 잘못된 정보를 생성하거나 , 현실과 다른 부정확한 결과를 내놓는 \\n현상으로 , 기업의 AI 도입을 가로막는 주요 장애물이며 , 환각 지수는 신뢰할 수 있는 생성 AI 구축을 위해 \\n환각을 평가하고 측정하는 구조화된 접근방식을 제공\\n∙환각 지수는 △검색 증강 생성(Retrieval-Augmented Generation, RAG)* 을 포함한 질문과 답변 △RAG \\n없는 질문과 답변 △긴 형식의 텍스트 (보고서나 기사, 에세이 ) 생성의 3개 작업 유형에 대하여 환각을 \\n기준으로 LLM의 순위를 평가\\n* 기존에 학습된 데이터가 아닌 외부 소스(데이터셋 , 데이터베이스 , 문서 등)에서 가져온 정보를 검색해 활용하는 기술\\nn3개의 작업 유형 평가 전체에서 오픈AI의 GPT-4 가 최고의 성능을 기록했으며 , GPT-3.5 터보도 \\nGPT-4 와 거의 동등한 성능을 발휘\\n∙메타의 라마2(Llama-2-70b) 는 RAG 없는 질문과 답변 유형에서 오픈소스 모델 가운데 가장 우수했고 긴 \\n형식의 텍스트 생성에서도 GPT-4 에 준하는 성능을 기록했으나 , RAG 포함 질문과 답변에서는 허깅 \\n페이스의  제퍼(Zephyr-7b) 가 라마2를 능가\\n<갈릴레오의 LLM 환각 지수(RAG 포함 질문과 답변 기준)>\\n☞ 출처: Galileo, LLM Hallucination Index, 2023.11.15.'),\n",
       " Document(metadata={'producer': 'Hancom PDF 1.3.0.542', 'creator': 'Hwp 2018 10.0.0.13462', 'creationdate': '2023-12-08T13:28:38+09:00', 'author': 'dj', 'moddate': '2023-12-08T13:28:38+09:00', 'pdfversion': '1.4', 'source': './data/SPRI_AI_Brief_2023년12월호_F.pdf', 'total_pages': 23, 'page': 20, 'page_label': '21'}, page_content='18영국 옥스퍼드 인터넷 연구소 , AI 기술자의 임금이 평균 21% 높아\\nn옥스퍼드 인터넷 연구소의 연구에 따르면 특정 기술의 경제적 가치는 다른 기술과 결합 \\n가능성이 높을수록 높게 평가됨 \\nnAI의 확산은 기술의 경제적 가치에 크게 영향을 미치며 , AI 기술을 가진 근로자는 평균 21%, \\n최대 40% 높은 임금을 받을 수 있음  KEY Contents\\n£AI 기술 중 머신러닝 , 텐서플로우 , 딥러닝의 임금 프리미엄이 높게 평가\\nn옥스퍼드 인터넷 연구소 (Oxford Internet Institute) 가 2023년 10월 24일 962개 기술과 2만 5천 \\n명을 대상으로 한 연구에서 AI를 포함한 주요 기술의 경제적 가치를 분석한 결과를 발표 \\n∙연구에 따르면 한 기술의 경제적 가치는 근로자의 여타 역량과 얼마나 잘 결합하는지를 보여주는 \\n‘상보성 (complementarity)’ 에 따라 결정됨\\n∙특정 기술은 다른 기술과 결합 가능성이 높을수록 경제적 가치가 높아지며 , 일례로 데이터 분석과 같은 \\n기술은 여타 고부가가치 기술과 결합할 수 있어 가치가 높지만 , 사진 리터칭 같은 기술은 특정 기술과만 \\n결합할 수 있어 가치가 낮게 평가됨 \\n∙대부분 직업은 여러 기술의 조합이 필요하며 , 근로자의 재교육에서 경제적 효율성을 높이려면 기존 기술과 \\n신기술 간 상보성을 극대화할 필요\\nnAI의 확산은 기술의 경제적 가치에 크게 영향을 미치는 요소로 , AI 기술을 가진 근로자는 평균적으로  \\n21% 높은 임금을 획득 가능\\n∙AI 기술 중 근로자에 대한 경제적 가치(시간당 임금 증가율 기준) 측면에서 상위 5개 기술은 \\n머신러닝 (+40%), 텐서플로우 (+38%), 딥러닝 (+27%), 자연어처리 (+19%), 데이터 과학(+17%) 순\\n☞  출 처  : Oxford Internet Institute, AI com es out on top: Oxford Study identifies the economic value of specific skills, 2023.10.24.\\n<AI 기술 유형 평균 기술 대비 갖는 임금 프리미엄 >'),\n",
       " Document(metadata={'producer': 'Hancom PDF 1.3.0.542', 'creator': 'Hwp 2018 10.0.0.13462', 'creationdate': '2023-12-08T13:28:38+09:00', 'author': 'dj', 'moddate': '2023-12-08T13:28:38+09:00', 'pdfversion': '1.4', 'source': './data/SPRI_AI_Brief_2023년12월호_F.pdf', 'total_pages': 23, 'page': 21, 'page_label': '22'}, page_content='행사명 행사 주요 개요\\nCES 2024\\n-미국 소비자기술 협회(CTA) 가 주관하는 세계 최대 가전·IT·소\\n비재 전시회로 5G, AR&VR, 디지털헬스 , 교통·모빌리티 등 \\n주요 카테고리 중심으로 기업들이 최신의 기술 제품군을 전시\\n-CTA 사피로 회장은 가장 주목받는 섹터로 AI를 조명하였으며 , \\n모든 산업을 포괄한다는 의미에서 ‘올 온(All on)’을 주제로 한 \\n이번 전시에는 500곳 이상의 한국기업 참가 예정\\n기간 장소 홈페이지\\n2024.1.9~12 미국, 라스베가스 https://www.ces.tech/\\nAIMLA 2024\\n-머신러닝 및 응용에 관한 국제 컨퍼런스 (AIMLA 2024) 는 \\n인공지능 및 머신러닝의 이론, 방법론 및 실용적 접근에 관한 \\n지식과  최신 연구 결과 공유\\n-이론 및 실무 측면에서 인공지능 , 기계학습의 주요 분야를 \\n논의하고 , 학계, 산업계의 연구자와 실무자들에게 해당 분\\n야의 최첨단 개발 소식 공유\\n기간 장소 홈페이지\\n2024.1.27~28 덴마크 , 코펜하겐https://ccnet2024.org/aimla\\n/index\\nAAAI Conference \\non Artificial \\nIntelligence\\n-AI 발전 협회 컨퍼런스 (AAAI) 는 AI 연구를 촉진하고 , AI 분야 \\n연구원 , 실무자 , 과학자 , 학생 및 공학자 간 교류의 기회 제공\\n-컨퍼런스에서 AI 관련 기술 발표, 특별 트랙, 초청 연사, \\n워크숍 , 튜토리얼 , 포스터 세션, 주제 발표, 대회, 전시 프\\n로그램 등 진행   \\n기간 장소 홈페이지\\n2024.2.20~27 캐나다 , 밴쿠버https://aaai.org/aaai-confere\\nnce/\\nⅡ. 주요 행사 일정'),\n",
       " Document(metadata={'producer': 'Hancom PDF 1.3.0.542', 'creator': 'Hwp 2018 10.0.0.13462', 'creationdate': '2023-12-08T13:28:38+09:00', 'author': 'dj', 'moddate': '2023-12-08T13:28:38+09:00', 'pdfversion': '1.4', 'source': './data/SPRI_AI_Brief_2023년12월호_F.pdf', 'total_pages': 23, 'page': 22, 'page_label': '23'}, page_content='홈페이지 : https://spri.kr/\\n보고서와 관련된 문의는 AI정책연구실 (jayoo@spri.kr, 031-739-7352) 으로 연락주시기 바랍니다 .')]"
      ]
     },
     "execution_count": 33,
     "metadata": {},
     "output_type": "execute_result"
    }
   ],
   "source": [
    "await adocs"
   ]
  },
  {
   "cell_type": "markdown",
   "metadata": {},
   "source": [
    "## 01-PDF\n",
    "\n"
   ]
  },
  {
   "cell_type": "markdown",
   "metadata": {},
   "source": [
    "AutoRAG 팀에서 진행한 PDF 실험 순위표\n",
    "\n",
    "아래 표기된 숫자는 등수를 나타냅니다. (The lower, the better)\n",
    "\n",
    "각 분류 문서에 따라 PDF를 로더해 본것을 바탕으로 진행\n",
    "\n",
    "| | PDFMiner | PDFPlumber | PyPDFium2 | PyMuPDF | PyPDF2 |\n",
    "|----------|:---------:|:----------:|:---------:|:-------:|:-----:|\n",
    "| Medical  | 1         | 2          | 3         | 4       | 5     |\n",
    "| Law      | 3         | 1          | 1         | 3       | 5     |\n",
    "| Finance  | 1         | 2          | 2         | 4       | 5     |\n",
    "| Public   | 1         | 1          | 1         | 4       | 5     |\n",
    "| Sum      | 5         | 5          | 7         | 15      | 20    |\n",
    "\n",
    "출처: [AutoRAG Medium 블로그](https://velog.io/@autorag/PDF-%ED%95%9C%EA%B8%80-%ED%85%8D%EC%8A%A4%ED%8A%B8-%EC%B6%94%EC%B6%9C-%EC%8B%A4%ED%97%98#%EC%B4%9D%ED%8F%89)\n",
    "\n",
    "PDFMiner, PDFPlumber, PyPDFium2, PyMuPDF, PyPDF2 는 무료 + 많은 사람들이 사용하고 있는 라이브러리리"
   ]
  },
  {
   "cell_type": "code",
   "execution_count": 1,
   "metadata": {},
   "outputs": [
    {
     "data": {
      "text/plain": [
       "True"
      ]
     },
     "execution_count": 1,
     "metadata": {},
     "output_type": "execute_result"
    }
   ],
   "source": [
    "# API Key를 환경변수로 관리하기 위한 설정 파일\n",
    "from dotenv import load_dotenv\n",
    "\n",
    "load_dotenv()"
   ]
  },
  {
   "cell_type": "code",
   "execution_count": 2,
   "metadata": {},
   "outputs": [],
   "source": [
    "FILE_PATH = \"./data/SPRI_AI_Brief_2023년12월호_F.pdf\""
   ]
  },
  {
   "cell_type": "code",
   "execution_count": null,
   "metadata": {},
   "outputs": [],
   "source": [
    "#show_metadata 함수를 정의 한다.\n",
    "def show_metadata(docs):\n",
    "    if docs:\n",
    "        print(\"[metadata]\")\n",
    "        print(list(docs[0].metadata.keys()))\n",
    "        print(\"\\n[examples]\")\n",
    "        max_key_length = max(len(k) for k in docs[0].metadata.keys())\n",
    "        for k, v in docs[0].metadata.items():\n",
    "            print(f\"{k:<{max_key_length}} : {v}\")"
   ]
  },
  {
   "cell_type": "code",
   "execution_count": 13,
   "metadata": {},
   "outputs": [
    {
     "name": "stdout",
     "output_type": "stream",
     "text": [
      "[metadata]\n",
      "['producer', 'creator', 'creationdate', 'author', 'moddate', 'pdfversion', 'source', 'total_pages', 'page', 'page_label']\n",
      "\n",
      "[examples]\n",
      "producer     : Hancom PDF 1.3.0.542\n",
      "creator      : Hwp 2018 10.0.0.13462\n",
      "creationdate : 2023-12-08T13:28:38+09:00\n",
      "author       : dj\n",
      "moddate      : 2023-12-08T13:28:38+09:00\n",
      "pdfversion   : 1.4\n",
      "source       : ./data/SPRI_AI_Brief_2023년12월호_F.pdf\n",
      "total_pages  : 23\n",
      "page         : 0\n",
      "page_label   : 1\n"
     ]
    }
   ],
   "source": [
    "show_metadata(docs)"
   ]
  },
  {
   "cell_type": "markdown",
   "metadata": {},
   "source": [
    "pyPDF\n",
    "\n",
    "pyPDF를 사용하여 PDF를 문서 배열로 로드하며, 각 문서는 page 번호와 함께 페이지 내용 및 메타데이터를 포함시켜 출력해봅니다."
   ]
  },
  {
   "cell_type": "code",
   "execution_count": 20,
   "metadata": {},
   "outputs": [
    {
     "name": "stdout",
     "output_type": "stream",
     "text": [
      "1. 정책/법제  2. 기업/산업 3. 기술/연구  4. 인력/교육\n",
      "미국, 안전하고 신뢰할 수 있는 AI 개발과 사용에 관한 행정명령 발표 \n",
      "n미국 바이든 대통령이 ‘안전하고 신뢰할 수 있는 AI 개발과 사용에 관한 행정명령 ’에 서명하고 \n",
      "광범위한 행정 조치를 명시\n",
      "n행정명령은 △AI의 안전과 보안 기준 마련 △개인정보보호 △형평성과 시민권 향상 △소비자 \n",
      "보호 △노동자 지원 △혁신과 경쟁 촉진 △국제협력을 골자로 함KEY Contents\n",
      "£바이든 대통령 , AI 행정명령 통해 안전하고 신뢰할 수 있는 AI 개발과 활용 추진\n",
      "n미\n"
     ]
    }
   ],
   "source": [
    "from langchain_community.document_loaders import PyPDFLoader\n",
    "\n",
    "loader = PyPDFLoader(FILE_PATH)\n",
    "\n",
    "docs = loader.load()\n",
    "\n",
    "# 4번째 페이지의 첫 시작 부터 400까지 텍스트 출력력\n",
    "print(docs[3].page_content[:300])"
   ]
  },
  {
   "cell_type": "code",
   "execution_count": 14,
   "metadata": {},
   "outputs": [
    {
     "name": "stdout",
     "output_type": "stream",
     "text": [
      "[metadata]\n",
      "['producer', 'creator', 'creationdate', 'author', 'moddate', 'pdfversion', 'source', 'total_pages', 'page', 'page_label']\n",
      "\n",
      "[examples]\n",
      "producer     : Hancom PDF 1.3.0.542\n",
      "creator      : Hwp 2018 10.0.0.13462\n",
      "creationdate : 2023-12-08T13:28:38+09:00\n",
      "author       : dj\n",
      "moddate      : 2023-12-08T13:28:38+09:00\n",
      "pdfversion   : 1.4\n",
      "source       : ./data/SPRI_AI_Brief_2023년12월호_F.pdf\n",
      "total_pages  : 23\n",
      "page         : 0\n",
      "page_label   : 1\n"
     ]
    }
   ],
   "source": [
    "# 메타데이터 출력\n",
    "show_metadata(docs)"
   ]
  },
  {
   "cell_type": "markdown",
   "metadata": {},
   "source": [
    "PyPDF(OCR)\n",
    "\n",
    "일부 PDF에는 스캔된 문서나 그림 내에 텍스트 이미지가 포함되어있고 이를 추출하기 위해서 사용하는 것이 rapidocr-onnxruntime 패키지이다."
   ]
  },
  {
   "cell_type": "code",
   "execution_count": null,
   "metadata": {},
   "outputs": [
    {
     "name": "stdout",
     "output_type": "stream",
     "text": [
      "LayoutParser : A Uniﬁed Toolkit for DL-Based DIA 5\n",
      "Table 1: Current layout detection models in the LayoutParser model zoo\n",
      "Dataset Base Model1Large Model Notes\n",
      "PubLayNet [38] F / M M Layouts of modern scientiﬁc documents\n",
      "PRImA [3] M - Layouts of scanned modern magazines and scientiﬁc reports\n",
      "Newspape\n"
     ]
    }
   ],
   "source": [
    "# PDF 로더 초기화, 이미지 추출 옵션 extract_images 활성화화\n",
    "loader = PyPDFLoader(\"https://arxiv.org/pdf/2103.15348.pdf\", extract_images=True)\n",
    "\n",
    "# PDF 페이지 로드\n",
    "docs = loader.load()\n",
    "\n",
    "# 페이지 내용 접근\n",
    "print(docs[4].page_content[:300])"
   ]
  },
  {
   "attachments": {
    "image.png": {
     "image/png": "[encoded data removed]"
    }
   },
   "cell_type": "markdown",
   "metadata": {},
   "source": [
    "![image.png](attachment:image.png)"
   ]
  },
  {
   "cell_type": "code",
   "execution_count": 16,
   "metadata": {},
   "outputs": [
    {
     "name": "stdout",
     "output_type": "stream",
     "text": [
      "[metadata]\n",
      "['producer', 'creator', 'creationdate', 'author', 'keywords', 'moddate', 'ptex.fullbanner', 'subject', 'title', 'trapped', 'source', 'total_pages', 'page', 'page_label']\n",
      "\n",
      "[examples]\n",
      "producer        : pdfTeX-1.40.21\n",
      "creator         : LaTeX with hyperref\n",
      "creationdate    : 2021-06-22T01:27:10+00:00\n",
      "author          : \n",
      "keywords        : \n",
      "moddate         : 2021-06-22T01:27:10+00:00\n",
      "ptex.fullbanner : This is pdfTeX, Version 3.14159265-2.6-1.40.21 (TeX Live 2020) kpathsea version 6.3.2\n",
      "subject         : \n",
      "title           : \n",
      "trapped         : /False\n",
      "source          : https://arxiv.org/pdf/2103.15348.pdf\n",
      "total_pages     : 16\n",
      "page            : 0\n",
      "page_label      : 1\n"
     ]
    }
   ],
   "source": [
    "show_metadata(docs)"
   ]
  },
  {
   "cell_type": "markdown",
   "metadata": {},
   "source": [
    "PyMuPDF\n",
    "\n",
    "PyMuPDF는 속도 최적화가 되어 있으며, PDF 및 해당 페이지에 대한 자세한 메타데이터를 포함하고 있다."
   ]
  },
  {
   "cell_type": "code",
   "execution_count": 21,
   "metadata": {},
   "outputs": [
    {
     "name": "stdout",
     "output_type": "stream",
     "text": [
      "1. 정책/법제  \n",
      "2. 기업/산업 \n",
      "3. 기술/연구 \n",
      " 4. 인력/교육\n",
      "미국, 안전하고 신뢰할 수 있는 AI 개발과 사용에 관한 행정명령 발표 \n",
      "n 미국 바이든 대통령이 ‘안전하고 신뢰할 수 있는 AI 개발과 사용에 관한 행정명령’에 서명하고 \n",
      "광범위한 행정 조치를 명시\n",
      "n 행정명령은 △AI의 안전과 보안 기준 마련 △개인정보보호 △형평성과 시민권 향상 △소비자 \n",
      "보호 △노동자 지원 △혁신과 경쟁 촉진 △국제협력을 골자로 함\n",
      "KEY Contents\n",
      "£ 바이든 대통령, AI 행정명령 통해 안전하고 신뢰할 수 있는 AI 개발과 활용 \n"
     ]
    }
   ],
   "source": [
    "from langchain_community.document_loaders import PyMuPDFLoader\n",
    "\n",
    "# PyMuPDF 로더 인스턴스 생성\n",
    "loader = PyMuPDFLoader(FILE_PATH)\n",
    "\n",
    "# 문서 로드\n",
    "docs = loader.load()\n",
    "\n",
    "# 문서의 내용 출력\n",
    "print(docs[3].page_content[:300])"
   ]
  },
  {
   "cell_type": "code",
   "execution_count": 18,
   "metadata": {},
   "outputs": [
    {
     "name": "stdout",
     "output_type": "stream",
     "text": [
      "[metadata]\n",
      "['producer', 'creator', 'creationdate', 'source', 'file_path', 'total_pages', 'format', 'title', 'author', 'subject', 'keywords', 'moddate', 'trapped', 'modDate', 'creationDate', 'page']\n",
      "\n",
      "[examples]\n",
      "producer     : Hancom PDF 1.3.0.542\n",
      "creator      : Hwp 2018 10.0.0.13462\n",
      "creationdate : 2023-12-08T13:28:38+09:00\n",
      "source       : ./data/SPRI_AI_Brief_2023년12월호_F.pdf\n",
      "file_path    : ./data/SPRI_AI_Brief_2023년12월호_F.pdf\n",
      "total_pages  : 23\n",
      "format       : PDF 1.4\n",
      "title        : \n",
      "author       : dj\n",
      "subject      : \n",
      "keywords     : \n",
      "moddate      : 2023-12-08T13:28:38+09:00\n",
      "trapped      : \n",
      "modDate      : D:20231208132838+09'00'\n",
      "creationDate : D:20231208132838+09'00'\n",
      "page         : 0\n"
     ]
    }
   ],
   "source": [
    "show_metadata(docs)"
   ]
  },
  {
   "cell_type": "markdown",
   "metadata": {},
   "source": [
    "Unstructured\n",
    "\n",
    "Markdown이나 PDF와 같은 비구조화 또는 반구조화된 파일 형식을 다루기 위한 공통 인터페이스를 지원"
   ]
  },
  {
   "cell_type": "code",
   "execution_count": null,
   "metadata": {},
   "outputs": [
    {
     "name": "stdout",
     "output_type": "stream",
     "text": [
      "2023년 12월호\n",
      "\n",
      "2023년 12월호\n",
      "\n",
      "Ⅰ. 인공지능 산업 동향 브리프\n",
      "\n",
      "1. 정책/법제\n",
      "\n",
      "▹ 미국, 안전하고 신뢰할 수 있는 AI 개발과 사용에 관한 행정명령 발표 ························· 1\n",
      "\n",
      "▹ G7, 히로시마 AI 프로세스를 통해 AI 기업 대상 국제 행동강령에 합의 ··························· 2\n",
      "\n",
      "▹ 영국 AI 안전성 정상회의에 참가한 28개국, AI 위험에 공동 대응 선언 ··························· 3\n",
      "\n",
      "▹ 미국 법원, 예술가들이 생성 AI 기업에 제\n"
     ]
    }
   ],
   "source": [
    "# 자연어 처리하는 부분에서 에러가 발생하여 nltk 라이브러리를 import하여 처리가 가능하도록 하였음.\n",
    "import nltk\n",
    "nltk.download('punkt')  # 텍스트 문장과 단어 분리 모델\n",
    "nltk.download('averaged_perceptron_tagger')  #품사 태깅을 위한 모델(각 단어가 어떤 품사에 속하는지 태깅깅)\n",
    "\n",
    "from langchain_community.document_loaders import UnstructuredPDFLoader\n",
    "\n",
    "# UnstructuredPDFLoader 인스턴스 생성\n",
    "loader = UnstructuredPDFLoader(FILE_PATH)\n",
    "\n",
    "# 데이터 로드\n",
    "docs = loader.load()\n",
    "\n",
    "# 문서의 내용 출력\n",
    "print(docs[0].page_content[:300])"
   ]
  },
  {
   "cell_type": "markdown",
   "metadata": {},
   "source": [
    "**구조화된 데이터 vs. 비구조화된 데이터**\n",
    "\n",
    "구조화된 데이터는 일반적으로 표 형식이나 데이터베이스에서처럼 일관된 규칙과 포맷을 가진 데이터를 말합니다.  \n",
    "예를 들어, CSV 파일이나 SQL 데이터베이스에서 데이터를 찾을 수 있습니다.  \n",
    "각 항목이나 값들이 명확히 정의된 필드에 들어갑니다.\n",
    "\n",
    "\n",
    "비구조화된 데이터는 일정한 구조나 형식이 없어서 쉽게 처리하기 어려운 데이터를 말합니다.  \n",
    "PDF는 텍스트, 이미지, 표 등 다양한 형식의 정보를 포함하고 있지만,  \n",
    "그 정보들이 일관된 데이터 모델로 표현되지 않아서 비구조화된 데이터라고 분류됩니다. "
   ]
  },
  {
   "cell_type": "code",
   "execution_count": 33,
   "metadata": {},
   "outputs": [
    {
     "name": "stdout",
     "output_type": "stream",
     "text": [
      "[metadata]\n",
      "['source']\n",
      "\n",
      "[examples]\n",
      "source : ./data/SPRI_AI_Brief_2023년12월호_F.pdf\n"
     ]
    }
   ],
   "source": [
    "show_metadata(docs)"
   ]
  },
  {
   "cell_type": "code",
   "execution_count": null,
   "metadata": {},
   "outputs": [
    {
     "name": "stdout",
     "output_type": "stream",
     "text": [
      "2023년 12월호\n"
     ]
    }
   ],
   "source": [
    "# UnstructuredPDFLoader 인스턴스 생성(mode=\"elements\") mode=\"elements\"를 지정하여 요소간 분리 가능\n",
    "loader = UnstructuredPDFLoader(FILE_PATH, mode=\"elements\")\n",
    "\n",
    "# 데이터 로드\n",
    "docs = loader.load()\n",
    "\n",
    "# 문서의 내용 출력 시에는 content 지정 X 어차피 분리된 요소만 출력되기 때문에 content 사이즈를 주는 것은 무의미 하였음.\n",
    "print(docs[0].page_content)"
   ]
  },
  {
   "cell_type": "code",
   "execution_count": 44,
   "metadata": {},
   "outputs": [
    {
     "data": {
      "text/plain": [
       "{'ListItem', 'NarrativeText', 'Title', 'UncategorizedText'}"
      ]
     },
     "execution_count": 44,
     "metadata": {},
     "output_type": "execute_result"
    }
   ],
   "source": [
    "set(doc.metadata[\"category\"] for doc in docs)  # 데이터 카테고리 추출"
   ]
  },
  {
   "cell_type": "code",
   "execution_count": 45,
   "metadata": {},
   "outputs": [
    {
     "name": "stdout",
     "output_type": "stream",
     "text": [
      "[metadata]\n",
      "['source', 'coordinates', 'filename', 'file_directory', 'last_modified', 'filetype', 'page_number', 'links', 'category', 'element_id']\n",
      "\n",
      "[examples]\n",
      "source         : ./data/SPRI_AI_Brief_2023년12월호_F.pdf\n",
      "coordinates    : {'points': ((256.579467, 282.444348), (256.579467, 303.42387300000007), (355.4236898438, 303.42387300000007), (355.4236898438, 282.444348)), 'system': 'PixelSpace', 'layout_width': 612, 'layout_height': 858}\n",
      "filename       : SPRI_AI_Brief_2023년12월호_F.pdf\n",
      "file_directory : ./data\n",
      "last_modified  : 2025-03-24T17:31:29\n",
      "filetype       : application/pdf\n",
      "page_number    : 1\n",
      "links          : []\n",
      "category       : UncategorizedText\n",
      "element_id     : 89dc467f70b667fab1f9948a5ff32423\n"
     ]
    }
   ],
   "source": [
    "show_metadata(docs)"
   ]
  },
  {
   "cell_type": "markdown",
   "metadata": {},
   "source": [
    "**PyPDFium2**"
   ]
  },
  {
   "cell_type": "code",
   "execution_count": 48,
   "metadata": {},
   "outputs": [
    {
     "name": "stdout",
     "output_type": "stream",
     "text": [
      "SPRi AI Brief | \n",
      "2023-12월호\n",
      "8\n",
      "코히어, 데이터 투명성 확보를 위한 데이터 출처 탐색기 공개\n",
      "n 코히어와 12개 기관이 광범위한 데이터셋에 대한 감사를 통해 원본 데이터 출처, 재라이선스 상태, 작성자 등 다양한 정보를 제공하는 ‘데이터 출처 탐색기’ 플랫폼을 출시\n",
      "n 대화형 플랫폼을 통해 개발자는 데이터셋의 라이선스 상태를 쉽게 파악할 수 있으며 데이터셋의 \n",
      "구성과 계보도 추적 가능\n",
      "KEY Contents\n",
      "£ 데이터 출처 탐색기, 광범위한 데이터셋 정보 제공을 통해 데이터 투명성 향상\n",
      "n AI 기업 코히어(Co\n"
     ]
    }
   ],
   "source": [
    "from langchain_community.document_loaders import PyPDFium2Loader\n",
    "\n",
    "# PyPDFium2 로더 인스턴스 생성\n",
    "loader = PyPDFium2Loader(FILE_PATH)\n",
    "\n",
    "# 데이터 로드\n",
    "docs = loader.load()\n",
    "\n",
    "# 문서의 내용 출력\n",
    "print(docs[10].page_content[:300])"
   ]
  },
  {
   "cell_type": "code",
   "execution_count": 49,
   "metadata": {},
   "outputs": [
    {
     "name": "stdout",
     "output_type": "stream",
     "text": [
      "[metadata]\n",
      "['title', 'author', 'subject', 'keywords', 'creator', 'producer', 'creationdate', 'moddate', 'source', 'total_pages', 'page']\n",
      "\n",
      "[examples]\n",
      "title        : \n",
      "author       : dj\n",
      "subject      : \n",
      "keywords     : \n",
      "creator      : Hwp 2018 10.0.0.13462\n",
      "producer     : Hancom PDF 1.3.0.542\n",
      "creationdate : 2023-12-08T13:28:38+09:00\n",
      "moddate      : 2023-12-08T13:28:38+09:00\n",
      "source       : ./data/SPRI_AI_Brief_2023년12월호_F.pdf\n",
      "total_pages  : 23\n",
      "page         : 0\n"
     ]
    }
   ],
   "source": [
    "show_metadata(docs)"
   ]
  },
  {
   "cell_type": "markdown",
   "metadata": {},
   "source": [
    "**PDFMiner**"
   ]
  },
  {
   "cell_type": "code",
   "execution_count": 51,
   "metadata": {},
   "outputs": [
    {
     "name": "stdout",
     "output_type": "stream",
     "text": [
      "2023년  12월호\n",
      "\f2023년  12월호\n",
      "\n",
      "Ⅰ.  인공지능  산업  동향  브리프\n",
      "\n",
      "  1.  정책/법제 \n",
      "\n",
      "      ▹  미국,  안전하고  신뢰할  수  있는  AI  개발과  사용에  관한  행정명령  발표    ························· 1\n",
      "\n",
      "      ▹  G7,  히로시마  AI  프로세스를  통해  AI  기업  대상  국제  행동강령에  합의 ··························· 2\n",
      "\n",
      "      ▹  영국  AI  안전성  정상회의에  참가한  28개국,  AI  위험에  공동  \n"
     ]
    }
   ],
   "source": [
    "from langchain_community.document_loaders import PDFMinerLoader\n",
    "\n",
    "# PDFMiner 로더 인스턴스 생성\n",
    "loader = PDFMinerLoader(FILE_PATH)\n",
    "\n",
    "# 데이터 로드\n",
    "docs = loader.load()\n",
    "\n",
    "# 문서의 내용 출력\n",
    "print(docs[0].page_content[:300])"
   ]
  },
  {
   "cell_type": "code",
   "execution_count": 52,
   "metadata": {},
   "outputs": [
    {
     "name": "stdout",
     "output_type": "stream",
     "text": [
      "[metadata]\n",
      "['author', 'creator', 'producer', 'creationdate', 'moddate', 'pdfversion', 'total_pages', 'source']\n",
      "\n",
      "[examples]\n",
      "author       : dj\n",
      "creator      : Hwp 2018 10.0.0.13462\n",
      "producer     : Hancom PDF 1.3.0.542\n",
      "creationdate : 2023-12-08T13:28:38+09:00\n",
      "moddate      : 2023-12-08T13:28:38+09:00\n",
      "pdfversion   : 1.4\n",
      "total_pages  : 23\n",
      "source       : ./data/SPRI_AI_Brief_2023년12월호_F.pdf\n"
     ]
    }
   ],
   "source": [
    "show_metadata(docs)"
   ]
  },
  {
   "cell_type": "markdown",
   "metadata": {},
   "source": [
    "**PDFMiner를 사용하여 HTML 텍스트 생성**\n",
    "\n",
    "PDFMinerPDFasHTMLLoader를 사용하여 PDF문서를 HTML 형식으로 변환하여 로드해본다."
   ]
  },
  {
   "cell_type": "code",
   "execution_count": 58,
   "metadata": {},
   "outputs": [
    {
     "name": "stdout",
     "output_type": "stream",
     "text": [
      "<html><head>\n",
      "<meta http-equiv=\"Content-Type\" content=\"text/html\">\n",
      "</head><body>\n",
      "<span style=\"position:absolute; border: gray 1px solid; left:0px; top:50px; width:612px; height:858px;\"></span>\n",
      "<div style=\"position:absolute; top:50px;\"><a name=\"1\">Page 1</a></div>\n",
      "<div style=\"position:absolute; border: textbox 1px solid; writing-mode:lr-tb; left:256px; top:332px; width:98px; height:20px;\"><span style=\"font-family: KoPubDotumBold; font-size:14px\">2023년  </span><span style=\"font-family: KoPubDotumBold; font-size:20px\">12</span><span style=\"font-family: KoPubDotumBold; font-size:14px\">월호\n",
      "<br></span></div><div style=\"position:absolute; border: figure 1px solid; writing-mode:False; left:0px; top:50px; width:612px; height:858px;\"></div><span style=\"position:absolute; border: gray 1px solid; left:0px; top:958px; width:612px; height:858px;\"></span>\n",
      "<div style=\"position:absolute; top:958px;\"><a name=\"2\">Page 2</a></div>\n",
      "<div style=\"position:absolute; border: textbox 1px solid; writing-mode:lr-tb;\n"
     ]
    }
   ],
   "source": [
    "from langchain_community.document_loaders import PDFMinerPDFasHTMLLoader\n",
    "\n",
    "# PDFMinerPDFasHTMLLoader 인스턴스 생성\n",
    "loader = PDFMinerPDFasHTMLLoader(FILE_PATH)\n",
    "\n",
    "# 문서 로드\n",
    "docs = loader.load()\n",
    "\n",
    "# 문서의 내용 출력\n",
    "print(docs[0].page_content[:1000])"
   ]
  },
  {
   "cell_type": "code",
   "execution_count": 56,
   "metadata": {},
   "outputs": [
    {
     "name": "stdout",
     "output_type": "stream",
     "text": [
      "[metadata]\n",
      "['source']\n",
      "\n",
      "[examples]\n",
      "source : ./data/SPRI_AI_Brief_2023년12월호_F.pdf\n"
     ]
    }
   ],
   "source": [
    "show_metadata(docs)"
   ]
  },
  {
   "cell_type": "code",
   "execution_count": 57,
   "metadata": {},
   "outputs": [],
   "source": [
    "from bs4 import BeautifulSoup\n",
    "\n",
    "soup = BeautifulSoup(docs[0].page_content, \"html.parser\")  # HTML 파서 초기화\n",
    "content = soup.find_all(\"div\")  # 모든 div 태그 검색"
   ]
  },
  {
   "cell_type": "code",
   "execution_count": 59,
   "metadata": {},
   "outputs": [],
   "source": [
    "import re\n",
    "\n",
    "cur_fs = None\n",
    "cur_text = \"\"\n",
    "snippets = []  # 동일한 글꼴 크기의 모든 스니펫 수집\n",
    "for c in content:\n",
    "    sp = c.find(\"span\")\n",
    "    if not sp:\n",
    "        continue\n",
    "    st = sp.get(\"style\")\n",
    "    if not st:\n",
    "        continue\n",
    "    fs = re.findall(\"font-size:(\\d+)px\", st)\n",
    "    if not fs:\n",
    "        continue\n",
    "    fs = int(fs[0])\n",
    "    if not cur_fs:\n",
    "        cur_fs = fs\n",
    "    if fs == cur_fs:\n",
    "        cur_text += c.text\n",
    "    else:\n",
    "        snippets.append((cur_text, cur_fs))\n",
    "        cur_fs = fs\n",
    "        cur_text = c.text\n",
    "snippets.append((cur_text, cur_fs))\n",
    "# 중복 스니펫 제거 전략 추가 가능성 (PDF의 헤더/푸터가 여러 페이지에 걸쳐 나타나므로 중복 발견 시 중복 정보로 간주 가능)"
   ]
  },
  {
   "cell_type": "code",
   "execution_count": 61,
   "metadata": {},
   "outputs": [
    {
     "name": "stdout",
     "output_type": "stream",
     "text": [
      "page_content='KEY Contents\n",
      "n 미국 바이든 대통령이 ‘안전하고 신뢰할 수 있는 AI 개발과 사용에 관한 행정명령’에 서명하고 \n",
      "광범위한  행정  조치를  명시\n",
      "n 행정명령은 △AI의 안전과 보안 기준 마련 △개인정보보호 △형평성과 시민권 향상 △소비자 \n",
      "보호  △노동자  지원  △혁신과  경쟁  촉진  △국제협력을  골자로  함\n",
      "' metadata={'heading': '미국,  안전하고  신뢰할  수  있는  AI  개발과  사용에  관한  행정명령  발표 \\n', 'content_font': 12, 'heading_font': 15, 'source': './data/SPRI_AI_Brief_2023년12월호_F.pdf'}\n"
     ]
    }
   ],
   "source": [
    "from langchain_core.documents import Document\n",
    "\n",
    "cur_idx = -1\n",
    "semantic_snippets = []\n",
    "# 제목 가정: 높은 글꼴 크기\n",
    "for s in snippets:\n",
    "    # 새 제목 판별: 현재 스니펫 글꼴 > 이전 제목 글꼴\n",
    "    if (\n",
    "        not semantic_snippets\n",
    "        or s[1] > semantic_snippets[cur_idx].metadata[\"heading_font\"]\n",
    "    ):\n",
    "        metadata = {\"heading\": s[0], \"content_font\": 0, \"heading_font\": s[1]}\n",
    "        metadata.update(docs[0].metadata)\n",
    "        semantic_snippets.append(Document(page_content=\"\", metadata=metadata))\n",
    "        cur_idx += 1\n",
    "        continue\n",
    "\n",
    "    # 동일 섹션 내용 판별: 현재 스니펫 글꼴 <= 이전 내용 글꼴\n",
    "    if (\n",
    "        not semantic_snippets[cur_idx].metadata[\"content_font\"]\n",
    "        or s[1] <= semantic_snippets[cur_idx].metadata[\"content_font\"]\n",
    "    ):\n",
    "        semantic_snippets[cur_idx].page_content += s[0]\n",
    "        semantic_snippets[cur_idx].metadata[\"content_font\"] = max(\n",
    "            s[1], semantic_snippets[cur_idx].metadata[\"content_font\"]\n",
    "        )\n",
    "        continue\n",
    "\n",
    "    # 새 섹션 생성 조건: 현재 스니펫 글꼴 > 이전 내용 글꼴, 이전 제목 글꼴 미만\n",
    "    metadata = {\"heading\": s[0], \"content_font\": 0, \"heading_font\": s[1]}\n",
    "    metadata.update(docs[0].metadata)\n",
    "    semantic_snippets.append(Document(page_content=\"\", metadata=metadata))\n",
    "    cur_idx += 1\n",
    "\n",
    "print(semantic_snippets[4])"
   ]
  },
  {
   "cell_type": "markdown",
   "metadata": {},
   "source": [
    "PyPDFDirectoryLoader 를 통해 디렉토리에서 PDF 로드"
   ]
  },
  {
   "cell_type": "code",
   "execution_count": null,
   "metadata": {},
   "outputs": [
    {
     "name": "stdout",
     "output_type": "stream",
     "text": [
      "46\n"
     ]
    }
   ],
   "source": [
    "from langchain_community.document_loaders import PyPDFDirectoryLoader\n",
    "\n",
    "# 디렉토리 경로\n",
    "loader = PyPDFDirectoryLoader(\"data/\")\n",
    "\n",
    "# 문서 로드\n",
    "docs = loader.load()\n",
    "\n",
    "# 문서의 장수 출력 -> data/ 디렉토리 안에있는 PDF 장수를 모두 출력함\n",
    "print(len(docs))"
   ]
  },
  {
   "cell_type": "code",
   "execution_count": 75,
   "metadata": {},
   "outputs": [
    {
     "name": "stdout",
     "output_type": "stream",
     "text": [
      "2023 년 12월호\n"
     ]
    }
   ],
   "source": [
    "# 문서의 내용 출력\n",
    "print(docs[0].page_content[:300])"
   ]
  },
  {
   "cell_type": "code",
   "execution_count": null,
   "metadata": {},
   "outputs": [
    {
     "name": "stdout",
     "output_type": "stream",
     "text": [
      "{'producer': 'Hancom PDF 1.3.0.542', 'creator': 'Hwp 2018 10.0.0.13462', 'creationdate': '2023-12-08T13:28:38+09:00', 'author': 'dj', 'moddate': '2023-12-08T13:28:38+09:00', 'pdfversion': '1.4', 'source': 'data\\\\SPRI_AI_Brief_2023년12월호_F.pdf', 'total_pages': 23, 'page': 0, 'page_label': '1'}\n"
     ]
    }
   ],
   "source": [
    "# metadata 출력시에는 위에서 부터 긁어와서 출력을 진행하는 듯.\n",
    "print(docs[0].metadata)"
   ]
  },
  {
   "cell_type": "markdown",
   "metadata": {},
   "source": [
    "PDFPlumber\n",
    "\n",
    "PyMuPDF와 마찬가지로, 출력 문서는 PDF와 그 페이지에 대한 자세한 메타데이터를 포함, 페이지 당 하나의 문서 반환"
   ]
  },
  {
   "cell_type": "code",
   "execution_count": 77,
   "metadata": {},
   "outputs": [
    {
     "name": "stdout",
     "output_type": "stream",
     "text": [
      "SPRi AI Brief |\n",
      "2023-12월호\n",
      "코히어, 데이터 투명성 확보를 위한 데이터 출처 탐색기 공개\n",
      "KEY Contents\n",
      "n 코히어와 12개 기관이 광범위한 데이터셋에 대한 감사를 통해 원본 데이터 출처, 재라이선스 상태,\n",
      "작성자 등 다양한 정보를 제공하는 ‘데이터 출처 탐색기’ 플랫폼을 출시\n",
      "n 대화형 플랫폼을 통해 개발자는 데이터셋의 라이선스 상태를 쉽게 파악할 수 있으며 데이터셋의\n",
      "구성과 계보도 추적 가능\n",
      "£데이터 출처 탐색기, 광범위한 데이터셋 정보 제공을 통해 데이터 투명성 향상\n",
      "n AI 기업 코히어(Cohere)\n"
     ]
    }
   ],
   "source": [
    "from langchain_community.document_loaders import PDFPlumberLoader\n",
    "\n",
    "# PDF 문서 로더 인스턴스 생성\n",
    "loader = PDFPlumberLoader(FILE_PATH)\n",
    "\n",
    "# 문서 로딩\n",
    "docs = loader.load()\n",
    "\n",
    "# 첫 번째 문서 데이터 접근\n",
    "print(docs[10].page_content[:300])"
   ]
  },
  {
   "cell_type": "code",
   "execution_count": 78,
   "metadata": {},
   "outputs": [
    {
     "name": "stdout",
     "output_type": "stream",
     "text": [
      "[metadata]\n",
      "['source', 'file_path', 'page', 'total_pages', 'Author', 'Creator', 'Producer', 'CreationDate', 'ModDate', 'PDFVersion']\n",
      "\n",
      "[examples]\n",
      "source       : ./data/SPRI_AI_Brief_2023년12월호_F.pdf\n",
      "file_path    : ./data/SPRI_AI_Brief_2023년12월호_F.pdf\n",
      "page         : 0\n",
      "total_pages  : 23\n",
      "Author       : dj\n",
      "Creator      : Hwp 2018 10.0.0.13462\n",
      "Producer     : Hancom PDF 1.3.0.542\n",
      "CreationDate : D:20231208132838+09'00'\n",
      "ModDate      : D:20231208132838+09'00'\n",
      "PDFVersion   : 1.4\n"
     ]
    }
   ],
   "source": [
    "show_metadata(docs)"
   ]
  },
  {
   "cell_type": "markdown",
   "metadata": {},
   "source": [
    "## 02-HWP\n",
    "\n",
    "LangChain에는 아직 integration이 되지 않아 직접 구현한 HWPLoader를 사용해야한다"
   ]
  },
  {
   "cell_type": "code",
   "execution_count": 80,
   "metadata": {},
   "outputs": [],
   "source": [
    "from langchain_teddynote.document_loaders import HWPLoader\n",
    "\n",
    "# HWP Loader 객체 생성\n",
    "loader = HWPLoader(\"./data/디지털 정부혁신 추진계획.hwp\")\n",
    "\n",
    "# 문서 로드\n",
    "docs = loader.load()"
   ]
  },
  {
   "cell_type": "code",
   "execution_count": null,
   "metadata": {},
   "outputs": [
    {
     "name": "stdout",
     "output_type": "stream",
     "text": [
      "디지털 정부혁신 추진계획2019. 10. 29.      관계부처 합동순    서Ⅰ. 개요ȃ 1Ⅱ. 디지털 정부혁신 추진계획ㆬȃ 2  1. 우선 추진과제ȃ 2     ① 선제적·통합적 대국민 서비스 혁신     ② 공공부문 마이데이터 활성화     ③ 시민참여를 위한 플랫폼 고도화     ④ 현장중심 협업을 지원하는 스마트 업무환경 구현     ⑤ 클라우드와 디지털서비스 이용 활성화     ⑥ 개방형 데이터·서비스 생태계 구축  2. 중장기 범정부 디지털 전환 로드맵 수립ᲈȃ 4Ⅲ. 추진체계 및 일정ȃ 4 [붙임] 디지털 정부혁신 우선 추진과제(상세)ᬜȃ 8Ⅰ. 개 요□ 추진 배경 ○ 우리나라는 국가적 초고속 정보통신망 투자와 적극적인 공공정보화 사업 추진에 힘입어 세계 최고수준의 전자정부를 구축‧운영     * UN전자정부평가에서 2010‧12‧14년 1위, 16‧18년 3위, UN공공행정상 13회 수상 ○ 그러나, 인공지능‧클라우드 중심의 디지털 전환(Digital Transformation) 시대가 도래함에 따라 기존 전자정부의 한계 표출   - 축적된 행정데이터에도 불구하고 기관간 연계‧활용 미흡, 부처 단위로 단절된 서비스, 신기술 활용을 위한 제도‧기반 부족   - 디지털 전환을 위한 컨트롤타워가 없고, 구체적 전략도 부재 ○ 이에, ‘19.3월부터 공공부문 ICT 활용현황 및 문제점 검토에 착수하여 공공분야 디지털 전환을 위한 추진계획 마련     * 관계부처 협의 21회(행안,과기정통,기재,복지,권익위,국정원 등), 민간전문가 의견청취 10회□ 문제점 진단 및 평가 ○ (서비스) 국민과 최종 이용자 관점에서 서비스 혁신 미흡   - 자격이 있어도 자신이 받을 수 있는 공공서비스를 파악하기 어려워 사각지대가 발생하고, 온라인 신청 가능한 서비스도 제한적 ○ (데이터) 기관별로 축적·보유한 데이터의 연계와 활용 부족   - A기관에서 서류를 발급받아 B기관에 제출하는 관행(연간 증명서 9.5억건‘18년 발급) 등 데이터가 국민편익 향상에 제대로 활용\n"
     ]
    }
   ],
   "source": [
    "# 결과 출력 PDF와 다르게 페이지 인식을 못하는 것 같다. docs[] 변경 시 인식하지 못함.\n",
    "print(docs[0].page_content[:1000])"
   ]
  },
  {
   "cell_type": "code",
   "execution_count": null,
   "metadata": {},
   "outputs": [
    {
     "data": {
      "text/plain": [
       "1"
      ]
     },
     "execution_count": 82,
     "metadata": {},
     "output_type": "execute_result"
    }
   ],
   "source": [
    "# len을 통해 확인해보니 출력되는 값이 1로 통짜 문서로 인식한다.\n",
    "len(docs)"
   ]
  },
  {
   "cell_type": "code",
   "execution_count": 86,
   "metadata": {},
   "outputs": [
    {
     "name": "stdout",
     "output_type": "stream",
     "text": [
      "디지털 정부혁신 추진계획2019. 10. 29.      관계부처 합동순    서Ⅰ. 개요ȃ 1Ⅱ. 디지털 정부혁신 추진계획ㆬȃ 2  1. 우선 추진과제ȃ 2     ① 선제적·통합적 대국민 서비스 혁신     ② 공공부문 마이데이터 활성화     ③ 시민참여를 위한 플랫폼 고도화     ④ 현장중심 협업을 지원하는 스마트 업무환경 구현     ⑤ 클라우드와 디지털서비스 이용 활성화     ⑥ 개방형 데이터·서비스 생태계 구축  2. 중장기 범정부 디지털 전환 로드맵 수립ᲈȃ 4Ⅲ. 추진체계 및 일정ȃ 4 [붙임] 디지털 정부혁신 우선 추진과제(상세)ᬜȃ 8Ⅰ. 개 요□ 추진 배경 ○ 우리나라는 국가적 초고속 정보통신망 투자와 적극적인 공공정보화 사업 추진에 힘입어 세계 최고수준의 전자정부를 구축‧운영     * UN전자정부평가에서 2010‧12‧14년 1위, 16‧18년 3위, UN공공행정상 13회 수상 ○ 그러나, 인공지능‧클라우드 중심의 디지털 전환(Digital Transformation) 시대가 도래함에 따라 기존 전자정부의 한계 표출   - 축적된 행정데이터에도 불구하고 기관간 연계‧활용 미흡, 부처 단위로 단절된 서비스, 신기술 활용을 위한 제도‧기반 부족   - 디지털 전환을 위한 컨트롤타워가 없고, 구체적 전략도 부재 ○ 이에, ‘19.3월부터 공공부문 ICT 활용현황 및 문제점 검토에 착수하여 공공분야 디지털 전환을 위한 추진계획 마련     * 관계부처 협의 21회(행안,과기정통,기재,복지,권익위,국정원 등), 민간전문가 의견청취 10회□ 문제점 진단 및 평가 ○ (서비스) 국민과 최종 이용자 관점에서 서비스 혁신 미흡   - 자격이 있어도 자신이 받을 수 있는 공공서비스를 파악하기 어려워 사각지대가 발생하고, 온라인 신청 가능한 서비스도 제한적 ○ (데이터) 기관별로 축적·보유한 데이터의 연계와 활용 부족   - A기관에서 서류를 발급받아 B기관에 제출하는 관행(연간 증명서 9.5억건‘18년 발급) 등 데이터가 국민편익 향상에 제대로 활용되지 못함 ○ (시스템) 디지털 신기술의 적기 도입과 활용 곤란   - 기존 복잡한 용역개발 방식은 혁신주기가 짧은 디지털 전환에 부적합   - 사무실‧PC 등 고정된 업무환경으로 이동근무‧협업에 한계 ○ (거버넌스) 디지털 전환을 위한 부처간 협업 등 추진체계 취약Ⅱ. 디지털 정부혁신 추진계획‣ (비전) 디지털로 여는 좋은 세상   ※ 부제 : 대한민국이 먼저 갑니다.‣ (추진원칙) ① 최종 이용자의 관점에서 ② 공공서비스 수준 향상을 목표로③ 혁신 친화적인 방식으로 ④ 국민과 함께우선 추진과제1 선제적·통합적 대국민 서비스 혁신 ○ (맞춤형 안내) 각 기관에서 제공하는 급부적 서비스를 분류‧DB화하고, 한 번에 안내‧추천‧신청‧결과확인까지 가능한 통합서비스 환경 구현     * PC, 스마트폰, AI스피커 등 다양한 기기에서 인공지능 기반의 채팅‧음성대화 지원 ○ (생애주기 서비스) 출산·결혼·사망 등 생애주기상 주요 이벤트와 관련된 서비스를 한 번에 안내받고 신청할 있는 원스톱 패키지 확대     * 행복출산, 안심상속 등 2종 → ‘22년 10개 이상(든든임신, 온종일돌봄 등) ○ (선제적 서비스) 사회적 취약계층의 사전동의를 받아 맞춤형 복지서비스를 선제적으로 지원하는 가칭복지멤버십 도입 ○ (혁신적 서비스) 프로세스 혁신, 대국민서비스 향상 등 기존 한계를 뛰어넘는 디지털 기반의 공공서비스 혁신사업 적극 발굴·추진     * 블록체인 기반 부동산거래 플랫폼(‘20~), 인공지능 출입국시스템 등 구축(’19~) ○ (서비스표준) 정부 웹사이트를 쉽고 편리하게 이용할 수 있도록 통합로그인 체계 및 디지털 서비스표준 마련     * 공공 웹사이트 플러그인 완전제거, 통합 간편로그인 활성화, 웹사이트 UI·UX 표준화 등2 공공부문 마이데이터 활성화 ○ (자기정보 활용) 국민이 요청하면 보유기관의 동의 없이도 본인정보를 민원처리에 활용할 수 있도록 행정정보공동이용제도 개선     * (현행) ①근거법령+②보유기관 동의 ⇒ (개선) 민원인 동의 ○ (자기정보 다운로드) 자기정보를 데이터 형태로 다운로드하고 안전하게 유통(위변조 방지, 유통이력 확인)할 수 있는 마이데이터 포털 구축     * (현행) 증명서 제출 ⇒ (향후) 필요 최소한의 데이터 선별‧다운로드‧제공 ○ (전자증명서) 스마트폰(전자지갑)을 활용해 각종 증명서를 전자적으로 발급‧보관하고, 관공서‧은행 등에 방문 없이 제출     * (19년) 주민등록등·초본 → (20년) 가족관계증명서 등 100종 → (21년) 인감증명서 등 300종 ○ (모바일 신분증) 위‧변조 및 도용우려가 있는 기존 플라스틱 카드보다 안정성‧편의성이 높은 스마트폰 기반 디지털 신분증 도입     * 학생증, 공무원증 등 이용대상과 목적이 명확한 분야부터 안전성 점검 후 단계적 확대 ○ (디지털 고지‧수납) 각종 고지서·안내문* 등을 온라인(공공‧민간)으로 받고, 간편하게 납부할 수 있도록 디지털 고지‧수납 활성화     * 종이고지서 건수(‘18년 천만건) : 국세 1.1, 지방세 19.5, 4대보험 12.5, 자동차검사안내 2.33 시민 참여를 위한 플랫폼 고도화 ○ (국민의 소리) 개별 운영중인 콜센터(118개 기관, 156개 콜센터) 시스템을 통합하여, 접수부터 완결까지 단절없는 상담내역 관리‧분석체계 구축     * (기존) 신문고 등 문자민원 분석 → (개선) 신문고 + 전화상담 데이터 통합 분석 ○ (도전.한국) 일반적 공모전과 차별화*한 가칭도전.한국 플랫폼을 운영하여 사회문제 해결을 위한 시민참여의 장 제공     * 도전적 문제 제시(현장공무원+전문가 참여), 과감한 포상과 후속 지원, 확실한 정책 반영 ○ (취약계층 지원) 디지털 취약계층의 오프라인 수수료 감면* 및 비대면서비스 확산(키오스크 등)에 대응한 실생활중심 콘텐츠 개발‧보급     * 주민등록등본 발급의 경우, 온라인은 무료, 주민센터 발급은 400원의 수수료 부과4 현장중심 협업을 지원하는 스마트 업무환경 구현 ○ (스마트 업무환경) 세종시 이전에 따른 비효율 극복, 칸막이 없는 협업행정을 위해 사무실에 고착된 공무원의 PC 이용환경 개선   - 공무원 1인당 2대의 컴퓨터(내부망, 인터넷망) 이용 중 → 1대의 노트북으로 교체하여 이동‧출장 중에도 활용     * 예산절감을 위해 개방형OS, 클라우드기반 가상PC 도입 / 노트북 활용에 따른 보안대책 마련   - 클라우드 기반 웹오피스, G-드라이브 저장소 등 협업도구 고도화 ○ (모바일 행정) 증대되는 현장행정 수요(현장조사·점검, 안전 등)에 대응한 모바일 행정기반 고도화 전략 수립5 클라우드와 디지털서비스 이용 활성화 ○ (민간클라우드 이용확대) 안보·수사, 내부시스템을 제외한 전체 시스템을 이용대상으로 확대하고, 내부시스템도 부처협의를 거쳐 허용 ○ (개방형 플랫폼) AI, 클라우드 등을 활용한 서비스를 쉽게 개발‧운영할 수 있도록 개방형 전자정부 클라우드 플랫폼 구축 ○ (서비스 전문계약) 우수한 민간 서비스를 정부가 이용할 수 있도록 디지털서비스 전문계약 제도를 마련하고, 유통플랫폼 구축     * (영국) 클라우드전문계약 도입 후 계약금액 ‘12104억→’181조 7,421억원(중소기업 45%차지)6 개방형 데이터·서비스 생태계 구축 ○ (데이터 연계) 데이터 연계·수집·분석·활용을 지원하는 범정부 데이터 플랫폼을 구축(‘19.중앙→’20.지자체‧공공)하고, 협업을 통한 종합분석 강화 ○ (공공데이터 개방) 민간 활용도 높은 공공데이터 개방을 확대하고,공익적 가치가 큰 개인정보데이터는 익명화를 거쳐 표본DB로 개방 ○ (공공서비스 개방) 정부가 직접 운영하는 웹‧앱에서만 가능한 공공서비스(예:민원신청, 생활불편신고 등)를 오픈API 방식으로 민간에 개방중장기 범정부 디지털 전환 로드맵 수립 ○ 6대 우선 추진과제의 조속한 추진을 통해 낡은 체제를 극복할 계기를 마련하고, 중장기 관점의 디지털 전환을 위한 로드맵 수립(‘20년)로드맵 핵심 내용 ① 공공서비스 주기 혁신          ② 데이터-클라우드-인공지능 선순환 전략 ③ 데이터중심 정보보호 체제        ④ 개방형 디지털정부 생태계 조성 ⑤ 디지털 전환 제도‧절차 및 추진조직 정비, 핵심인재 확보, 공무원 역량강화Ⅲ. 추진체계 및 일정 ○ 디지털정부혁신기획단(BH), 디자인‧개발 전문가팀(한국형18F) 신설     * 위원회 신설 없이 정부혁신추진협의회, 전자정부추진위 등과 연계‧협업 ○ 범정부 T/F구성 및 과제별 세부추진계획 수립‧이행(11월초~) ○ 정부혁신박람회, 과제별 연계 홍보를 통한 공감대 확산(11월~)참고1디지털 정부혁신 추진전략□ 비전         디지털로 여는 좋은 세상                  ※ 부제 : 대한민국이 먼저 갑니다.□ 추진원칙ຨĀ△ 최종 이용자의 관점에서ྠĀྠĀྠĀ△ 공공서비스 수준 향상을 목표로ྠĀྠĀྠĀ△ 혁신 친화적인 방식으로ྠĀྠĀྠĀ△ 국민과 함께□ 우선 추진과제편리한 맞춤형 서비스  연계·공유·개방 데이터효율적인 유연한 시스템 통합적 거버넌스정부국민      1. 선제적·통합적 대국민 서비스 혁신 2. 공공부문 마이데이터 활성화 3. 시민참여 플랫폼 고도화      (Front-end)                  4. 현장 중심 스마트 업무환경 구현  5. 클라우드와 디지털 서비스 이용 활성화 6. 개방형 데이터·서비스 생태계 구축                                                                                            (Back-end)□ 중장기 범정부 디지털 전환 로드맵 수립□ 추진체계 강화Ā △ 디지털정부혁신기획단, 디자인‧개발 전문가팀 신설ྠĀྠĀྠĀ △ 범정부 T/F 운영참고2주요 과제별·연도별 추진일정추진 과제추진일정관계부처2019202020212022상하상하상하상하1.선제적·통합적 대국민 서비스 혁신대국민 편익서비스 맞춤형 안내보조금ISP부처·지자체공공기관·단체고도화행안부, 각부처, 지자체시범본사업생애주기 서비스 대폭 확대2개4개7개10개행안‧복지‧교육‧고용부 등사각지대 예방을 위한 선제적 서비스 제공마스터플랜시스템구축시범본사업복지부‧각부처‧지자체법개정기존 한계를 뛰어넘는 공공서비스 혁신사업 추진21년예산반영행안‧과기정통부‧각부처디지털서비스 표준 마련·적용사전표준 마련단계적적용확산행안‧과기정통부‧각부처검토방안 확정2.공공부문 마이데이터 활성화민원사무에 대한 자기정보 활용법개정적용확산행안부, 각부처, 지자체스마트폰을 통한 전자증명서 발급·유통시범100종300종행안부공공부문 자기정보 다운로드 서비스 개시포털 구축행안부시범확대모바일 신분증 도입1종3종확산행안‧교육‧여가‧인사처 등디지털 고지·수납 활성화BPR/ISP공통기반구축확산행안부, 각부처, 지자체자율 추진3.시민 참여를 위한 플랫폼 고도화국민의 소리 청취·분석 시스템 개선BPR/ISP1차2차확산권익위, 각부처, 지자체차세대개통전화내역통합도전.한국 플랫폼 운영계획공모확대행안부, 각부처수립착수적용디지털 취약계층을 위한 지원제도개선적용행안‧과기정통부프로그램확대4.현장중심 협업 지원 스마트 업무환경 구현스마트 업무환경으로 단계적 전환계획개방형OS1PC 적용확산행안부‧국정원‧과기정통부 등수립노트북보안망모바일 행정 활성화사전전략예산행안‧복지‧과기정통부 등검토재수립반영5.클라우드와 디지털 서비스 이용 활성화민간 클라우드 이용범위 대폭 확대지침행안부‧국정원‧과기정통부 등개정개방형 전자정부 클라우드 플랫폼 구축구축고도화고도화대구센터적용행안‧과기정통부지원센터개소디지털 서비스 전문계약 활성화서비스계약 제도화활성화기재‧과기정통‧행안부‧조달청예산지침개정6.개방형 데이터·서비스 생태계 구축범정부 데이터 연계·활용 기반 강화중앙지자체·공공기관행안부‧각부처활용기준마련국민에게 가치있는 공공데이터 개방 확대Open API 개방확대행안부‧각부처표본DBOpen API를 통한 공공서비스 개방 추진대상계획예산활성화행안‧과기정통부‧각부처검토확정반영※ 과제별 추진일정은 사업계획 구체화 및 연차별 예산확보 상황 등에 따라 일부 변동 가능참고3디지털 정부혁신 기대효과◈ 동 방안을 성공적으로 추진하는 경우, 정부 디지털 서비스에서 세계 최고 선도국으로 재도약 가능 ⇨ 2020년대 중반 UN 전자정부 평가 1위 기대□ (대국민) 공공서비스에 대한 이용자 경험을 획기적으로 개선 ○ ‘22년까지 국민이 편리하게 맞춤형으로 공공서비스를 추천·안내받고 신청·결과확인까지 할 수 있는 기반을 조성하여 이용자 편익 제고    ※ 자신만의 전자지갑/사서함을 통해 각종 증명서를 전자적으로 보완·제출하고, 여권만료·취업훈련·건강검진 등을 사전에 안내·고지받고, 실시간으로 신고·신청 가능   - 사회적 취약계층에 대한 선제적 서비스 제공으로 사각지대 예방 ○ ‘22년까지 종이증명서를 절반 이하로 감축하여 3조원 이상 절감 ○ 국민에게 친숙한 민간서비스를 통해 공공서비스를 제공하는 등 불편한 정부 온라인 서비스 환경을 글로벌 표준에 맞도록 개선□ (정부내) 국민과 현장의 요구에 민감하게 반응할 수 있는 정부로 혁신 ○ 대국민 서비스 향상을 위해 데이터를 막힘없이 연계·활용하고, 서비스 수요에 따라 정보시스템의 자원을 유연한 활용이 가능 ○ 사무실 중심 민원처리에서 벗어나 국민의 목소리에 민감하게 반응하고, 안전·환경·복지 등 증대되는 현장행정 수요에 능동적으로 대처□ (산업계) 개방형 생태계를 기반으로 SW산업의 글로벌 도약 기대 ○ 오픈소스 중심의 디지털정부 생태계와 공공시장 수요를 바탕으로 첨단 디지털 산업의 혁신 가속화와 글로벌 도약을 위한 전기 마련    ※ 오픈 API를 통한 데이터 및 공공서비스 제공, 마이데이터 활성화, 오픈소스 클라우드 플랫폼 등을 중심으로 국내 SW산업 혁신 생태계가 크게 활성화될 것으로 기대 ○ 장기적으로 정부의 디지털 전환이 적극 추진되어 스마트시티 등 도시행정 전반의 혁신으로 파급되는 경우 막대한 경제효과 예상    ※ 국내 공공‧도시분야 디지털 혁신으로 16~30년까지 105조원 파급효과, 10~30만명 일자리 증가(‘18.맥킨지)붙임디지털 정부혁신 우선 추진과제(상세)1선제적·통합적 대국민 서비스 혁신(신청주의에서 찾아가는 서비스로!)ㅇ국민 각자의 상황에 꼭 맞는 정부의 혜택을 똑똑하게 찾아서 알려드리고, 유아기에서 노년기까지 삶의 중요한 순간에 필요한 서비스를 통합 제공하겠습니다.ㅇ국민이 몰라서 혜택을 받지 못하거나 신청 방법을 알지 못해 불이익을 받지 않도록 하겠습니다. 대국민 편익 서비스 맞춤형 안내(20년말 시범→ 22년 고도화)     행안부,각부처·지자체 ○ 중앙정부‧지자체‧공공기관이 제공하는 각종 급부적 서비스를 체계적으로 파악·분류하여 DB화    ※ 공공서비스 DB를 e나라도움, e호조, 에듀파인 등 각종 재정정보시스템과 연계하여 일관성 확보   - 행복e음·건강보험·가족관계 등 각종 자격확인시스템을 연계(현재 27종), 자신이 받을 수 있는 서비스의 편리한 검색·확인을 지원(조건입력 최소화) ○ ‘22년까지 하나의 대화형 인터페이스*로 각종 맞춤형 서비스를 선제적으로 추천·안내받고 결과확인까지 할 수 있는 AI 기반의 통합 서비스 환경 구축(’20년 착수)    * PC, 스마트폰, AI스피커 등 다양한 기기에서 인공지능 기반의 채팅 및 음성 대화 지원 생애주기 서비스 대폭 확대(현재 2개→ 22년 10개 이상)         행안·복지·교육·고용부 등 ○ 출생, 사망, 결혼 등 생애주기 상의 주요 이벤트에 따른 일련의 서비스(부처별·지자체별)를 한 번에 안내받고 신청할 있도록 패키지화    * 현재 : 행복출산 원스톱서비스(영유아단계), 안심상속 원스톱서비스(어르신 단계)<행복출산 원스톱 서비스 사례>ㅇ양육수당, 아동수당 등 각종 출산지원 서비스를 출생신고 시 한 번에 신청   (부처별 전국공통 서비스 7종 + 지자체별 서비스 3∼10종)  - ‘18년 기준 출산 가구의 99.4%가 이용(33.2만건)  ※(경과) 14.9 서비스 기획/부처협의 → 15.5 추진계획 수립 → 15.12 시범사업 → 16.3 전국서비스(방문신청) → 17.11 온라인신청 → 18.12 온라인신청 결과확인 제공   -범정부 차원의 생애주기 패키지 발굴 → 프로세스 혁신 → 시스템 연계‧구축을 위한 추진체계 강화(협업정원, 정부혁신평가, 포상 등 활용)<생애주기 패키지 분야(예시) >:시행중인 서비스,  : 시행 준비 중인 서비스 사각지대 예방을 위한 선제적 서비스 제공(21년말 시행)       복지부,각부처·지자체 ○ 사회적 취약계층을 대상으로 사전동의를 받아 주기적 소득‧재산‧인적정보 조사와 이력관리를 통해 맞춤형 서비스를 선제적*으로 지원하는 (가칭)복지멤버십 도입(’19.4월 복지부 기발표)    * 사회보장 지원을 희망하는 개인‧가구를 대상으로 수급가능성이 높은 사업을 먼저 찾아 안내   - 핵심 성공요소인 주민·가족관계·소득·금융·부동산·공공요금 등 정보 및 시스템 연계를 범정부적으로 뒷받침(‘20년 사회보장급여법 개정) 기존 한계를 뛰어넘는 공공서비스 혁신사업 추진(계속)  행안·과기정통부,각부처 ○ 디지털 관점에서 △기존 프로세스를 혁신하거나, △공통 플랫폼으로 활용가능하거나, 기타 △대국민 서비스를 획기적으로 향상시킬 수 있는 디지털 혁신사업 적극 발굴·추진(디지털 정부혁신 중점사업 선정·지원)중점사업(예시)현행개선블록체인 기반 부동산거래 플랫폼 (국토부)* 20년ISP, 23년구축 완료부동산 증명서 통합(18→1종)에도 종이문서 유통 여전(연간수수료 1,300억), 실거래가 조작 등 시장교란행위 포착 곤란블록체인으로 관공서·법원·은행·전자계약참여자 간 거래정보를 공유(문서감축·이상거래탐지)하고, 계약→대출→등기 자동실행인공지능 식별‧추적 시스템(법무부‧과기정통부)* 19∼22년 경쟁적개발공공은 출입국서비스 개선을 위한 출입자 식별과 이상행동 탐지 알고리즘 필요 / 민간은 AI 학습데이터 확보 곤란경쟁적 기술개발(19∼22년)로 인식률 99.9%의 식별 알고리즘 등 확보→대기시간 단축, 범죄율 20% 이상 감소 기대 디지털 서비스 표준 마련·적용(20년 마련, 연차별 확대)     행안·과기정통부,각부처 ○ 정부 웹사이트를 쉽고 편리하게 이용할 수 있도록 통합 로그인 체계 및 디지털 서비스표준 마련    * 공공 웹사이트 플러그인 완전제거, 통합 간편로그인 활성화, 웹사이트 UI·UX 표준화 등2공공부문 마이데이터* 활성화(종이증명서는 이제 그만!)ㅇ정부서비스를 받기 위해 타 기관에서 발급받은 증명서·확인서 등의 서류를 제출하는 일이 없도록 개선하겠습니다.ㅇ주민등록등본 등 각종 증명서와 우편물 고지서는 스마트폰으로 받을 수 있도록 하고, 신분증도 스마트폰에 안전하게 담아 이용할 수 있도록 하겠습니다. .    * 정보주체인 이용자 중심의 데이터 활용 패러다임으로 금융(), 의료() 분야에서 적용되어 오다가 최근 유럽연합(EU)이  데이터이동권으로 법제화·시행(18.5) 민원사무에 대한 자기정보 활용(20년 하반기부터 적용)       행안부,각부처·지자체 ○ 국민이 요청하면 보유기관의 동의 없이도 본인정보를 민원처리에 활용할 수 있도록 행정정보공동이용 제도 개선(연내 민원처리법 개정)   - (현행) ①근거법령+②보유기관 동의 → (개선) 민원인 동의     ※ 현재의 육안 확인+수기입력 방식으로 데이터 오류의 주요 원인으로 작용    <본인 동의를 통한 공공시설 이용료 자동감면 사례> ☞(기존) 공공시설 이용료 감면 혜택을 주기 위해 이용자에게 각종 증명서(장애인증명, 기초생활수급확인서 등) 제출 요구 → 서류제출 부담은 물론, 민감정보 노출, 사회적 낙인효과 우려  -(개선) 18년 본인 동의만으로 각종 자격확인시스템(Y/N값만 회신)을 연계하여 감면혜택을 자동 부여하는 서비스 도입(현재 18개 지자체 → 20년 전국 확대 적용 추진) 스마트폰(전자지갑)을 통한 전자증명서 발급·유통(20년말 100종)    행안부 ○각종 증명서를 전자적으로 발급‧보관*하고, 관공서는 물론, 은행·통신대리점 등에서 직접 방문 없이 전자증명서로 제출할 수 있도록 지원   - 수요가 많은 증명서부터 순차 발급 : (19년말) 주민등록등·초본 → (20년말) 가족관계증명서 등 100종 → (21년말) 인감증명서 등 300종 공공부문 자기정보 다운로드 서비스 개시(20년 포털 구축)     행안부 ○국민이 자기정보를 검색‧다운로드하고 안전하게 유통(위변조 방지+유통이력 확인)할 수 있는 마이데이터 포털 구축(‘20년)    ※본인만이 접근 가능한 클라우드 기반의 ‘자기정보 저장소’ 구축·제공   - 활용처가 분명한 분야부터 ‘나의 데이터’ 및 ‘꾸러미 데이터’(은행대출·건강검진·신용회복 꾸러미 등) 다운로드 제공    ※현행 증명서 단위 유통→향후 필요 최소한의 데이터만 선별·제공하는 방식으로 전환 ○공공부문 자기정보 제3자 전송권은 데이터 3법 입법 이후 본격 검토    ※동의권의 실질적 보장, 마이데이터 이용내역 확인 및 삭제권 등 보호조치 마련 모바일 신분증 도입(20∼21년 안전성 검증)                     행안·교육·여가부·인사처 ○ 위‧변조 및 도용 우려가 있는 기존 플라스틱 카드방식보다 안전성과 활용 편의성이 높은 스마트폰 기반의 디지털 신분증(ID) 도입(원하는 국민에게만 기존 신분증과 병행 발급)   -공무원증, 학생증 등을 대상으로 안전성 검증 후, 단계적으로 확대    * ‘19.9월 통신3사가 신청한 스마트폰 기반 운전면허 확인 서비스를 규제샌드박스로 허용 디지털 고지·수납 활성화(기관자율로 추진)                   행안부,각부처·지자체 ○국민이 각종 고지서*를 원하는 온라인 채널(웹, 공공 앱, 민간 앱 등)로 받고 간편납부도 할 수 있도록 개선(언제든지 종이 고지서로 변경 가능)    * 종이고지서 건수(18년, 천만건) : 국세 1.1, 지방세 19.5, 4대보험 12.5, 자동차검사안내 23등   - 공공기관이 공동 활용할 수 있는 디지털 고지‧수납 공통기반 구축(’21년)    ※행안부는 19.7월부터 지방세 디지털 고지·납부 시행    <종이 증명서·고지서 감축에 따른 비용절감 효과> ☞민원처리시 자기정보 활용이나 전자증명서 대체로 종이증명서가 연간 10% 감축되는 경우 매년 5천억원의 사회적 비용절감 기대(오프라인 발급율(16년 46.6%) 등 고려)☞18년 기준 전국 지자체의 종이고지서 제작·발송비용은 1,000억원 규모로 디지털 고지·수납이 전체 공공부문에 확산될 경우 상당한 비용절감 전망3시민참여를 위한 플랫폼 고도화(국민의 소리를 소중히!)ㅇ정부의 각종 콜센터를 통합하여, 국민의 소리를 더욱 꼼꼼하게 듣고 분석하여 서비스 수준을 국민의 눈높이에 맞추겠습니다.ㅇ정부가 단독으로 해결하기 어려웠던 사회적 문제를 국민과 함께 해결하고, 디지털기기 사용이 어려운 분들이 차별없이 서비스를 받도록 지원하겠습니다. 국민의 소리 청취·분석 시스템 개선(22년)                 권익위,각부처·지자체 ○ 국민신문고(1,009개 기관 연계·통합) 시스템과는 달리 개별·분절적*으로 운영중인 공공분야 콜센터(118개 기관, 156개 콜센터) 시스템을 통합    * 텍스트 민원은 신청-처리-분석까지 통합관리되고 있는 반면, 전화 민원은 전화가 끊기거나 전화를 넘기는 경우 처음부터 다시 설명해야 하는 것은 물론, 상담자료 수집·분석도 미흡    ※ 국민신문고 민원 추이 :     (16) 2,305,601 → (17) 3,101,601 → (18) 4,754,302정부콜센터(110) 상담 추이 : (16) 2,667,572 → (17) 2,931,598 → (18) 3,254,756   - 클라우드 기반 표준 시스템을 구축하여 콜과 데이터를 기관간 연계함으로써 상담품질 및 상담원(9,450명)의 근무환경을 개선    ⇒ (‘20년) 시스템 기획 → (’21년) 1차 통합(11개)  → (‘22년) 2차 통합(33개)    ※ 중앙부처 소관 콜센터부터 우선통합 후, 희망하는 지자체·공공기관으로 확대 ○ 접수부터 완결까지 단절없이 전화상담 내역을 종합 관리하고, 민원정보분석시스템에 반영* ⇒ 범정부 고객관계관리시스템(CRM) 완성     * (기존) 신문고 등 문자민원 분석 → (개선) 신문고 + 전화상담 데이터 통합 분석 시민참여 문제해결을 위한 (가칭) 도전.한국 플랫폼 운영(20년)   행안부,각부처 ○ 일반적 공모전과 차별화하여 ①도전적 문제 제시*(현장 공무원+전문가 참여), ②과감한 포상과 후속 지원(사안에 따라 1천만～1.5억원+필요시 R&D/시제품제작 지원), ③확실한 정책 반영을 통해,     - 사회문제 해결을 위한 시민의 아이디어가 시민 주도(개인·팀·기업)로 실제 구현되어 공공정책으로 현실화되는 시민참여의  제공    * 문제해결과 관련된 가용 데이터를 함께 제공(개인정보는 익명화조치)    <미국 Challenge.gov 사례> ☞10년  오바마 정부에서 도입, 현재까지 100개 연방기관에서 1,000건 이상의 챌린지 과제가 제시되었고, 2.5억달러의 상금이 지급된 크라우드소싱 방식의 문제해결 플랫폼  -공모* 유형은 △ 데이터분석, △ 디자인, △ 과학적 연구, △ SW 개발, △ 프로토타입 개발 등 다양한 형태로 이루어지며, 챌린지 특성에 맞는 전문가자문단 지원   * 마약성 진통제 남용 방지, 농업재해 대응, 화성 생활 지원/통신망 확보, 3D 프린터로 집짓기 등 디지털 취약계층을 위한 지원(계속)                              행안·과기정통부 ○ 노령층 등 취약계층을 위해 개인정보 일시위탁으로 공무원이 민원처리를 대행하거나 오프라인 민원 수수료를 감면* 추진(20년 제도개선)    *주민등록등본 발급의 경우, 온라인은 무료, 주민센터 발급은 400원의 수수료 부과 ○ 전화, 창구상담 등 오프라인 채널 서비스 수준을 개선하고, 행정 각 부문에서 찾아가는 서비스 확대(민원처리 → 서비스 중심 전환)    ※ 공공임대 입주지원, 주거급여 등 찾아가는 주거상담(국토부), 저소득층 대상 찾아가는 장려금 신청(국세청), 장애학생을 위한 도서관 정보활용 교육(문체부) ○ 비대면 서비스 확산(각종 무인판매기, 키오스크 등)으로 불편을 겪고 있는 노령층을 위한 실생활 중심의 교육콘텐츠 개발·보급(대한노인회 등과 협력)4현장 중심 협업을 지원하는 스마트 업무환경 구현(2PC가 사라진다!)ㅇ최신 정보통신기술을 이용하여 공무원들이 언제 어디서나 일할 수 있는 환경을 만들겠습니다.ㅇ사무실에 복귀하지 않고 현장에서 모바일로 행정업무를 마무리할 수 있도록 개선해 나가겠습니다. 스마트 업무환경으로 단계적 전환(22년까지 기반 완성)           행안부·국정원·과기정통부 등 ○ 칸막이 없는 협업 행정과 현장 중심 원격근무 지원을 위해 사무실에 고착된 공무원의 컴퓨터 이용환경 개선(19., 연차별 계획 마련)   -기존 내부망과 외부망의 물리적 구분을 논리적 망분리 구조로 전환하여 현행 2 PC → 1 노트북 체제로 개편(21년)    ※ 업무 특성에 따라 데스크톱 PC 사용 가능   ・이를 위해 △민간 클라우드 기반의 가상 PC 환경에서 인터넷을 이용하는 방식으로 전환*(DaaS : Desktop as a Service)하고, △가상 PC에는 개방형 운영체제(OS)**를 도입하여 비용절감 도모      (20～21년 행안·과기정통부 등 선도부처 적용 후 → 타부처 확산)      * DaaS 이용 시 기존 방식보다 약 70% 예산절감효과 추정 ** (필요성) 특정 OS 종속 개선, 플러그인 사용관행 원천 제거 계기   - 기관 보안무선망(Secure WiFi)을 구축하여 사무공간 혁신 : 기존 고정좌석제에서 탈피하여 유연한 이동 및 협업 근무 지원(21년)   - 최종적으로 업무용 노트북의 외부 반출을 허용하여 현장 중심 행정 및 원격 협업 활성화(21년 선도부처 적용 → 22년 타부처 확산) ○ 스마트 업무환경 구현을 소프트웨어적으로 뒷받침할 클라우드 기반 문서처리 및 협업 서비스 고도화 추진(20～22년)   ※별도의 SW 설치 없이 인터넷브라우저로 문서를 작성·처리하는 클라우드 기반 웹 오피스를 도입하고, 메신저, 영상회의, G-드라이브(문서저장소) 등 각종 협업도구를 통합‧연계 ○ 급격한 환경변화에 대응한 변화관리전략을 마련하고, 면밀한 보안성 검토를 통해 선제적 보안대책* 적용 지원(국가정보원 협조)    * 기관 외부에서 사용시 보안접속(GVPN) 적용, 클라우드에서만 문서 작성 및 저장 허용 등 모바일 행정 활성화(20. 전략 재수립)                        행안·복지·과기정통부 등 ○ 현장조사‧점검, 안전, 보건, 지역사회 통합돌봄 등 증대되는 현장행정 수요에 대응한 모바일 행정기반 고도화 전략 수립    ※사무실 복귀없이 현장에서 행정처리를 완결할 수 있는 업무를 확대하고, 공공‧민간의 다양한 서비스 주체 간의 정보공유 및 협업을 지원5클라우드*와 디지털 서비스 이용 활성화(용역개발에서 이용으로!)ㅇ기업의 클라우드 서비스를 정부가 널리 이용하고, 민간의 우수한 서비스를 이용할 수 있는 제도를 마련하여 디지털 신산업 발전을 적극 지원하겠습니다.ㅇ첨단기술을 활용한 정부 서비스를 보다 신속하고 효율적으로 개발하여 운영할 수 있도록 클라우드 플랫폼을 구축하겠습니다.    * 대형컴퓨터→분산처리→클라우드로 이어지는 컴퓨팅 패러다임의 전환을 대표하는 기술·산업으로 자원 공유를 통해 유연한 ICT 활용을 지원(인프라, 플랫폼, SW 서비스로 구분)  민간 클라우드 이용범위 대폭 확대(19. 지침 개정)       행안부·국정원·과기정통부 등 ○ (현재) △안보·수사, △개인정보영향평가 대상 정보, △중앙부처·지자체의 내부시스템은 민간 클라우드 이용 제외 ○ (개선) ① △안보·수사, △ 내부시스템을 제외한 전체 시스템을 대상으로 민간 클라우드 이용 허용   - ② 내부 업무시스템 등도 관계부처 협의를 거쳐 민간 클라우드 이용 허용 개방형 전자정부 클라우드 플랫폼 구축(19. 착수)         행안·과기정통부 ○ 개방형 전자정부 클라우드 플랫폼* 구축(‘19.~)에 착수, ‘22년 국가정보자원관리원 대구센터에 우선 적용, 대전‧광주센터로 확산    *AI 등을 활용한 응용서비스를 클라우드 기반으로 손쉽에 개발·실행하고 오픈소스로 공유   -기능개선과 기술지원을 전담할 개방형 클라우드 플랫폼 센터* 설치(20년)    *공공과 민간, 글로벌과 국내 오픈소스 커뮤니티를 연결하는 구심점으로 육성 디지털 서비스 전문계약 활성화(20.1분기 전문계약 제도 마련)  기재·과기정통·행안부·조달청 ○ 20.1분기까지 각급기관이 참고할 수 있는 디지털 서비스 전문계약 제도 마련(국가계약법 하위법령 개정으로 명확한 근거 제공)   - △종량제, △장기계약, △서비스 상세협상, △카탈로그 방식 등 디지털 서비스 이용계약에 필요한 특성이 잘 반영될 수 있도록 설계   -전문계약 제도의 효율적 운영을 위해 전문 유통플랫폼 운영(20년∼)    <영국 클라우드 전문계약제도 운영 성과> ☞영국은 클라우드 우선 전략에 따라 클라우드 전문계약 제도(G-Cloud Framework)를 마련하고, 12년부터 전문 유통플랫폼(Digital Marketplace)을 운영중  -12→18년까지 참여기업수가 258→3,505개, 등록서비스수가 1,700→24,543개, 계약금액이 104억→1조 7,421억원( 공공 ICT예산의 약 1/5 수준)으로 증가 ⇒ (대기업편중 시정) 중소기업이 계약건수의 71%, 계약금액의 45%를 차지   (지역편중 시정) 시행 런던 12개 기업이 독점 → 영국 전역에서 4천여개 기업 참여 ○ 각급기관의 디지털 서비스 이용을 활성화할 수 있도록 정부 예산편성 및 집행지침 개정(‘20., 지자체‧공공기관 관련지침에도 반영) ○ 혁신적 디지털 서비스 도입을 위한 예정가격 산정 기준 개선(‘20., SW사업 대가산정 가이드라인 개정)6개방형 데이터·서비스 생태계 구축(민간과 함께 혁신한다!)ㅇ공공데이터 연계와 활용 수준을 강화하여 공공서비스 품질을 높이고, 국민이 원하고 국민에게 도움이 되는 공공데이터의 개방을 확대해 나가겠습니다.ㅇ정부 사이트에서만 이루어지던 민원신청, 생활불편 신고 등도 국민들이 자주 사용하는 민간서비스로 편리하게 이용할 수 있도록 개방하겠습니다. 범정부 데이터 연계·활용 기반 강화(20년)                          행안부,각부처 ○ 안전·보건·환경·고용·사회복지 등 공공서비스 수준 향상과 과학적 정책결정을 위하여 기관간 데이터의 연계·수집·분석·활용을 지원하는 범정부 데이터 플랫폼 구축(19년 중앙부처 → 20년 지자체·공공기관)   - 다부처 협업에 의한 종합분석 강화, 공무원 데이터분석 역량 제고 추진    ※ 기관간 데이터 제공 및 공동활용 강화를 위한 데이터기반행정법(17.12월 정부발의) 조속 입법 추진 ○ 공공영역에서 민간데이터(카드, 통신 등)의 도입·활용을 위한 기준 마련(‘20년)    ※ 민간데이터의 수집기준·제공형태·제공방식 등을 정의하고, 적정한 제공비용 등 산정 국민에게 가치있는 공공데이터* 개방 확대(계속)                  행안부,각부처    ※ 18년 전수조사 결과, 공공데이터 규모는 총 419,525개로 이중 6.8%개방(28,400개) ○ 민간에서 활용도가 높은 공공데이터의 Open API*를 통한 개방을 대폭 확대**                     * Open Application Programming Interface   - 기상·환경·교통·안전 등 국민체감 분야의 각종 측정·관측데이터 및 자율주행·스마트시티 등 4차 산업혁명 지원 데이터를 적극 발굴·개방 ○ 공익적 가치가 큰 개인정보 데이터도 철저한 익명화 조치를 거쳐 표본DB방식(신용정보 표본DB, 환자정보 코호드DB등)으로 개방 확대 오픈 API를 통한 공공서비스 개방 추진(20. 종합계획 수립) 행안·과기정통부, 각부처 ○ 그간 정부가 직접 운영하는 사이트와 앱에서만 가능했던 공공서비스(각종민원 신청, 생활불편·안전 신고 등)를 Open API 방식으로 민간에 점진적 개방   - 국민에게 친숙한 민간서비스를 통한 공공서비스 이용 환경 조성     ※(예시) 전자지갑을 통한 전자증명서 발급·열람, 나의 데이터 다운로드, 디지털 고지·수납 등을 Open API를 통해 민간 플랫폼에서 이용 가능   -개인정보보호 및 보안체계를 갖춘 적격 민간사업자 대상 개방     ※안전성 확보를 위한 사전 평가 등 공공서비스 개방체계 마련 ○ 공공기관에서 직접 개발·운영하고 있는 불편하고, 활용도가 낮은 공공 앱들은 대폭 감축     ※18년말 기준 총 771개의 공공앱 운영 중 : 총 구축·운영비 989억원, 평균 누적다운로드 24.3만건, 이용자수 9.3만명, 이용자평점 2.8(이용자수가 500명 미만인 앱도 202개) ○ 민간에서 많이 활용하는 소셜 로그인, 간편결제, 화상회의 등의 검증된 온라인서비스를 공공 시스템에서도 도입·활용 확대     ※ 공공 영역에서 자연어처리, 이미지·음성 인식, 인공지능, 데이터분석 등 민간의 첨단 솔루션을 전략적으로 활용하여 디지털 신산업을 육성하는 방안 적극 추진참고4주요 서비스별 변화 모습□ 선제적 맞춤형서비스□ 생애주기 원스톱서비스□ 디지털 고지 활성화□ 전자증명서 발급·유통□ 현장중심의 스마트 업무환경□ 공공서비스 개방\n"
     ]
    }
   ],
   "source": [
    "print(docs[0].page_content)"
   ]
  },
  {
   "cell_type": "code",
   "execution_count": 87,
   "metadata": {},
   "outputs": [
    {
     "name": "stdout",
     "output_type": "stream",
     "text": [
      "{'source': './data/디지털 정부혁신 추진계획.hwp'}\n"
     ]
    }
   ],
   "source": [
    "# 결과 출력\n",
    "print(docs[0].metadata)"
   ]
  },
  {
   "cell_type": "markdown",
   "metadata": {},
   "source": [
    "## 03-CSV Loader\n",
    "\n",
    "CSV 파일은 쉼표로 값을 구분하는 텍스트 파일로 파일의 각 줄은 데이터 레코드 형태이다.\n",
    "\n",
    "**CSVLoader**\n",
    "\n",
    "CSV 데이터를 한 행씩 로드한다."
   ]
  },
  {
   "cell_type": "code",
   "execution_count": 2,
   "metadata": {},
   "outputs": [
    {
     "name": "stdout",
     "output_type": "stream",
     "text": [
      "891\n",
      "{'source': './data/titanic.csv', 'row': 0}\n"
     ]
    }
   ],
   "source": [
    "from langchain_community.document_loaders.csv_loader import CSVLoader\n",
    "\n",
    "# CSV 로더 생성\n",
    "loader = CSVLoader(file_path=\"./data/titanic.csv\")\n",
    "\n",
    "# 데이터 로드\n",
    "docs = loader.load()\n",
    "\n",
    "print(len(docs))\n",
    "print(docs[0].metadata)"
   ]
  },
  {
   "cell_type": "code",
   "execution_count": 3,
   "metadata": {},
   "outputs": [
    {
     "name": "stdout",
     "output_type": "stream",
     "text": [
      "PassengerId: 2\n",
      "Survived: 1\n",
      "Pclass: 1\n",
      "Name: Cumings, Mrs. John Bradley (Florence Briggs Thayer)\n",
      "Sex: female\n",
      "Age: 38\n",
      "SibSp: 1\n",
      "Parch: 0\n",
      "Ticket: PC 17599\n",
      "Fare: 71.2833\n",
      "Cabin: C85\n",
      "Embarked: C\n"
     ]
    }
   ],
   "source": [
    "print(docs[1].page_content)"
   ]
  },
  {
   "cell_type": "markdown",
   "metadata": {},
   "source": [
    "**CSV 파싱 및 로딩 커스터마이징**\n",
    "\n"
   ]
  },
  {
   "cell_type": "code",
   "execution_count": null,
   "metadata": {},
   "outputs": [
    {
     "name": "stdout",
     "output_type": "stream",
     "text": [
      "Passenger ID: 1\n",
      "Survival (1: Survived, 0: Died): 0\n",
      "Passenger Class: 3\n",
      "Name: Braund, Mr. Owen Harris\n",
      "Sex: male\n",
      "Age: 22\n",
      "Number of Siblings/Spouses Aboard: 1\n",
      "Number of Parents/Children Aboard: 0\n",
      "Ticket Number: A/5 21171\n",
      "Fare: 7.25\n",
      "Cabin: \n",
      "Port of Embarkation: S\n"
     ]
    }
   ],
   "source": [
    "# 컬럼정보:\n",
    "# PassengerId,Survived,Pclass,Name,Sex,Age,SibSp,Parch,Ticket,Fare,Cabin,Embarked\n",
    "\n",
    "#사용자 데이터를 구분된 데이터로 변환하는 writer 객체 반환\n",
    "\n",
    "# CSV 파일 경로\n",
    "loader = CSVLoader(\n",
    "    file_path=\"./data/titanic.csv\",\n",
    "    csv_args={\n",
    "        \"delimiter\": \",\",  # 구분자\n",
    "        \"quotechar\": '\"',  # 인용 부호 문자\n",
    "        \"fieldnames\": [\n",
    "            \"Passenger ID\",\n",
    "            \"Survival (1: Survived, 0: Died)\",\n",
    "            \"Passenger Class\",\n",
    "            \"Name\",\n",
    "            \"Sex\",\n",
    "            \"Age\",\n",
    "            \"Number of Siblings/Spouses Aboard\",\n",
    "            \"Number of Parents/Children Aboard\",\n",
    "            \"Ticket Number\",\n",
    "            \"Fare\",\n",
    "            \"Cabin\",\n",
    "            \"Port of Embarkation\",\n",
    "        ],  # 필드 이름\n",
    "    },\n",
    ")\n",
    "\n",
    "# 데이터 로드\n",
    "docs = loader.load()\n",
    "\n",
    "# 데이터 출력\n",
    "print(docs[1].page_content)"
   ]
  },
  {
   "cell_type": "markdown",
   "metadata": {},
   "source": [
    "문서 전체를 XML 문서 형식으로 처리 진행하기기"
   ]
  },
  {
   "cell_type": "code",
   "execution_count": 9,
   "metadata": {},
   "outputs": [
    {
     "name": "stdout",
     "output_type": "stream",
     "text": [
      "<row><Passenger ID>1</Passenger ID><Survival (1: Survived, 0: Died)>0</Survival (1: Survived, 0: Died)><Passenger Class>3</Passenger Class><Name>Braund, Mr. Owen Harris</Name><Sex>male</Sex><Age>22</Age><Number of Siblings/Spouses Aboard>1</Number of Siblings/Spouses Aboard><Number of Parents/Children Aboard>0</Number of Parents/Children Aboard><Ticket Number>A/5 21171</Ticket Number><Fare>7.25</Fare><Cabin></Cabin><Port of Embarkation>S</Port of Embarkation></row>\n"
     ]
    }
   ],
   "source": [
    "#출력을 줄 단위로 나누고 각 줄을 :콜론 기준으로 분리하여 XML 구조로변환한다.\n",
    "\n",
    "row = docs[1].page_content.split(\"\\n\") #문자열을 줄 단위로 나누어 리스트 row 저장\n",
    "row_str = \"<row>\"\n",
    "for element in row:\n",
    "    splitted_element = element.split(\":\") #콜론 기준으로 분리\n",
    "    value = splitted_element[-1] #콜론 뒷부분을 value에 저장\n",
    "    col = \":\".join(splitted_element[:-1]) #콜론 앞부분을 col에 저장\n",
    "    row_str += f\"<{col}>{value.strip()}</{col}>\" #각 변수를 형식에 맞추어 저장\n",
    "row_str += \"</row>\"\n",
    "print(row_str) #출력력"
   ]
  },
  {
   "cell_type": "code",
   "execution_count": null,
   "metadata": {},
   "outputs": [
    {
     "name": "stdout",
     "output_type": "stream",
     "text": [
      "<row><Passenger ID>1</Passenger ID><Survival (1: Survived, 0: Died)>0</Survival (1: Survived, 0: Died)><Passenger Class>3</Passenger Class><Name>Braund, Mr. Owen Harris</Name><Sex>male</Sex><Age>22</Age><Number of Siblings/Spouses Aboard>1</Number of Siblings/Spouses Aboard><Number of Parents/Children Aboard>0</Number of Parents/Children Aboard><Ticket Number>A/5 21171</Ticket Number><Fare>7.25</Fare><Cabin></Cabin><Port of Embarkation>S</Port of Embarkation></row>\n",
      "<row><Passenger ID>2</Passenger ID><Survival (1: Survived, 0: Died)>1</Survival (1: Survived, 0: Died)><Passenger Class>1</Passenger Class><Name>Cumings, Mrs. John Bradley (Florence Briggs Thayer)</Name><Sex>female</Sex><Age>38</Age><Number of Siblings/Spouses Aboard>1</Number of Siblings/Spouses Aboard><Number of Parents/Children Aboard>0</Number of Parents/Children Aboard><Ticket Number>PC 17599</Ticket Number><Fare>71.2833</Fare><Cabin>C85</Cabin><Port of Embarkation>C</Port of Embarkation></row>\n",
      "<row><Passenger ID>3</Passenger ID><Survival (1: Survived, 0: Died)>1</Survival (1: Survived, 0: Died)><Passenger Class>3</Passenger Class><Name>Heikkinen, Miss. Laina</Name><Sex>female</Sex><Age>26</Age><Number of Siblings/Spouses Aboard>0</Number of Siblings/Spouses Aboard><Number of Parents/Children Aboard>0</Number of Parents/Children Aboard><Ticket Number>STON/O2. 3101282</Ticket Number><Fare>7.925</Fare><Cabin></Cabin><Port of Embarkation>S</Port of Embarkation></row>\n",
      "<row><Passenger ID>4</Passenger ID><Survival (1: Survived, 0: Died)>1</Survival (1: Survived, 0: Died)><Passenger Class>1</Passenger Class><Name>Futrelle, Mrs. Jacques Heath (Lily May Peel)</Name><Sex>female</Sex><Age>35</Age><Number of Siblings/Spouses Aboard>1</Number of Siblings/Spouses Aboard><Number of Parents/Children Aboard>0</Number of Parents/Children Aboard><Ticket Number>113803</Ticket Number><Fare>53.1</Fare><Cabin>C123</Cabin><Port of Embarkation>S</Port of Embarkation></row>\n",
      "<row><Passenger ID>5</Passenger ID><Survival (1: Survived, 0: Died)>0</Survival (1: Survived, 0: Died)><Passenger Class>3</Passenger Class><Name>Allen, Mr. William Henry</Name><Sex>male</Sex><Age>35</Age><Number of Siblings/Spouses Aboard>0</Number of Siblings/Spouses Aboard><Number of Parents/Children Aboard>0</Number of Parents/Children Aboard><Ticket Number>373450</Ticket Number><Fare>8.05</Fare><Cabin></Cabin><Port of Embarkation>S</Port of Embarkation></row>\n",
      "<row><Passenger ID>6</Passenger ID><Survival (1: Survived, 0: Died)>0</Survival (1: Survived, 0: Died)><Passenger Class>3</Passenger Class><Name>Moran, Mr. James</Name><Sex>male</Sex><Age></Age><Number of Siblings/Spouses Aboard>0</Number of Siblings/Spouses Aboard><Number of Parents/Children Aboard>0</Number of Parents/Children Aboard><Ticket Number>330877</Ticket Number><Fare>8.4583</Fare><Cabin></Cabin><Port of Embarkation>Q</Port of Embarkation></row>\n",
      "<row><Passenger ID>7</Passenger ID><Survival (1: Survived, 0: Died)>0</Survival (1: Survived, 0: Died)><Passenger Class>1</Passenger Class><Name>McCarthy, Mr. Timothy J</Name><Sex>male</Sex><Age>54</Age><Number of Siblings/Spouses Aboard>0</Number of Siblings/Spouses Aboard><Number of Parents/Children Aboard>0</Number of Parents/Children Aboard><Ticket Number>17463</Ticket Number><Fare>51.8625</Fare><Cabin>E46</Cabin><Port of Embarkation>S</Port of Embarkation></row>\n",
      "<row><Passenger ID>8</Passenger ID><Survival (1: Survived, 0: Died)>0</Survival (1: Survived, 0: Died)><Passenger Class>3</Passenger Class><Name>Palsson, Master. Gosta Leonard</Name><Sex>male</Sex><Age>2</Age><Number of Siblings/Spouses Aboard>3</Number of Siblings/Spouses Aboard><Number of Parents/Children Aboard>1</Number of Parents/Children Aboard><Ticket Number>349909</Ticket Number><Fare>21.075</Fare><Cabin></Cabin><Port of Embarkation>S</Port of Embarkation></row>\n",
      "<row><Passenger ID>9</Passenger ID><Survival (1: Survived, 0: Died)>1</Survival (1: Survived, 0: Died)><Passenger Class>3</Passenger Class><Name>Johnson, Mrs. Oscar W (Elisabeth Vilhelmina Berg)</Name><Sex>female</Sex><Age>27</Age><Number of Siblings/Spouses Aboard>0</Number of Siblings/Spouses Aboard><Number of Parents/Children Aboard>2</Number of Parents/Children Aboard><Ticket Number>347742</Ticket Number><Fare>11.1333</Fare><Cabin></Cabin><Port of Embarkation>S</Port of Embarkation></row>\n",
      "<row><Passenger ID>10</Passenger ID><Survival (1: Survived, 0: Died)>1</Survival (1: Survived, 0: Died)><Passenger Class>2</Passenger Class><Name>Nasser, Mrs. Nicholas (Adele Achem)</Name><Sex>female</Sex><Age>14</Age><Number of Siblings/Spouses Aboard>1</Number of Siblings/Spouses Aboard><Number of Parents/Children Aboard>0</Number of Parents/Children Aboard><Ticket Number>237736</Ticket Number><Fare>30.0708</Fare><Cabin></Cabin><Port of Embarkation>C</Port of Embarkation></row>\n",
      "<row><Passenger ID>11</Passenger ID><Survival (1: Survived, 0: Died)>1</Survival (1: Survived, 0: Died)><Passenger Class>3</Passenger Class><Name>Sandstrom, Miss. Marguerite Rut</Name><Sex>female</Sex><Age>4</Age><Number of Siblings/Spouses Aboard>1</Number of Siblings/Spouses Aboard><Number of Parents/Children Aboard>1</Number of Parents/Children Aboard><Ticket Number>PP 9549</Ticket Number><Fare>16.7</Fare><Cabin>G6</Cabin><Port of Embarkation>S</Port of Embarkation></row>\n",
      "<row><Passenger ID>12</Passenger ID><Survival (1: Survived, 0: Died)>1</Survival (1: Survived, 0: Died)><Passenger Class>1</Passenger Class><Name>Bonnell, Miss. Elizabeth</Name><Sex>female</Sex><Age>58</Age><Number of Siblings/Spouses Aboard>0</Number of Siblings/Spouses Aboard><Number of Parents/Children Aboard>0</Number of Parents/Children Aboard><Ticket Number>113783</Ticket Number><Fare>26.55</Fare><Cabin>C103</Cabin><Port of Embarkation>S</Port of Embarkation></row>\n",
      "<row><Passenger ID>13</Passenger ID><Survival (1: Survived, 0: Died)>0</Survival (1: Survived, 0: Died)><Passenger Class>3</Passenger Class><Name>Saundercock, Mr. William Henry</Name><Sex>male</Sex><Age>20</Age><Number of Siblings/Spouses Aboard>0</Number of Siblings/Spouses Aboard><Number of Parents/Children Aboard>0</Number of Parents/Children Aboard><Ticket Number>A/5. 2151</Ticket Number><Fare>8.05</Fare><Cabin></Cabin><Port of Embarkation>S</Port of Embarkation></row>\n",
      "<row><Passenger ID>14</Passenger ID><Survival (1: Survived, 0: Died)>0</Survival (1: Survived, 0: Died)><Passenger Class>3</Passenger Class><Name>Andersson, Mr. Anders Johan</Name><Sex>male</Sex><Age>39</Age><Number of Siblings/Spouses Aboard>1</Number of Siblings/Spouses Aboard><Number of Parents/Children Aboard>5</Number of Parents/Children Aboard><Ticket Number>347082</Ticket Number><Fare>31.275</Fare><Cabin></Cabin><Port of Embarkation>S</Port of Embarkation></row>\n",
      "<row><Passenger ID>15</Passenger ID><Survival (1: Survived, 0: Died)>0</Survival (1: Survived, 0: Died)><Passenger Class>3</Passenger Class><Name>Vestrom, Miss. Hulda Amanda Adolfina</Name><Sex>female</Sex><Age>14</Age><Number of Siblings/Spouses Aboard>0</Number of Siblings/Spouses Aboard><Number of Parents/Children Aboard>0</Number of Parents/Children Aboard><Ticket Number>350406</Ticket Number><Fare>7.8542</Fare><Cabin></Cabin><Port of Embarkation>S</Port of Embarkation></row>\n",
      "<row><Passenger ID>16</Passenger ID><Survival (1: Survived, 0: Died)>1</Survival (1: Survived, 0: Died)><Passenger Class>2</Passenger Class><Name>Hewlett, Mrs. (Mary D Kingcome)</Name><Sex>female</Sex><Age>55</Age><Number of Siblings/Spouses Aboard>0</Number of Siblings/Spouses Aboard><Number of Parents/Children Aboard>0</Number of Parents/Children Aboard><Ticket Number>248706</Ticket Number><Fare>16</Fare><Cabin></Cabin><Port of Embarkation>S</Port of Embarkation></row>\n",
      "<row><Passenger ID>17</Passenger ID><Survival (1: Survived, 0: Died)>0</Survival (1: Survived, 0: Died)><Passenger Class>3</Passenger Class><Name>Rice, Master. Eugene</Name><Sex>male</Sex><Age>2</Age><Number of Siblings/Spouses Aboard>4</Number of Siblings/Spouses Aboard><Number of Parents/Children Aboard>1</Number of Parents/Children Aboard><Ticket Number>382652</Ticket Number><Fare>29.125</Fare><Cabin></Cabin><Port of Embarkation>Q</Port of Embarkation></row>\n",
      "<row><Passenger ID>18</Passenger ID><Survival (1: Survived, 0: Died)>1</Survival (1: Survived, 0: Died)><Passenger Class>2</Passenger Class><Name>Williams, Mr. Charles Eugene</Name><Sex>male</Sex><Age></Age><Number of Siblings/Spouses Aboard>0</Number of Siblings/Spouses Aboard><Number of Parents/Children Aboard>0</Number of Parents/Children Aboard><Ticket Number>244373</Ticket Number><Fare>13</Fare><Cabin></Cabin><Port of Embarkation>S</Port of Embarkation></row>\n",
      "<row><Passenger ID>19</Passenger ID><Survival (1: Survived, 0: Died)>0</Survival (1: Survived, 0: Died)><Passenger Class>3</Passenger Class><Name>Vander Planke, Mrs. Julius (Emelia Maria Vandemoortele)</Name><Sex>female</Sex><Age>31</Age><Number of Siblings/Spouses Aboard>1</Number of Siblings/Spouses Aboard><Number of Parents/Children Aboard>0</Number of Parents/Children Aboard><Ticket Number>345763</Ticket Number><Fare>18</Fare><Cabin></Cabin><Port of Embarkation>S</Port of Embarkation></row>\n",
      "<row><Passenger ID>20</Passenger ID><Survival (1: Survived, 0: Died)>1</Survival (1: Survived, 0: Died)><Passenger Class>3</Passenger Class><Name>Masselmani, Mrs. Fatima</Name><Sex>female</Sex><Age></Age><Number of Siblings/Spouses Aboard>0</Number of Siblings/Spouses Aboard><Number of Parents/Children Aboard>0</Number of Parents/Children Aboard><Ticket Number>2649</Ticket Number><Fare>7.225</Fare><Cabin></Cabin><Port of Embarkation>C</Port of Embarkation></row>\n",
      "<row><Passenger ID>21</Passenger ID><Survival (1: Survived, 0: Died)>0</Survival (1: Survived, 0: Died)><Passenger Class>2</Passenger Class><Name>Fynney, Mr. Joseph J</Name><Sex>male</Sex><Age>35</Age><Number of Siblings/Spouses Aboard>0</Number of Siblings/Spouses Aboard><Number of Parents/Children Aboard>0</Number of Parents/Children Aboard><Ticket Number>239865</Ticket Number><Fare>26</Fare><Cabin></Cabin><Port of Embarkation>S</Port of Embarkation></row>\n",
      "<row><Passenger ID>22</Passenger ID><Survival (1: Survived, 0: Died)>1</Survival (1: Survived, 0: Died)><Passenger Class>2</Passenger Class><Name>Beesley, Mr. Lawrence</Name><Sex>male</Sex><Age>34</Age><Number of Siblings/Spouses Aboard>0</Number of Siblings/Spouses Aboard><Number of Parents/Children Aboard>0</Number of Parents/Children Aboard><Ticket Number>248698</Ticket Number><Fare>13</Fare><Cabin>D56</Cabin><Port of Embarkation>S</Port of Embarkation></row>\n",
      "<row><Passenger ID>23</Passenger ID><Survival (1: Survived, 0: Died)>1</Survival (1: Survived, 0: Died)><Passenger Class>3</Passenger Class><Name>McGowan, Miss. Anna \"Annie\"</Name><Sex>female</Sex><Age>15</Age><Number of Siblings/Spouses Aboard>0</Number of Siblings/Spouses Aboard><Number of Parents/Children Aboard>0</Number of Parents/Children Aboard><Ticket Number>330923</Ticket Number><Fare>8.0292</Fare><Cabin></Cabin><Port of Embarkation>Q</Port of Embarkation></row>\n",
      "<row><Passenger ID>24</Passenger ID><Survival (1: Survived, 0: Died)>1</Survival (1: Survived, 0: Died)><Passenger Class>1</Passenger Class><Name>Sloper, Mr. William Thompson</Name><Sex>male</Sex><Age>28</Age><Number of Siblings/Spouses Aboard>0</Number of Siblings/Spouses Aboard><Number of Parents/Children Aboard>0</Number of Parents/Children Aboard><Ticket Number>113788</Ticket Number><Fare>35.5</Fare><Cabin>A6</Cabin><Port of Embarkation>S</Port of Embarkation></row>\n",
      "<row><Passenger ID>25</Passenger ID><Survival (1: Survived, 0: Died)>0</Survival (1: Survived, 0: Died)><Passenger Class>3</Passenger Class><Name>Palsson, Miss. Torborg Danira</Name><Sex>female</Sex><Age>8</Age><Number of Siblings/Spouses Aboard>3</Number of Siblings/Spouses Aboard><Number of Parents/Children Aboard>1</Number of Parents/Children Aboard><Ticket Number>349909</Ticket Number><Fare>21.075</Fare><Cabin></Cabin><Port of Embarkation>S</Port of Embarkation></row>\n",
      "<row><Passenger ID>26</Passenger ID><Survival (1: Survived, 0: Died)>1</Survival (1: Survived, 0: Died)><Passenger Class>3</Passenger Class><Name>Asplund, Mrs. Carl Oscar (Selma Augusta Emilia Johansson)</Name><Sex>female</Sex><Age>38</Age><Number of Siblings/Spouses Aboard>1</Number of Siblings/Spouses Aboard><Number of Parents/Children Aboard>5</Number of Parents/Children Aboard><Ticket Number>347077</Ticket Number><Fare>31.3875</Fare><Cabin></Cabin><Port of Embarkation>S</Port of Embarkation></row>\n",
      "<row><Passenger ID>27</Passenger ID><Survival (1: Survived, 0: Died)>0</Survival (1: Survived, 0: Died)><Passenger Class>3</Passenger Class><Name>Emir, Mr. Farred Chehab</Name><Sex>male</Sex><Age></Age><Number of Siblings/Spouses Aboard>0</Number of Siblings/Spouses Aboard><Number of Parents/Children Aboard>0</Number of Parents/Children Aboard><Ticket Number>2631</Ticket Number><Fare>7.225</Fare><Cabin></Cabin><Port of Embarkation>C</Port of Embarkation></row>\n",
      "<row><Passenger ID>28</Passenger ID><Survival (1: Survived, 0: Died)>0</Survival (1: Survived, 0: Died)><Passenger Class>1</Passenger Class><Name>Fortune, Mr. Charles Alexander</Name><Sex>male</Sex><Age>19</Age><Number of Siblings/Spouses Aboard>3</Number of Siblings/Spouses Aboard><Number of Parents/Children Aboard>2</Number of Parents/Children Aboard><Ticket Number>19950</Ticket Number><Fare>263</Fare><Cabin>C23 C25 C27</Cabin><Port of Embarkation>S</Port of Embarkation></row>\n",
      "<row><Passenger ID>29</Passenger ID><Survival (1: Survived, 0: Died)>1</Survival (1: Survived, 0: Died)><Passenger Class>3</Passenger Class><Name>O'Dwyer, Miss. Ellen \"Nellie\"</Name><Sex>female</Sex><Age></Age><Number of Siblings/Spouses Aboard>0</Number of Siblings/Spouses Aboard><Number of Parents/Children Aboard>0</Number of Parents/Children Aboard><Ticket Number>330959</Ticket Number><Fare>7.8792</Fare><Cabin></Cabin><Port of Embarkation>Q</Port of Embarkation></row>\n",
      "<row><Passenger ID>30</Passenger ID><Survival (1: Survived, 0: Died)>0</Survival (1: Survived, 0: Died)><Passenger Class>3</Passenger Class><Name>Todoroff, Mr. Lalio</Name><Sex>male</Sex><Age></Age><Number of Siblings/Spouses Aboard>0</Number of Siblings/Spouses Aboard><Number of Parents/Children Aboard>0</Number of Parents/Children Aboard><Ticket Number>349216</Ticket Number><Fare>7.8958</Fare><Cabin></Cabin><Port of Embarkation>S</Port of Embarkation></row>\n",
      "<row><Passenger ID>31</Passenger ID><Survival (1: Survived, 0: Died)>0</Survival (1: Survived, 0: Died)><Passenger Class>1</Passenger Class><Name>Uruchurtu, Don. Manuel E</Name><Sex>male</Sex><Age>40</Age><Number of Siblings/Spouses Aboard>0</Number of Siblings/Spouses Aboard><Number of Parents/Children Aboard>0</Number of Parents/Children Aboard><Ticket Number>PC 17601</Ticket Number><Fare>27.7208</Fare><Cabin></Cabin><Port of Embarkation>C</Port of Embarkation></row>\n",
      "<row><Passenger ID>32</Passenger ID><Survival (1: Survived, 0: Died)>1</Survival (1: Survived, 0: Died)><Passenger Class>1</Passenger Class><Name>Spencer, Mrs. William Augustus (Marie Eugenie)</Name><Sex>female</Sex><Age></Age><Number of Siblings/Spouses Aboard>1</Number of Siblings/Spouses Aboard><Number of Parents/Children Aboard>0</Number of Parents/Children Aboard><Ticket Number>PC 17569</Ticket Number><Fare>146.5208</Fare><Cabin>B78</Cabin><Port of Embarkation>C</Port of Embarkation></row>\n",
      "<row><Passenger ID>33</Passenger ID><Survival (1: Survived, 0: Died)>1</Survival (1: Survived, 0: Died)><Passenger Class>3</Passenger Class><Name>Glynn, Miss. Mary Agatha</Name><Sex>female</Sex><Age></Age><Number of Siblings/Spouses Aboard>0</Number of Siblings/Spouses Aboard><Number of Parents/Children Aboard>0</Number of Parents/Children Aboard><Ticket Number>335677</Ticket Number><Fare>7.75</Fare><Cabin></Cabin><Port of Embarkation>Q</Port of Embarkation></row>\n",
      "<row><Passenger ID>34</Passenger ID><Survival (1: Survived, 0: Died)>0</Survival (1: Survived, 0: Died)><Passenger Class>2</Passenger Class><Name>Wheadon, Mr. Edward H</Name><Sex>male</Sex><Age>66</Age><Number of Siblings/Spouses Aboard>0</Number of Siblings/Spouses Aboard><Number of Parents/Children Aboard>0</Number of Parents/Children Aboard><Ticket Number>C.A. 24579</Ticket Number><Fare>10.5</Fare><Cabin></Cabin><Port of Embarkation>S</Port of Embarkation></row>\n",
      "<row><Passenger ID>35</Passenger ID><Survival (1: Survived, 0: Died)>0</Survival (1: Survived, 0: Died)><Passenger Class>1</Passenger Class><Name>Meyer, Mr. Edgar Joseph</Name><Sex>male</Sex><Age>28</Age><Number of Siblings/Spouses Aboard>1</Number of Siblings/Spouses Aboard><Number of Parents/Children Aboard>0</Number of Parents/Children Aboard><Ticket Number>PC 17604</Ticket Number><Fare>82.1708</Fare><Cabin></Cabin><Port of Embarkation>C</Port of Embarkation></row>\n",
      "<row><Passenger ID>36</Passenger ID><Survival (1: Survived, 0: Died)>0</Survival (1: Survived, 0: Died)><Passenger Class>1</Passenger Class><Name>Holverson, Mr. Alexander Oskar</Name><Sex>male</Sex><Age>42</Age><Number of Siblings/Spouses Aboard>1</Number of Siblings/Spouses Aboard><Number of Parents/Children Aboard>0</Number of Parents/Children Aboard><Ticket Number>113789</Ticket Number><Fare>52</Fare><Cabin></Cabin><Port of Embarkation>S</Port of Embarkation></row>\n",
      "<row><Passenger ID>37</Passenger ID><Survival (1: Survived, 0: Died)>1</Survival (1: Survived, 0: Died)><Passenger Class>3</Passenger Class><Name>Mamee, Mr. Hanna</Name><Sex>male</Sex><Age></Age><Number of Siblings/Spouses Aboard>0</Number of Siblings/Spouses Aboard><Number of Parents/Children Aboard>0</Number of Parents/Children Aboard><Ticket Number>2677</Ticket Number><Fare>7.2292</Fare><Cabin></Cabin><Port of Embarkation>C</Port of Embarkation></row>\n",
      "<row><Passenger ID>38</Passenger ID><Survival (1: Survived, 0: Died)>0</Survival (1: Survived, 0: Died)><Passenger Class>3</Passenger Class><Name>Cann, Mr. Ernest Charles</Name><Sex>male</Sex><Age>21</Age><Number of Siblings/Spouses Aboard>0</Number of Siblings/Spouses Aboard><Number of Parents/Children Aboard>0</Number of Parents/Children Aboard><Ticket Number>A./5. 2152</Ticket Number><Fare>8.05</Fare><Cabin></Cabin><Port of Embarkation>S</Port of Embarkation></row>\n",
      "<row><Passenger ID>39</Passenger ID><Survival (1: Survived, 0: Died)>0</Survival (1: Survived, 0: Died)><Passenger Class>3</Passenger Class><Name>Vander Planke, Miss. Augusta Maria</Name><Sex>female</Sex><Age>18</Age><Number of Siblings/Spouses Aboard>2</Number of Siblings/Spouses Aboard><Number of Parents/Children Aboard>0</Number of Parents/Children Aboard><Ticket Number>345764</Ticket Number><Fare>18</Fare><Cabin></Cabin><Port of Embarkation>S</Port of Embarkation></row>\n",
      "<row><Passenger ID>40</Passenger ID><Survival (1: Survived, 0: Died)>1</Survival (1: Survived, 0: Died)><Passenger Class>3</Passenger Class><Name>Nicola-Yarred, Miss. Jamila</Name><Sex>female</Sex><Age>14</Age><Number of Siblings/Spouses Aboard>1</Number of Siblings/Spouses Aboard><Number of Parents/Children Aboard>0</Number of Parents/Children Aboard><Ticket Number>2651</Ticket Number><Fare>11.2417</Fare><Cabin></Cabin><Port of Embarkation>C</Port of Embarkation></row>\n",
      "<row><Passenger ID>41</Passenger ID><Survival (1: Survived, 0: Died)>0</Survival (1: Survived, 0: Died)><Passenger Class>3</Passenger Class><Name>Ahlin, Mrs. Johan (Johanna Persdotter Larsson)</Name><Sex>female</Sex><Age>40</Age><Number of Siblings/Spouses Aboard>1</Number of Siblings/Spouses Aboard><Number of Parents/Children Aboard>0</Number of Parents/Children Aboard><Ticket Number>7546</Ticket Number><Fare>9.475</Fare><Cabin></Cabin><Port of Embarkation>S</Port of Embarkation></row>\n",
      "<row><Passenger ID>42</Passenger ID><Survival (1: Survived, 0: Died)>0</Survival (1: Survived, 0: Died)><Passenger Class>2</Passenger Class><Name>Turpin, Mrs. William John Robert (Dorothy Ann Wonnacott)</Name><Sex>female</Sex><Age>27</Age><Number of Siblings/Spouses Aboard>1</Number of Siblings/Spouses Aboard><Number of Parents/Children Aboard>0</Number of Parents/Children Aboard><Ticket Number>11668</Ticket Number><Fare>21</Fare><Cabin></Cabin><Port of Embarkation>S</Port of Embarkation></row>\n",
      "<row><Passenger ID>43</Passenger ID><Survival (1: Survived, 0: Died)>0</Survival (1: Survived, 0: Died)><Passenger Class>3</Passenger Class><Name>Kraeff, Mr. Theodor</Name><Sex>male</Sex><Age></Age><Number of Siblings/Spouses Aboard>0</Number of Siblings/Spouses Aboard><Number of Parents/Children Aboard>0</Number of Parents/Children Aboard><Ticket Number>349253</Ticket Number><Fare>7.8958</Fare><Cabin></Cabin><Port of Embarkation>C</Port of Embarkation></row>\n",
      "<row><Passenger ID>44</Passenger ID><Survival (1: Survived, 0: Died)>1</Survival (1: Survived, 0: Died)><Passenger Class>2</Passenger Class><Name>Laroche, Miss. Simonne Marie Anne Andree</Name><Sex>female</Sex><Age>3</Age><Number of Siblings/Spouses Aboard>1</Number of Siblings/Spouses Aboard><Number of Parents/Children Aboard>2</Number of Parents/Children Aboard><Ticket Number>SC/Paris 2123</Ticket Number><Fare>41.5792</Fare><Cabin></Cabin><Port of Embarkation>C</Port of Embarkation></row>\n",
      "<row><Passenger ID>45</Passenger ID><Survival (1: Survived, 0: Died)>1</Survival (1: Survived, 0: Died)><Passenger Class>3</Passenger Class><Name>Devaney, Miss. Margaret Delia</Name><Sex>female</Sex><Age>19</Age><Number of Siblings/Spouses Aboard>0</Number of Siblings/Spouses Aboard><Number of Parents/Children Aboard>0</Number of Parents/Children Aboard><Ticket Number>330958</Ticket Number><Fare>7.8792</Fare><Cabin></Cabin><Port of Embarkation>Q</Port of Embarkation></row>\n",
      "<row><Passenger ID>46</Passenger ID><Survival (1: Survived, 0: Died)>0</Survival (1: Survived, 0: Died)><Passenger Class>3</Passenger Class><Name>Rogers, Mr. William John</Name><Sex>male</Sex><Age></Age><Number of Siblings/Spouses Aboard>0</Number of Siblings/Spouses Aboard><Number of Parents/Children Aboard>0</Number of Parents/Children Aboard><Ticket Number>S.C./A.4. 23567</Ticket Number><Fare>8.05</Fare><Cabin></Cabin><Port of Embarkation>S</Port of Embarkation></row>\n",
      "<row><Passenger ID>47</Passenger ID><Survival (1: Survived, 0: Died)>0</Survival (1: Survived, 0: Died)><Passenger Class>3</Passenger Class><Name>Lennon, Mr. Denis</Name><Sex>male</Sex><Age></Age><Number of Siblings/Spouses Aboard>1</Number of Siblings/Spouses Aboard><Number of Parents/Children Aboard>0</Number of Parents/Children Aboard><Ticket Number>370371</Ticket Number><Fare>15.5</Fare><Cabin></Cabin><Port of Embarkation>Q</Port of Embarkation></row>\n",
      "<row><Passenger ID>48</Passenger ID><Survival (1: Survived, 0: Died)>1</Survival (1: Survived, 0: Died)><Passenger Class>3</Passenger Class><Name>O'Driscoll, Miss. Bridget</Name><Sex>female</Sex><Age></Age><Number of Siblings/Spouses Aboard>0</Number of Siblings/Spouses Aboard><Number of Parents/Children Aboard>0</Number of Parents/Children Aboard><Ticket Number>14311</Ticket Number><Fare>7.75</Fare><Cabin></Cabin><Port of Embarkation>Q</Port of Embarkation></row>\n",
      "<row><Passenger ID>49</Passenger ID><Survival (1: Survived, 0: Died)>0</Survival (1: Survived, 0: Died)><Passenger Class>3</Passenger Class><Name>Samaan, Mr. Youssef</Name><Sex>male</Sex><Age></Age><Number of Siblings/Spouses Aboard>2</Number of Siblings/Spouses Aboard><Number of Parents/Children Aboard>0</Number of Parents/Children Aboard><Ticket Number>2662</Ticket Number><Fare>21.6792</Fare><Cabin></Cabin><Port of Embarkation>C</Port of Embarkation></row>\n",
      "<row><Passenger ID>50</Passenger ID><Survival (1: Survived, 0: Died)>0</Survival (1: Survived, 0: Died)><Passenger Class>3</Passenger Class><Name>Arnold-Franchi, Mrs. Josef (Josefine Franchi)</Name><Sex>female</Sex><Age>18</Age><Number of Siblings/Spouses Aboard>1</Number of Siblings/Spouses Aboard><Number of Parents/Children Aboard>0</Number of Parents/Children Aboard><Ticket Number>349237</Ticket Number><Fare>17.8</Fare><Cabin></Cabin><Port of Embarkation>S</Port of Embarkation></row>\n",
      "<row><Passenger ID>51</Passenger ID><Survival (1: Survived, 0: Died)>0</Survival (1: Survived, 0: Died)><Passenger Class>3</Passenger Class><Name>Panula, Master. Juha Niilo</Name><Sex>male</Sex><Age>7</Age><Number of Siblings/Spouses Aboard>4</Number of Siblings/Spouses Aboard><Number of Parents/Children Aboard>1</Number of Parents/Children Aboard><Ticket Number>3101295</Ticket Number><Fare>39.6875</Fare><Cabin></Cabin><Port of Embarkation>S</Port of Embarkation></row>\n",
      "<row><Passenger ID>52</Passenger ID><Survival (1: Survived, 0: Died)>0</Survival (1: Survived, 0: Died)><Passenger Class>3</Passenger Class><Name>Nosworthy, Mr. Richard Cater</Name><Sex>male</Sex><Age>21</Age><Number of Siblings/Spouses Aboard>0</Number of Siblings/Spouses Aboard><Number of Parents/Children Aboard>0</Number of Parents/Children Aboard><Ticket Number>A/4. 39886</Ticket Number><Fare>7.8</Fare><Cabin></Cabin><Port of Embarkation>S</Port of Embarkation></row>\n",
      "<row><Passenger ID>53</Passenger ID><Survival (1: Survived, 0: Died)>1</Survival (1: Survived, 0: Died)><Passenger Class>1</Passenger Class><Name>Harper, Mrs. Henry Sleeper (Myna Haxtun)</Name><Sex>female</Sex><Age>49</Age><Number of Siblings/Spouses Aboard>1</Number of Siblings/Spouses Aboard><Number of Parents/Children Aboard>0</Number of Parents/Children Aboard><Ticket Number>PC 17572</Ticket Number><Fare>76.7292</Fare><Cabin>D33</Cabin><Port of Embarkation>C</Port of Embarkation></row>\n",
      "<row><Passenger ID>54</Passenger ID><Survival (1: Survived, 0: Died)>1</Survival (1: Survived, 0: Died)><Passenger Class>2</Passenger Class><Name>Faunthorpe, Mrs. Lizzie (Elizabeth Anne Wilkinson)</Name><Sex>female</Sex><Age>29</Age><Number of Siblings/Spouses Aboard>1</Number of Siblings/Spouses Aboard><Number of Parents/Children Aboard>0</Number of Parents/Children Aboard><Ticket Number>2926</Ticket Number><Fare>26</Fare><Cabin></Cabin><Port of Embarkation>S</Port of Embarkation></row>\n",
      "<row><Passenger ID>55</Passenger ID><Survival (1: Survived, 0: Died)>0</Survival (1: Survived, 0: Died)><Passenger Class>1</Passenger Class><Name>Ostby, Mr. Engelhart Cornelius</Name><Sex>male</Sex><Age>65</Age><Number of Siblings/Spouses Aboard>0</Number of Siblings/Spouses Aboard><Number of Parents/Children Aboard>1</Number of Parents/Children Aboard><Ticket Number>113509</Ticket Number><Fare>61.9792</Fare><Cabin>B30</Cabin><Port of Embarkation>C</Port of Embarkation></row>\n",
      "<row><Passenger ID>56</Passenger ID><Survival (1: Survived, 0: Died)>1</Survival (1: Survived, 0: Died)><Passenger Class>1</Passenger Class><Name>Woolner, Mr. Hugh</Name><Sex>male</Sex><Age></Age><Number of Siblings/Spouses Aboard>0</Number of Siblings/Spouses Aboard><Number of Parents/Children Aboard>0</Number of Parents/Children Aboard><Ticket Number>19947</Ticket Number><Fare>35.5</Fare><Cabin>C52</Cabin><Port of Embarkation>S</Port of Embarkation></row>\n",
      "<row><Passenger ID>57</Passenger ID><Survival (1: Survived, 0: Died)>1</Survival (1: Survived, 0: Died)><Passenger Class>2</Passenger Class><Name>Rugg, Miss. Emily</Name><Sex>female</Sex><Age>21</Age><Number of Siblings/Spouses Aboard>0</Number of Siblings/Spouses Aboard><Number of Parents/Children Aboard>0</Number of Parents/Children Aboard><Ticket Number>C.A. 31026</Ticket Number><Fare>10.5</Fare><Cabin></Cabin><Port of Embarkation>S</Port of Embarkation></row>\n",
      "<row><Passenger ID>58</Passenger ID><Survival (1: Survived, 0: Died)>0</Survival (1: Survived, 0: Died)><Passenger Class>3</Passenger Class><Name>Novel, Mr. Mansouer</Name><Sex>male</Sex><Age>28.5</Age><Number of Siblings/Spouses Aboard>0</Number of Siblings/Spouses Aboard><Number of Parents/Children Aboard>0</Number of Parents/Children Aboard><Ticket Number>2697</Ticket Number><Fare>7.2292</Fare><Cabin></Cabin><Port of Embarkation>C</Port of Embarkation></row>\n",
      "<row><Passenger ID>59</Passenger ID><Survival (1: Survived, 0: Died)>1</Survival (1: Survived, 0: Died)><Passenger Class>2</Passenger Class><Name>West, Miss. Constance Mirium</Name><Sex>female</Sex><Age>5</Age><Number of Siblings/Spouses Aboard>1</Number of Siblings/Spouses Aboard><Number of Parents/Children Aboard>2</Number of Parents/Children Aboard><Ticket Number>C.A. 34651</Ticket Number><Fare>27.75</Fare><Cabin></Cabin><Port of Embarkation>S</Port of Embarkation></row>\n",
      "<row><Passenger ID>60</Passenger ID><Survival (1: Survived, 0: Died)>0</Survival (1: Survived, 0: Died)><Passenger Class>3</Passenger Class><Name>Goodwin, Master. William Frederick</Name><Sex>male</Sex><Age>11</Age><Number of Siblings/Spouses Aboard>5</Number of Siblings/Spouses Aboard><Number of Parents/Children Aboard>2</Number of Parents/Children Aboard><Ticket Number>CA 2144</Ticket Number><Fare>46.9</Fare><Cabin></Cabin><Port of Embarkation>S</Port of Embarkation></row>\n",
      "<row><Passenger ID>61</Passenger ID><Survival (1: Survived, 0: Died)>0</Survival (1: Survived, 0: Died)><Passenger Class>3</Passenger Class><Name>Sirayanian, Mr. Orsen</Name><Sex>male</Sex><Age>22</Age><Number of Siblings/Spouses Aboard>0</Number of Siblings/Spouses Aboard><Number of Parents/Children Aboard>0</Number of Parents/Children Aboard><Ticket Number>2669</Ticket Number><Fare>7.2292</Fare><Cabin></Cabin><Port of Embarkation>C</Port of Embarkation></row>\n",
      "<row><Passenger ID>62</Passenger ID><Survival (1: Survived, 0: Died)>1</Survival (1: Survived, 0: Died)><Passenger Class>1</Passenger Class><Name>Icard, Miss. Amelie</Name><Sex>female</Sex><Age>38</Age><Number of Siblings/Spouses Aboard>0</Number of Siblings/Spouses Aboard><Number of Parents/Children Aboard>0</Number of Parents/Children Aboard><Ticket Number>113572</Ticket Number><Fare>80</Fare><Cabin>B28</Cabin><Port of Embarkation></Port of Embarkation></row>\n",
      "<row><Passenger ID>63</Passenger ID><Survival (1: Survived, 0: Died)>0</Survival (1: Survived, 0: Died)><Passenger Class>1</Passenger Class><Name>Harris, Mr. Henry Birkhardt</Name><Sex>male</Sex><Age>45</Age><Number of Siblings/Spouses Aboard>1</Number of Siblings/Spouses Aboard><Number of Parents/Children Aboard>0</Number of Parents/Children Aboard><Ticket Number>36973</Ticket Number><Fare>83.475</Fare><Cabin>C83</Cabin><Port of Embarkation>S</Port of Embarkation></row>\n",
      "<row><Passenger ID>64</Passenger ID><Survival (1: Survived, 0: Died)>0</Survival (1: Survived, 0: Died)><Passenger Class>3</Passenger Class><Name>Skoog, Master. Harald</Name><Sex>male</Sex><Age>4</Age><Number of Siblings/Spouses Aboard>3</Number of Siblings/Spouses Aboard><Number of Parents/Children Aboard>2</Number of Parents/Children Aboard><Ticket Number>347088</Ticket Number><Fare>27.9</Fare><Cabin></Cabin><Port of Embarkation>S</Port of Embarkation></row>\n",
      "<row><Passenger ID>65</Passenger ID><Survival (1: Survived, 0: Died)>0</Survival (1: Survived, 0: Died)><Passenger Class>1</Passenger Class><Name>Stewart, Mr. Albert A</Name><Sex>male</Sex><Age></Age><Number of Siblings/Spouses Aboard>0</Number of Siblings/Spouses Aboard><Number of Parents/Children Aboard>0</Number of Parents/Children Aboard><Ticket Number>PC 17605</Ticket Number><Fare>27.7208</Fare><Cabin></Cabin><Port of Embarkation>C</Port of Embarkation></row>\n",
      "<row><Passenger ID>66</Passenger ID><Survival (1: Survived, 0: Died)>1</Survival (1: Survived, 0: Died)><Passenger Class>3</Passenger Class><Name>Moubarek, Master. Gerios</Name><Sex>male</Sex><Age></Age><Number of Siblings/Spouses Aboard>1</Number of Siblings/Spouses Aboard><Number of Parents/Children Aboard>1</Number of Parents/Children Aboard><Ticket Number>2661</Ticket Number><Fare>15.2458</Fare><Cabin></Cabin><Port of Embarkation>C</Port of Embarkation></row>\n",
      "<row><Passenger ID>67</Passenger ID><Survival (1: Survived, 0: Died)>1</Survival (1: Survived, 0: Died)><Passenger Class>2</Passenger Class><Name>Nye, Mrs. (Elizabeth Ramell)</Name><Sex>female</Sex><Age>29</Age><Number of Siblings/Spouses Aboard>0</Number of Siblings/Spouses Aboard><Number of Parents/Children Aboard>0</Number of Parents/Children Aboard><Ticket Number>C.A. 29395</Ticket Number><Fare>10.5</Fare><Cabin>F33</Cabin><Port of Embarkation>S</Port of Embarkation></row>\n",
      "<row><Passenger ID>68</Passenger ID><Survival (1: Survived, 0: Died)>0</Survival (1: Survived, 0: Died)><Passenger Class>3</Passenger Class><Name>Crease, Mr. Ernest James</Name><Sex>male</Sex><Age>19</Age><Number of Siblings/Spouses Aboard>0</Number of Siblings/Spouses Aboard><Number of Parents/Children Aboard>0</Number of Parents/Children Aboard><Ticket Number>S.P. 3464</Ticket Number><Fare>8.1583</Fare><Cabin></Cabin><Port of Embarkation>S</Port of Embarkation></row>\n",
      "<row><Passenger ID>69</Passenger ID><Survival (1: Survived, 0: Died)>1</Survival (1: Survived, 0: Died)><Passenger Class>3</Passenger Class><Name>Andersson, Miss. Erna Alexandra</Name><Sex>female</Sex><Age>17</Age><Number of Siblings/Spouses Aboard>4</Number of Siblings/Spouses Aboard><Number of Parents/Children Aboard>2</Number of Parents/Children Aboard><Ticket Number>3101281</Ticket Number><Fare>7.925</Fare><Cabin></Cabin><Port of Embarkation>S</Port of Embarkation></row>\n",
      "<row><Passenger ID>70</Passenger ID><Survival (1: Survived, 0: Died)>0</Survival (1: Survived, 0: Died)><Passenger Class>3</Passenger Class><Name>Kink, Mr. Vincenz</Name><Sex>male</Sex><Age>26</Age><Number of Siblings/Spouses Aboard>2</Number of Siblings/Spouses Aboard><Number of Parents/Children Aboard>0</Number of Parents/Children Aboard><Ticket Number>315151</Ticket Number><Fare>8.6625</Fare><Cabin></Cabin><Port of Embarkation>S</Port of Embarkation></row>\n",
      "<row><Passenger ID>71</Passenger ID><Survival (1: Survived, 0: Died)>0</Survival (1: Survived, 0: Died)><Passenger Class>2</Passenger Class><Name>Jenkin, Mr. Stephen Curnow</Name><Sex>male</Sex><Age>32</Age><Number of Siblings/Spouses Aboard>0</Number of Siblings/Spouses Aboard><Number of Parents/Children Aboard>0</Number of Parents/Children Aboard><Ticket Number>C.A. 33111</Ticket Number><Fare>10.5</Fare><Cabin></Cabin><Port of Embarkation>S</Port of Embarkation></row>\n",
      "<row><Passenger ID>72</Passenger ID><Survival (1: Survived, 0: Died)>0</Survival (1: Survived, 0: Died)><Passenger Class>3</Passenger Class><Name>Goodwin, Miss. Lillian Amy</Name><Sex>female</Sex><Age>16</Age><Number of Siblings/Spouses Aboard>5</Number of Siblings/Spouses Aboard><Number of Parents/Children Aboard>2</Number of Parents/Children Aboard><Ticket Number>CA 2144</Ticket Number><Fare>46.9</Fare><Cabin></Cabin><Port of Embarkation>S</Port of Embarkation></row>\n",
      "<row><Passenger ID>73</Passenger ID><Survival (1: Survived, 0: Died)>0</Survival (1: Survived, 0: Died)><Passenger Class>2</Passenger Class><Name>Hood, Mr. Ambrose Jr</Name><Sex>male</Sex><Age>21</Age><Number of Siblings/Spouses Aboard>0</Number of Siblings/Spouses Aboard><Number of Parents/Children Aboard>0</Number of Parents/Children Aboard><Ticket Number>S.O.C. 14879</Ticket Number><Fare>73.5</Fare><Cabin></Cabin><Port of Embarkation>S</Port of Embarkation></row>\n",
      "<row><Passenger ID>74</Passenger ID><Survival (1: Survived, 0: Died)>0</Survival (1: Survived, 0: Died)><Passenger Class>3</Passenger Class><Name>Chronopoulos, Mr. Apostolos</Name><Sex>male</Sex><Age>26</Age><Number of Siblings/Spouses Aboard>1</Number of Siblings/Spouses Aboard><Number of Parents/Children Aboard>0</Number of Parents/Children Aboard><Ticket Number>2680</Ticket Number><Fare>14.4542</Fare><Cabin></Cabin><Port of Embarkation>C</Port of Embarkation></row>\n",
      "<row><Passenger ID>75</Passenger ID><Survival (1: Survived, 0: Died)>1</Survival (1: Survived, 0: Died)><Passenger Class>3</Passenger Class><Name>Bing, Mr. Lee</Name><Sex>male</Sex><Age>32</Age><Number of Siblings/Spouses Aboard>0</Number of Siblings/Spouses Aboard><Number of Parents/Children Aboard>0</Number of Parents/Children Aboard><Ticket Number>1601</Ticket Number><Fare>56.4958</Fare><Cabin></Cabin><Port of Embarkation>S</Port of Embarkation></row>\n",
      "<row><Passenger ID>76</Passenger ID><Survival (1: Survived, 0: Died)>0</Survival (1: Survived, 0: Died)><Passenger Class>3</Passenger Class><Name>Moen, Mr. Sigurd Hansen</Name><Sex>male</Sex><Age>25</Age><Number of Siblings/Spouses Aboard>0</Number of Siblings/Spouses Aboard><Number of Parents/Children Aboard>0</Number of Parents/Children Aboard><Ticket Number>348123</Ticket Number><Fare>7.65</Fare><Cabin>F G73</Cabin><Port of Embarkation>S</Port of Embarkation></row>\n",
      "<row><Passenger ID>77</Passenger ID><Survival (1: Survived, 0: Died)>0</Survival (1: Survived, 0: Died)><Passenger Class>3</Passenger Class><Name>Staneff, Mr. Ivan</Name><Sex>male</Sex><Age></Age><Number of Siblings/Spouses Aboard>0</Number of Siblings/Spouses Aboard><Number of Parents/Children Aboard>0</Number of Parents/Children Aboard><Ticket Number>349208</Ticket Number><Fare>7.8958</Fare><Cabin></Cabin><Port of Embarkation>S</Port of Embarkation></row>\n",
      "<row><Passenger ID>78</Passenger ID><Survival (1: Survived, 0: Died)>0</Survival (1: Survived, 0: Died)><Passenger Class>3</Passenger Class><Name>Moutal, Mr. Rahamin Haim</Name><Sex>male</Sex><Age></Age><Number of Siblings/Spouses Aboard>0</Number of Siblings/Spouses Aboard><Number of Parents/Children Aboard>0</Number of Parents/Children Aboard><Ticket Number>374746</Ticket Number><Fare>8.05</Fare><Cabin></Cabin><Port of Embarkation>S</Port of Embarkation></row>\n",
      "<row><Passenger ID>79</Passenger ID><Survival (1: Survived, 0: Died)>1</Survival (1: Survived, 0: Died)><Passenger Class>2</Passenger Class><Name>Caldwell, Master. Alden Gates</Name><Sex>male</Sex><Age>0.83</Age><Number of Siblings/Spouses Aboard>0</Number of Siblings/Spouses Aboard><Number of Parents/Children Aboard>2</Number of Parents/Children Aboard><Ticket Number>248738</Ticket Number><Fare>29</Fare><Cabin></Cabin><Port of Embarkation>S</Port of Embarkation></row>\n",
      "<row><Passenger ID>80</Passenger ID><Survival (1: Survived, 0: Died)>1</Survival (1: Survived, 0: Died)><Passenger Class>3</Passenger Class><Name>Dowdell, Miss. Elizabeth</Name><Sex>female</Sex><Age>30</Age><Number of Siblings/Spouses Aboard>0</Number of Siblings/Spouses Aboard><Number of Parents/Children Aboard>0</Number of Parents/Children Aboard><Ticket Number>364516</Ticket Number><Fare>12.475</Fare><Cabin></Cabin><Port of Embarkation>S</Port of Embarkation></row>\n",
      "<row><Passenger ID>81</Passenger ID><Survival (1: Survived, 0: Died)>0</Survival (1: Survived, 0: Died)><Passenger Class>3</Passenger Class><Name>Waelens, Mr. Achille</Name><Sex>male</Sex><Age>22</Age><Number of Siblings/Spouses Aboard>0</Number of Siblings/Spouses Aboard><Number of Parents/Children Aboard>0</Number of Parents/Children Aboard><Ticket Number>345767</Ticket Number><Fare>9</Fare><Cabin></Cabin><Port of Embarkation>S</Port of Embarkation></row>\n",
      "<row><Passenger ID>82</Passenger ID><Survival (1: Survived, 0: Died)>1</Survival (1: Survived, 0: Died)><Passenger Class>3</Passenger Class><Name>Sheerlinck, Mr. Jan Baptist</Name><Sex>male</Sex><Age>29</Age><Number of Siblings/Spouses Aboard>0</Number of Siblings/Spouses Aboard><Number of Parents/Children Aboard>0</Number of Parents/Children Aboard><Ticket Number>345779</Ticket Number><Fare>9.5</Fare><Cabin></Cabin><Port of Embarkation>S</Port of Embarkation></row>\n",
      "<row><Passenger ID>83</Passenger ID><Survival (1: Survived, 0: Died)>1</Survival (1: Survived, 0: Died)><Passenger Class>3</Passenger Class><Name>McDermott, Miss. Brigdet Delia</Name><Sex>female</Sex><Age></Age><Number of Siblings/Spouses Aboard>0</Number of Siblings/Spouses Aboard><Number of Parents/Children Aboard>0</Number of Parents/Children Aboard><Ticket Number>330932</Ticket Number><Fare>7.7875</Fare><Cabin></Cabin><Port of Embarkation>Q</Port of Embarkation></row>\n",
      "<row><Passenger ID>84</Passenger ID><Survival (1: Survived, 0: Died)>0</Survival (1: Survived, 0: Died)><Passenger Class>1</Passenger Class><Name>Carrau, Mr. Francisco M</Name><Sex>male</Sex><Age>28</Age><Number of Siblings/Spouses Aboard>0</Number of Siblings/Spouses Aboard><Number of Parents/Children Aboard>0</Number of Parents/Children Aboard><Ticket Number>113059</Ticket Number><Fare>47.1</Fare><Cabin></Cabin><Port of Embarkation>S</Port of Embarkation></row>\n",
      "<row><Passenger ID>85</Passenger ID><Survival (1: Survived, 0: Died)>1</Survival (1: Survived, 0: Died)><Passenger Class>2</Passenger Class><Name>Ilett, Miss. Bertha</Name><Sex>female</Sex><Age>17</Age><Number of Siblings/Spouses Aboard>0</Number of Siblings/Spouses Aboard><Number of Parents/Children Aboard>0</Number of Parents/Children Aboard><Ticket Number>SO/C 14885</Ticket Number><Fare>10.5</Fare><Cabin></Cabin><Port of Embarkation>S</Port of Embarkation></row>\n",
      "<row><Passenger ID>86</Passenger ID><Survival (1: Survived, 0: Died)>1</Survival (1: Survived, 0: Died)><Passenger Class>3</Passenger Class><Name>Backstrom, Mrs. Karl Alfred (Maria Mathilda Gustafsson)</Name><Sex>female</Sex><Age>33</Age><Number of Siblings/Spouses Aboard>3</Number of Siblings/Spouses Aboard><Number of Parents/Children Aboard>0</Number of Parents/Children Aboard><Ticket Number>3101278</Ticket Number><Fare>15.85</Fare><Cabin></Cabin><Port of Embarkation>S</Port of Embarkation></row>\n",
      "<row><Passenger ID>87</Passenger ID><Survival (1: Survived, 0: Died)>0</Survival (1: Survived, 0: Died)><Passenger Class>3</Passenger Class><Name>Ford, Mr. William Neal</Name><Sex>male</Sex><Age>16</Age><Number of Siblings/Spouses Aboard>1</Number of Siblings/Spouses Aboard><Number of Parents/Children Aboard>3</Number of Parents/Children Aboard><Ticket Number>W./C. 6608</Ticket Number><Fare>34.375</Fare><Cabin></Cabin><Port of Embarkation>S</Port of Embarkation></row>\n",
      "<row><Passenger ID>88</Passenger ID><Survival (1: Survived, 0: Died)>0</Survival (1: Survived, 0: Died)><Passenger Class>3</Passenger Class><Name>Slocovski, Mr. Selman Francis</Name><Sex>male</Sex><Age></Age><Number of Siblings/Spouses Aboard>0</Number of Siblings/Spouses Aboard><Number of Parents/Children Aboard>0</Number of Parents/Children Aboard><Ticket Number>SOTON/OQ 392086</Ticket Number><Fare>8.05</Fare><Cabin></Cabin><Port of Embarkation>S</Port of Embarkation></row>\n",
      "<row><Passenger ID>89</Passenger ID><Survival (1: Survived, 0: Died)>1</Survival (1: Survived, 0: Died)><Passenger Class>1</Passenger Class><Name>Fortune, Miss. Mabel Helen</Name><Sex>female</Sex><Age>23</Age><Number of Siblings/Spouses Aboard>3</Number of Siblings/Spouses Aboard><Number of Parents/Children Aboard>2</Number of Parents/Children Aboard><Ticket Number>19950</Ticket Number><Fare>263</Fare><Cabin>C23 C25 C27</Cabin><Port of Embarkation>S</Port of Embarkation></row>\n",
      "<row><Passenger ID>90</Passenger ID><Survival (1: Survived, 0: Died)>0</Survival (1: Survived, 0: Died)><Passenger Class>3</Passenger Class><Name>Celotti, Mr. Francesco</Name><Sex>male</Sex><Age>24</Age><Number of Siblings/Spouses Aboard>0</Number of Siblings/Spouses Aboard><Number of Parents/Children Aboard>0</Number of Parents/Children Aboard><Ticket Number>343275</Ticket Number><Fare>8.05</Fare><Cabin></Cabin><Port of Embarkation>S</Port of Embarkation></row>\n",
      "<row><Passenger ID>91</Passenger ID><Survival (1: Survived, 0: Died)>0</Survival (1: Survived, 0: Died)><Passenger Class>3</Passenger Class><Name>Christmann, Mr. Emil</Name><Sex>male</Sex><Age>29</Age><Number of Siblings/Spouses Aboard>0</Number of Siblings/Spouses Aboard><Number of Parents/Children Aboard>0</Number of Parents/Children Aboard><Ticket Number>343276</Ticket Number><Fare>8.05</Fare><Cabin></Cabin><Port of Embarkation>S</Port of Embarkation></row>\n",
      "<row><Passenger ID>92</Passenger ID><Survival (1: Survived, 0: Died)>0</Survival (1: Survived, 0: Died)><Passenger Class>3</Passenger Class><Name>Andreasson, Mr. Paul Edvin</Name><Sex>male</Sex><Age>20</Age><Number of Siblings/Spouses Aboard>0</Number of Siblings/Spouses Aboard><Number of Parents/Children Aboard>0</Number of Parents/Children Aboard><Ticket Number>347466</Ticket Number><Fare>7.8542</Fare><Cabin></Cabin><Port of Embarkation>S</Port of Embarkation></row>\n",
      "<row><Passenger ID>93</Passenger ID><Survival (1: Survived, 0: Died)>0</Survival (1: Survived, 0: Died)><Passenger Class>1</Passenger Class><Name>Chaffee, Mr. Herbert Fuller</Name><Sex>male</Sex><Age>46</Age><Number of Siblings/Spouses Aboard>1</Number of Siblings/Spouses Aboard><Number of Parents/Children Aboard>0</Number of Parents/Children Aboard><Ticket Number>W.E.P. 5734</Ticket Number><Fare>61.175</Fare><Cabin>E31</Cabin><Port of Embarkation>S</Port of Embarkation></row>\n",
      "<row><Passenger ID>94</Passenger ID><Survival (1: Survived, 0: Died)>0</Survival (1: Survived, 0: Died)><Passenger Class>3</Passenger Class><Name>Dean, Mr. Bertram Frank</Name><Sex>male</Sex><Age>26</Age><Number of Siblings/Spouses Aboard>1</Number of Siblings/Spouses Aboard><Number of Parents/Children Aboard>2</Number of Parents/Children Aboard><Ticket Number>C.A. 2315</Ticket Number><Fare>20.575</Fare><Cabin></Cabin><Port of Embarkation>S</Port of Embarkation></row>\n",
      "<row><Passenger ID>95</Passenger ID><Survival (1: Survived, 0: Died)>0</Survival (1: Survived, 0: Died)><Passenger Class>3</Passenger Class><Name>Coxon, Mr. Daniel</Name><Sex>male</Sex><Age>59</Age><Number of Siblings/Spouses Aboard>0</Number of Siblings/Spouses Aboard><Number of Parents/Children Aboard>0</Number of Parents/Children Aboard><Ticket Number>364500</Ticket Number><Fare>7.25</Fare><Cabin></Cabin><Port of Embarkation>S</Port of Embarkation></row>\n",
      "<row><Passenger ID>96</Passenger ID><Survival (1: Survived, 0: Died)>0</Survival (1: Survived, 0: Died)><Passenger Class>3</Passenger Class><Name>Shorney, Mr. Charles Joseph</Name><Sex>male</Sex><Age></Age><Number of Siblings/Spouses Aboard>0</Number of Siblings/Spouses Aboard><Number of Parents/Children Aboard>0</Number of Parents/Children Aboard><Ticket Number>374910</Ticket Number><Fare>8.05</Fare><Cabin></Cabin><Port of Embarkation>S</Port of Embarkation></row>\n",
      "<row><Passenger ID>97</Passenger ID><Survival (1: Survived, 0: Died)>0</Survival (1: Survived, 0: Died)><Passenger Class>1</Passenger Class><Name>Goldschmidt, Mr. George B</Name><Sex>male</Sex><Age>71</Age><Number of Siblings/Spouses Aboard>0</Number of Siblings/Spouses Aboard><Number of Parents/Children Aboard>0</Number of Parents/Children Aboard><Ticket Number>PC 17754</Ticket Number><Fare>34.6542</Fare><Cabin>A5</Cabin><Port of Embarkation>C</Port of Embarkation></row>\n",
      "<row><Passenger ID>98</Passenger ID><Survival (1: Survived, 0: Died)>1</Survival (1: Survived, 0: Died)><Passenger Class>1</Passenger Class><Name>Greenfield, Mr. William Bertram</Name><Sex>male</Sex><Age>23</Age><Number of Siblings/Spouses Aboard>0</Number of Siblings/Spouses Aboard><Number of Parents/Children Aboard>1</Number of Parents/Children Aboard><Ticket Number>PC 17759</Ticket Number><Fare>63.3583</Fare><Cabin>D10 D12</Cabin><Port of Embarkation>C</Port of Embarkation></row>\n",
      "<row><Passenger ID>99</Passenger ID><Survival (1: Survived, 0: Died)>1</Survival (1: Survived, 0: Died)><Passenger Class>2</Passenger Class><Name>Doling, Mrs. John T (Ada Julia Bone)</Name><Sex>female</Sex><Age>34</Age><Number of Siblings/Spouses Aboard>0</Number of Siblings/Spouses Aboard><Number of Parents/Children Aboard>1</Number of Parents/Children Aboard><Ticket Number>231919</Ticket Number><Fare>23</Fare><Cabin></Cabin><Port of Embarkation>S</Port of Embarkation></row>\n",
      "<row><Passenger ID>100</Passenger ID><Survival (1: Survived, 0: Died)>0</Survival (1: Survived, 0: Died)><Passenger Class>2</Passenger Class><Name>Kantor, Mr. Sinai</Name><Sex>male</Sex><Age>34</Age><Number of Siblings/Spouses Aboard>1</Number of Siblings/Spouses Aboard><Number of Parents/Children Aboard>0</Number of Parents/Children Aboard><Ticket Number>244367</Ticket Number><Fare>26</Fare><Cabin></Cabin><Port of Embarkation>S</Port of Embarkation></row>\n",
      "<row><Passenger ID>101</Passenger ID><Survival (1: Survived, 0: Died)>0</Survival (1: Survived, 0: Died)><Passenger Class>3</Passenger Class><Name>Petranec, Miss. Matilda</Name><Sex>female</Sex><Age>28</Age><Number of Siblings/Spouses Aboard>0</Number of Siblings/Spouses Aboard><Number of Parents/Children Aboard>0</Number of Parents/Children Aboard><Ticket Number>349245</Ticket Number><Fare>7.8958</Fare><Cabin></Cabin><Port of Embarkation>S</Port of Embarkation></row>\n",
      "<row><Passenger ID>102</Passenger ID><Survival (1: Survived, 0: Died)>0</Survival (1: Survived, 0: Died)><Passenger Class>3</Passenger Class><Name>Petroff, Mr. Pastcho (\"Pentcho\")</Name><Sex>male</Sex><Age></Age><Number of Siblings/Spouses Aboard>0</Number of Siblings/Spouses Aboard><Number of Parents/Children Aboard>0</Number of Parents/Children Aboard><Ticket Number>349215</Ticket Number><Fare>7.8958</Fare><Cabin></Cabin><Port of Embarkation>S</Port of Embarkation></row>\n",
      "<row><Passenger ID>103</Passenger ID><Survival (1: Survived, 0: Died)>0</Survival (1: Survived, 0: Died)><Passenger Class>1</Passenger Class><Name>White, Mr. Richard Frasar</Name><Sex>male</Sex><Age>21</Age><Number of Siblings/Spouses Aboard>0</Number of Siblings/Spouses Aboard><Number of Parents/Children Aboard>1</Number of Parents/Children Aboard><Ticket Number>35281</Ticket Number><Fare>77.2875</Fare><Cabin>D26</Cabin><Port of Embarkation>S</Port of Embarkation></row>\n",
      "<row><Passenger ID>104</Passenger ID><Survival (1: Survived, 0: Died)>0</Survival (1: Survived, 0: Died)><Passenger Class>3</Passenger Class><Name>Johansson, Mr. Gustaf Joel</Name><Sex>male</Sex><Age>33</Age><Number of Siblings/Spouses Aboard>0</Number of Siblings/Spouses Aboard><Number of Parents/Children Aboard>0</Number of Parents/Children Aboard><Ticket Number>7540</Ticket Number><Fare>8.6542</Fare><Cabin></Cabin><Port of Embarkation>S</Port of Embarkation></row>\n",
      "<row><Passenger ID>105</Passenger ID><Survival (1: Survived, 0: Died)>0</Survival (1: Survived, 0: Died)><Passenger Class>3</Passenger Class><Name>Gustafsson, Mr. Anders Vilhelm</Name><Sex>male</Sex><Age>37</Age><Number of Siblings/Spouses Aboard>2</Number of Siblings/Spouses Aboard><Number of Parents/Children Aboard>0</Number of Parents/Children Aboard><Ticket Number>3101276</Ticket Number><Fare>7.925</Fare><Cabin></Cabin><Port of Embarkation>S</Port of Embarkation></row>\n",
      "<row><Passenger ID>106</Passenger ID><Survival (1: Survived, 0: Died)>0</Survival (1: Survived, 0: Died)><Passenger Class>3</Passenger Class><Name>Mionoff, Mr. Stoytcho</Name><Sex>male</Sex><Age>28</Age><Number of Siblings/Spouses Aboard>0</Number of Siblings/Spouses Aboard><Number of Parents/Children Aboard>0</Number of Parents/Children Aboard><Ticket Number>349207</Ticket Number><Fare>7.8958</Fare><Cabin></Cabin><Port of Embarkation>S</Port of Embarkation></row>\n",
      "<row><Passenger ID>107</Passenger ID><Survival (1: Survived, 0: Died)>1</Survival (1: Survived, 0: Died)><Passenger Class>3</Passenger Class><Name>Salkjelsvik, Miss. Anna Kristine</Name><Sex>female</Sex><Age>21</Age><Number of Siblings/Spouses Aboard>0</Number of Siblings/Spouses Aboard><Number of Parents/Children Aboard>0</Number of Parents/Children Aboard><Ticket Number>343120</Ticket Number><Fare>7.65</Fare><Cabin></Cabin><Port of Embarkation>S</Port of Embarkation></row>\n",
      "<row><Passenger ID>108</Passenger ID><Survival (1: Survived, 0: Died)>1</Survival (1: Survived, 0: Died)><Passenger Class>3</Passenger Class><Name>Moss, Mr. Albert Johan</Name><Sex>male</Sex><Age></Age><Number of Siblings/Spouses Aboard>0</Number of Siblings/Spouses Aboard><Number of Parents/Children Aboard>0</Number of Parents/Children Aboard><Ticket Number>312991</Ticket Number><Fare>7.775</Fare><Cabin></Cabin><Port of Embarkation>S</Port of Embarkation></row>\n",
      "<row><Passenger ID>109</Passenger ID><Survival (1: Survived, 0: Died)>0</Survival (1: Survived, 0: Died)><Passenger Class>3</Passenger Class><Name>Rekic, Mr. Tido</Name><Sex>male</Sex><Age>38</Age><Number of Siblings/Spouses Aboard>0</Number of Siblings/Spouses Aboard><Number of Parents/Children Aboard>0</Number of Parents/Children Aboard><Ticket Number>349249</Ticket Number><Fare>7.8958</Fare><Cabin></Cabin><Port of Embarkation>S</Port of Embarkation></row>\n",
      "<row><Passenger ID>110</Passenger ID><Survival (1: Survived, 0: Died)>1</Survival (1: Survived, 0: Died)><Passenger Class>3</Passenger Class><Name>Moran, Miss. Bertha</Name><Sex>female</Sex><Age></Age><Number of Siblings/Spouses Aboard>1</Number of Siblings/Spouses Aboard><Number of Parents/Children Aboard>0</Number of Parents/Children Aboard><Ticket Number>371110</Ticket Number><Fare>24.15</Fare><Cabin></Cabin><Port of Embarkation>Q</Port of Embarkation></row>\n",
      "<row><Passenger ID>111</Passenger ID><Survival (1: Survived, 0: Died)>0</Survival (1: Survived, 0: Died)><Passenger Class>1</Passenger Class><Name>Porter, Mr. Walter Chamberlain</Name><Sex>male</Sex><Age>47</Age><Number of Siblings/Spouses Aboard>0</Number of Siblings/Spouses Aboard><Number of Parents/Children Aboard>0</Number of Parents/Children Aboard><Ticket Number>110465</Ticket Number><Fare>52</Fare><Cabin>C110</Cabin><Port of Embarkation>S</Port of Embarkation></row>\n",
      "<row><Passenger ID>112</Passenger ID><Survival (1: Survived, 0: Died)>0</Survival (1: Survived, 0: Died)><Passenger Class>3</Passenger Class><Name>Zabour, Miss. Hileni</Name><Sex>female</Sex><Age>14.5</Age><Number of Siblings/Spouses Aboard>1</Number of Siblings/Spouses Aboard><Number of Parents/Children Aboard>0</Number of Parents/Children Aboard><Ticket Number>2665</Ticket Number><Fare>14.4542</Fare><Cabin></Cabin><Port of Embarkation>C</Port of Embarkation></row>\n",
      "<row><Passenger ID>113</Passenger ID><Survival (1: Survived, 0: Died)>0</Survival (1: Survived, 0: Died)><Passenger Class>3</Passenger Class><Name>Barton, Mr. David John</Name><Sex>male</Sex><Age>22</Age><Number of Siblings/Spouses Aboard>0</Number of Siblings/Spouses Aboard><Number of Parents/Children Aboard>0</Number of Parents/Children Aboard><Ticket Number>324669</Ticket Number><Fare>8.05</Fare><Cabin></Cabin><Port of Embarkation>S</Port of Embarkation></row>\n",
      "<row><Passenger ID>114</Passenger ID><Survival (1: Survived, 0: Died)>0</Survival (1: Survived, 0: Died)><Passenger Class>3</Passenger Class><Name>Jussila, Miss. Katriina</Name><Sex>female</Sex><Age>20</Age><Number of Siblings/Spouses Aboard>1</Number of Siblings/Spouses Aboard><Number of Parents/Children Aboard>0</Number of Parents/Children Aboard><Ticket Number>4136</Ticket Number><Fare>9.825</Fare><Cabin></Cabin><Port of Embarkation>S</Port of Embarkation></row>\n",
      "<row><Passenger ID>115</Passenger ID><Survival (1: Survived, 0: Died)>0</Survival (1: Survived, 0: Died)><Passenger Class>3</Passenger Class><Name>Attalah, Miss. Malake</Name><Sex>female</Sex><Age>17</Age><Number of Siblings/Spouses Aboard>0</Number of Siblings/Spouses Aboard><Number of Parents/Children Aboard>0</Number of Parents/Children Aboard><Ticket Number>2627</Ticket Number><Fare>14.4583</Fare><Cabin></Cabin><Port of Embarkation>C</Port of Embarkation></row>\n",
      "<row><Passenger ID>116</Passenger ID><Survival (1: Survived, 0: Died)>0</Survival (1: Survived, 0: Died)><Passenger Class>3</Passenger Class><Name>Pekoniemi, Mr. Edvard</Name><Sex>male</Sex><Age>21</Age><Number of Siblings/Spouses Aboard>0</Number of Siblings/Spouses Aboard><Number of Parents/Children Aboard>0</Number of Parents/Children Aboard><Ticket Number>STON/O 2. 3101294</Ticket Number><Fare>7.925</Fare><Cabin></Cabin><Port of Embarkation>S</Port of Embarkation></row>\n",
      "<row><Passenger ID>117</Passenger ID><Survival (1: Survived, 0: Died)>0</Survival (1: Survived, 0: Died)><Passenger Class>3</Passenger Class><Name>Connors, Mr. Patrick</Name><Sex>male</Sex><Age>70.5</Age><Number of Siblings/Spouses Aboard>0</Number of Siblings/Spouses Aboard><Number of Parents/Children Aboard>0</Number of Parents/Children Aboard><Ticket Number>370369</Ticket Number><Fare>7.75</Fare><Cabin></Cabin><Port of Embarkation>Q</Port of Embarkation></row>\n",
      "<row><Passenger ID>118</Passenger ID><Survival (1: Survived, 0: Died)>0</Survival (1: Survived, 0: Died)><Passenger Class>2</Passenger Class><Name>Turpin, Mr. William John Robert</Name><Sex>male</Sex><Age>29</Age><Number of Siblings/Spouses Aboard>1</Number of Siblings/Spouses Aboard><Number of Parents/Children Aboard>0</Number of Parents/Children Aboard><Ticket Number>11668</Ticket Number><Fare>21</Fare><Cabin></Cabin><Port of Embarkation>S</Port of Embarkation></row>\n",
      "<row><Passenger ID>119</Passenger ID><Survival (1: Survived, 0: Died)>0</Survival (1: Survived, 0: Died)><Passenger Class>1</Passenger Class><Name>Baxter, Mr. Quigg Edmond</Name><Sex>male</Sex><Age>24</Age><Number of Siblings/Spouses Aboard>0</Number of Siblings/Spouses Aboard><Number of Parents/Children Aboard>1</Number of Parents/Children Aboard><Ticket Number>PC 17558</Ticket Number><Fare>247.5208</Fare><Cabin>B58 B60</Cabin><Port of Embarkation>C</Port of Embarkation></row>\n",
      "<row><Passenger ID>120</Passenger ID><Survival (1: Survived, 0: Died)>0</Survival (1: Survived, 0: Died)><Passenger Class>3</Passenger Class><Name>Andersson, Miss. Ellis Anna Maria</Name><Sex>female</Sex><Age>2</Age><Number of Siblings/Spouses Aboard>4</Number of Siblings/Spouses Aboard><Number of Parents/Children Aboard>2</Number of Parents/Children Aboard><Ticket Number>347082</Ticket Number><Fare>31.275</Fare><Cabin></Cabin><Port of Embarkation>S</Port of Embarkation></row>\n",
      "<row><Passenger ID>121</Passenger ID><Survival (1: Survived, 0: Died)>0</Survival (1: Survived, 0: Died)><Passenger Class>2</Passenger Class><Name>Hickman, Mr. Stanley George</Name><Sex>male</Sex><Age>21</Age><Number of Siblings/Spouses Aboard>2</Number of Siblings/Spouses Aboard><Number of Parents/Children Aboard>0</Number of Parents/Children Aboard><Ticket Number>S.O.C. 14879</Ticket Number><Fare>73.5</Fare><Cabin></Cabin><Port of Embarkation>S</Port of Embarkation></row>\n",
      "<row><Passenger ID>122</Passenger ID><Survival (1: Survived, 0: Died)>0</Survival (1: Survived, 0: Died)><Passenger Class>3</Passenger Class><Name>Moore, Mr. Leonard Charles</Name><Sex>male</Sex><Age></Age><Number of Siblings/Spouses Aboard>0</Number of Siblings/Spouses Aboard><Number of Parents/Children Aboard>0</Number of Parents/Children Aboard><Ticket Number>A4. 54510</Ticket Number><Fare>8.05</Fare><Cabin></Cabin><Port of Embarkation>S</Port of Embarkation></row>\n",
      "<row><Passenger ID>123</Passenger ID><Survival (1: Survived, 0: Died)>0</Survival (1: Survived, 0: Died)><Passenger Class>2</Passenger Class><Name>Nasser, Mr. Nicholas</Name><Sex>male</Sex><Age>32.5</Age><Number of Siblings/Spouses Aboard>1</Number of Siblings/Spouses Aboard><Number of Parents/Children Aboard>0</Number of Parents/Children Aboard><Ticket Number>237736</Ticket Number><Fare>30.0708</Fare><Cabin></Cabin><Port of Embarkation>C</Port of Embarkation></row>\n",
      "<row><Passenger ID>124</Passenger ID><Survival (1: Survived, 0: Died)>1</Survival (1: Survived, 0: Died)><Passenger Class>2</Passenger Class><Name>Webber, Miss. Susan</Name><Sex>female</Sex><Age>32.5</Age><Number of Siblings/Spouses Aboard>0</Number of Siblings/Spouses Aboard><Number of Parents/Children Aboard>0</Number of Parents/Children Aboard><Ticket Number>27267</Ticket Number><Fare>13</Fare><Cabin>E101</Cabin><Port of Embarkation>S</Port of Embarkation></row>\n",
      "<row><Passenger ID>125</Passenger ID><Survival (1: Survived, 0: Died)>0</Survival (1: Survived, 0: Died)><Passenger Class>1</Passenger Class><Name>White, Mr. Percival Wayland</Name><Sex>male</Sex><Age>54</Age><Number of Siblings/Spouses Aboard>0</Number of Siblings/Spouses Aboard><Number of Parents/Children Aboard>1</Number of Parents/Children Aboard><Ticket Number>35281</Ticket Number><Fare>77.2875</Fare><Cabin>D26</Cabin><Port of Embarkation>S</Port of Embarkation></row>\n",
      "<row><Passenger ID>126</Passenger ID><Survival (1: Survived, 0: Died)>1</Survival (1: Survived, 0: Died)><Passenger Class>3</Passenger Class><Name>Nicola-Yarred, Master. Elias</Name><Sex>male</Sex><Age>12</Age><Number of Siblings/Spouses Aboard>1</Number of Siblings/Spouses Aboard><Number of Parents/Children Aboard>0</Number of Parents/Children Aboard><Ticket Number>2651</Ticket Number><Fare>11.2417</Fare><Cabin></Cabin><Port of Embarkation>C</Port of Embarkation></row>\n",
      "<row><Passenger ID>127</Passenger ID><Survival (1: Survived, 0: Died)>0</Survival (1: Survived, 0: Died)><Passenger Class>3</Passenger Class><Name>McMahon, Mr. Martin</Name><Sex>male</Sex><Age></Age><Number of Siblings/Spouses Aboard>0</Number of Siblings/Spouses Aboard><Number of Parents/Children Aboard>0</Number of Parents/Children Aboard><Ticket Number>370372</Ticket Number><Fare>7.75</Fare><Cabin></Cabin><Port of Embarkation>Q</Port of Embarkation></row>\n",
      "<row><Passenger ID>128</Passenger ID><Survival (1: Survived, 0: Died)>1</Survival (1: Survived, 0: Died)><Passenger Class>3</Passenger Class><Name>Madsen, Mr. Fridtjof Arne</Name><Sex>male</Sex><Age>24</Age><Number of Siblings/Spouses Aboard>0</Number of Siblings/Spouses Aboard><Number of Parents/Children Aboard>0</Number of Parents/Children Aboard><Ticket Number>C 17369</Ticket Number><Fare>7.1417</Fare><Cabin></Cabin><Port of Embarkation>S</Port of Embarkation></row>\n",
      "<row><Passenger ID>129</Passenger ID><Survival (1: Survived, 0: Died)>1</Survival (1: Survived, 0: Died)><Passenger Class>3</Passenger Class><Name>Peter, Miss. Anna</Name><Sex>female</Sex><Age></Age><Number of Siblings/Spouses Aboard>1</Number of Siblings/Spouses Aboard><Number of Parents/Children Aboard>1</Number of Parents/Children Aboard><Ticket Number>2668</Ticket Number><Fare>22.3583</Fare><Cabin>F E69</Cabin><Port of Embarkation>C</Port of Embarkation></row>\n",
      "<row><Passenger ID>130</Passenger ID><Survival (1: Survived, 0: Died)>0</Survival (1: Survived, 0: Died)><Passenger Class>3</Passenger Class><Name>Ekstrom, Mr. Johan</Name><Sex>male</Sex><Age>45</Age><Number of Siblings/Spouses Aboard>0</Number of Siblings/Spouses Aboard><Number of Parents/Children Aboard>0</Number of Parents/Children Aboard><Ticket Number>347061</Ticket Number><Fare>6.975</Fare><Cabin></Cabin><Port of Embarkation>S</Port of Embarkation></row>\n",
      "<row><Passenger ID>131</Passenger ID><Survival (1: Survived, 0: Died)>0</Survival (1: Survived, 0: Died)><Passenger Class>3</Passenger Class><Name>Drazenoic, Mr. Jozef</Name><Sex>male</Sex><Age>33</Age><Number of Siblings/Spouses Aboard>0</Number of Siblings/Spouses Aboard><Number of Parents/Children Aboard>0</Number of Parents/Children Aboard><Ticket Number>349241</Ticket Number><Fare>7.8958</Fare><Cabin></Cabin><Port of Embarkation>C</Port of Embarkation></row>\n",
      "<row><Passenger ID>132</Passenger ID><Survival (1: Survived, 0: Died)>0</Survival (1: Survived, 0: Died)><Passenger Class>3</Passenger Class><Name>Coelho, Mr. Domingos Fernandeo</Name><Sex>male</Sex><Age>20</Age><Number of Siblings/Spouses Aboard>0</Number of Siblings/Spouses Aboard><Number of Parents/Children Aboard>0</Number of Parents/Children Aboard><Ticket Number>SOTON/O.Q. 3101307</Ticket Number><Fare>7.05</Fare><Cabin></Cabin><Port of Embarkation>S</Port of Embarkation></row>\n",
      "<row><Passenger ID>133</Passenger ID><Survival (1: Survived, 0: Died)>0</Survival (1: Survived, 0: Died)><Passenger Class>3</Passenger Class><Name>Robins, Mrs. Alexander A (Grace Charity Laury)</Name><Sex>female</Sex><Age>47</Age><Number of Siblings/Spouses Aboard>1</Number of Siblings/Spouses Aboard><Number of Parents/Children Aboard>0</Number of Parents/Children Aboard><Ticket Number>A/5. 3337</Ticket Number><Fare>14.5</Fare><Cabin></Cabin><Port of Embarkation>S</Port of Embarkation></row>\n",
      "<row><Passenger ID>134</Passenger ID><Survival (1: Survived, 0: Died)>1</Survival (1: Survived, 0: Died)><Passenger Class>2</Passenger Class><Name>Weisz, Mrs. Leopold (Mathilde Francoise Pede)</Name><Sex>female</Sex><Age>29</Age><Number of Siblings/Spouses Aboard>1</Number of Siblings/Spouses Aboard><Number of Parents/Children Aboard>0</Number of Parents/Children Aboard><Ticket Number>228414</Ticket Number><Fare>26</Fare><Cabin></Cabin><Port of Embarkation>S</Port of Embarkation></row>\n",
      "<row><Passenger ID>135</Passenger ID><Survival (1: Survived, 0: Died)>0</Survival (1: Survived, 0: Died)><Passenger Class>2</Passenger Class><Name>Sobey, Mr. Samuel James Hayden</Name><Sex>male</Sex><Age>25</Age><Number of Siblings/Spouses Aboard>0</Number of Siblings/Spouses Aboard><Number of Parents/Children Aboard>0</Number of Parents/Children Aboard><Ticket Number>C.A. 29178</Ticket Number><Fare>13</Fare><Cabin></Cabin><Port of Embarkation>S</Port of Embarkation></row>\n",
      "<row><Passenger ID>136</Passenger ID><Survival (1: Survived, 0: Died)>0</Survival (1: Survived, 0: Died)><Passenger Class>2</Passenger Class><Name>Richard, Mr. Emile</Name><Sex>male</Sex><Age>23</Age><Number of Siblings/Spouses Aboard>0</Number of Siblings/Spouses Aboard><Number of Parents/Children Aboard>0</Number of Parents/Children Aboard><Ticket Number>SC/PARIS 2133</Ticket Number><Fare>15.0458</Fare><Cabin></Cabin><Port of Embarkation>C</Port of Embarkation></row>\n",
      "<row><Passenger ID>137</Passenger ID><Survival (1: Survived, 0: Died)>1</Survival (1: Survived, 0: Died)><Passenger Class>1</Passenger Class><Name>Newsom, Miss. Helen Monypeny</Name><Sex>female</Sex><Age>19</Age><Number of Siblings/Spouses Aboard>0</Number of Siblings/Spouses Aboard><Number of Parents/Children Aboard>2</Number of Parents/Children Aboard><Ticket Number>11752</Ticket Number><Fare>26.2833</Fare><Cabin>D47</Cabin><Port of Embarkation>S</Port of Embarkation></row>\n",
      "<row><Passenger ID>138</Passenger ID><Survival (1: Survived, 0: Died)>0</Survival (1: Survived, 0: Died)><Passenger Class>1</Passenger Class><Name>Futrelle, Mr. Jacques Heath</Name><Sex>male</Sex><Age>37</Age><Number of Siblings/Spouses Aboard>1</Number of Siblings/Spouses Aboard><Number of Parents/Children Aboard>0</Number of Parents/Children Aboard><Ticket Number>113803</Ticket Number><Fare>53.1</Fare><Cabin>C123</Cabin><Port of Embarkation>S</Port of Embarkation></row>\n",
      "<row><Passenger ID>139</Passenger ID><Survival (1: Survived, 0: Died)>0</Survival (1: Survived, 0: Died)><Passenger Class>3</Passenger Class><Name>Osen, Mr. Olaf Elon</Name><Sex>male</Sex><Age>16</Age><Number of Siblings/Spouses Aboard>0</Number of Siblings/Spouses Aboard><Number of Parents/Children Aboard>0</Number of Parents/Children Aboard><Ticket Number>7534</Ticket Number><Fare>9.2167</Fare><Cabin></Cabin><Port of Embarkation>S</Port of Embarkation></row>\n",
      "<row><Passenger ID>140</Passenger ID><Survival (1: Survived, 0: Died)>0</Survival (1: Survived, 0: Died)><Passenger Class>1</Passenger Class><Name>Giglio, Mr. Victor</Name><Sex>male</Sex><Age>24</Age><Number of Siblings/Spouses Aboard>0</Number of Siblings/Spouses Aboard><Number of Parents/Children Aboard>0</Number of Parents/Children Aboard><Ticket Number>PC 17593</Ticket Number><Fare>79.2</Fare><Cabin>B86</Cabin><Port of Embarkation>C</Port of Embarkation></row>\n",
      "<row><Passenger ID>141</Passenger ID><Survival (1: Survived, 0: Died)>0</Survival (1: Survived, 0: Died)><Passenger Class>3</Passenger Class><Name>Boulos, Mrs. Joseph (Sultana)</Name><Sex>female</Sex><Age></Age><Number of Siblings/Spouses Aboard>0</Number of Siblings/Spouses Aboard><Number of Parents/Children Aboard>2</Number of Parents/Children Aboard><Ticket Number>2678</Ticket Number><Fare>15.2458</Fare><Cabin></Cabin><Port of Embarkation>C</Port of Embarkation></row>\n",
      "<row><Passenger ID>142</Passenger ID><Survival (1: Survived, 0: Died)>1</Survival (1: Survived, 0: Died)><Passenger Class>3</Passenger Class><Name>Nysten, Miss. Anna Sofia</Name><Sex>female</Sex><Age>22</Age><Number of Siblings/Spouses Aboard>0</Number of Siblings/Spouses Aboard><Number of Parents/Children Aboard>0</Number of Parents/Children Aboard><Ticket Number>347081</Ticket Number><Fare>7.75</Fare><Cabin></Cabin><Port of Embarkation>S</Port of Embarkation></row>\n",
      "<row><Passenger ID>143</Passenger ID><Survival (1: Survived, 0: Died)>1</Survival (1: Survived, 0: Died)><Passenger Class>3</Passenger Class><Name>Hakkarainen, Mrs. Pekka Pietari (Elin Matilda Dolck)</Name><Sex>female</Sex><Age>24</Age><Number of Siblings/Spouses Aboard>1</Number of Siblings/Spouses Aboard><Number of Parents/Children Aboard>0</Number of Parents/Children Aboard><Ticket Number>STON/O2. 3101279</Ticket Number><Fare>15.85</Fare><Cabin></Cabin><Port of Embarkation>S</Port of Embarkation></row>\n",
      "<row><Passenger ID>144</Passenger ID><Survival (1: Survived, 0: Died)>0</Survival (1: Survived, 0: Died)><Passenger Class>3</Passenger Class><Name>Burke, Mr. Jeremiah</Name><Sex>male</Sex><Age>19</Age><Number of Siblings/Spouses Aboard>0</Number of Siblings/Spouses Aboard><Number of Parents/Children Aboard>0</Number of Parents/Children Aboard><Ticket Number>365222</Ticket Number><Fare>6.75</Fare><Cabin></Cabin><Port of Embarkation>Q</Port of Embarkation></row>\n",
      "<row><Passenger ID>145</Passenger ID><Survival (1: Survived, 0: Died)>0</Survival (1: Survived, 0: Died)><Passenger Class>2</Passenger Class><Name>Andrew, Mr. Edgardo Samuel</Name><Sex>male</Sex><Age>18</Age><Number of Siblings/Spouses Aboard>0</Number of Siblings/Spouses Aboard><Number of Parents/Children Aboard>0</Number of Parents/Children Aboard><Ticket Number>231945</Ticket Number><Fare>11.5</Fare><Cabin></Cabin><Port of Embarkation>S</Port of Embarkation></row>\n",
      "<row><Passenger ID>146</Passenger ID><Survival (1: Survived, 0: Died)>0</Survival (1: Survived, 0: Died)><Passenger Class>2</Passenger Class><Name>Nicholls, Mr. Joseph Charles</Name><Sex>male</Sex><Age>19</Age><Number of Siblings/Spouses Aboard>1</Number of Siblings/Spouses Aboard><Number of Parents/Children Aboard>1</Number of Parents/Children Aboard><Ticket Number>C.A. 33112</Ticket Number><Fare>36.75</Fare><Cabin></Cabin><Port of Embarkation>S</Port of Embarkation></row>\n",
      "<row><Passenger ID>147</Passenger ID><Survival (1: Survived, 0: Died)>1</Survival (1: Survived, 0: Died)><Passenger Class>3</Passenger Class><Name>Andersson, Mr. August Edvard (\"Wennerstrom\")</Name><Sex>male</Sex><Age>27</Age><Number of Siblings/Spouses Aboard>0</Number of Siblings/Spouses Aboard><Number of Parents/Children Aboard>0</Number of Parents/Children Aboard><Ticket Number>350043</Ticket Number><Fare>7.7958</Fare><Cabin></Cabin><Port of Embarkation>S</Port of Embarkation></row>\n",
      "<row><Passenger ID>148</Passenger ID><Survival (1: Survived, 0: Died)>0</Survival (1: Survived, 0: Died)><Passenger Class>3</Passenger Class><Name>Ford, Miss. Robina Maggie \"Ruby\"</Name><Sex>female</Sex><Age>9</Age><Number of Siblings/Spouses Aboard>2</Number of Siblings/Spouses Aboard><Number of Parents/Children Aboard>2</Number of Parents/Children Aboard><Ticket Number>W./C. 6608</Ticket Number><Fare>34.375</Fare><Cabin></Cabin><Port of Embarkation>S</Port of Embarkation></row>\n",
      "<row><Passenger ID>149</Passenger ID><Survival (1: Survived, 0: Died)>0</Survival (1: Survived, 0: Died)><Passenger Class>2</Passenger Class><Name>Navratil, Mr. Michel (\"Louis M Hoffman\")</Name><Sex>male</Sex><Age>36.5</Age><Number of Siblings/Spouses Aboard>0</Number of Siblings/Spouses Aboard><Number of Parents/Children Aboard>2</Number of Parents/Children Aboard><Ticket Number>230080</Ticket Number><Fare>26</Fare><Cabin>F2</Cabin><Port of Embarkation>S</Port of Embarkation></row>\n",
      "<row><Passenger ID>150</Passenger ID><Survival (1: Survived, 0: Died)>0</Survival (1: Survived, 0: Died)><Passenger Class>2</Passenger Class><Name>Byles, Rev. Thomas Roussel Davids</Name><Sex>male</Sex><Age>42</Age><Number of Siblings/Spouses Aboard>0</Number of Siblings/Spouses Aboard><Number of Parents/Children Aboard>0</Number of Parents/Children Aboard><Ticket Number>244310</Ticket Number><Fare>13</Fare><Cabin></Cabin><Port of Embarkation>S</Port of Embarkation></row>\n",
      "<row><Passenger ID>151</Passenger ID><Survival (1: Survived, 0: Died)>0</Survival (1: Survived, 0: Died)><Passenger Class>2</Passenger Class><Name>Bateman, Rev. Robert James</Name><Sex>male</Sex><Age>51</Age><Number of Siblings/Spouses Aboard>0</Number of Siblings/Spouses Aboard><Number of Parents/Children Aboard>0</Number of Parents/Children Aboard><Ticket Number>S.O.P. 1166</Ticket Number><Fare>12.525</Fare><Cabin></Cabin><Port of Embarkation>S</Port of Embarkation></row>\n",
      "<row><Passenger ID>152</Passenger ID><Survival (1: Survived, 0: Died)>1</Survival (1: Survived, 0: Died)><Passenger Class>1</Passenger Class><Name>Pears, Mrs. Thomas (Edith Wearne)</Name><Sex>female</Sex><Age>22</Age><Number of Siblings/Spouses Aboard>1</Number of Siblings/Spouses Aboard><Number of Parents/Children Aboard>0</Number of Parents/Children Aboard><Ticket Number>113776</Ticket Number><Fare>66.6</Fare><Cabin>C2</Cabin><Port of Embarkation>S</Port of Embarkation></row>\n",
      "<row><Passenger ID>153</Passenger ID><Survival (1: Survived, 0: Died)>0</Survival (1: Survived, 0: Died)><Passenger Class>3</Passenger Class><Name>Meo, Mr. Alfonzo</Name><Sex>male</Sex><Age>55.5</Age><Number of Siblings/Spouses Aboard>0</Number of Siblings/Spouses Aboard><Number of Parents/Children Aboard>0</Number of Parents/Children Aboard><Ticket Number>A.5. 11206</Ticket Number><Fare>8.05</Fare><Cabin></Cabin><Port of Embarkation>S</Port of Embarkation></row>\n",
      "<row><Passenger ID>154</Passenger ID><Survival (1: Survived, 0: Died)>0</Survival (1: Survived, 0: Died)><Passenger Class>3</Passenger Class><Name>van Billiard, Mr. Austin Blyler</Name><Sex>male</Sex><Age>40.5</Age><Number of Siblings/Spouses Aboard>0</Number of Siblings/Spouses Aboard><Number of Parents/Children Aboard>2</Number of Parents/Children Aboard><Ticket Number>A/5. 851</Ticket Number><Fare>14.5</Fare><Cabin></Cabin><Port of Embarkation>S</Port of Embarkation></row>\n",
      "<row><Passenger ID>155</Passenger ID><Survival (1: Survived, 0: Died)>0</Survival (1: Survived, 0: Died)><Passenger Class>3</Passenger Class><Name>Olsen, Mr. Ole Martin</Name><Sex>male</Sex><Age></Age><Number of Siblings/Spouses Aboard>0</Number of Siblings/Spouses Aboard><Number of Parents/Children Aboard>0</Number of Parents/Children Aboard><Ticket Number>Fa 265302</Ticket Number><Fare>7.3125</Fare><Cabin></Cabin><Port of Embarkation>S</Port of Embarkation></row>\n",
      "<row><Passenger ID>156</Passenger ID><Survival (1: Survived, 0: Died)>0</Survival (1: Survived, 0: Died)><Passenger Class>1</Passenger Class><Name>Williams, Mr. Charles Duane</Name><Sex>male</Sex><Age>51</Age><Number of Siblings/Spouses Aboard>0</Number of Siblings/Spouses Aboard><Number of Parents/Children Aboard>1</Number of Parents/Children Aboard><Ticket Number>PC 17597</Ticket Number><Fare>61.3792</Fare><Cabin></Cabin><Port of Embarkation>C</Port of Embarkation></row>\n",
      "<row><Passenger ID>157</Passenger ID><Survival (1: Survived, 0: Died)>1</Survival (1: Survived, 0: Died)><Passenger Class>3</Passenger Class><Name>Gilnagh, Miss. Katherine \"Katie\"</Name><Sex>female</Sex><Age>16</Age><Number of Siblings/Spouses Aboard>0</Number of Siblings/Spouses Aboard><Number of Parents/Children Aboard>0</Number of Parents/Children Aboard><Ticket Number>35851</Ticket Number><Fare>7.7333</Fare><Cabin></Cabin><Port of Embarkation>Q</Port of Embarkation></row>\n",
      "<row><Passenger ID>158</Passenger ID><Survival (1: Survived, 0: Died)>0</Survival (1: Survived, 0: Died)><Passenger Class>3</Passenger Class><Name>Corn, Mr. Harry</Name><Sex>male</Sex><Age>30</Age><Number of Siblings/Spouses Aboard>0</Number of Siblings/Spouses Aboard><Number of Parents/Children Aboard>0</Number of Parents/Children Aboard><Ticket Number>SOTON/OQ 392090</Ticket Number><Fare>8.05</Fare><Cabin></Cabin><Port of Embarkation>S</Port of Embarkation></row>\n",
      "<row><Passenger ID>159</Passenger ID><Survival (1: Survived, 0: Died)>0</Survival (1: Survived, 0: Died)><Passenger Class>3</Passenger Class><Name>Smiljanic, Mr. Mile</Name><Sex>male</Sex><Age></Age><Number of Siblings/Spouses Aboard>0</Number of Siblings/Spouses Aboard><Number of Parents/Children Aboard>0</Number of Parents/Children Aboard><Ticket Number>315037</Ticket Number><Fare>8.6625</Fare><Cabin></Cabin><Port of Embarkation>S</Port of Embarkation></row>\n",
      "<row><Passenger ID>160</Passenger ID><Survival (1: Survived, 0: Died)>0</Survival (1: Survived, 0: Died)><Passenger Class>3</Passenger Class><Name>Sage, Master. Thomas Henry</Name><Sex>male</Sex><Age></Age><Number of Siblings/Spouses Aboard>8</Number of Siblings/Spouses Aboard><Number of Parents/Children Aboard>2</Number of Parents/Children Aboard><Ticket Number>CA. 2343</Ticket Number><Fare>69.55</Fare><Cabin></Cabin><Port of Embarkation>S</Port of Embarkation></row>\n",
      "<row><Passenger ID>161</Passenger ID><Survival (1: Survived, 0: Died)>0</Survival (1: Survived, 0: Died)><Passenger Class>3</Passenger Class><Name>Cribb, Mr. John Hatfield</Name><Sex>male</Sex><Age>44</Age><Number of Siblings/Spouses Aboard>0</Number of Siblings/Spouses Aboard><Number of Parents/Children Aboard>1</Number of Parents/Children Aboard><Ticket Number>371362</Ticket Number><Fare>16.1</Fare><Cabin></Cabin><Port of Embarkation>S</Port of Embarkation></row>\n",
      "<row><Passenger ID>162</Passenger ID><Survival (1: Survived, 0: Died)>1</Survival (1: Survived, 0: Died)><Passenger Class>2</Passenger Class><Name>Watt, Mrs. James (Elizabeth \"Bessie\" Inglis Milne)</Name><Sex>female</Sex><Age>40</Age><Number of Siblings/Spouses Aboard>0</Number of Siblings/Spouses Aboard><Number of Parents/Children Aboard>0</Number of Parents/Children Aboard><Ticket Number>C.A. 33595</Ticket Number><Fare>15.75</Fare><Cabin></Cabin><Port of Embarkation>S</Port of Embarkation></row>\n",
      "<row><Passenger ID>163</Passenger ID><Survival (1: Survived, 0: Died)>0</Survival (1: Survived, 0: Died)><Passenger Class>3</Passenger Class><Name>Bengtsson, Mr. John Viktor</Name><Sex>male</Sex><Age>26</Age><Number of Siblings/Spouses Aboard>0</Number of Siblings/Spouses Aboard><Number of Parents/Children Aboard>0</Number of Parents/Children Aboard><Ticket Number>347068</Ticket Number><Fare>7.775</Fare><Cabin></Cabin><Port of Embarkation>S</Port of Embarkation></row>\n",
      "<row><Passenger ID>164</Passenger ID><Survival (1: Survived, 0: Died)>0</Survival (1: Survived, 0: Died)><Passenger Class>3</Passenger Class><Name>Calic, Mr. Jovo</Name><Sex>male</Sex><Age>17</Age><Number of Siblings/Spouses Aboard>0</Number of Siblings/Spouses Aboard><Number of Parents/Children Aboard>0</Number of Parents/Children Aboard><Ticket Number>315093</Ticket Number><Fare>8.6625</Fare><Cabin></Cabin><Port of Embarkation>S</Port of Embarkation></row>\n",
      "<row><Passenger ID>165</Passenger ID><Survival (1: Survived, 0: Died)>0</Survival (1: Survived, 0: Died)><Passenger Class>3</Passenger Class><Name>Panula, Master. Eino Viljami</Name><Sex>male</Sex><Age>1</Age><Number of Siblings/Spouses Aboard>4</Number of Siblings/Spouses Aboard><Number of Parents/Children Aboard>1</Number of Parents/Children Aboard><Ticket Number>3101295</Ticket Number><Fare>39.6875</Fare><Cabin></Cabin><Port of Embarkation>S</Port of Embarkation></row>\n",
      "<row><Passenger ID>166</Passenger ID><Survival (1: Survived, 0: Died)>1</Survival (1: Survived, 0: Died)><Passenger Class>3</Passenger Class><Name>Goldsmith, Master. Frank John William \"Frankie\"</Name><Sex>male</Sex><Age>9</Age><Number of Siblings/Spouses Aboard>0</Number of Siblings/Spouses Aboard><Number of Parents/Children Aboard>2</Number of Parents/Children Aboard><Ticket Number>363291</Ticket Number><Fare>20.525</Fare><Cabin></Cabin><Port of Embarkation>S</Port of Embarkation></row>\n",
      "<row><Passenger ID>167</Passenger ID><Survival (1: Survived, 0: Died)>1</Survival (1: Survived, 0: Died)><Passenger Class>1</Passenger Class><Name>Chibnall, Mrs. (Edith Martha Bowerman)</Name><Sex>female</Sex><Age></Age><Number of Siblings/Spouses Aboard>0</Number of Siblings/Spouses Aboard><Number of Parents/Children Aboard>1</Number of Parents/Children Aboard><Ticket Number>113505</Ticket Number><Fare>55</Fare><Cabin>E33</Cabin><Port of Embarkation>S</Port of Embarkation></row>\n",
      "<row><Passenger ID>168</Passenger ID><Survival (1: Survived, 0: Died)>0</Survival (1: Survived, 0: Died)><Passenger Class>3</Passenger Class><Name>Skoog, Mrs. William (Anna Bernhardina Karlsson)</Name><Sex>female</Sex><Age>45</Age><Number of Siblings/Spouses Aboard>1</Number of Siblings/Spouses Aboard><Number of Parents/Children Aboard>4</Number of Parents/Children Aboard><Ticket Number>347088</Ticket Number><Fare>27.9</Fare><Cabin></Cabin><Port of Embarkation>S</Port of Embarkation></row>\n",
      "<row><Passenger ID>169</Passenger ID><Survival (1: Survived, 0: Died)>0</Survival (1: Survived, 0: Died)><Passenger Class>1</Passenger Class><Name>Baumann, Mr. John D</Name><Sex>male</Sex><Age></Age><Number of Siblings/Spouses Aboard>0</Number of Siblings/Spouses Aboard><Number of Parents/Children Aboard>0</Number of Parents/Children Aboard><Ticket Number>PC 17318</Ticket Number><Fare>25.925</Fare><Cabin></Cabin><Port of Embarkation>S</Port of Embarkation></row>\n",
      "<row><Passenger ID>170</Passenger ID><Survival (1: Survived, 0: Died)>0</Survival (1: Survived, 0: Died)><Passenger Class>3</Passenger Class><Name>Ling, Mr. Lee</Name><Sex>male</Sex><Age>28</Age><Number of Siblings/Spouses Aboard>0</Number of Siblings/Spouses Aboard><Number of Parents/Children Aboard>0</Number of Parents/Children Aboard><Ticket Number>1601</Ticket Number><Fare>56.4958</Fare><Cabin></Cabin><Port of Embarkation>S</Port of Embarkation></row>\n",
      "<row><Passenger ID>171</Passenger ID><Survival (1: Survived, 0: Died)>0</Survival (1: Survived, 0: Died)><Passenger Class>1</Passenger Class><Name>Van der hoef, Mr. Wyckoff</Name><Sex>male</Sex><Age>61</Age><Number of Siblings/Spouses Aboard>0</Number of Siblings/Spouses Aboard><Number of Parents/Children Aboard>0</Number of Parents/Children Aboard><Ticket Number>111240</Ticket Number><Fare>33.5</Fare><Cabin>B19</Cabin><Port of Embarkation>S</Port of Embarkation></row>\n",
      "<row><Passenger ID>172</Passenger ID><Survival (1: Survived, 0: Died)>0</Survival (1: Survived, 0: Died)><Passenger Class>3</Passenger Class><Name>Rice, Master. Arthur</Name><Sex>male</Sex><Age>4</Age><Number of Siblings/Spouses Aboard>4</Number of Siblings/Spouses Aboard><Number of Parents/Children Aboard>1</Number of Parents/Children Aboard><Ticket Number>382652</Ticket Number><Fare>29.125</Fare><Cabin></Cabin><Port of Embarkation>Q</Port of Embarkation></row>\n",
      "<row><Passenger ID>173</Passenger ID><Survival (1: Survived, 0: Died)>1</Survival (1: Survived, 0: Died)><Passenger Class>3</Passenger Class><Name>Johnson, Miss. Eleanor Ileen</Name><Sex>female</Sex><Age>1</Age><Number of Siblings/Spouses Aboard>1</Number of Siblings/Spouses Aboard><Number of Parents/Children Aboard>1</Number of Parents/Children Aboard><Ticket Number>347742</Ticket Number><Fare>11.1333</Fare><Cabin></Cabin><Port of Embarkation>S</Port of Embarkation></row>\n",
      "<row><Passenger ID>174</Passenger ID><Survival (1: Survived, 0: Died)>0</Survival (1: Survived, 0: Died)><Passenger Class>3</Passenger Class><Name>Sivola, Mr. Antti Wilhelm</Name><Sex>male</Sex><Age>21</Age><Number of Siblings/Spouses Aboard>0</Number of Siblings/Spouses Aboard><Number of Parents/Children Aboard>0</Number of Parents/Children Aboard><Ticket Number>STON/O 2. 3101280</Ticket Number><Fare>7.925</Fare><Cabin></Cabin><Port of Embarkation>S</Port of Embarkation></row>\n",
      "<row><Passenger ID>175</Passenger ID><Survival (1: Survived, 0: Died)>0</Survival (1: Survived, 0: Died)><Passenger Class>1</Passenger Class><Name>Smith, Mr. James Clinch</Name><Sex>male</Sex><Age>56</Age><Number of Siblings/Spouses Aboard>0</Number of Siblings/Spouses Aboard><Number of Parents/Children Aboard>0</Number of Parents/Children Aboard><Ticket Number>17764</Ticket Number><Fare>30.6958</Fare><Cabin>A7</Cabin><Port of Embarkation>C</Port of Embarkation></row>\n",
      "<row><Passenger ID>176</Passenger ID><Survival (1: Survived, 0: Died)>0</Survival (1: Survived, 0: Died)><Passenger Class>3</Passenger Class><Name>Klasen, Mr. Klas Albin</Name><Sex>male</Sex><Age>18</Age><Number of Siblings/Spouses Aboard>1</Number of Siblings/Spouses Aboard><Number of Parents/Children Aboard>1</Number of Parents/Children Aboard><Ticket Number>350404</Ticket Number><Fare>7.8542</Fare><Cabin></Cabin><Port of Embarkation>S</Port of Embarkation></row>\n",
      "<row><Passenger ID>177</Passenger ID><Survival (1: Survived, 0: Died)>0</Survival (1: Survived, 0: Died)><Passenger Class>3</Passenger Class><Name>Lefebre, Master. Henry Forbes</Name><Sex>male</Sex><Age></Age><Number of Siblings/Spouses Aboard>3</Number of Siblings/Spouses Aboard><Number of Parents/Children Aboard>1</Number of Parents/Children Aboard><Ticket Number>4133</Ticket Number><Fare>25.4667</Fare><Cabin></Cabin><Port of Embarkation>S</Port of Embarkation></row>\n",
      "<row><Passenger ID>178</Passenger ID><Survival (1: Survived, 0: Died)>0</Survival (1: Survived, 0: Died)><Passenger Class>1</Passenger Class><Name>Isham, Miss. Ann Elizabeth</Name><Sex>female</Sex><Age>50</Age><Number of Siblings/Spouses Aboard>0</Number of Siblings/Spouses Aboard><Number of Parents/Children Aboard>0</Number of Parents/Children Aboard><Ticket Number>PC 17595</Ticket Number><Fare>28.7125</Fare><Cabin>C49</Cabin><Port of Embarkation>C</Port of Embarkation></row>\n",
      "<row><Passenger ID>179</Passenger ID><Survival (1: Survived, 0: Died)>0</Survival (1: Survived, 0: Died)><Passenger Class>2</Passenger Class><Name>Hale, Mr. Reginald</Name><Sex>male</Sex><Age>30</Age><Number of Siblings/Spouses Aboard>0</Number of Siblings/Spouses Aboard><Number of Parents/Children Aboard>0</Number of Parents/Children Aboard><Ticket Number>250653</Ticket Number><Fare>13</Fare><Cabin></Cabin><Port of Embarkation>S</Port of Embarkation></row>\n",
      "<row><Passenger ID>180</Passenger ID><Survival (1: Survived, 0: Died)>0</Survival (1: Survived, 0: Died)><Passenger Class>3</Passenger Class><Name>Leonard, Mr. Lionel</Name><Sex>male</Sex><Age>36</Age><Number of Siblings/Spouses Aboard>0</Number of Siblings/Spouses Aboard><Number of Parents/Children Aboard>0</Number of Parents/Children Aboard><Ticket Number>LINE</Ticket Number><Fare>0</Fare><Cabin></Cabin><Port of Embarkation>S</Port of Embarkation></row>\n",
      "<row><Passenger ID>181</Passenger ID><Survival (1: Survived, 0: Died)>0</Survival (1: Survived, 0: Died)><Passenger Class>3</Passenger Class><Name>Sage, Miss. Constance Gladys</Name><Sex>female</Sex><Age></Age><Number of Siblings/Spouses Aboard>8</Number of Siblings/Spouses Aboard><Number of Parents/Children Aboard>2</Number of Parents/Children Aboard><Ticket Number>CA. 2343</Ticket Number><Fare>69.55</Fare><Cabin></Cabin><Port of Embarkation>S</Port of Embarkation></row>\n",
      "<row><Passenger ID>182</Passenger ID><Survival (1: Survived, 0: Died)>0</Survival (1: Survived, 0: Died)><Passenger Class>2</Passenger Class><Name>Pernot, Mr. Rene</Name><Sex>male</Sex><Age></Age><Number of Siblings/Spouses Aboard>0</Number of Siblings/Spouses Aboard><Number of Parents/Children Aboard>0</Number of Parents/Children Aboard><Ticket Number>SC/PARIS 2131</Ticket Number><Fare>15.05</Fare><Cabin></Cabin><Port of Embarkation>C</Port of Embarkation></row>\n",
      "<row><Passenger ID>183</Passenger ID><Survival (1: Survived, 0: Died)>0</Survival (1: Survived, 0: Died)><Passenger Class>3</Passenger Class><Name>Asplund, Master. Clarence Gustaf Hugo</Name><Sex>male</Sex><Age>9</Age><Number of Siblings/Spouses Aboard>4</Number of Siblings/Spouses Aboard><Number of Parents/Children Aboard>2</Number of Parents/Children Aboard><Ticket Number>347077</Ticket Number><Fare>31.3875</Fare><Cabin></Cabin><Port of Embarkation>S</Port of Embarkation></row>\n",
      "<row><Passenger ID>184</Passenger ID><Survival (1: Survived, 0: Died)>1</Survival (1: Survived, 0: Died)><Passenger Class>2</Passenger Class><Name>Becker, Master. Richard F</Name><Sex>male</Sex><Age>1</Age><Number of Siblings/Spouses Aboard>2</Number of Siblings/Spouses Aboard><Number of Parents/Children Aboard>1</Number of Parents/Children Aboard><Ticket Number>230136</Ticket Number><Fare>39</Fare><Cabin>F4</Cabin><Port of Embarkation>S</Port of Embarkation></row>\n",
      "<row><Passenger ID>185</Passenger ID><Survival (1: Survived, 0: Died)>1</Survival (1: Survived, 0: Died)><Passenger Class>3</Passenger Class><Name>Kink-Heilmann, Miss. Luise Gretchen</Name><Sex>female</Sex><Age>4</Age><Number of Siblings/Spouses Aboard>0</Number of Siblings/Spouses Aboard><Number of Parents/Children Aboard>2</Number of Parents/Children Aboard><Ticket Number>315153</Ticket Number><Fare>22.025</Fare><Cabin></Cabin><Port of Embarkation>S</Port of Embarkation></row>\n",
      "<row><Passenger ID>186</Passenger ID><Survival (1: Survived, 0: Died)>0</Survival (1: Survived, 0: Died)><Passenger Class>1</Passenger Class><Name>Rood, Mr. Hugh Roscoe</Name><Sex>male</Sex><Age></Age><Number of Siblings/Spouses Aboard>0</Number of Siblings/Spouses Aboard><Number of Parents/Children Aboard>0</Number of Parents/Children Aboard><Ticket Number>113767</Ticket Number><Fare>50</Fare><Cabin>A32</Cabin><Port of Embarkation>S</Port of Embarkation></row>\n",
      "<row><Passenger ID>187</Passenger ID><Survival (1: Survived, 0: Died)>1</Survival (1: Survived, 0: Died)><Passenger Class>3</Passenger Class><Name>O'Brien, Mrs. Thomas (Johanna \"Hannah\" Godfrey)</Name><Sex>female</Sex><Age></Age><Number of Siblings/Spouses Aboard>1</Number of Siblings/Spouses Aboard><Number of Parents/Children Aboard>0</Number of Parents/Children Aboard><Ticket Number>370365</Ticket Number><Fare>15.5</Fare><Cabin></Cabin><Port of Embarkation>Q</Port of Embarkation></row>\n",
      "<row><Passenger ID>188</Passenger ID><Survival (1: Survived, 0: Died)>1</Survival (1: Survived, 0: Died)><Passenger Class>1</Passenger Class><Name>Romaine, Mr. Charles Hallace (\"Mr C Rolmane\")</Name><Sex>male</Sex><Age>45</Age><Number of Siblings/Spouses Aboard>0</Number of Siblings/Spouses Aboard><Number of Parents/Children Aboard>0</Number of Parents/Children Aboard><Ticket Number>111428</Ticket Number><Fare>26.55</Fare><Cabin></Cabin><Port of Embarkation>S</Port of Embarkation></row>\n",
      "<row><Passenger ID>189</Passenger ID><Survival (1: Survived, 0: Died)>0</Survival (1: Survived, 0: Died)><Passenger Class>3</Passenger Class><Name>Bourke, Mr. John</Name><Sex>male</Sex><Age>40</Age><Number of Siblings/Spouses Aboard>1</Number of Siblings/Spouses Aboard><Number of Parents/Children Aboard>1</Number of Parents/Children Aboard><Ticket Number>364849</Ticket Number><Fare>15.5</Fare><Cabin></Cabin><Port of Embarkation>Q</Port of Embarkation></row>\n",
      "<row><Passenger ID>190</Passenger ID><Survival (1: Survived, 0: Died)>0</Survival (1: Survived, 0: Died)><Passenger Class>3</Passenger Class><Name>Turcin, Mr. Stjepan</Name><Sex>male</Sex><Age>36</Age><Number of Siblings/Spouses Aboard>0</Number of Siblings/Spouses Aboard><Number of Parents/Children Aboard>0</Number of Parents/Children Aboard><Ticket Number>349247</Ticket Number><Fare>7.8958</Fare><Cabin></Cabin><Port of Embarkation>S</Port of Embarkation></row>\n",
      "<row><Passenger ID>191</Passenger ID><Survival (1: Survived, 0: Died)>1</Survival (1: Survived, 0: Died)><Passenger Class>2</Passenger Class><Name>Pinsky, Mrs. (Rosa)</Name><Sex>female</Sex><Age>32</Age><Number of Siblings/Spouses Aboard>0</Number of Siblings/Spouses Aboard><Number of Parents/Children Aboard>0</Number of Parents/Children Aboard><Ticket Number>234604</Ticket Number><Fare>13</Fare><Cabin></Cabin><Port of Embarkation>S</Port of Embarkation></row>\n",
      "<row><Passenger ID>192</Passenger ID><Survival (1: Survived, 0: Died)>0</Survival (1: Survived, 0: Died)><Passenger Class>2</Passenger Class><Name>Carbines, Mr. William</Name><Sex>male</Sex><Age>19</Age><Number of Siblings/Spouses Aboard>0</Number of Siblings/Spouses Aboard><Number of Parents/Children Aboard>0</Number of Parents/Children Aboard><Ticket Number>28424</Ticket Number><Fare>13</Fare><Cabin></Cabin><Port of Embarkation>S</Port of Embarkation></row>\n",
      "<row><Passenger ID>193</Passenger ID><Survival (1: Survived, 0: Died)>1</Survival (1: Survived, 0: Died)><Passenger Class>3</Passenger Class><Name>Andersen-Jensen, Miss. Carla Christine Nielsine</Name><Sex>female</Sex><Age>19</Age><Number of Siblings/Spouses Aboard>1</Number of Siblings/Spouses Aboard><Number of Parents/Children Aboard>0</Number of Parents/Children Aboard><Ticket Number>350046</Ticket Number><Fare>7.8542</Fare><Cabin></Cabin><Port of Embarkation>S</Port of Embarkation></row>\n",
      "<row><Passenger ID>194</Passenger ID><Survival (1: Survived, 0: Died)>1</Survival (1: Survived, 0: Died)><Passenger Class>2</Passenger Class><Name>Navratil, Master. Michel M</Name><Sex>male</Sex><Age>3</Age><Number of Siblings/Spouses Aboard>1</Number of Siblings/Spouses Aboard><Number of Parents/Children Aboard>1</Number of Parents/Children Aboard><Ticket Number>230080</Ticket Number><Fare>26</Fare><Cabin>F2</Cabin><Port of Embarkation>S</Port of Embarkation></row>\n",
      "<row><Passenger ID>195</Passenger ID><Survival (1: Survived, 0: Died)>1</Survival (1: Survived, 0: Died)><Passenger Class>1</Passenger Class><Name>Brown, Mrs. James Joseph (Margaret Tobin)</Name><Sex>female</Sex><Age>44</Age><Number of Siblings/Spouses Aboard>0</Number of Siblings/Spouses Aboard><Number of Parents/Children Aboard>0</Number of Parents/Children Aboard><Ticket Number>PC 17610</Ticket Number><Fare>27.7208</Fare><Cabin>B4</Cabin><Port of Embarkation>C</Port of Embarkation></row>\n",
      "<row><Passenger ID>196</Passenger ID><Survival (1: Survived, 0: Died)>1</Survival (1: Survived, 0: Died)><Passenger Class>1</Passenger Class><Name>Lurette, Miss. Elise</Name><Sex>female</Sex><Age>58</Age><Number of Siblings/Spouses Aboard>0</Number of Siblings/Spouses Aboard><Number of Parents/Children Aboard>0</Number of Parents/Children Aboard><Ticket Number>PC 17569</Ticket Number><Fare>146.5208</Fare><Cabin>B80</Cabin><Port of Embarkation>C</Port of Embarkation></row>\n",
      "<row><Passenger ID>197</Passenger ID><Survival (1: Survived, 0: Died)>0</Survival (1: Survived, 0: Died)><Passenger Class>3</Passenger Class><Name>Mernagh, Mr. Robert</Name><Sex>male</Sex><Age></Age><Number of Siblings/Spouses Aboard>0</Number of Siblings/Spouses Aboard><Number of Parents/Children Aboard>0</Number of Parents/Children Aboard><Ticket Number>368703</Ticket Number><Fare>7.75</Fare><Cabin></Cabin><Port of Embarkation>Q</Port of Embarkation></row>\n",
      "<row><Passenger ID>198</Passenger ID><Survival (1: Survived, 0: Died)>0</Survival (1: Survived, 0: Died)><Passenger Class>3</Passenger Class><Name>Olsen, Mr. Karl Siegwart Andreas</Name><Sex>male</Sex><Age>42</Age><Number of Siblings/Spouses Aboard>0</Number of Siblings/Spouses Aboard><Number of Parents/Children Aboard>1</Number of Parents/Children Aboard><Ticket Number>4579</Ticket Number><Fare>8.4042</Fare><Cabin></Cabin><Port of Embarkation>S</Port of Embarkation></row>\n",
      "<row><Passenger ID>199</Passenger ID><Survival (1: Survived, 0: Died)>1</Survival (1: Survived, 0: Died)><Passenger Class>3</Passenger Class><Name>Madigan, Miss. Margaret \"Maggie\"</Name><Sex>female</Sex><Age></Age><Number of Siblings/Spouses Aboard>0</Number of Siblings/Spouses Aboard><Number of Parents/Children Aboard>0</Number of Parents/Children Aboard><Ticket Number>370370</Ticket Number><Fare>7.75</Fare><Cabin></Cabin><Port of Embarkation>Q</Port of Embarkation></row>\n",
      "<row><Passenger ID>200</Passenger ID><Survival (1: Survived, 0: Died)>0</Survival (1: Survived, 0: Died)><Passenger Class>2</Passenger Class><Name>Yrois, Miss. Henriette (\"Mrs Harbeck\")</Name><Sex>female</Sex><Age>24</Age><Number of Siblings/Spouses Aboard>0</Number of Siblings/Spouses Aboard><Number of Parents/Children Aboard>0</Number of Parents/Children Aboard><Ticket Number>248747</Ticket Number><Fare>13</Fare><Cabin></Cabin><Port of Embarkation>S</Port of Embarkation></row>\n",
      "<row><Passenger ID>201</Passenger ID><Survival (1: Survived, 0: Died)>0</Survival (1: Survived, 0: Died)><Passenger Class>3</Passenger Class><Name>Vande Walle, Mr. Nestor Cyriel</Name><Sex>male</Sex><Age>28</Age><Number of Siblings/Spouses Aboard>0</Number of Siblings/Spouses Aboard><Number of Parents/Children Aboard>0</Number of Parents/Children Aboard><Ticket Number>345770</Ticket Number><Fare>9.5</Fare><Cabin></Cabin><Port of Embarkation>S</Port of Embarkation></row>\n",
      "<row><Passenger ID>202</Passenger ID><Survival (1: Survived, 0: Died)>0</Survival (1: Survived, 0: Died)><Passenger Class>3</Passenger Class><Name>Sage, Mr. Frederick</Name><Sex>male</Sex><Age></Age><Number of Siblings/Spouses Aboard>8</Number of Siblings/Spouses Aboard><Number of Parents/Children Aboard>2</Number of Parents/Children Aboard><Ticket Number>CA. 2343</Ticket Number><Fare>69.55</Fare><Cabin></Cabin><Port of Embarkation>S</Port of Embarkation></row>\n",
      "<row><Passenger ID>203</Passenger ID><Survival (1: Survived, 0: Died)>0</Survival (1: Survived, 0: Died)><Passenger Class>3</Passenger Class><Name>Johanson, Mr. Jakob Alfred</Name><Sex>male</Sex><Age>34</Age><Number of Siblings/Spouses Aboard>0</Number of Siblings/Spouses Aboard><Number of Parents/Children Aboard>0</Number of Parents/Children Aboard><Ticket Number>3101264</Ticket Number><Fare>6.4958</Fare><Cabin></Cabin><Port of Embarkation>S</Port of Embarkation></row>\n",
      "<row><Passenger ID>204</Passenger ID><Survival (1: Survived, 0: Died)>0</Survival (1: Survived, 0: Died)><Passenger Class>3</Passenger Class><Name>Youseff, Mr. Gerious</Name><Sex>male</Sex><Age>45.5</Age><Number of Siblings/Spouses Aboard>0</Number of Siblings/Spouses Aboard><Number of Parents/Children Aboard>0</Number of Parents/Children Aboard><Ticket Number>2628</Ticket Number><Fare>7.225</Fare><Cabin></Cabin><Port of Embarkation>C</Port of Embarkation></row>\n",
      "<row><Passenger ID>205</Passenger ID><Survival (1: Survived, 0: Died)>1</Survival (1: Survived, 0: Died)><Passenger Class>3</Passenger Class><Name>Cohen, Mr. Gurshon \"Gus\"</Name><Sex>male</Sex><Age>18</Age><Number of Siblings/Spouses Aboard>0</Number of Siblings/Spouses Aboard><Number of Parents/Children Aboard>0</Number of Parents/Children Aboard><Ticket Number>A/5 3540</Ticket Number><Fare>8.05</Fare><Cabin></Cabin><Port of Embarkation>S</Port of Embarkation></row>\n",
      "<row><Passenger ID>206</Passenger ID><Survival (1: Survived, 0: Died)>0</Survival (1: Survived, 0: Died)><Passenger Class>3</Passenger Class><Name>Strom, Miss. Telma Matilda</Name><Sex>female</Sex><Age>2</Age><Number of Siblings/Spouses Aboard>0</Number of Siblings/Spouses Aboard><Number of Parents/Children Aboard>1</Number of Parents/Children Aboard><Ticket Number>347054</Ticket Number><Fare>10.4625</Fare><Cabin>G6</Cabin><Port of Embarkation>S</Port of Embarkation></row>\n",
      "<row><Passenger ID>207</Passenger ID><Survival (1: Survived, 0: Died)>0</Survival (1: Survived, 0: Died)><Passenger Class>3</Passenger Class><Name>Backstrom, Mr. Karl Alfred</Name><Sex>male</Sex><Age>32</Age><Number of Siblings/Spouses Aboard>1</Number of Siblings/Spouses Aboard><Number of Parents/Children Aboard>0</Number of Parents/Children Aboard><Ticket Number>3101278</Ticket Number><Fare>15.85</Fare><Cabin></Cabin><Port of Embarkation>S</Port of Embarkation></row>\n",
      "<row><Passenger ID>208</Passenger ID><Survival (1: Survived, 0: Died)>1</Survival (1: Survived, 0: Died)><Passenger Class>3</Passenger Class><Name>Albimona, Mr. Nassef Cassem</Name><Sex>male</Sex><Age>26</Age><Number of Siblings/Spouses Aboard>0</Number of Siblings/Spouses Aboard><Number of Parents/Children Aboard>0</Number of Parents/Children Aboard><Ticket Number>2699</Ticket Number><Fare>18.7875</Fare><Cabin></Cabin><Port of Embarkation>C</Port of Embarkation></row>\n",
      "<row><Passenger ID>209</Passenger ID><Survival (1: Survived, 0: Died)>1</Survival (1: Survived, 0: Died)><Passenger Class>3</Passenger Class><Name>Carr, Miss. Helen \"Ellen\"</Name><Sex>female</Sex><Age>16</Age><Number of Siblings/Spouses Aboard>0</Number of Siblings/Spouses Aboard><Number of Parents/Children Aboard>0</Number of Parents/Children Aboard><Ticket Number>367231</Ticket Number><Fare>7.75</Fare><Cabin></Cabin><Port of Embarkation>Q</Port of Embarkation></row>\n",
      "<row><Passenger ID>210</Passenger ID><Survival (1: Survived, 0: Died)>1</Survival (1: Survived, 0: Died)><Passenger Class>1</Passenger Class><Name>Blank, Mr. Henry</Name><Sex>male</Sex><Age>40</Age><Number of Siblings/Spouses Aboard>0</Number of Siblings/Spouses Aboard><Number of Parents/Children Aboard>0</Number of Parents/Children Aboard><Ticket Number>112277</Ticket Number><Fare>31</Fare><Cabin>A31</Cabin><Port of Embarkation>C</Port of Embarkation></row>\n",
      "<row><Passenger ID>211</Passenger ID><Survival (1: Survived, 0: Died)>0</Survival (1: Survived, 0: Died)><Passenger Class>3</Passenger Class><Name>Ali, Mr. Ahmed</Name><Sex>male</Sex><Age>24</Age><Number of Siblings/Spouses Aboard>0</Number of Siblings/Spouses Aboard><Number of Parents/Children Aboard>0</Number of Parents/Children Aboard><Ticket Number>SOTON/O.Q. 3101311</Ticket Number><Fare>7.05</Fare><Cabin></Cabin><Port of Embarkation>S</Port of Embarkation></row>\n",
      "<row><Passenger ID>212</Passenger ID><Survival (1: Survived, 0: Died)>1</Survival (1: Survived, 0: Died)><Passenger Class>2</Passenger Class><Name>Cameron, Miss. Clear Annie</Name><Sex>female</Sex><Age>35</Age><Number of Siblings/Spouses Aboard>0</Number of Siblings/Spouses Aboard><Number of Parents/Children Aboard>0</Number of Parents/Children Aboard><Ticket Number>F.C.C. 13528</Ticket Number><Fare>21</Fare><Cabin></Cabin><Port of Embarkation>S</Port of Embarkation></row>\n",
      "<row><Passenger ID>213</Passenger ID><Survival (1: Survived, 0: Died)>0</Survival (1: Survived, 0: Died)><Passenger Class>3</Passenger Class><Name>Perkin, Mr. John Henry</Name><Sex>male</Sex><Age>22</Age><Number of Siblings/Spouses Aboard>0</Number of Siblings/Spouses Aboard><Number of Parents/Children Aboard>0</Number of Parents/Children Aboard><Ticket Number>A/5 21174</Ticket Number><Fare>7.25</Fare><Cabin></Cabin><Port of Embarkation>S</Port of Embarkation></row>\n",
      "<row><Passenger ID>214</Passenger ID><Survival (1: Survived, 0: Died)>0</Survival (1: Survived, 0: Died)><Passenger Class>2</Passenger Class><Name>Givard, Mr. Hans Kristensen</Name><Sex>male</Sex><Age>30</Age><Number of Siblings/Spouses Aboard>0</Number of Siblings/Spouses Aboard><Number of Parents/Children Aboard>0</Number of Parents/Children Aboard><Ticket Number>250646</Ticket Number><Fare>13</Fare><Cabin></Cabin><Port of Embarkation>S</Port of Embarkation></row>\n",
      "<row><Passenger ID>215</Passenger ID><Survival (1: Survived, 0: Died)>0</Survival (1: Survived, 0: Died)><Passenger Class>3</Passenger Class><Name>Kiernan, Mr. Philip</Name><Sex>male</Sex><Age></Age><Number of Siblings/Spouses Aboard>1</Number of Siblings/Spouses Aboard><Number of Parents/Children Aboard>0</Number of Parents/Children Aboard><Ticket Number>367229</Ticket Number><Fare>7.75</Fare><Cabin></Cabin><Port of Embarkation>Q</Port of Embarkation></row>\n",
      "<row><Passenger ID>216</Passenger ID><Survival (1: Survived, 0: Died)>1</Survival (1: Survived, 0: Died)><Passenger Class>1</Passenger Class><Name>Newell, Miss. Madeleine</Name><Sex>female</Sex><Age>31</Age><Number of Siblings/Spouses Aboard>1</Number of Siblings/Spouses Aboard><Number of Parents/Children Aboard>0</Number of Parents/Children Aboard><Ticket Number>35273</Ticket Number><Fare>113.275</Fare><Cabin>D36</Cabin><Port of Embarkation>C</Port of Embarkation></row>\n",
      "<row><Passenger ID>217</Passenger ID><Survival (1: Survived, 0: Died)>1</Survival (1: Survived, 0: Died)><Passenger Class>3</Passenger Class><Name>Honkanen, Miss. Eliina</Name><Sex>female</Sex><Age>27</Age><Number of Siblings/Spouses Aboard>0</Number of Siblings/Spouses Aboard><Number of Parents/Children Aboard>0</Number of Parents/Children Aboard><Ticket Number>STON/O2. 3101283</Ticket Number><Fare>7.925</Fare><Cabin></Cabin><Port of Embarkation>S</Port of Embarkation></row>\n",
      "<row><Passenger ID>218</Passenger ID><Survival (1: Survived, 0: Died)>0</Survival (1: Survived, 0: Died)><Passenger Class>2</Passenger Class><Name>Jacobsohn, Mr. Sidney Samuel</Name><Sex>male</Sex><Age>42</Age><Number of Siblings/Spouses Aboard>1</Number of Siblings/Spouses Aboard><Number of Parents/Children Aboard>0</Number of Parents/Children Aboard><Ticket Number>243847</Ticket Number><Fare>27</Fare><Cabin></Cabin><Port of Embarkation>S</Port of Embarkation></row>\n",
      "<row><Passenger ID>219</Passenger ID><Survival (1: Survived, 0: Died)>1</Survival (1: Survived, 0: Died)><Passenger Class>1</Passenger Class><Name>Bazzani, Miss. Albina</Name><Sex>female</Sex><Age>32</Age><Number of Siblings/Spouses Aboard>0</Number of Siblings/Spouses Aboard><Number of Parents/Children Aboard>0</Number of Parents/Children Aboard><Ticket Number>11813</Ticket Number><Fare>76.2917</Fare><Cabin>D15</Cabin><Port of Embarkation>C</Port of Embarkation></row>\n",
      "<row><Passenger ID>220</Passenger ID><Survival (1: Survived, 0: Died)>0</Survival (1: Survived, 0: Died)><Passenger Class>2</Passenger Class><Name>Harris, Mr. Walter</Name><Sex>male</Sex><Age>30</Age><Number of Siblings/Spouses Aboard>0</Number of Siblings/Spouses Aboard><Number of Parents/Children Aboard>0</Number of Parents/Children Aboard><Ticket Number>W/C 14208</Ticket Number><Fare>10.5</Fare><Cabin></Cabin><Port of Embarkation>S</Port of Embarkation></row>\n",
      "<row><Passenger ID>221</Passenger ID><Survival (1: Survived, 0: Died)>1</Survival (1: Survived, 0: Died)><Passenger Class>3</Passenger Class><Name>Sunderland, Mr. Victor Francis</Name><Sex>male</Sex><Age>16</Age><Number of Siblings/Spouses Aboard>0</Number of Siblings/Spouses Aboard><Number of Parents/Children Aboard>0</Number of Parents/Children Aboard><Ticket Number>SOTON/OQ 392089</Ticket Number><Fare>8.05</Fare><Cabin></Cabin><Port of Embarkation>S</Port of Embarkation></row>\n",
      "<row><Passenger ID>222</Passenger ID><Survival (1: Survived, 0: Died)>0</Survival (1: Survived, 0: Died)><Passenger Class>2</Passenger Class><Name>Bracken, Mr. James H</Name><Sex>male</Sex><Age>27</Age><Number of Siblings/Spouses Aboard>0</Number of Siblings/Spouses Aboard><Number of Parents/Children Aboard>0</Number of Parents/Children Aboard><Ticket Number>220367</Ticket Number><Fare>13</Fare><Cabin></Cabin><Port of Embarkation>S</Port of Embarkation></row>\n",
      "<row><Passenger ID>223</Passenger ID><Survival (1: Survived, 0: Died)>0</Survival (1: Survived, 0: Died)><Passenger Class>3</Passenger Class><Name>Green, Mr. George Henry</Name><Sex>male</Sex><Age>51</Age><Number of Siblings/Spouses Aboard>0</Number of Siblings/Spouses Aboard><Number of Parents/Children Aboard>0</Number of Parents/Children Aboard><Ticket Number>21440</Ticket Number><Fare>8.05</Fare><Cabin></Cabin><Port of Embarkation>S</Port of Embarkation></row>\n",
      "<row><Passenger ID>224</Passenger ID><Survival (1: Survived, 0: Died)>0</Survival (1: Survived, 0: Died)><Passenger Class>3</Passenger Class><Name>Nenkoff, Mr. Christo</Name><Sex>male</Sex><Age></Age><Number of Siblings/Spouses Aboard>0</Number of Siblings/Spouses Aboard><Number of Parents/Children Aboard>0</Number of Parents/Children Aboard><Ticket Number>349234</Ticket Number><Fare>7.8958</Fare><Cabin></Cabin><Port of Embarkation>S</Port of Embarkation></row>\n",
      "<row><Passenger ID>225</Passenger ID><Survival (1: Survived, 0: Died)>1</Survival (1: Survived, 0: Died)><Passenger Class>1</Passenger Class><Name>Hoyt, Mr. Frederick Maxfield</Name><Sex>male</Sex><Age>38</Age><Number of Siblings/Spouses Aboard>1</Number of Siblings/Spouses Aboard><Number of Parents/Children Aboard>0</Number of Parents/Children Aboard><Ticket Number>19943</Ticket Number><Fare>90</Fare><Cabin>C93</Cabin><Port of Embarkation>S</Port of Embarkation></row>\n",
      "<row><Passenger ID>226</Passenger ID><Survival (1: Survived, 0: Died)>0</Survival (1: Survived, 0: Died)><Passenger Class>3</Passenger Class><Name>Berglund, Mr. Karl Ivar Sven</Name><Sex>male</Sex><Age>22</Age><Number of Siblings/Spouses Aboard>0</Number of Siblings/Spouses Aboard><Number of Parents/Children Aboard>0</Number of Parents/Children Aboard><Ticket Number>PP 4348</Ticket Number><Fare>9.35</Fare><Cabin></Cabin><Port of Embarkation>S</Port of Embarkation></row>\n",
      "<row><Passenger ID>227</Passenger ID><Survival (1: Survived, 0: Died)>1</Survival (1: Survived, 0: Died)><Passenger Class>2</Passenger Class><Name>Mellors, Mr. William John</Name><Sex>male</Sex><Age>19</Age><Number of Siblings/Spouses Aboard>0</Number of Siblings/Spouses Aboard><Number of Parents/Children Aboard>0</Number of Parents/Children Aboard><Ticket Number>SW/PP 751</Ticket Number><Fare>10.5</Fare><Cabin></Cabin><Port of Embarkation>S</Port of Embarkation></row>\n",
      "<row><Passenger ID>228</Passenger ID><Survival (1: Survived, 0: Died)>0</Survival (1: Survived, 0: Died)><Passenger Class>3</Passenger Class><Name>Lovell, Mr. John Hall (\"Henry\")</Name><Sex>male</Sex><Age>20.5</Age><Number of Siblings/Spouses Aboard>0</Number of Siblings/Spouses Aboard><Number of Parents/Children Aboard>0</Number of Parents/Children Aboard><Ticket Number>A/5 21173</Ticket Number><Fare>7.25</Fare><Cabin></Cabin><Port of Embarkation>S</Port of Embarkation></row>\n",
      "<row><Passenger ID>229</Passenger ID><Survival (1: Survived, 0: Died)>0</Survival (1: Survived, 0: Died)><Passenger Class>2</Passenger Class><Name>Fahlstrom, Mr. Arne Jonas</Name><Sex>male</Sex><Age>18</Age><Number of Siblings/Spouses Aboard>0</Number of Siblings/Spouses Aboard><Number of Parents/Children Aboard>0</Number of Parents/Children Aboard><Ticket Number>236171</Ticket Number><Fare>13</Fare><Cabin></Cabin><Port of Embarkation>S</Port of Embarkation></row>\n",
      "<row><Passenger ID>230</Passenger ID><Survival (1: Survived, 0: Died)>0</Survival (1: Survived, 0: Died)><Passenger Class>3</Passenger Class><Name>Lefebre, Miss. Mathilde</Name><Sex>female</Sex><Age></Age><Number of Siblings/Spouses Aboard>3</Number of Siblings/Spouses Aboard><Number of Parents/Children Aboard>1</Number of Parents/Children Aboard><Ticket Number>4133</Ticket Number><Fare>25.4667</Fare><Cabin></Cabin><Port of Embarkation>S</Port of Embarkation></row>\n",
      "<row><Passenger ID>231</Passenger ID><Survival (1: Survived, 0: Died)>1</Survival (1: Survived, 0: Died)><Passenger Class>1</Passenger Class><Name>Harris, Mrs. Henry Birkhardt (Irene Wallach)</Name><Sex>female</Sex><Age>35</Age><Number of Siblings/Spouses Aboard>1</Number of Siblings/Spouses Aboard><Number of Parents/Children Aboard>0</Number of Parents/Children Aboard><Ticket Number>36973</Ticket Number><Fare>83.475</Fare><Cabin>C83</Cabin><Port of Embarkation>S</Port of Embarkation></row>\n",
      "<row><Passenger ID>232</Passenger ID><Survival (1: Survived, 0: Died)>0</Survival (1: Survived, 0: Died)><Passenger Class>3</Passenger Class><Name>Larsson, Mr. Bengt Edvin</Name><Sex>male</Sex><Age>29</Age><Number of Siblings/Spouses Aboard>0</Number of Siblings/Spouses Aboard><Number of Parents/Children Aboard>0</Number of Parents/Children Aboard><Ticket Number>347067</Ticket Number><Fare>7.775</Fare><Cabin></Cabin><Port of Embarkation>S</Port of Embarkation></row>\n",
      "<row><Passenger ID>233</Passenger ID><Survival (1: Survived, 0: Died)>0</Survival (1: Survived, 0: Died)><Passenger Class>2</Passenger Class><Name>Sjostedt, Mr. Ernst Adolf</Name><Sex>male</Sex><Age>59</Age><Number of Siblings/Spouses Aboard>0</Number of Siblings/Spouses Aboard><Number of Parents/Children Aboard>0</Number of Parents/Children Aboard><Ticket Number>237442</Ticket Number><Fare>13.5</Fare><Cabin></Cabin><Port of Embarkation>S</Port of Embarkation></row>\n",
      "<row><Passenger ID>234</Passenger ID><Survival (1: Survived, 0: Died)>1</Survival (1: Survived, 0: Died)><Passenger Class>3</Passenger Class><Name>Asplund, Miss. Lillian Gertrud</Name><Sex>female</Sex><Age>5</Age><Number of Siblings/Spouses Aboard>4</Number of Siblings/Spouses Aboard><Number of Parents/Children Aboard>2</Number of Parents/Children Aboard><Ticket Number>347077</Ticket Number><Fare>31.3875</Fare><Cabin></Cabin><Port of Embarkation>S</Port of Embarkation></row>\n",
      "<row><Passenger ID>235</Passenger ID><Survival (1: Survived, 0: Died)>0</Survival (1: Survived, 0: Died)><Passenger Class>2</Passenger Class><Name>Leyson, Mr. Robert William Norman</Name><Sex>male</Sex><Age>24</Age><Number of Siblings/Spouses Aboard>0</Number of Siblings/Spouses Aboard><Number of Parents/Children Aboard>0</Number of Parents/Children Aboard><Ticket Number>C.A. 29566</Ticket Number><Fare>10.5</Fare><Cabin></Cabin><Port of Embarkation>S</Port of Embarkation></row>\n",
      "<row><Passenger ID>236</Passenger ID><Survival (1: Survived, 0: Died)>0</Survival (1: Survived, 0: Died)><Passenger Class>3</Passenger Class><Name>Harknett, Miss. Alice Phoebe</Name><Sex>female</Sex><Age></Age><Number of Siblings/Spouses Aboard>0</Number of Siblings/Spouses Aboard><Number of Parents/Children Aboard>0</Number of Parents/Children Aboard><Ticket Number>W./C. 6609</Ticket Number><Fare>7.55</Fare><Cabin></Cabin><Port of Embarkation>S</Port of Embarkation></row>\n",
      "<row><Passenger ID>237</Passenger ID><Survival (1: Survived, 0: Died)>0</Survival (1: Survived, 0: Died)><Passenger Class>2</Passenger Class><Name>Hold, Mr. Stephen</Name><Sex>male</Sex><Age>44</Age><Number of Siblings/Spouses Aboard>1</Number of Siblings/Spouses Aboard><Number of Parents/Children Aboard>0</Number of Parents/Children Aboard><Ticket Number>26707</Ticket Number><Fare>26</Fare><Cabin></Cabin><Port of Embarkation>S</Port of Embarkation></row>\n",
      "<row><Passenger ID>238</Passenger ID><Survival (1: Survived, 0: Died)>1</Survival (1: Survived, 0: Died)><Passenger Class>2</Passenger Class><Name>Collyer, Miss. Marjorie \"Lottie\"</Name><Sex>female</Sex><Age>8</Age><Number of Siblings/Spouses Aboard>0</Number of Siblings/Spouses Aboard><Number of Parents/Children Aboard>2</Number of Parents/Children Aboard><Ticket Number>C.A. 31921</Ticket Number><Fare>26.25</Fare><Cabin></Cabin><Port of Embarkation>S</Port of Embarkation></row>\n",
      "<row><Passenger ID>239</Passenger ID><Survival (1: Survived, 0: Died)>0</Survival (1: Survived, 0: Died)><Passenger Class>2</Passenger Class><Name>Pengelly, Mr. Frederick William</Name><Sex>male</Sex><Age>19</Age><Number of Siblings/Spouses Aboard>0</Number of Siblings/Spouses Aboard><Number of Parents/Children Aboard>0</Number of Parents/Children Aboard><Ticket Number>28665</Ticket Number><Fare>10.5</Fare><Cabin></Cabin><Port of Embarkation>S</Port of Embarkation></row>\n",
      "<row><Passenger ID>240</Passenger ID><Survival (1: Survived, 0: Died)>0</Survival (1: Survived, 0: Died)><Passenger Class>2</Passenger Class><Name>Hunt, Mr. George Henry</Name><Sex>male</Sex><Age>33</Age><Number of Siblings/Spouses Aboard>0</Number of Siblings/Spouses Aboard><Number of Parents/Children Aboard>0</Number of Parents/Children Aboard><Ticket Number>SCO/W 1585</Ticket Number><Fare>12.275</Fare><Cabin></Cabin><Port of Embarkation>S</Port of Embarkation></row>\n",
      "<row><Passenger ID>241</Passenger ID><Survival (1: Survived, 0: Died)>0</Survival (1: Survived, 0: Died)><Passenger Class>3</Passenger Class><Name>Zabour, Miss. Thamine</Name><Sex>female</Sex><Age></Age><Number of Siblings/Spouses Aboard>1</Number of Siblings/Spouses Aboard><Number of Parents/Children Aboard>0</Number of Parents/Children Aboard><Ticket Number>2665</Ticket Number><Fare>14.4542</Fare><Cabin></Cabin><Port of Embarkation>C</Port of Embarkation></row>\n",
      "<row><Passenger ID>242</Passenger ID><Survival (1: Survived, 0: Died)>1</Survival (1: Survived, 0: Died)><Passenger Class>3</Passenger Class><Name>Murphy, Miss. Katherine \"Kate\"</Name><Sex>female</Sex><Age></Age><Number of Siblings/Spouses Aboard>1</Number of Siblings/Spouses Aboard><Number of Parents/Children Aboard>0</Number of Parents/Children Aboard><Ticket Number>367230</Ticket Number><Fare>15.5</Fare><Cabin></Cabin><Port of Embarkation>Q</Port of Embarkation></row>\n",
      "<row><Passenger ID>243</Passenger ID><Survival (1: Survived, 0: Died)>0</Survival (1: Survived, 0: Died)><Passenger Class>2</Passenger Class><Name>Coleridge, Mr. Reginald Charles</Name><Sex>male</Sex><Age>29</Age><Number of Siblings/Spouses Aboard>0</Number of Siblings/Spouses Aboard><Number of Parents/Children Aboard>0</Number of Parents/Children Aboard><Ticket Number>W./C. 14263</Ticket Number><Fare>10.5</Fare><Cabin></Cabin><Port of Embarkation>S</Port of Embarkation></row>\n",
      "<row><Passenger ID>244</Passenger ID><Survival (1: Survived, 0: Died)>0</Survival (1: Survived, 0: Died)><Passenger Class>3</Passenger Class><Name>Maenpaa, Mr. Matti Alexanteri</Name><Sex>male</Sex><Age>22</Age><Number of Siblings/Spouses Aboard>0</Number of Siblings/Spouses Aboard><Number of Parents/Children Aboard>0</Number of Parents/Children Aboard><Ticket Number>STON/O 2. 3101275</Ticket Number><Fare>7.125</Fare><Cabin></Cabin><Port of Embarkation>S</Port of Embarkation></row>\n",
      "<row><Passenger ID>245</Passenger ID><Survival (1: Survived, 0: Died)>0</Survival (1: Survived, 0: Died)><Passenger Class>3</Passenger Class><Name>Attalah, Mr. Sleiman</Name><Sex>male</Sex><Age>30</Age><Number of Siblings/Spouses Aboard>0</Number of Siblings/Spouses Aboard><Number of Parents/Children Aboard>0</Number of Parents/Children Aboard><Ticket Number>2694</Ticket Number><Fare>7.225</Fare><Cabin></Cabin><Port of Embarkation>C</Port of Embarkation></row>\n",
      "<row><Passenger ID>246</Passenger ID><Survival (1: Survived, 0: Died)>0</Survival (1: Survived, 0: Died)><Passenger Class>1</Passenger Class><Name>Minahan, Dr. William Edward</Name><Sex>male</Sex><Age>44</Age><Number of Siblings/Spouses Aboard>2</Number of Siblings/Spouses Aboard><Number of Parents/Children Aboard>0</Number of Parents/Children Aboard><Ticket Number>19928</Ticket Number><Fare>90</Fare><Cabin>C78</Cabin><Port of Embarkation>Q</Port of Embarkation></row>\n",
      "<row><Passenger ID>247</Passenger ID><Survival (1: Survived, 0: Died)>0</Survival (1: Survived, 0: Died)><Passenger Class>3</Passenger Class><Name>Lindahl, Miss. Agda Thorilda Viktoria</Name><Sex>female</Sex><Age>25</Age><Number of Siblings/Spouses Aboard>0</Number of Siblings/Spouses Aboard><Number of Parents/Children Aboard>0</Number of Parents/Children Aboard><Ticket Number>347071</Ticket Number><Fare>7.775</Fare><Cabin></Cabin><Port of Embarkation>S</Port of Embarkation></row>\n",
      "<row><Passenger ID>248</Passenger ID><Survival (1: Survived, 0: Died)>1</Survival (1: Survived, 0: Died)><Passenger Class>2</Passenger Class><Name>Hamalainen, Mrs. William (Anna)</Name><Sex>female</Sex><Age>24</Age><Number of Siblings/Spouses Aboard>0</Number of Siblings/Spouses Aboard><Number of Parents/Children Aboard>2</Number of Parents/Children Aboard><Ticket Number>250649</Ticket Number><Fare>14.5</Fare><Cabin></Cabin><Port of Embarkation>S</Port of Embarkation></row>\n",
      "<row><Passenger ID>249</Passenger ID><Survival (1: Survived, 0: Died)>1</Survival (1: Survived, 0: Died)><Passenger Class>1</Passenger Class><Name>Beckwith, Mr. Richard Leonard</Name><Sex>male</Sex><Age>37</Age><Number of Siblings/Spouses Aboard>1</Number of Siblings/Spouses Aboard><Number of Parents/Children Aboard>1</Number of Parents/Children Aboard><Ticket Number>11751</Ticket Number><Fare>52.5542</Fare><Cabin>D35</Cabin><Port of Embarkation>S</Port of Embarkation></row>\n",
      "<row><Passenger ID>250</Passenger ID><Survival (1: Survived, 0: Died)>0</Survival (1: Survived, 0: Died)><Passenger Class>2</Passenger Class><Name>Carter, Rev. Ernest Courtenay</Name><Sex>male</Sex><Age>54</Age><Number of Siblings/Spouses Aboard>1</Number of Siblings/Spouses Aboard><Number of Parents/Children Aboard>0</Number of Parents/Children Aboard><Ticket Number>244252</Ticket Number><Fare>26</Fare><Cabin></Cabin><Port of Embarkation>S</Port of Embarkation></row>\n",
      "<row><Passenger ID>251</Passenger ID><Survival (1: Survived, 0: Died)>0</Survival (1: Survived, 0: Died)><Passenger Class>3</Passenger Class><Name>Reed, Mr. James George</Name><Sex>male</Sex><Age></Age><Number of Siblings/Spouses Aboard>0</Number of Siblings/Spouses Aboard><Number of Parents/Children Aboard>0</Number of Parents/Children Aboard><Ticket Number>362316</Ticket Number><Fare>7.25</Fare><Cabin></Cabin><Port of Embarkation>S</Port of Embarkation></row>\n",
      "<row><Passenger ID>252</Passenger ID><Survival (1: Survived, 0: Died)>0</Survival (1: Survived, 0: Died)><Passenger Class>3</Passenger Class><Name>Strom, Mrs. Wilhelm (Elna Matilda Persson)</Name><Sex>female</Sex><Age>29</Age><Number of Siblings/Spouses Aboard>1</Number of Siblings/Spouses Aboard><Number of Parents/Children Aboard>1</Number of Parents/Children Aboard><Ticket Number>347054</Ticket Number><Fare>10.4625</Fare><Cabin>G6</Cabin><Port of Embarkation>S</Port of Embarkation></row>\n",
      "<row><Passenger ID>253</Passenger ID><Survival (1: Survived, 0: Died)>0</Survival (1: Survived, 0: Died)><Passenger Class>1</Passenger Class><Name>Stead, Mr. William Thomas</Name><Sex>male</Sex><Age>62</Age><Number of Siblings/Spouses Aboard>0</Number of Siblings/Spouses Aboard><Number of Parents/Children Aboard>0</Number of Parents/Children Aboard><Ticket Number>113514</Ticket Number><Fare>26.55</Fare><Cabin>C87</Cabin><Port of Embarkation>S</Port of Embarkation></row>\n",
      "<row><Passenger ID>254</Passenger ID><Survival (1: Survived, 0: Died)>0</Survival (1: Survived, 0: Died)><Passenger Class>3</Passenger Class><Name>Lobb, Mr. William Arthur</Name><Sex>male</Sex><Age>30</Age><Number of Siblings/Spouses Aboard>1</Number of Siblings/Spouses Aboard><Number of Parents/Children Aboard>0</Number of Parents/Children Aboard><Ticket Number>A/5. 3336</Ticket Number><Fare>16.1</Fare><Cabin></Cabin><Port of Embarkation>S</Port of Embarkation></row>\n",
      "<row><Passenger ID>255</Passenger ID><Survival (1: Survived, 0: Died)>0</Survival (1: Survived, 0: Died)><Passenger Class>3</Passenger Class><Name>Rosblom, Mrs. Viktor (Helena Wilhelmina)</Name><Sex>female</Sex><Age>41</Age><Number of Siblings/Spouses Aboard>0</Number of Siblings/Spouses Aboard><Number of Parents/Children Aboard>2</Number of Parents/Children Aboard><Ticket Number>370129</Ticket Number><Fare>20.2125</Fare><Cabin></Cabin><Port of Embarkation>S</Port of Embarkation></row>\n",
      "<row><Passenger ID>256</Passenger ID><Survival (1: Survived, 0: Died)>1</Survival (1: Survived, 0: Died)><Passenger Class>3</Passenger Class><Name>Touma, Mrs. Darwis (Hanne Youssef Razi)</Name><Sex>female</Sex><Age>29</Age><Number of Siblings/Spouses Aboard>0</Number of Siblings/Spouses Aboard><Number of Parents/Children Aboard>2</Number of Parents/Children Aboard><Ticket Number>2650</Ticket Number><Fare>15.2458</Fare><Cabin></Cabin><Port of Embarkation>C</Port of Embarkation></row>\n",
      "<row><Passenger ID>257</Passenger ID><Survival (1: Survived, 0: Died)>1</Survival (1: Survived, 0: Died)><Passenger Class>1</Passenger Class><Name>Thorne, Mrs. Gertrude Maybelle</Name><Sex>female</Sex><Age></Age><Number of Siblings/Spouses Aboard>0</Number of Siblings/Spouses Aboard><Number of Parents/Children Aboard>0</Number of Parents/Children Aboard><Ticket Number>PC 17585</Ticket Number><Fare>79.2</Fare><Cabin></Cabin><Port of Embarkation>C</Port of Embarkation></row>\n",
      "<row><Passenger ID>258</Passenger ID><Survival (1: Survived, 0: Died)>1</Survival (1: Survived, 0: Died)><Passenger Class>1</Passenger Class><Name>Cherry, Miss. Gladys</Name><Sex>female</Sex><Age>30</Age><Number of Siblings/Spouses Aboard>0</Number of Siblings/Spouses Aboard><Number of Parents/Children Aboard>0</Number of Parents/Children Aboard><Ticket Number>110152</Ticket Number><Fare>86.5</Fare><Cabin>B77</Cabin><Port of Embarkation>S</Port of Embarkation></row>\n",
      "<row><Passenger ID>259</Passenger ID><Survival (1: Survived, 0: Died)>1</Survival (1: Survived, 0: Died)><Passenger Class>1</Passenger Class><Name>Ward, Miss. Anna</Name><Sex>female</Sex><Age>35</Age><Number of Siblings/Spouses Aboard>0</Number of Siblings/Spouses Aboard><Number of Parents/Children Aboard>0</Number of Parents/Children Aboard><Ticket Number>PC 17755</Ticket Number><Fare>512.3292</Fare><Cabin></Cabin><Port of Embarkation>C</Port of Embarkation></row>\n",
      "<row><Passenger ID>260</Passenger ID><Survival (1: Survived, 0: Died)>1</Survival (1: Survived, 0: Died)><Passenger Class>2</Passenger Class><Name>Parrish, Mrs. (Lutie Davis)</Name><Sex>female</Sex><Age>50</Age><Number of Siblings/Spouses Aboard>0</Number of Siblings/Spouses Aboard><Number of Parents/Children Aboard>1</Number of Parents/Children Aboard><Ticket Number>230433</Ticket Number><Fare>26</Fare><Cabin></Cabin><Port of Embarkation>S</Port of Embarkation></row>\n",
      "<row><Passenger ID>261</Passenger ID><Survival (1: Survived, 0: Died)>0</Survival (1: Survived, 0: Died)><Passenger Class>3</Passenger Class><Name>Smith, Mr. Thomas</Name><Sex>male</Sex><Age></Age><Number of Siblings/Spouses Aboard>0</Number of Siblings/Spouses Aboard><Number of Parents/Children Aboard>0</Number of Parents/Children Aboard><Ticket Number>384461</Ticket Number><Fare>7.75</Fare><Cabin></Cabin><Port of Embarkation>Q</Port of Embarkation></row>\n",
      "<row><Passenger ID>262</Passenger ID><Survival (1: Survived, 0: Died)>1</Survival (1: Survived, 0: Died)><Passenger Class>3</Passenger Class><Name>Asplund, Master. Edvin Rojj Felix</Name><Sex>male</Sex><Age>3</Age><Number of Siblings/Spouses Aboard>4</Number of Siblings/Spouses Aboard><Number of Parents/Children Aboard>2</Number of Parents/Children Aboard><Ticket Number>347077</Ticket Number><Fare>31.3875</Fare><Cabin></Cabin><Port of Embarkation>S</Port of Embarkation></row>\n",
      "<row><Passenger ID>263</Passenger ID><Survival (1: Survived, 0: Died)>0</Survival (1: Survived, 0: Died)><Passenger Class>1</Passenger Class><Name>Taussig, Mr. Emil</Name><Sex>male</Sex><Age>52</Age><Number of Siblings/Spouses Aboard>1</Number of Siblings/Spouses Aboard><Number of Parents/Children Aboard>1</Number of Parents/Children Aboard><Ticket Number>110413</Ticket Number><Fare>79.65</Fare><Cabin>E67</Cabin><Port of Embarkation>S</Port of Embarkation></row>\n",
      "<row><Passenger ID>264</Passenger ID><Survival (1: Survived, 0: Died)>0</Survival (1: Survived, 0: Died)><Passenger Class>1</Passenger Class><Name>Harrison, Mr. William</Name><Sex>male</Sex><Age>40</Age><Number of Siblings/Spouses Aboard>0</Number of Siblings/Spouses Aboard><Number of Parents/Children Aboard>0</Number of Parents/Children Aboard><Ticket Number>112059</Ticket Number><Fare>0</Fare><Cabin>B94</Cabin><Port of Embarkation>S</Port of Embarkation></row>\n",
      "<row><Passenger ID>265</Passenger ID><Survival (1: Survived, 0: Died)>0</Survival (1: Survived, 0: Died)><Passenger Class>3</Passenger Class><Name>Henry, Miss. Delia</Name><Sex>female</Sex><Age></Age><Number of Siblings/Spouses Aboard>0</Number of Siblings/Spouses Aboard><Number of Parents/Children Aboard>0</Number of Parents/Children Aboard><Ticket Number>382649</Ticket Number><Fare>7.75</Fare><Cabin></Cabin><Port of Embarkation>Q</Port of Embarkation></row>\n",
      "<row><Passenger ID>266</Passenger ID><Survival (1: Survived, 0: Died)>0</Survival (1: Survived, 0: Died)><Passenger Class>2</Passenger Class><Name>Reeves, Mr. David</Name><Sex>male</Sex><Age>36</Age><Number of Siblings/Spouses Aboard>0</Number of Siblings/Spouses Aboard><Number of Parents/Children Aboard>0</Number of Parents/Children Aboard><Ticket Number>C.A. 17248</Ticket Number><Fare>10.5</Fare><Cabin></Cabin><Port of Embarkation>S</Port of Embarkation></row>\n",
      "<row><Passenger ID>267</Passenger ID><Survival (1: Survived, 0: Died)>0</Survival (1: Survived, 0: Died)><Passenger Class>3</Passenger Class><Name>Panula, Mr. Ernesti Arvid</Name><Sex>male</Sex><Age>16</Age><Number of Siblings/Spouses Aboard>4</Number of Siblings/Spouses Aboard><Number of Parents/Children Aboard>1</Number of Parents/Children Aboard><Ticket Number>3101295</Ticket Number><Fare>39.6875</Fare><Cabin></Cabin><Port of Embarkation>S</Port of Embarkation></row>\n",
      "<row><Passenger ID>268</Passenger ID><Survival (1: Survived, 0: Died)>1</Survival (1: Survived, 0: Died)><Passenger Class>3</Passenger Class><Name>Persson, Mr. Ernst Ulrik</Name><Sex>male</Sex><Age>25</Age><Number of Siblings/Spouses Aboard>1</Number of Siblings/Spouses Aboard><Number of Parents/Children Aboard>0</Number of Parents/Children Aboard><Ticket Number>347083</Ticket Number><Fare>7.775</Fare><Cabin></Cabin><Port of Embarkation>S</Port of Embarkation></row>\n",
      "<row><Passenger ID>269</Passenger ID><Survival (1: Survived, 0: Died)>1</Survival (1: Survived, 0: Died)><Passenger Class>1</Passenger Class><Name>Graham, Mrs. William Thompson (Edith Junkins)</Name><Sex>female</Sex><Age>58</Age><Number of Siblings/Spouses Aboard>0</Number of Siblings/Spouses Aboard><Number of Parents/Children Aboard>1</Number of Parents/Children Aboard><Ticket Number>PC 17582</Ticket Number><Fare>153.4625</Fare><Cabin>C125</Cabin><Port of Embarkation>S</Port of Embarkation></row>\n",
      "<row><Passenger ID>270</Passenger ID><Survival (1: Survived, 0: Died)>1</Survival (1: Survived, 0: Died)><Passenger Class>1</Passenger Class><Name>Bissette, Miss. Amelia</Name><Sex>female</Sex><Age>35</Age><Number of Siblings/Spouses Aboard>0</Number of Siblings/Spouses Aboard><Number of Parents/Children Aboard>0</Number of Parents/Children Aboard><Ticket Number>PC 17760</Ticket Number><Fare>135.6333</Fare><Cabin>C99</Cabin><Port of Embarkation>S</Port of Embarkation></row>\n",
      "<row><Passenger ID>271</Passenger ID><Survival (1: Survived, 0: Died)>0</Survival (1: Survived, 0: Died)><Passenger Class>1</Passenger Class><Name>Cairns, Mr. Alexander</Name><Sex>male</Sex><Age></Age><Number of Siblings/Spouses Aboard>0</Number of Siblings/Spouses Aboard><Number of Parents/Children Aboard>0</Number of Parents/Children Aboard><Ticket Number>113798</Ticket Number><Fare>31</Fare><Cabin></Cabin><Port of Embarkation>S</Port of Embarkation></row>\n",
      "<row><Passenger ID>272</Passenger ID><Survival (1: Survived, 0: Died)>1</Survival (1: Survived, 0: Died)><Passenger Class>3</Passenger Class><Name>Tornquist, Mr. William Henry</Name><Sex>male</Sex><Age>25</Age><Number of Siblings/Spouses Aboard>0</Number of Siblings/Spouses Aboard><Number of Parents/Children Aboard>0</Number of Parents/Children Aboard><Ticket Number>LINE</Ticket Number><Fare>0</Fare><Cabin></Cabin><Port of Embarkation>S</Port of Embarkation></row>\n",
      "<row><Passenger ID>273</Passenger ID><Survival (1: Survived, 0: Died)>1</Survival (1: Survived, 0: Died)><Passenger Class>2</Passenger Class><Name>Mellinger, Mrs. (Elizabeth Anne Maidment)</Name><Sex>female</Sex><Age>41</Age><Number of Siblings/Spouses Aboard>0</Number of Siblings/Spouses Aboard><Number of Parents/Children Aboard>1</Number of Parents/Children Aboard><Ticket Number>250644</Ticket Number><Fare>19.5</Fare><Cabin></Cabin><Port of Embarkation>S</Port of Embarkation></row>\n",
      "<row><Passenger ID>274</Passenger ID><Survival (1: Survived, 0: Died)>0</Survival (1: Survived, 0: Died)><Passenger Class>1</Passenger Class><Name>Natsch, Mr. Charles H</Name><Sex>male</Sex><Age>37</Age><Number of Siblings/Spouses Aboard>0</Number of Siblings/Spouses Aboard><Number of Parents/Children Aboard>1</Number of Parents/Children Aboard><Ticket Number>PC 17596</Ticket Number><Fare>29.7</Fare><Cabin>C118</Cabin><Port of Embarkation>C</Port of Embarkation></row>\n",
      "<row><Passenger ID>275</Passenger ID><Survival (1: Survived, 0: Died)>1</Survival (1: Survived, 0: Died)><Passenger Class>3</Passenger Class><Name>Healy, Miss. Hanora \"Nora\"</Name><Sex>female</Sex><Age></Age><Number of Siblings/Spouses Aboard>0</Number of Siblings/Spouses Aboard><Number of Parents/Children Aboard>0</Number of Parents/Children Aboard><Ticket Number>370375</Ticket Number><Fare>7.75</Fare><Cabin></Cabin><Port of Embarkation>Q</Port of Embarkation></row>\n",
      "<row><Passenger ID>276</Passenger ID><Survival (1: Survived, 0: Died)>1</Survival (1: Survived, 0: Died)><Passenger Class>1</Passenger Class><Name>Andrews, Miss. Kornelia Theodosia</Name><Sex>female</Sex><Age>63</Age><Number of Siblings/Spouses Aboard>1</Number of Siblings/Spouses Aboard><Number of Parents/Children Aboard>0</Number of Parents/Children Aboard><Ticket Number>13502</Ticket Number><Fare>77.9583</Fare><Cabin>D7</Cabin><Port of Embarkation>S</Port of Embarkation></row>\n",
      "<row><Passenger ID>277</Passenger ID><Survival (1: Survived, 0: Died)>0</Survival (1: Survived, 0: Died)><Passenger Class>3</Passenger Class><Name>Lindblom, Miss. Augusta Charlotta</Name><Sex>female</Sex><Age>45</Age><Number of Siblings/Spouses Aboard>0</Number of Siblings/Spouses Aboard><Number of Parents/Children Aboard>0</Number of Parents/Children Aboard><Ticket Number>347073</Ticket Number><Fare>7.75</Fare><Cabin></Cabin><Port of Embarkation>S</Port of Embarkation></row>\n",
      "<row><Passenger ID>278</Passenger ID><Survival (1: Survived, 0: Died)>0</Survival (1: Survived, 0: Died)><Passenger Class>2</Passenger Class><Name>Parkes, Mr. Francis \"Frank\"</Name><Sex>male</Sex><Age></Age><Number of Siblings/Spouses Aboard>0</Number of Siblings/Spouses Aboard><Number of Parents/Children Aboard>0</Number of Parents/Children Aboard><Ticket Number>239853</Ticket Number><Fare>0</Fare><Cabin></Cabin><Port of Embarkation>S</Port of Embarkation></row>\n",
      "<row><Passenger ID>279</Passenger ID><Survival (1: Survived, 0: Died)>0</Survival (1: Survived, 0: Died)><Passenger Class>3</Passenger Class><Name>Rice, Master. Eric</Name><Sex>male</Sex><Age>7</Age><Number of Siblings/Spouses Aboard>4</Number of Siblings/Spouses Aboard><Number of Parents/Children Aboard>1</Number of Parents/Children Aboard><Ticket Number>382652</Ticket Number><Fare>29.125</Fare><Cabin></Cabin><Port of Embarkation>Q</Port of Embarkation></row>\n",
      "<row><Passenger ID>280</Passenger ID><Survival (1: Survived, 0: Died)>1</Survival (1: Survived, 0: Died)><Passenger Class>3</Passenger Class><Name>Abbott, Mrs. Stanton (Rosa Hunt)</Name><Sex>female</Sex><Age>35</Age><Number of Siblings/Spouses Aboard>1</Number of Siblings/Spouses Aboard><Number of Parents/Children Aboard>1</Number of Parents/Children Aboard><Ticket Number>C.A. 2673</Ticket Number><Fare>20.25</Fare><Cabin></Cabin><Port of Embarkation>S</Port of Embarkation></row>\n",
      "<row><Passenger ID>281</Passenger ID><Survival (1: Survived, 0: Died)>0</Survival (1: Survived, 0: Died)><Passenger Class>3</Passenger Class><Name>Duane, Mr. Frank</Name><Sex>male</Sex><Age>65</Age><Number of Siblings/Spouses Aboard>0</Number of Siblings/Spouses Aboard><Number of Parents/Children Aboard>0</Number of Parents/Children Aboard><Ticket Number>336439</Ticket Number><Fare>7.75</Fare><Cabin></Cabin><Port of Embarkation>Q</Port of Embarkation></row>\n",
      "<row><Passenger ID>282</Passenger ID><Survival (1: Survived, 0: Died)>0</Survival (1: Survived, 0: Died)><Passenger Class>3</Passenger Class><Name>Olsson, Mr. Nils Johan Goransson</Name><Sex>male</Sex><Age>28</Age><Number of Siblings/Spouses Aboard>0</Number of Siblings/Spouses Aboard><Number of Parents/Children Aboard>0</Number of Parents/Children Aboard><Ticket Number>347464</Ticket Number><Fare>7.8542</Fare><Cabin></Cabin><Port of Embarkation>S</Port of Embarkation></row>\n",
      "<row><Passenger ID>283</Passenger ID><Survival (1: Survived, 0: Died)>0</Survival (1: Survived, 0: Died)><Passenger Class>3</Passenger Class><Name>de Pelsmaeker, Mr. Alfons</Name><Sex>male</Sex><Age>16</Age><Number of Siblings/Spouses Aboard>0</Number of Siblings/Spouses Aboard><Number of Parents/Children Aboard>0</Number of Parents/Children Aboard><Ticket Number>345778</Ticket Number><Fare>9.5</Fare><Cabin></Cabin><Port of Embarkation>S</Port of Embarkation></row>\n",
      "<row><Passenger ID>284</Passenger ID><Survival (1: Survived, 0: Died)>1</Survival (1: Survived, 0: Died)><Passenger Class>3</Passenger Class><Name>Dorking, Mr. Edward Arthur</Name><Sex>male</Sex><Age>19</Age><Number of Siblings/Spouses Aboard>0</Number of Siblings/Spouses Aboard><Number of Parents/Children Aboard>0</Number of Parents/Children Aboard><Ticket Number>A/5. 10482</Ticket Number><Fare>8.05</Fare><Cabin></Cabin><Port of Embarkation>S</Port of Embarkation></row>\n",
      "<row><Passenger ID>285</Passenger ID><Survival (1: Survived, 0: Died)>0</Survival (1: Survived, 0: Died)><Passenger Class>1</Passenger Class><Name>Smith, Mr. Richard William</Name><Sex>male</Sex><Age></Age><Number of Siblings/Spouses Aboard>0</Number of Siblings/Spouses Aboard><Number of Parents/Children Aboard>0</Number of Parents/Children Aboard><Ticket Number>113056</Ticket Number><Fare>26</Fare><Cabin>A19</Cabin><Port of Embarkation>S</Port of Embarkation></row>\n",
      "<row><Passenger ID>286</Passenger ID><Survival (1: Survived, 0: Died)>0</Survival (1: Survived, 0: Died)><Passenger Class>3</Passenger Class><Name>Stankovic, Mr. Ivan</Name><Sex>male</Sex><Age>33</Age><Number of Siblings/Spouses Aboard>0</Number of Siblings/Spouses Aboard><Number of Parents/Children Aboard>0</Number of Parents/Children Aboard><Ticket Number>349239</Ticket Number><Fare>8.6625</Fare><Cabin></Cabin><Port of Embarkation>C</Port of Embarkation></row>\n",
      "<row><Passenger ID>287</Passenger ID><Survival (1: Survived, 0: Died)>1</Survival (1: Survived, 0: Died)><Passenger Class>3</Passenger Class><Name>de Mulder, Mr. Theodore</Name><Sex>male</Sex><Age>30</Age><Number of Siblings/Spouses Aboard>0</Number of Siblings/Spouses Aboard><Number of Parents/Children Aboard>0</Number of Parents/Children Aboard><Ticket Number>345774</Ticket Number><Fare>9.5</Fare><Cabin></Cabin><Port of Embarkation>S</Port of Embarkation></row>\n",
      "<row><Passenger ID>288</Passenger ID><Survival (1: Survived, 0: Died)>0</Survival (1: Survived, 0: Died)><Passenger Class>3</Passenger Class><Name>Naidenoff, Mr. Penko</Name><Sex>male</Sex><Age>22</Age><Number of Siblings/Spouses Aboard>0</Number of Siblings/Spouses Aboard><Number of Parents/Children Aboard>0</Number of Parents/Children Aboard><Ticket Number>349206</Ticket Number><Fare>7.8958</Fare><Cabin></Cabin><Port of Embarkation>S</Port of Embarkation></row>\n",
      "<row><Passenger ID>289</Passenger ID><Survival (1: Survived, 0: Died)>1</Survival (1: Survived, 0: Died)><Passenger Class>2</Passenger Class><Name>Hosono, Mr. Masabumi</Name><Sex>male</Sex><Age>42</Age><Number of Siblings/Spouses Aboard>0</Number of Siblings/Spouses Aboard><Number of Parents/Children Aboard>0</Number of Parents/Children Aboard><Ticket Number>237798</Ticket Number><Fare>13</Fare><Cabin></Cabin><Port of Embarkation>S</Port of Embarkation></row>\n",
      "<row><Passenger ID>290</Passenger ID><Survival (1: Survived, 0: Died)>1</Survival (1: Survived, 0: Died)><Passenger Class>3</Passenger Class><Name>Connolly, Miss. Kate</Name><Sex>female</Sex><Age>22</Age><Number of Siblings/Spouses Aboard>0</Number of Siblings/Spouses Aboard><Number of Parents/Children Aboard>0</Number of Parents/Children Aboard><Ticket Number>370373</Ticket Number><Fare>7.75</Fare><Cabin></Cabin><Port of Embarkation>Q</Port of Embarkation></row>\n",
      "<row><Passenger ID>291</Passenger ID><Survival (1: Survived, 0: Died)>1</Survival (1: Survived, 0: Died)><Passenger Class>1</Passenger Class><Name>Barber, Miss. Ellen \"Nellie\"</Name><Sex>female</Sex><Age>26</Age><Number of Siblings/Spouses Aboard>0</Number of Siblings/Spouses Aboard><Number of Parents/Children Aboard>0</Number of Parents/Children Aboard><Ticket Number>19877</Ticket Number><Fare>78.85</Fare><Cabin></Cabin><Port of Embarkation>S</Port of Embarkation></row>\n",
      "<row><Passenger ID>292</Passenger ID><Survival (1: Survived, 0: Died)>1</Survival (1: Survived, 0: Died)><Passenger Class>1</Passenger Class><Name>Bishop, Mrs. Dickinson H (Helen Walton)</Name><Sex>female</Sex><Age>19</Age><Number of Siblings/Spouses Aboard>1</Number of Siblings/Spouses Aboard><Number of Parents/Children Aboard>0</Number of Parents/Children Aboard><Ticket Number>11967</Ticket Number><Fare>91.0792</Fare><Cabin>B49</Cabin><Port of Embarkation>C</Port of Embarkation></row>\n",
      "<row><Passenger ID>293</Passenger ID><Survival (1: Survived, 0: Died)>0</Survival (1: Survived, 0: Died)><Passenger Class>2</Passenger Class><Name>Levy, Mr. Rene Jacques</Name><Sex>male</Sex><Age>36</Age><Number of Siblings/Spouses Aboard>0</Number of Siblings/Spouses Aboard><Number of Parents/Children Aboard>0</Number of Parents/Children Aboard><Ticket Number>SC/Paris 2163</Ticket Number><Fare>12.875</Fare><Cabin>D</Cabin><Port of Embarkation>C</Port of Embarkation></row>\n",
      "<row><Passenger ID>294</Passenger ID><Survival (1: Survived, 0: Died)>0</Survival (1: Survived, 0: Died)><Passenger Class>3</Passenger Class><Name>Haas, Miss. Aloisia</Name><Sex>female</Sex><Age>24</Age><Number of Siblings/Spouses Aboard>0</Number of Siblings/Spouses Aboard><Number of Parents/Children Aboard>0</Number of Parents/Children Aboard><Ticket Number>349236</Ticket Number><Fare>8.85</Fare><Cabin></Cabin><Port of Embarkation>S</Port of Embarkation></row>\n",
      "<row><Passenger ID>295</Passenger ID><Survival (1: Survived, 0: Died)>0</Survival (1: Survived, 0: Died)><Passenger Class>3</Passenger Class><Name>Mineff, Mr. Ivan</Name><Sex>male</Sex><Age>24</Age><Number of Siblings/Spouses Aboard>0</Number of Siblings/Spouses Aboard><Number of Parents/Children Aboard>0</Number of Parents/Children Aboard><Ticket Number>349233</Ticket Number><Fare>7.8958</Fare><Cabin></Cabin><Port of Embarkation>S</Port of Embarkation></row>\n",
      "<row><Passenger ID>296</Passenger ID><Survival (1: Survived, 0: Died)>0</Survival (1: Survived, 0: Died)><Passenger Class>1</Passenger Class><Name>Lewy, Mr. Ervin G</Name><Sex>male</Sex><Age></Age><Number of Siblings/Spouses Aboard>0</Number of Siblings/Spouses Aboard><Number of Parents/Children Aboard>0</Number of Parents/Children Aboard><Ticket Number>PC 17612</Ticket Number><Fare>27.7208</Fare><Cabin></Cabin><Port of Embarkation>C</Port of Embarkation></row>\n",
      "<row><Passenger ID>297</Passenger ID><Survival (1: Survived, 0: Died)>0</Survival (1: Survived, 0: Died)><Passenger Class>3</Passenger Class><Name>Hanna, Mr. Mansour</Name><Sex>male</Sex><Age>23.5</Age><Number of Siblings/Spouses Aboard>0</Number of Siblings/Spouses Aboard><Number of Parents/Children Aboard>0</Number of Parents/Children Aboard><Ticket Number>2693</Ticket Number><Fare>7.2292</Fare><Cabin></Cabin><Port of Embarkation>C</Port of Embarkation></row>\n",
      "<row><Passenger ID>298</Passenger ID><Survival (1: Survived, 0: Died)>0</Survival (1: Survived, 0: Died)><Passenger Class>1</Passenger Class><Name>Allison, Miss. Helen Loraine</Name><Sex>female</Sex><Age>2</Age><Number of Siblings/Spouses Aboard>1</Number of Siblings/Spouses Aboard><Number of Parents/Children Aboard>2</Number of Parents/Children Aboard><Ticket Number>113781</Ticket Number><Fare>151.55</Fare><Cabin>C22 C26</Cabin><Port of Embarkation>S</Port of Embarkation></row>\n",
      "<row><Passenger ID>299</Passenger ID><Survival (1: Survived, 0: Died)>1</Survival (1: Survived, 0: Died)><Passenger Class>1</Passenger Class><Name>Saalfeld, Mr. Adolphe</Name><Sex>male</Sex><Age></Age><Number of Siblings/Spouses Aboard>0</Number of Siblings/Spouses Aboard><Number of Parents/Children Aboard>0</Number of Parents/Children Aboard><Ticket Number>19988</Ticket Number><Fare>30.5</Fare><Cabin>C106</Cabin><Port of Embarkation>S</Port of Embarkation></row>\n",
      "<row><Passenger ID>300</Passenger ID><Survival (1: Survived, 0: Died)>1</Survival (1: Survived, 0: Died)><Passenger Class>1</Passenger Class><Name>Baxter, Mrs. James (Helene DeLaudeniere Chaput)</Name><Sex>female</Sex><Age>50</Age><Number of Siblings/Spouses Aboard>0</Number of Siblings/Spouses Aboard><Number of Parents/Children Aboard>1</Number of Parents/Children Aboard><Ticket Number>PC 17558</Ticket Number><Fare>247.5208</Fare><Cabin>B58 B60</Cabin><Port of Embarkation>C</Port of Embarkation></row>\n",
      "<row><Passenger ID>301</Passenger ID><Survival (1: Survived, 0: Died)>1</Survival (1: Survived, 0: Died)><Passenger Class>3</Passenger Class><Name>Kelly, Miss. Anna Katherine \"Annie Kate\"</Name><Sex>female</Sex><Age></Age><Number of Siblings/Spouses Aboard>0</Number of Siblings/Spouses Aboard><Number of Parents/Children Aboard>0</Number of Parents/Children Aboard><Ticket Number>9234</Ticket Number><Fare>7.75</Fare><Cabin></Cabin><Port of Embarkation>Q</Port of Embarkation></row>\n",
      "<row><Passenger ID>302</Passenger ID><Survival (1: Survived, 0: Died)>1</Survival (1: Survived, 0: Died)><Passenger Class>3</Passenger Class><Name>McCoy, Mr. Bernard</Name><Sex>male</Sex><Age></Age><Number of Siblings/Spouses Aboard>2</Number of Siblings/Spouses Aboard><Number of Parents/Children Aboard>0</Number of Parents/Children Aboard><Ticket Number>367226</Ticket Number><Fare>23.25</Fare><Cabin></Cabin><Port of Embarkation>Q</Port of Embarkation></row>\n",
      "<row><Passenger ID>303</Passenger ID><Survival (1: Survived, 0: Died)>0</Survival (1: Survived, 0: Died)><Passenger Class>3</Passenger Class><Name>Johnson, Mr. William Cahoone Jr</Name><Sex>male</Sex><Age>19</Age><Number of Siblings/Spouses Aboard>0</Number of Siblings/Spouses Aboard><Number of Parents/Children Aboard>0</Number of Parents/Children Aboard><Ticket Number>LINE</Ticket Number><Fare>0</Fare><Cabin></Cabin><Port of Embarkation>S</Port of Embarkation></row>\n",
      "<row><Passenger ID>304</Passenger ID><Survival (1: Survived, 0: Died)>1</Survival (1: Survived, 0: Died)><Passenger Class>2</Passenger Class><Name>Keane, Miss. Nora A</Name><Sex>female</Sex><Age></Age><Number of Siblings/Spouses Aboard>0</Number of Siblings/Spouses Aboard><Number of Parents/Children Aboard>0</Number of Parents/Children Aboard><Ticket Number>226593</Ticket Number><Fare>12.35</Fare><Cabin>E101</Cabin><Port of Embarkation>Q</Port of Embarkation></row>\n",
      "<row><Passenger ID>305</Passenger ID><Survival (1: Survived, 0: Died)>0</Survival (1: Survived, 0: Died)><Passenger Class>3</Passenger Class><Name>Williams, Mr. Howard Hugh \"Harry\"</Name><Sex>male</Sex><Age></Age><Number of Siblings/Spouses Aboard>0</Number of Siblings/Spouses Aboard><Number of Parents/Children Aboard>0</Number of Parents/Children Aboard><Ticket Number>A/5 2466</Ticket Number><Fare>8.05</Fare><Cabin></Cabin><Port of Embarkation>S</Port of Embarkation></row>\n",
      "<row><Passenger ID>306</Passenger ID><Survival (1: Survived, 0: Died)>1</Survival (1: Survived, 0: Died)><Passenger Class>1</Passenger Class><Name>Allison, Master. Hudson Trevor</Name><Sex>male</Sex><Age>0.92</Age><Number of Siblings/Spouses Aboard>1</Number of Siblings/Spouses Aboard><Number of Parents/Children Aboard>2</Number of Parents/Children Aboard><Ticket Number>113781</Ticket Number><Fare>151.55</Fare><Cabin>C22 C26</Cabin><Port of Embarkation>S</Port of Embarkation></row>\n",
      "<row><Passenger ID>307</Passenger ID><Survival (1: Survived, 0: Died)>1</Survival (1: Survived, 0: Died)><Passenger Class>1</Passenger Class><Name>Fleming, Miss. Margaret</Name><Sex>female</Sex><Age></Age><Number of Siblings/Spouses Aboard>0</Number of Siblings/Spouses Aboard><Number of Parents/Children Aboard>0</Number of Parents/Children Aboard><Ticket Number>17421</Ticket Number><Fare>110.8833</Fare><Cabin></Cabin><Port of Embarkation>C</Port of Embarkation></row>\n",
      "<row><Passenger ID>308</Passenger ID><Survival (1: Survived, 0: Died)>1</Survival (1: Survived, 0: Died)><Passenger Class>1</Passenger Class><Name>Penasco y Castellana, Mrs. Victor de Satode (Maria Josefa Perez de Soto y Vallejo)</Name><Sex>female</Sex><Age>17</Age><Number of Siblings/Spouses Aboard>1</Number of Siblings/Spouses Aboard><Number of Parents/Children Aboard>0</Number of Parents/Children Aboard><Ticket Number>PC 17758</Ticket Number><Fare>108.9</Fare><Cabin>C65</Cabin><Port of Embarkation>C</Port of Embarkation></row>\n",
      "<row><Passenger ID>309</Passenger ID><Survival (1: Survived, 0: Died)>0</Survival (1: Survived, 0: Died)><Passenger Class>2</Passenger Class><Name>Abelson, Mr. Samuel</Name><Sex>male</Sex><Age>30</Age><Number of Siblings/Spouses Aboard>1</Number of Siblings/Spouses Aboard><Number of Parents/Children Aboard>0</Number of Parents/Children Aboard><Ticket Number>P/PP 3381</Ticket Number><Fare>24</Fare><Cabin></Cabin><Port of Embarkation>C</Port of Embarkation></row>\n",
      "<row><Passenger ID>310</Passenger ID><Survival (1: Survived, 0: Died)>1</Survival (1: Survived, 0: Died)><Passenger Class>1</Passenger Class><Name>Francatelli, Miss. Laura Mabel</Name><Sex>female</Sex><Age>30</Age><Number of Siblings/Spouses Aboard>0</Number of Siblings/Spouses Aboard><Number of Parents/Children Aboard>0</Number of Parents/Children Aboard><Ticket Number>PC 17485</Ticket Number><Fare>56.9292</Fare><Cabin>E36</Cabin><Port of Embarkation>C</Port of Embarkation></row>\n",
      "<row><Passenger ID>311</Passenger ID><Survival (1: Survived, 0: Died)>1</Survival (1: Survived, 0: Died)><Passenger Class>1</Passenger Class><Name>Hays, Miss. Margaret Bechstein</Name><Sex>female</Sex><Age>24</Age><Number of Siblings/Spouses Aboard>0</Number of Siblings/Spouses Aboard><Number of Parents/Children Aboard>0</Number of Parents/Children Aboard><Ticket Number>11767</Ticket Number><Fare>83.1583</Fare><Cabin>C54</Cabin><Port of Embarkation>C</Port of Embarkation></row>\n",
      "<row><Passenger ID>312</Passenger ID><Survival (1: Survived, 0: Died)>1</Survival (1: Survived, 0: Died)><Passenger Class>1</Passenger Class><Name>Ryerson, Miss. Emily Borie</Name><Sex>female</Sex><Age>18</Age><Number of Siblings/Spouses Aboard>2</Number of Siblings/Spouses Aboard><Number of Parents/Children Aboard>2</Number of Parents/Children Aboard><Ticket Number>PC 17608</Ticket Number><Fare>262.375</Fare><Cabin>B57 B59 B63 B66</Cabin><Port of Embarkation>C</Port of Embarkation></row>\n",
      "<row><Passenger ID>313</Passenger ID><Survival (1: Survived, 0: Died)>0</Survival (1: Survived, 0: Died)><Passenger Class>2</Passenger Class><Name>Lahtinen, Mrs. William (Anna Sylfven)</Name><Sex>female</Sex><Age>26</Age><Number of Siblings/Spouses Aboard>1</Number of Siblings/Spouses Aboard><Number of Parents/Children Aboard>1</Number of Parents/Children Aboard><Ticket Number>250651</Ticket Number><Fare>26</Fare><Cabin></Cabin><Port of Embarkation>S</Port of Embarkation></row>\n",
      "<row><Passenger ID>314</Passenger ID><Survival (1: Survived, 0: Died)>0</Survival (1: Survived, 0: Died)><Passenger Class>3</Passenger Class><Name>Hendekovic, Mr. Ignjac</Name><Sex>male</Sex><Age>28</Age><Number of Siblings/Spouses Aboard>0</Number of Siblings/Spouses Aboard><Number of Parents/Children Aboard>0</Number of Parents/Children Aboard><Ticket Number>349243</Ticket Number><Fare>7.8958</Fare><Cabin></Cabin><Port of Embarkation>S</Port of Embarkation></row>\n",
      "<row><Passenger ID>315</Passenger ID><Survival (1: Survived, 0: Died)>0</Survival (1: Survived, 0: Died)><Passenger Class>2</Passenger Class><Name>Hart, Mr. Benjamin</Name><Sex>male</Sex><Age>43</Age><Number of Siblings/Spouses Aboard>1</Number of Siblings/Spouses Aboard><Number of Parents/Children Aboard>1</Number of Parents/Children Aboard><Ticket Number>F.C.C. 13529</Ticket Number><Fare>26.25</Fare><Cabin></Cabin><Port of Embarkation>S</Port of Embarkation></row>\n",
      "<row><Passenger ID>316</Passenger ID><Survival (1: Survived, 0: Died)>1</Survival (1: Survived, 0: Died)><Passenger Class>3</Passenger Class><Name>Nilsson, Miss. Helmina Josefina</Name><Sex>female</Sex><Age>26</Age><Number of Siblings/Spouses Aboard>0</Number of Siblings/Spouses Aboard><Number of Parents/Children Aboard>0</Number of Parents/Children Aboard><Ticket Number>347470</Ticket Number><Fare>7.8542</Fare><Cabin></Cabin><Port of Embarkation>S</Port of Embarkation></row>\n",
      "<row><Passenger ID>317</Passenger ID><Survival (1: Survived, 0: Died)>1</Survival (1: Survived, 0: Died)><Passenger Class>2</Passenger Class><Name>Kantor, Mrs. Sinai (Miriam Sternin)</Name><Sex>female</Sex><Age>24</Age><Number of Siblings/Spouses Aboard>1</Number of Siblings/Spouses Aboard><Number of Parents/Children Aboard>0</Number of Parents/Children Aboard><Ticket Number>244367</Ticket Number><Fare>26</Fare><Cabin></Cabin><Port of Embarkation>S</Port of Embarkation></row>\n",
      "<row><Passenger ID>318</Passenger ID><Survival (1: Survived, 0: Died)>0</Survival (1: Survived, 0: Died)><Passenger Class>2</Passenger Class><Name>Moraweck, Dr. Ernest</Name><Sex>male</Sex><Age>54</Age><Number of Siblings/Spouses Aboard>0</Number of Siblings/Spouses Aboard><Number of Parents/Children Aboard>0</Number of Parents/Children Aboard><Ticket Number>29011</Ticket Number><Fare>14</Fare><Cabin></Cabin><Port of Embarkation>S</Port of Embarkation></row>\n",
      "<row><Passenger ID>319</Passenger ID><Survival (1: Survived, 0: Died)>1</Survival (1: Survived, 0: Died)><Passenger Class>1</Passenger Class><Name>Wick, Miss. Mary Natalie</Name><Sex>female</Sex><Age>31</Age><Number of Siblings/Spouses Aboard>0</Number of Siblings/Spouses Aboard><Number of Parents/Children Aboard>2</Number of Parents/Children Aboard><Ticket Number>36928</Ticket Number><Fare>164.8667</Fare><Cabin>C7</Cabin><Port of Embarkation>S</Port of Embarkation></row>\n",
      "<row><Passenger ID>320</Passenger ID><Survival (1: Survived, 0: Died)>1</Survival (1: Survived, 0: Died)><Passenger Class>1</Passenger Class><Name>Spedden, Mrs. Frederic Oakley (Margaretta Corning Stone)</Name><Sex>female</Sex><Age>40</Age><Number of Siblings/Spouses Aboard>1</Number of Siblings/Spouses Aboard><Number of Parents/Children Aboard>1</Number of Parents/Children Aboard><Ticket Number>16966</Ticket Number><Fare>134.5</Fare><Cabin>E34</Cabin><Port of Embarkation>C</Port of Embarkation></row>\n",
      "<row><Passenger ID>321</Passenger ID><Survival (1: Survived, 0: Died)>0</Survival (1: Survived, 0: Died)><Passenger Class>3</Passenger Class><Name>Dennis, Mr. Samuel</Name><Sex>male</Sex><Age>22</Age><Number of Siblings/Spouses Aboard>0</Number of Siblings/Spouses Aboard><Number of Parents/Children Aboard>0</Number of Parents/Children Aboard><Ticket Number>A/5 21172</Ticket Number><Fare>7.25</Fare><Cabin></Cabin><Port of Embarkation>S</Port of Embarkation></row>\n",
      "<row><Passenger ID>322</Passenger ID><Survival (1: Survived, 0: Died)>0</Survival (1: Survived, 0: Died)><Passenger Class>3</Passenger Class><Name>Danoff, Mr. Yoto</Name><Sex>male</Sex><Age>27</Age><Number of Siblings/Spouses Aboard>0</Number of Siblings/Spouses Aboard><Number of Parents/Children Aboard>0</Number of Parents/Children Aboard><Ticket Number>349219</Ticket Number><Fare>7.8958</Fare><Cabin></Cabin><Port of Embarkation>S</Port of Embarkation></row>\n",
      "<row><Passenger ID>323</Passenger ID><Survival (1: Survived, 0: Died)>1</Survival (1: Survived, 0: Died)><Passenger Class>2</Passenger Class><Name>Slayter, Miss. Hilda Mary</Name><Sex>female</Sex><Age>30</Age><Number of Siblings/Spouses Aboard>0</Number of Siblings/Spouses Aboard><Number of Parents/Children Aboard>0</Number of Parents/Children Aboard><Ticket Number>234818</Ticket Number><Fare>12.35</Fare><Cabin></Cabin><Port of Embarkation>Q</Port of Embarkation></row>\n",
      "<row><Passenger ID>324</Passenger ID><Survival (1: Survived, 0: Died)>1</Survival (1: Survived, 0: Died)><Passenger Class>2</Passenger Class><Name>Caldwell, Mrs. Albert Francis (Sylvia Mae Harbaugh)</Name><Sex>female</Sex><Age>22</Age><Number of Siblings/Spouses Aboard>1</Number of Siblings/Spouses Aboard><Number of Parents/Children Aboard>1</Number of Parents/Children Aboard><Ticket Number>248738</Ticket Number><Fare>29</Fare><Cabin></Cabin><Port of Embarkation>S</Port of Embarkation></row>\n",
      "<row><Passenger ID>325</Passenger ID><Survival (1: Survived, 0: Died)>0</Survival (1: Survived, 0: Died)><Passenger Class>3</Passenger Class><Name>Sage, Mr. George John Jr</Name><Sex>male</Sex><Age></Age><Number of Siblings/Spouses Aboard>8</Number of Siblings/Spouses Aboard><Number of Parents/Children Aboard>2</Number of Parents/Children Aboard><Ticket Number>CA. 2343</Ticket Number><Fare>69.55</Fare><Cabin></Cabin><Port of Embarkation>S</Port of Embarkation></row>\n",
      "<row><Passenger ID>326</Passenger ID><Survival (1: Survived, 0: Died)>1</Survival (1: Survived, 0: Died)><Passenger Class>1</Passenger Class><Name>Young, Miss. Marie Grice</Name><Sex>female</Sex><Age>36</Age><Number of Siblings/Spouses Aboard>0</Number of Siblings/Spouses Aboard><Number of Parents/Children Aboard>0</Number of Parents/Children Aboard><Ticket Number>PC 17760</Ticket Number><Fare>135.6333</Fare><Cabin>C32</Cabin><Port of Embarkation>C</Port of Embarkation></row>\n",
      "<row><Passenger ID>327</Passenger ID><Survival (1: Survived, 0: Died)>0</Survival (1: Survived, 0: Died)><Passenger Class>3</Passenger Class><Name>Nysveen, Mr. Johan Hansen</Name><Sex>male</Sex><Age>61</Age><Number of Siblings/Spouses Aboard>0</Number of Siblings/Spouses Aboard><Number of Parents/Children Aboard>0</Number of Parents/Children Aboard><Ticket Number>345364</Ticket Number><Fare>6.2375</Fare><Cabin></Cabin><Port of Embarkation>S</Port of Embarkation></row>\n",
      "<row><Passenger ID>328</Passenger ID><Survival (1: Survived, 0: Died)>1</Survival (1: Survived, 0: Died)><Passenger Class>2</Passenger Class><Name>Ball, Mrs. (Ada E Hall)</Name><Sex>female</Sex><Age>36</Age><Number of Siblings/Spouses Aboard>0</Number of Siblings/Spouses Aboard><Number of Parents/Children Aboard>0</Number of Parents/Children Aboard><Ticket Number>28551</Ticket Number><Fare>13</Fare><Cabin>D</Cabin><Port of Embarkation>S</Port of Embarkation></row>\n",
      "<row><Passenger ID>329</Passenger ID><Survival (1: Survived, 0: Died)>1</Survival (1: Survived, 0: Died)><Passenger Class>3</Passenger Class><Name>Goldsmith, Mrs. Frank John (Emily Alice Brown)</Name><Sex>female</Sex><Age>31</Age><Number of Siblings/Spouses Aboard>1</Number of Siblings/Spouses Aboard><Number of Parents/Children Aboard>1</Number of Parents/Children Aboard><Ticket Number>363291</Ticket Number><Fare>20.525</Fare><Cabin></Cabin><Port of Embarkation>S</Port of Embarkation></row>\n",
      "<row><Passenger ID>330</Passenger ID><Survival (1: Survived, 0: Died)>1</Survival (1: Survived, 0: Died)><Passenger Class>1</Passenger Class><Name>Hippach, Miss. Jean Gertrude</Name><Sex>female</Sex><Age>16</Age><Number of Siblings/Spouses Aboard>0</Number of Siblings/Spouses Aboard><Number of Parents/Children Aboard>1</Number of Parents/Children Aboard><Ticket Number>111361</Ticket Number><Fare>57.9792</Fare><Cabin>B18</Cabin><Port of Embarkation>C</Port of Embarkation></row>\n",
      "<row><Passenger ID>331</Passenger ID><Survival (1: Survived, 0: Died)>1</Survival (1: Survived, 0: Died)><Passenger Class>3</Passenger Class><Name>McCoy, Miss. Agnes</Name><Sex>female</Sex><Age></Age><Number of Siblings/Spouses Aboard>2</Number of Siblings/Spouses Aboard><Number of Parents/Children Aboard>0</Number of Parents/Children Aboard><Ticket Number>367226</Ticket Number><Fare>23.25</Fare><Cabin></Cabin><Port of Embarkation>Q</Port of Embarkation></row>\n",
      "<row><Passenger ID>332</Passenger ID><Survival (1: Survived, 0: Died)>0</Survival (1: Survived, 0: Died)><Passenger Class>1</Passenger Class><Name>Partner, Mr. Austen</Name><Sex>male</Sex><Age>45.5</Age><Number of Siblings/Spouses Aboard>0</Number of Siblings/Spouses Aboard><Number of Parents/Children Aboard>0</Number of Parents/Children Aboard><Ticket Number>113043</Ticket Number><Fare>28.5</Fare><Cabin>C124</Cabin><Port of Embarkation>S</Port of Embarkation></row>\n",
      "<row><Passenger ID>333</Passenger ID><Survival (1: Survived, 0: Died)>0</Survival (1: Survived, 0: Died)><Passenger Class>1</Passenger Class><Name>Graham, Mr. George Edward</Name><Sex>male</Sex><Age>38</Age><Number of Siblings/Spouses Aboard>0</Number of Siblings/Spouses Aboard><Number of Parents/Children Aboard>1</Number of Parents/Children Aboard><Ticket Number>PC 17582</Ticket Number><Fare>153.4625</Fare><Cabin>C91</Cabin><Port of Embarkation>S</Port of Embarkation></row>\n",
      "<row><Passenger ID>334</Passenger ID><Survival (1: Survived, 0: Died)>0</Survival (1: Survived, 0: Died)><Passenger Class>3</Passenger Class><Name>Vander Planke, Mr. Leo Edmondus</Name><Sex>male</Sex><Age>16</Age><Number of Siblings/Spouses Aboard>2</Number of Siblings/Spouses Aboard><Number of Parents/Children Aboard>0</Number of Parents/Children Aboard><Ticket Number>345764</Ticket Number><Fare>18</Fare><Cabin></Cabin><Port of Embarkation>S</Port of Embarkation></row>\n",
      "<row><Passenger ID>335</Passenger ID><Survival (1: Survived, 0: Died)>1</Survival (1: Survived, 0: Died)><Passenger Class>1</Passenger Class><Name>Frauenthal, Mrs. Henry William (Clara Heinsheimer)</Name><Sex>female</Sex><Age></Age><Number of Siblings/Spouses Aboard>1</Number of Siblings/Spouses Aboard><Number of Parents/Children Aboard>0</Number of Parents/Children Aboard><Ticket Number>PC 17611</Ticket Number><Fare>133.65</Fare><Cabin></Cabin><Port of Embarkation>S</Port of Embarkation></row>\n",
      "<row><Passenger ID>336</Passenger ID><Survival (1: Survived, 0: Died)>0</Survival (1: Survived, 0: Died)><Passenger Class>3</Passenger Class><Name>Denkoff, Mr. Mitto</Name><Sex>male</Sex><Age></Age><Number of Siblings/Spouses Aboard>0</Number of Siblings/Spouses Aboard><Number of Parents/Children Aboard>0</Number of Parents/Children Aboard><Ticket Number>349225</Ticket Number><Fare>7.8958</Fare><Cabin></Cabin><Port of Embarkation>S</Port of Embarkation></row>\n",
      "<row><Passenger ID>337</Passenger ID><Survival (1: Survived, 0: Died)>0</Survival (1: Survived, 0: Died)><Passenger Class>1</Passenger Class><Name>Pears, Mr. Thomas Clinton</Name><Sex>male</Sex><Age>29</Age><Number of Siblings/Spouses Aboard>1</Number of Siblings/Spouses Aboard><Number of Parents/Children Aboard>0</Number of Parents/Children Aboard><Ticket Number>113776</Ticket Number><Fare>66.6</Fare><Cabin>C2</Cabin><Port of Embarkation>S</Port of Embarkation></row>\n",
      "<row><Passenger ID>338</Passenger ID><Survival (1: Survived, 0: Died)>1</Survival (1: Survived, 0: Died)><Passenger Class>1</Passenger Class><Name>Burns, Miss. Elizabeth Margaret</Name><Sex>female</Sex><Age>41</Age><Number of Siblings/Spouses Aboard>0</Number of Siblings/Spouses Aboard><Number of Parents/Children Aboard>0</Number of Parents/Children Aboard><Ticket Number>16966</Ticket Number><Fare>134.5</Fare><Cabin>E40</Cabin><Port of Embarkation>C</Port of Embarkation></row>\n",
      "<row><Passenger ID>339</Passenger ID><Survival (1: Survived, 0: Died)>1</Survival (1: Survived, 0: Died)><Passenger Class>3</Passenger Class><Name>Dahl, Mr. Karl Edwart</Name><Sex>male</Sex><Age>45</Age><Number of Siblings/Spouses Aboard>0</Number of Siblings/Spouses Aboard><Number of Parents/Children Aboard>0</Number of Parents/Children Aboard><Ticket Number>7598</Ticket Number><Fare>8.05</Fare><Cabin></Cabin><Port of Embarkation>S</Port of Embarkation></row>\n",
      "<row><Passenger ID>340</Passenger ID><Survival (1: Survived, 0: Died)>0</Survival (1: Survived, 0: Died)><Passenger Class>1</Passenger Class><Name>Blackwell, Mr. Stephen Weart</Name><Sex>male</Sex><Age>45</Age><Number of Siblings/Spouses Aboard>0</Number of Siblings/Spouses Aboard><Number of Parents/Children Aboard>0</Number of Parents/Children Aboard><Ticket Number>113784</Ticket Number><Fare>35.5</Fare><Cabin>T</Cabin><Port of Embarkation>S</Port of Embarkation></row>\n",
      "<row><Passenger ID>341</Passenger ID><Survival (1: Survived, 0: Died)>1</Survival (1: Survived, 0: Died)><Passenger Class>2</Passenger Class><Name>Navratil, Master. Edmond Roger</Name><Sex>male</Sex><Age>2</Age><Number of Siblings/Spouses Aboard>1</Number of Siblings/Spouses Aboard><Number of Parents/Children Aboard>1</Number of Parents/Children Aboard><Ticket Number>230080</Ticket Number><Fare>26</Fare><Cabin>F2</Cabin><Port of Embarkation>S</Port of Embarkation></row>\n",
      "<row><Passenger ID>342</Passenger ID><Survival (1: Survived, 0: Died)>1</Survival (1: Survived, 0: Died)><Passenger Class>1</Passenger Class><Name>Fortune, Miss. Alice Elizabeth</Name><Sex>female</Sex><Age>24</Age><Number of Siblings/Spouses Aboard>3</Number of Siblings/Spouses Aboard><Number of Parents/Children Aboard>2</Number of Parents/Children Aboard><Ticket Number>19950</Ticket Number><Fare>263</Fare><Cabin>C23 C25 C27</Cabin><Port of Embarkation>S</Port of Embarkation></row>\n",
      "<row><Passenger ID>343</Passenger ID><Survival (1: Survived, 0: Died)>0</Survival (1: Survived, 0: Died)><Passenger Class>2</Passenger Class><Name>Collander, Mr. Erik Gustaf</Name><Sex>male</Sex><Age>28</Age><Number of Siblings/Spouses Aboard>0</Number of Siblings/Spouses Aboard><Number of Parents/Children Aboard>0</Number of Parents/Children Aboard><Ticket Number>248740</Ticket Number><Fare>13</Fare><Cabin></Cabin><Port of Embarkation>S</Port of Embarkation></row>\n",
      "<row><Passenger ID>344</Passenger ID><Survival (1: Survived, 0: Died)>0</Survival (1: Survived, 0: Died)><Passenger Class>2</Passenger Class><Name>Sedgwick, Mr. Charles Frederick Waddington</Name><Sex>male</Sex><Age>25</Age><Number of Siblings/Spouses Aboard>0</Number of Siblings/Spouses Aboard><Number of Parents/Children Aboard>0</Number of Parents/Children Aboard><Ticket Number>244361</Ticket Number><Fare>13</Fare><Cabin></Cabin><Port of Embarkation>S</Port of Embarkation></row>\n",
      "<row><Passenger ID>345</Passenger ID><Survival (1: Survived, 0: Died)>0</Survival (1: Survived, 0: Died)><Passenger Class>2</Passenger Class><Name>Fox, Mr. Stanley Hubert</Name><Sex>male</Sex><Age>36</Age><Number of Siblings/Spouses Aboard>0</Number of Siblings/Spouses Aboard><Number of Parents/Children Aboard>0</Number of Parents/Children Aboard><Ticket Number>229236</Ticket Number><Fare>13</Fare><Cabin></Cabin><Port of Embarkation>S</Port of Embarkation></row>\n",
      "<row><Passenger ID>346</Passenger ID><Survival (1: Survived, 0: Died)>1</Survival (1: Survived, 0: Died)><Passenger Class>2</Passenger Class><Name>Brown, Miss. Amelia \"Mildred\"</Name><Sex>female</Sex><Age>24</Age><Number of Siblings/Spouses Aboard>0</Number of Siblings/Spouses Aboard><Number of Parents/Children Aboard>0</Number of Parents/Children Aboard><Ticket Number>248733</Ticket Number><Fare>13</Fare><Cabin>F33</Cabin><Port of Embarkation>S</Port of Embarkation></row>\n",
      "<row><Passenger ID>347</Passenger ID><Survival (1: Survived, 0: Died)>1</Survival (1: Survived, 0: Died)><Passenger Class>2</Passenger Class><Name>Smith, Miss. Marion Elsie</Name><Sex>female</Sex><Age>40</Age><Number of Siblings/Spouses Aboard>0</Number of Siblings/Spouses Aboard><Number of Parents/Children Aboard>0</Number of Parents/Children Aboard><Ticket Number>31418</Ticket Number><Fare>13</Fare><Cabin></Cabin><Port of Embarkation>S</Port of Embarkation></row>\n",
      "<row><Passenger ID>348</Passenger ID><Survival (1: Survived, 0: Died)>1</Survival (1: Survived, 0: Died)><Passenger Class>3</Passenger Class><Name>Davison, Mrs. Thomas Henry (Mary E Finck)</Name><Sex>female</Sex><Age></Age><Number of Siblings/Spouses Aboard>1</Number of Siblings/Spouses Aboard><Number of Parents/Children Aboard>0</Number of Parents/Children Aboard><Ticket Number>386525</Ticket Number><Fare>16.1</Fare><Cabin></Cabin><Port of Embarkation>S</Port of Embarkation></row>\n",
      "<row><Passenger ID>349</Passenger ID><Survival (1: Survived, 0: Died)>1</Survival (1: Survived, 0: Died)><Passenger Class>3</Passenger Class><Name>Coutts, Master. William Loch \"William\"</Name><Sex>male</Sex><Age>3</Age><Number of Siblings/Spouses Aboard>1</Number of Siblings/Spouses Aboard><Number of Parents/Children Aboard>1</Number of Parents/Children Aboard><Ticket Number>C.A. 37671</Ticket Number><Fare>15.9</Fare><Cabin></Cabin><Port of Embarkation>S</Port of Embarkation></row>\n",
      "<row><Passenger ID>350</Passenger ID><Survival (1: Survived, 0: Died)>0</Survival (1: Survived, 0: Died)><Passenger Class>3</Passenger Class><Name>Dimic, Mr. Jovan</Name><Sex>male</Sex><Age>42</Age><Number of Siblings/Spouses Aboard>0</Number of Siblings/Spouses Aboard><Number of Parents/Children Aboard>0</Number of Parents/Children Aboard><Ticket Number>315088</Ticket Number><Fare>8.6625</Fare><Cabin></Cabin><Port of Embarkation>S</Port of Embarkation></row>\n",
      "<row><Passenger ID>351</Passenger ID><Survival (1: Survived, 0: Died)>0</Survival (1: Survived, 0: Died)><Passenger Class>3</Passenger Class><Name>Odahl, Mr. Nils Martin</Name><Sex>male</Sex><Age>23</Age><Number of Siblings/Spouses Aboard>0</Number of Siblings/Spouses Aboard><Number of Parents/Children Aboard>0</Number of Parents/Children Aboard><Ticket Number>7267</Ticket Number><Fare>9.225</Fare><Cabin></Cabin><Port of Embarkation>S</Port of Embarkation></row>\n",
      "<row><Passenger ID>352</Passenger ID><Survival (1: Survived, 0: Died)>0</Survival (1: Survived, 0: Died)><Passenger Class>1</Passenger Class><Name>Williams-Lambert, Mr. Fletcher Fellows</Name><Sex>male</Sex><Age></Age><Number of Siblings/Spouses Aboard>0</Number of Siblings/Spouses Aboard><Number of Parents/Children Aboard>0</Number of Parents/Children Aboard><Ticket Number>113510</Ticket Number><Fare>35</Fare><Cabin>C128</Cabin><Port of Embarkation>S</Port of Embarkation></row>\n",
      "<row><Passenger ID>353</Passenger ID><Survival (1: Survived, 0: Died)>0</Survival (1: Survived, 0: Died)><Passenger Class>3</Passenger Class><Name>Elias, Mr. Tannous</Name><Sex>male</Sex><Age>15</Age><Number of Siblings/Spouses Aboard>1</Number of Siblings/Spouses Aboard><Number of Parents/Children Aboard>1</Number of Parents/Children Aboard><Ticket Number>2695</Ticket Number><Fare>7.2292</Fare><Cabin></Cabin><Port of Embarkation>C</Port of Embarkation></row>\n",
      "<row><Passenger ID>354</Passenger ID><Survival (1: Survived, 0: Died)>0</Survival (1: Survived, 0: Died)><Passenger Class>3</Passenger Class><Name>Arnold-Franchi, Mr. Josef</Name><Sex>male</Sex><Age>25</Age><Number of Siblings/Spouses Aboard>1</Number of Siblings/Spouses Aboard><Number of Parents/Children Aboard>0</Number of Parents/Children Aboard><Ticket Number>349237</Ticket Number><Fare>17.8</Fare><Cabin></Cabin><Port of Embarkation>S</Port of Embarkation></row>\n",
      "<row><Passenger ID>355</Passenger ID><Survival (1: Survived, 0: Died)>0</Survival (1: Survived, 0: Died)><Passenger Class>3</Passenger Class><Name>Yousif, Mr. Wazli</Name><Sex>male</Sex><Age></Age><Number of Siblings/Spouses Aboard>0</Number of Siblings/Spouses Aboard><Number of Parents/Children Aboard>0</Number of Parents/Children Aboard><Ticket Number>2647</Ticket Number><Fare>7.225</Fare><Cabin></Cabin><Port of Embarkation>C</Port of Embarkation></row>\n",
      "<row><Passenger ID>356</Passenger ID><Survival (1: Survived, 0: Died)>0</Survival (1: Survived, 0: Died)><Passenger Class>3</Passenger Class><Name>Vanden Steen, Mr. Leo Peter</Name><Sex>male</Sex><Age>28</Age><Number of Siblings/Spouses Aboard>0</Number of Siblings/Spouses Aboard><Number of Parents/Children Aboard>0</Number of Parents/Children Aboard><Ticket Number>345783</Ticket Number><Fare>9.5</Fare><Cabin></Cabin><Port of Embarkation>S</Port of Embarkation></row>\n",
      "<row><Passenger ID>357</Passenger ID><Survival (1: Survived, 0: Died)>1</Survival (1: Survived, 0: Died)><Passenger Class>1</Passenger Class><Name>Bowerman, Miss. Elsie Edith</Name><Sex>female</Sex><Age>22</Age><Number of Siblings/Spouses Aboard>0</Number of Siblings/Spouses Aboard><Number of Parents/Children Aboard>1</Number of Parents/Children Aboard><Ticket Number>113505</Ticket Number><Fare>55</Fare><Cabin>E33</Cabin><Port of Embarkation>S</Port of Embarkation></row>\n",
      "<row><Passenger ID>358</Passenger ID><Survival (1: Survived, 0: Died)>0</Survival (1: Survived, 0: Died)><Passenger Class>2</Passenger Class><Name>Funk, Miss. Annie Clemmer</Name><Sex>female</Sex><Age>38</Age><Number of Siblings/Spouses Aboard>0</Number of Siblings/Spouses Aboard><Number of Parents/Children Aboard>0</Number of Parents/Children Aboard><Ticket Number>237671</Ticket Number><Fare>13</Fare><Cabin></Cabin><Port of Embarkation>S</Port of Embarkation></row>\n",
      "<row><Passenger ID>359</Passenger ID><Survival (1: Survived, 0: Died)>1</Survival (1: Survived, 0: Died)><Passenger Class>3</Passenger Class><Name>McGovern, Miss. Mary</Name><Sex>female</Sex><Age></Age><Number of Siblings/Spouses Aboard>0</Number of Siblings/Spouses Aboard><Number of Parents/Children Aboard>0</Number of Parents/Children Aboard><Ticket Number>330931</Ticket Number><Fare>7.8792</Fare><Cabin></Cabin><Port of Embarkation>Q</Port of Embarkation></row>\n",
      "<row><Passenger ID>360</Passenger ID><Survival (1: Survived, 0: Died)>1</Survival (1: Survived, 0: Died)><Passenger Class>3</Passenger Class><Name>Mockler, Miss. Helen Mary \"Ellie\"</Name><Sex>female</Sex><Age></Age><Number of Siblings/Spouses Aboard>0</Number of Siblings/Spouses Aboard><Number of Parents/Children Aboard>0</Number of Parents/Children Aboard><Ticket Number>330980</Ticket Number><Fare>7.8792</Fare><Cabin></Cabin><Port of Embarkation>Q</Port of Embarkation></row>\n",
      "<row><Passenger ID>361</Passenger ID><Survival (1: Survived, 0: Died)>0</Survival (1: Survived, 0: Died)><Passenger Class>3</Passenger Class><Name>Skoog, Mr. Wilhelm</Name><Sex>male</Sex><Age>40</Age><Number of Siblings/Spouses Aboard>1</Number of Siblings/Spouses Aboard><Number of Parents/Children Aboard>4</Number of Parents/Children Aboard><Ticket Number>347088</Ticket Number><Fare>27.9</Fare><Cabin></Cabin><Port of Embarkation>S</Port of Embarkation></row>\n",
      "<row><Passenger ID>362</Passenger ID><Survival (1: Survived, 0: Died)>0</Survival (1: Survived, 0: Died)><Passenger Class>2</Passenger Class><Name>del Carlo, Mr. Sebastiano</Name><Sex>male</Sex><Age>29</Age><Number of Siblings/Spouses Aboard>1</Number of Siblings/Spouses Aboard><Number of Parents/Children Aboard>0</Number of Parents/Children Aboard><Ticket Number>SC/PARIS 2167</Ticket Number><Fare>27.7208</Fare><Cabin></Cabin><Port of Embarkation>C</Port of Embarkation></row>\n",
      "<row><Passenger ID>363</Passenger ID><Survival (1: Survived, 0: Died)>0</Survival (1: Survived, 0: Died)><Passenger Class>3</Passenger Class><Name>Barbara, Mrs. (Catherine David)</Name><Sex>female</Sex><Age>45</Age><Number of Siblings/Spouses Aboard>0</Number of Siblings/Spouses Aboard><Number of Parents/Children Aboard>1</Number of Parents/Children Aboard><Ticket Number>2691</Ticket Number><Fare>14.4542</Fare><Cabin></Cabin><Port of Embarkation>C</Port of Embarkation></row>\n",
      "<row><Passenger ID>364</Passenger ID><Survival (1: Survived, 0: Died)>0</Survival (1: Survived, 0: Died)><Passenger Class>3</Passenger Class><Name>Asim, Mr. Adola</Name><Sex>male</Sex><Age>35</Age><Number of Siblings/Spouses Aboard>0</Number of Siblings/Spouses Aboard><Number of Parents/Children Aboard>0</Number of Parents/Children Aboard><Ticket Number>SOTON/O.Q. 3101310</Ticket Number><Fare>7.05</Fare><Cabin></Cabin><Port of Embarkation>S</Port of Embarkation></row>\n",
      "<row><Passenger ID>365</Passenger ID><Survival (1: Survived, 0: Died)>0</Survival (1: Survived, 0: Died)><Passenger Class>3</Passenger Class><Name>O'Brien, Mr. Thomas</Name><Sex>male</Sex><Age></Age><Number of Siblings/Spouses Aboard>1</Number of Siblings/Spouses Aboard><Number of Parents/Children Aboard>0</Number of Parents/Children Aboard><Ticket Number>370365</Ticket Number><Fare>15.5</Fare><Cabin></Cabin><Port of Embarkation>Q</Port of Embarkation></row>\n",
      "<row><Passenger ID>366</Passenger ID><Survival (1: Survived, 0: Died)>0</Survival (1: Survived, 0: Died)><Passenger Class>3</Passenger Class><Name>Adahl, Mr. Mauritz Nils Martin</Name><Sex>male</Sex><Age>30</Age><Number of Siblings/Spouses Aboard>0</Number of Siblings/Spouses Aboard><Number of Parents/Children Aboard>0</Number of Parents/Children Aboard><Ticket Number>C 7076</Ticket Number><Fare>7.25</Fare><Cabin></Cabin><Port of Embarkation>S</Port of Embarkation></row>\n",
      "<row><Passenger ID>367</Passenger ID><Survival (1: Survived, 0: Died)>1</Survival (1: Survived, 0: Died)><Passenger Class>1</Passenger Class><Name>Warren, Mrs. Frank Manley (Anna Sophia Atkinson)</Name><Sex>female</Sex><Age>60</Age><Number of Siblings/Spouses Aboard>1</Number of Siblings/Spouses Aboard><Number of Parents/Children Aboard>0</Number of Parents/Children Aboard><Ticket Number>110813</Ticket Number><Fare>75.25</Fare><Cabin>D37</Cabin><Port of Embarkation>C</Port of Embarkation></row>\n",
      "<row><Passenger ID>368</Passenger ID><Survival (1: Survived, 0: Died)>1</Survival (1: Survived, 0: Died)><Passenger Class>3</Passenger Class><Name>Moussa, Mrs. (Mantoura Boulos)</Name><Sex>female</Sex><Age></Age><Number of Siblings/Spouses Aboard>0</Number of Siblings/Spouses Aboard><Number of Parents/Children Aboard>0</Number of Parents/Children Aboard><Ticket Number>2626</Ticket Number><Fare>7.2292</Fare><Cabin></Cabin><Port of Embarkation>C</Port of Embarkation></row>\n",
      "<row><Passenger ID>369</Passenger ID><Survival (1: Survived, 0: Died)>1</Survival (1: Survived, 0: Died)><Passenger Class>3</Passenger Class><Name>Jermyn, Miss. Annie</Name><Sex>female</Sex><Age></Age><Number of Siblings/Spouses Aboard>0</Number of Siblings/Spouses Aboard><Number of Parents/Children Aboard>0</Number of Parents/Children Aboard><Ticket Number>14313</Ticket Number><Fare>7.75</Fare><Cabin></Cabin><Port of Embarkation>Q</Port of Embarkation></row>\n",
      "<row><Passenger ID>370</Passenger ID><Survival (1: Survived, 0: Died)>1</Survival (1: Survived, 0: Died)><Passenger Class>1</Passenger Class><Name>Aubart, Mme. Leontine Pauline</Name><Sex>female</Sex><Age>24</Age><Number of Siblings/Spouses Aboard>0</Number of Siblings/Spouses Aboard><Number of Parents/Children Aboard>0</Number of Parents/Children Aboard><Ticket Number>PC 17477</Ticket Number><Fare>69.3</Fare><Cabin>B35</Cabin><Port of Embarkation>C</Port of Embarkation></row>\n",
      "<row><Passenger ID>371</Passenger ID><Survival (1: Survived, 0: Died)>1</Survival (1: Survived, 0: Died)><Passenger Class>1</Passenger Class><Name>Harder, Mr. George Achilles</Name><Sex>male</Sex><Age>25</Age><Number of Siblings/Spouses Aboard>1</Number of Siblings/Spouses Aboard><Number of Parents/Children Aboard>0</Number of Parents/Children Aboard><Ticket Number>11765</Ticket Number><Fare>55.4417</Fare><Cabin>E50</Cabin><Port of Embarkation>C</Port of Embarkation></row>\n",
      "<row><Passenger ID>372</Passenger ID><Survival (1: Survived, 0: Died)>0</Survival (1: Survived, 0: Died)><Passenger Class>3</Passenger Class><Name>Wiklund, Mr. Jakob Alfred</Name><Sex>male</Sex><Age>18</Age><Number of Siblings/Spouses Aboard>1</Number of Siblings/Spouses Aboard><Number of Parents/Children Aboard>0</Number of Parents/Children Aboard><Ticket Number>3101267</Ticket Number><Fare>6.4958</Fare><Cabin></Cabin><Port of Embarkation>S</Port of Embarkation></row>\n",
      "<row><Passenger ID>373</Passenger ID><Survival (1: Survived, 0: Died)>0</Survival (1: Survived, 0: Died)><Passenger Class>3</Passenger Class><Name>Beavan, Mr. William Thomas</Name><Sex>male</Sex><Age>19</Age><Number of Siblings/Spouses Aboard>0</Number of Siblings/Spouses Aboard><Number of Parents/Children Aboard>0</Number of Parents/Children Aboard><Ticket Number>323951</Ticket Number><Fare>8.05</Fare><Cabin></Cabin><Port of Embarkation>S</Port of Embarkation></row>\n",
      "<row><Passenger ID>374</Passenger ID><Survival (1: Survived, 0: Died)>0</Survival (1: Survived, 0: Died)><Passenger Class>1</Passenger Class><Name>Ringhini, Mr. Sante</Name><Sex>male</Sex><Age>22</Age><Number of Siblings/Spouses Aboard>0</Number of Siblings/Spouses Aboard><Number of Parents/Children Aboard>0</Number of Parents/Children Aboard><Ticket Number>PC 17760</Ticket Number><Fare>135.6333</Fare><Cabin></Cabin><Port of Embarkation>C</Port of Embarkation></row>\n",
      "<row><Passenger ID>375</Passenger ID><Survival (1: Survived, 0: Died)>0</Survival (1: Survived, 0: Died)><Passenger Class>3</Passenger Class><Name>Palsson, Miss. Stina Viola</Name><Sex>female</Sex><Age>3</Age><Number of Siblings/Spouses Aboard>3</Number of Siblings/Spouses Aboard><Number of Parents/Children Aboard>1</Number of Parents/Children Aboard><Ticket Number>349909</Ticket Number><Fare>21.075</Fare><Cabin></Cabin><Port of Embarkation>S</Port of Embarkation></row>\n",
      "<row><Passenger ID>376</Passenger ID><Survival (1: Survived, 0: Died)>1</Survival (1: Survived, 0: Died)><Passenger Class>1</Passenger Class><Name>Meyer, Mrs. Edgar Joseph (Leila Saks)</Name><Sex>female</Sex><Age></Age><Number of Siblings/Spouses Aboard>1</Number of Siblings/Spouses Aboard><Number of Parents/Children Aboard>0</Number of Parents/Children Aboard><Ticket Number>PC 17604</Ticket Number><Fare>82.1708</Fare><Cabin></Cabin><Port of Embarkation>C</Port of Embarkation></row>\n",
      "<row><Passenger ID>377</Passenger ID><Survival (1: Survived, 0: Died)>1</Survival (1: Survived, 0: Died)><Passenger Class>3</Passenger Class><Name>Landergren, Miss. Aurora Adelia</Name><Sex>female</Sex><Age>22</Age><Number of Siblings/Spouses Aboard>0</Number of Siblings/Spouses Aboard><Number of Parents/Children Aboard>0</Number of Parents/Children Aboard><Ticket Number>C 7077</Ticket Number><Fare>7.25</Fare><Cabin></Cabin><Port of Embarkation>S</Port of Embarkation></row>\n",
      "<row><Passenger ID>378</Passenger ID><Survival (1: Survived, 0: Died)>0</Survival (1: Survived, 0: Died)><Passenger Class>1</Passenger Class><Name>Widener, Mr. Harry Elkins</Name><Sex>male</Sex><Age>27</Age><Number of Siblings/Spouses Aboard>0</Number of Siblings/Spouses Aboard><Number of Parents/Children Aboard>2</Number of Parents/Children Aboard><Ticket Number>113503</Ticket Number><Fare>211.5</Fare><Cabin>C82</Cabin><Port of Embarkation>C</Port of Embarkation></row>\n",
      "<row><Passenger ID>379</Passenger ID><Survival (1: Survived, 0: Died)>0</Survival (1: Survived, 0: Died)><Passenger Class>3</Passenger Class><Name>Betros, Mr. Tannous</Name><Sex>male</Sex><Age>20</Age><Number of Siblings/Spouses Aboard>0</Number of Siblings/Spouses Aboard><Number of Parents/Children Aboard>0</Number of Parents/Children Aboard><Ticket Number>2648</Ticket Number><Fare>4.0125</Fare><Cabin></Cabin><Port of Embarkation>C</Port of Embarkation></row>\n",
      "<row><Passenger ID>380</Passenger ID><Survival (1: Survived, 0: Died)>0</Survival (1: Survived, 0: Died)><Passenger Class>3</Passenger Class><Name>Gustafsson, Mr. Karl Gideon</Name><Sex>male</Sex><Age>19</Age><Number of Siblings/Spouses Aboard>0</Number of Siblings/Spouses Aboard><Number of Parents/Children Aboard>0</Number of Parents/Children Aboard><Ticket Number>347069</Ticket Number><Fare>7.775</Fare><Cabin></Cabin><Port of Embarkation>S</Port of Embarkation></row>\n",
      "<row><Passenger ID>381</Passenger ID><Survival (1: Survived, 0: Died)>1</Survival (1: Survived, 0: Died)><Passenger Class>1</Passenger Class><Name>Bidois, Miss. Rosalie</Name><Sex>female</Sex><Age>42</Age><Number of Siblings/Spouses Aboard>0</Number of Siblings/Spouses Aboard><Number of Parents/Children Aboard>0</Number of Parents/Children Aboard><Ticket Number>PC 17757</Ticket Number><Fare>227.525</Fare><Cabin></Cabin><Port of Embarkation>C</Port of Embarkation></row>\n",
      "<row><Passenger ID>382</Passenger ID><Survival (1: Survived, 0: Died)>1</Survival (1: Survived, 0: Died)><Passenger Class>3</Passenger Class><Name>Nakid, Miss. Maria (\"Mary\")</Name><Sex>female</Sex><Age>1</Age><Number of Siblings/Spouses Aboard>0</Number of Siblings/Spouses Aboard><Number of Parents/Children Aboard>2</Number of Parents/Children Aboard><Ticket Number>2653</Ticket Number><Fare>15.7417</Fare><Cabin></Cabin><Port of Embarkation>C</Port of Embarkation></row>\n",
      "<row><Passenger ID>383</Passenger ID><Survival (1: Survived, 0: Died)>0</Survival (1: Survived, 0: Died)><Passenger Class>3</Passenger Class><Name>Tikkanen, Mr. Juho</Name><Sex>male</Sex><Age>32</Age><Number of Siblings/Spouses Aboard>0</Number of Siblings/Spouses Aboard><Number of Parents/Children Aboard>0</Number of Parents/Children Aboard><Ticket Number>STON/O 2. 3101293</Ticket Number><Fare>7.925</Fare><Cabin></Cabin><Port of Embarkation>S</Port of Embarkation></row>\n",
      "<row><Passenger ID>384</Passenger ID><Survival (1: Survived, 0: Died)>1</Survival (1: Survived, 0: Died)><Passenger Class>1</Passenger Class><Name>Holverson, Mrs. Alexander Oskar (Mary Aline Towner)</Name><Sex>female</Sex><Age>35</Age><Number of Siblings/Spouses Aboard>1</Number of Siblings/Spouses Aboard><Number of Parents/Children Aboard>0</Number of Parents/Children Aboard><Ticket Number>113789</Ticket Number><Fare>52</Fare><Cabin></Cabin><Port of Embarkation>S</Port of Embarkation></row>\n",
      "<row><Passenger ID>385</Passenger ID><Survival (1: Survived, 0: Died)>0</Survival (1: Survived, 0: Died)><Passenger Class>3</Passenger Class><Name>Plotcharsky, Mr. Vasil</Name><Sex>male</Sex><Age></Age><Number of Siblings/Spouses Aboard>0</Number of Siblings/Spouses Aboard><Number of Parents/Children Aboard>0</Number of Parents/Children Aboard><Ticket Number>349227</Ticket Number><Fare>7.8958</Fare><Cabin></Cabin><Port of Embarkation>S</Port of Embarkation></row>\n",
      "<row><Passenger ID>386</Passenger ID><Survival (1: Survived, 0: Died)>0</Survival (1: Survived, 0: Died)><Passenger Class>2</Passenger Class><Name>Davies, Mr. Charles Henry</Name><Sex>male</Sex><Age>18</Age><Number of Siblings/Spouses Aboard>0</Number of Siblings/Spouses Aboard><Number of Parents/Children Aboard>0</Number of Parents/Children Aboard><Ticket Number>S.O.C. 14879</Ticket Number><Fare>73.5</Fare><Cabin></Cabin><Port of Embarkation>S</Port of Embarkation></row>\n",
      "<row><Passenger ID>387</Passenger ID><Survival (1: Survived, 0: Died)>0</Survival (1: Survived, 0: Died)><Passenger Class>3</Passenger Class><Name>Goodwin, Master. Sidney Leonard</Name><Sex>male</Sex><Age>1</Age><Number of Siblings/Spouses Aboard>5</Number of Siblings/Spouses Aboard><Number of Parents/Children Aboard>2</Number of Parents/Children Aboard><Ticket Number>CA 2144</Ticket Number><Fare>46.9</Fare><Cabin></Cabin><Port of Embarkation>S</Port of Embarkation></row>\n",
      "<row><Passenger ID>388</Passenger ID><Survival (1: Survived, 0: Died)>1</Survival (1: Survived, 0: Died)><Passenger Class>2</Passenger Class><Name>Buss, Miss. Kate</Name><Sex>female</Sex><Age>36</Age><Number of Siblings/Spouses Aboard>0</Number of Siblings/Spouses Aboard><Number of Parents/Children Aboard>0</Number of Parents/Children Aboard><Ticket Number>27849</Ticket Number><Fare>13</Fare><Cabin></Cabin><Port of Embarkation>S</Port of Embarkation></row>\n",
      "<row><Passenger ID>389</Passenger ID><Survival (1: Survived, 0: Died)>0</Survival (1: Survived, 0: Died)><Passenger Class>3</Passenger Class><Name>Sadlier, Mr. Matthew</Name><Sex>male</Sex><Age></Age><Number of Siblings/Spouses Aboard>0</Number of Siblings/Spouses Aboard><Number of Parents/Children Aboard>0</Number of Parents/Children Aboard><Ticket Number>367655</Ticket Number><Fare>7.7292</Fare><Cabin></Cabin><Port of Embarkation>Q</Port of Embarkation></row>\n",
      "<row><Passenger ID>390</Passenger ID><Survival (1: Survived, 0: Died)>1</Survival (1: Survived, 0: Died)><Passenger Class>2</Passenger Class><Name>Lehmann, Miss. Bertha</Name><Sex>female</Sex><Age>17</Age><Number of Siblings/Spouses Aboard>0</Number of Siblings/Spouses Aboard><Number of Parents/Children Aboard>0</Number of Parents/Children Aboard><Ticket Number>SC 1748</Ticket Number><Fare>12</Fare><Cabin></Cabin><Port of Embarkation>C</Port of Embarkation></row>\n",
      "<row><Passenger ID>391</Passenger ID><Survival (1: Survived, 0: Died)>1</Survival (1: Survived, 0: Died)><Passenger Class>1</Passenger Class><Name>Carter, Mr. William Ernest</Name><Sex>male</Sex><Age>36</Age><Number of Siblings/Spouses Aboard>1</Number of Siblings/Spouses Aboard><Number of Parents/Children Aboard>2</Number of Parents/Children Aboard><Ticket Number>113760</Ticket Number><Fare>120</Fare><Cabin>B96 B98</Cabin><Port of Embarkation>S</Port of Embarkation></row>\n",
      "<row><Passenger ID>392</Passenger ID><Survival (1: Survived, 0: Died)>1</Survival (1: Survived, 0: Died)><Passenger Class>3</Passenger Class><Name>Jansson, Mr. Carl Olof</Name><Sex>male</Sex><Age>21</Age><Number of Siblings/Spouses Aboard>0</Number of Siblings/Spouses Aboard><Number of Parents/Children Aboard>0</Number of Parents/Children Aboard><Ticket Number>350034</Ticket Number><Fare>7.7958</Fare><Cabin></Cabin><Port of Embarkation>S</Port of Embarkation></row>\n",
      "<row><Passenger ID>393</Passenger ID><Survival (1: Survived, 0: Died)>0</Survival (1: Survived, 0: Died)><Passenger Class>3</Passenger Class><Name>Gustafsson, Mr. Johan Birger</Name><Sex>male</Sex><Age>28</Age><Number of Siblings/Spouses Aboard>2</Number of Siblings/Spouses Aboard><Number of Parents/Children Aboard>0</Number of Parents/Children Aboard><Ticket Number>3101277</Ticket Number><Fare>7.925</Fare><Cabin></Cabin><Port of Embarkation>S</Port of Embarkation></row>\n",
      "<row><Passenger ID>394</Passenger ID><Survival (1: Survived, 0: Died)>1</Survival (1: Survived, 0: Died)><Passenger Class>1</Passenger Class><Name>Newell, Miss. Marjorie</Name><Sex>female</Sex><Age>23</Age><Number of Siblings/Spouses Aboard>1</Number of Siblings/Spouses Aboard><Number of Parents/Children Aboard>0</Number of Parents/Children Aboard><Ticket Number>35273</Ticket Number><Fare>113.275</Fare><Cabin>D36</Cabin><Port of Embarkation>C</Port of Embarkation></row>\n",
      "<row><Passenger ID>395</Passenger ID><Survival (1: Survived, 0: Died)>1</Survival (1: Survived, 0: Died)><Passenger Class>3</Passenger Class><Name>Sandstrom, Mrs. Hjalmar (Agnes Charlotta Bengtsson)</Name><Sex>female</Sex><Age>24</Age><Number of Siblings/Spouses Aboard>0</Number of Siblings/Spouses Aboard><Number of Parents/Children Aboard>2</Number of Parents/Children Aboard><Ticket Number>PP 9549</Ticket Number><Fare>16.7</Fare><Cabin>G6</Cabin><Port of Embarkation>S</Port of Embarkation></row>\n",
      "<row><Passenger ID>396</Passenger ID><Survival (1: Survived, 0: Died)>0</Survival (1: Survived, 0: Died)><Passenger Class>3</Passenger Class><Name>Johansson, Mr. Erik</Name><Sex>male</Sex><Age>22</Age><Number of Siblings/Spouses Aboard>0</Number of Siblings/Spouses Aboard><Number of Parents/Children Aboard>0</Number of Parents/Children Aboard><Ticket Number>350052</Ticket Number><Fare>7.7958</Fare><Cabin></Cabin><Port of Embarkation>S</Port of Embarkation></row>\n",
      "<row><Passenger ID>397</Passenger ID><Survival (1: Survived, 0: Died)>0</Survival (1: Survived, 0: Died)><Passenger Class>3</Passenger Class><Name>Olsson, Miss. Elina</Name><Sex>female</Sex><Age>31</Age><Number of Siblings/Spouses Aboard>0</Number of Siblings/Spouses Aboard><Number of Parents/Children Aboard>0</Number of Parents/Children Aboard><Ticket Number>350407</Ticket Number><Fare>7.8542</Fare><Cabin></Cabin><Port of Embarkation>S</Port of Embarkation></row>\n",
      "<row><Passenger ID>398</Passenger ID><Survival (1: Survived, 0: Died)>0</Survival (1: Survived, 0: Died)><Passenger Class>2</Passenger Class><Name>McKane, Mr. Peter David</Name><Sex>male</Sex><Age>46</Age><Number of Siblings/Spouses Aboard>0</Number of Siblings/Spouses Aboard><Number of Parents/Children Aboard>0</Number of Parents/Children Aboard><Ticket Number>28403</Ticket Number><Fare>26</Fare><Cabin></Cabin><Port of Embarkation>S</Port of Embarkation></row>\n",
      "<row><Passenger ID>399</Passenger ID><Survival (1: Survived, 0: Died)>0</Survival (1: Survived, 0: Died)><Passenger Class>2</Passenger Class><Name>Pain, Dr. Alfred</Name><Sex>male</Sex><Age>23</Age><Number of Siblings/Spouses Aboard>0</Number of Siblings/Spouses Aboard><Number of Parents/Children Aboard>0</Number of Parents/Children Aboard><Ticket Number>244278</Ticket Number><Fare>10.5</Fare><Cabin></Cabin><Port of Embarkation>S</Port of Embarkation></row>\n",
      "<row><Passenger ID>400</Passenger ID><Survival (1: Survived, 0: Died)>1</Survival (1: Survived, 0: Died)><Passenger Class>2</Passenger Class><Name>Trout, Mrs. William H (Jessie L)</Name><Sex>female</Sex><Age>28</Age><Number of Siblings/Spouses Aboard>0</Number of Siblings/Spouses Aboard><Number of Parents/Children Aboard>0</Number of Parents/Children Aboard><Ticket Number>240929</Ticket Number><Fare>12.65</Fare><Cabin></Cabin><Port of Embarkation>S</Port of Embarkation></row>\n",
      "<row><Passenger ID>401</Passenger ID><Survival (1: Survived, 0: Died)>1</Survival (1: Survived, 0: Died)><Passenger Class>3</Passenger Class><Name>Niskanen, Mr. Juha</Name><Sex>male</Sex><Age>39</Age><Number of Siblings/Spouses Aboard>0</Number of Siblings/Spouses Aboard><Number of Parents/Children Aboard>0</Number of Parents/Children Aboard><Ticket Number>STON/O 2. 3101289</Ticket Number><Fare>7.925</Fare><Cabin></Cabin><Port of Embarkation>S</Port of Embarkation></row>\n",
      "<row><Passenger ID>402</Passenger ID><Survival (1: Survived, 0: Died)>0</Survival (1: Survived, 0: Died)><Passenger Class>3</Passenger Class><Name>Adams, Mr. John</Name><Sex>male</Sex><Age>26</Age><Number of Siblings/Spouses Aboard>0</Number of Siblings/Spouses Aboard><Number of Parents/Children Aboard>0</Number of Parents/Children Aboard><Ticket Number>341826</Ticket Number><Fare>8.05</Fare><Cabin></Cabin><Port of Embarkation>S</Port of Embarkation></row>\n",
      "<row><Passenger ID>403</Passenger ID><Survival (1: Survived, 0: Died)>0</Survival (1: Survived, 0: Died)><Passenger Class>3</Passenger Class><Name>Jussila, Miss. Mari Aina</Name><Sex>female</Sex><Age>21</Age><Number of Siblings/Spouses Aboard>1</Number of Siblings/Spouses Aboard><Number of Parents/Children Aboard>0</Number of Parents/Children Aboard><Ticket Number>4137</Ticket Number><Fare>9.825</Fare><Cabin></Cabin><Port of Embarkation>S</Port of Embarkation></row>\n",
      "<row><Passenger ID>404</Passenger ID><Survival (1: Survived, 0: Died)>0</Survival (1: Survived, 0: Died)><Passenger Class>3</Passenger Class><Name>Hakkarainen, Mr. Pekka Pietari</Name><Sex>male</Sex><Age>28</Age><Number of Siblings/Spouses Aboard>1</Number of Siblings/Spouses Aboard><Number of Parents/Children Aboard>0</Number of Parents/Children Aboard><Ticket Number>STON/O2. 3101279</Ticket Number><Fare>15.85</Fare><Cabin></Cabin><Port of Embarkation>S</Port of Embarkation></row>\n",
      "<row><Passenger ID>405</Passenger ID><Survival (1: Survived, 0: Died)>0</Survival (1: Survived, 0: Died)><Passenger Class>3</Passenger Class><Name>Oreskovic, Miss. Marija</Name><Sex>female</Sex><Age>20</Age><Number of Siblings/Spouses Aboard>0</Number of Siblings/Spouses Aboard><Number of Parents/Children Aboard>0</Number of Parents/Children Aboard><Ticket Number>315096</Ticket Number><Fare>8.6625</Fare><Cabin></Cabin><Port of Embarkation>S</Port of Embarkation></row>\n",
      "<row><Passenger ID>406</Passenger ID><Survival (1: Survived, 0: Died)>0</Survival (1: Survived, 0: Died)><Passenger Class>2</Passenger Class><Name>Gale, Mr. Shadrach</Name><Sex>male</Sex><Age>34</Age><Number of Siblings/Spouses Aboard>1</Number of Siblings/Spouses Aboard><Number of Parents/Children Aboard>0</Number of Parents/Children Aboard><Ticket Number>28664</Ticket Number><Fare>21</Fare><Cabin></Cabin><Port of Embarkation>S</Port of Embarkation></row>\n",
      "<row><Passenger ID>407</Passenger ID><Survival (1: Survived, 0: Died)>0</Survival (1: Survived, 0: Died)><Passenger Class>3</Passenger Class><Name>Widegren, Mr. Carl/Charles Peter</Name><Sex>male</Sex><Age>51</Age><Number of Siblings/Spouses Aboard>0</Number of Siblings/Spouses Aboard><Number of Parents/Children Aboard>0</Number of Parents/Children Aboard><Ticket Number>347064</Ticket Number><Fare>7.75</Fare><Cabin></Cabin><Port of Embarkation>S</Port of Embarkation></row>\n",
      "<row><Passenger ID>408</Passenger ID><Survival (1: Survived, 0: Died)>1</Survival (1: Survived, 0: Died)><Passenger Class>2</Passenger Class><Name>Richards, Master. William Rowe</Name><Sex>male</Sex><Age>3</Age><Number of Siblings/Spouses Aboard>1</Number of Siblings/Spouses Aboard><Number of Parents/Children Aboard>1</Number of Parents/Children Aboard><Ticket Number>29106</Ticket Number><Fare>18.75</Fare><Cabin></Cabin><Port of Embarkation>S</Port of Embarkation></row>\n",
      "<row><Passenger ID>409</Passenger ID><Survival (1: Survived, 0: Died)>0</Survival (1: Survived, 0: Died)><Passenger Class>3</Passenger Class><Name>Birkeland, Mr. Hans Martin Monsen</Name><Sex>male</Sex><Age>21</Age><Number of Siblings/Spouses Aboard>0</Number of Siblings/Spouses Aboard><Number of Parents/Children Aboard>0</Number of Parents/Children Aboard><Ticket Number>312992</Ticket Number><Fare>7.775</Fare><Cabin></Cabin><Port of Embarkation>S</Port of Embarkation></row>\n",
      "<row><Passenger ID>410</Passenger ID><Survival (1: Survived, 0: Died)>0</Survival (1: Survived, 0: Died)><Passenger Class>3</Passenger Class><Name>Lefebre, Miss. Ida</Name><Sex>female</Sex><Age></Age><Number of Siblings/Spouses Aboard>3</Number of Siblings/Spouses Aboard><Number of Parents/Children Aboard>1</Number of Parents/Children Aboard><Ticket Number>4133</Ticket Number><Fare>25.4667</Fare><Cabin></Cabin><Port of Embarkation>S</Port of Embarkation></row>\n",
      "<row><Passenger ID>411</Passenger ID><Survival (1: Survived, 0: Died)>0</Survival (1: Survived, 0: Died)><Passenger Class>3</Passenger Class><Name>Sdycoff, Mr. Todor</Name><Sex>male</Sex><Age></Age><Number of Siblings/Spouses Aboard>0</Number of Siblings/Spouses Aboard><Number of Parents/Children Aboard>0</Number of Parents/Children Aboard><Ticket Number>349222</Ticket Number><Fare>7.8958</Fare><Cabin></Cabin><Port of Embarkation>S</Port of Embarkation></row>\n",
      "<row><Passenger ID>412</Passenger ID><Survival (1: Survived, 0: Died)>0</Survival (1: Survived, 0: Died)><Passenger Class>3</Passenger Class><Name>Hart, Mr. Henry</Name><Sex>male</Sex><Age></Age><Number of Siblings/Spouses Aboard>0</Number of Siblings/Spouses Aboard><Number of Parents/Children Aboard>0</Number of Parents/Children Aboard><Ticket Number>394140</Ticket Number><Fare>6.8583</Fare><Cabin></Cabin><Port of Embarkation>Q</Port of Embarkation></row>\n",
      "<row><Passenger ID>413</Passenger ID><Survival (1: Survived, 0: Died)>1</Survival (1: Survived, 0: Died)><Passenger Class>1</Passenger Class><Name>Minahan, Miss. Daisy E</Name><Sex>female</Sex><Age>33</Age><Number of Siblings/Spouses Aboard>1</Number of Siblings/Spouses Aboard><Number of Parents/Children Aboard>0</Number of Parents/Children Aboard><Ticket Number>19928</Ticket Number><Fare>90</Fare><Cabin>C78</Cabin><Port of Embarkation>Q</Port of Embarkation></row>\n",
      "<row><Passenger ID>414</Passenger ID><Survival (1: Survived, 0: Died)>0</Survival (1: Survived, 0: Died)><Passenger Class>2</Passenger Class><Name>Cunningham, Mr. Alfred Fleming</Name><Sex>male</Sex><Age></Age><Number of Siblings/Spouses Aboard>0</Number of Siblings/Spouses Aboard><Number of Parents/Children Aboard>0</Number of Parents/Children Aboard><Ticket Number>239853</Ticket Number><Fare>0</Fare><Cabin></Cabin><Port of Embarkation>S</Port of Embarkation></row>\n",
      "<row><Passenger ID>415</Passenger ID><Survival (1: Survived, 0: Died)>1</Survival (1: Survived, 0: Died)><Passenger Class>3</Passenger Class><Name>Sundman, Mr. Johan Julian</Name><Sex>male</Sex><Age>44</Age><Number of Siblings/Spouses Aboard>0</Number of Siblings/Spouses Aboard><Number of Parents/Children Aboard>0</Number of Parents/Children Aboard><Ticket Number>STON/O 2. 3101269</Ticket Number><Fare>7.925</Fare><Cabin></Cabin><Port of Embarkation>S</Port of Embarkation></row>\n",
      "<row><Passenger ID>416</Passenger ID><Survival (1: Survived, 0: Died)>0</Survival (1: Survived, 0: Died)><Passenger Class>3</Passenger Class><Name>Meek, Mrs. Thomas (Annie Louise Rowley)</Name><Sex>female</Sex><Age></Age><Number of Siblings/Spouses Aboard>0</Number of Siblings/Spouses Aboard><Number of Parents/Children Aboard>0</Number of Parents/Children Aboard><Ticket Number>343095</Ticket Number><Fare>8.05</Fare><Cabin></Cabin><Port of Embarkation>S</Port of Embarkation></row>\n",
      "<row><Passenger ID>417</Passenger ID><Survival (1: Survived, 0: Died)>1</Survival (1: Survived, 0: Died)><Passenger Class>2</Passenger Class><Name>Drew, Mrs. James Vivian (Lulu Thorne Christian)</Name><Sex>female</Sex><Age>34</Age><Number of Siblings/Spouses Aboard>1</Number of Siblings/Spouses Aboard><Number of Parents/Children Aboard>1</Number of Parents/Children Aboard><Ticket Number>28220</Ticket Number><Fare>32.5</Fare><Cabin></Cabin><Port of Embarkation>S</Port of Embarkation></row>\n",
      "<row><Passenger ID>418</Passenger ID><Survival (1: Survived, 0: Died)>1</Survival (1: Survived, 0: Died)><Passenger Class>2</Passenger Class><Name>Silven, Miss. Lyyli Karoliina</Name><Sex>female</Sex><Age>18</Age><Number of Siblings/Spouses Aboard>0</Number of Siblings/Spouses Aboard><Number of Parents/Children Aboard>2</Number of Parents/Children Aboard><Ticket Number>250652</Ticket Number><Fare>13</Fare><Cabin></Cabin><Port of Embarkation>S</Port of Embarkation></row>\n",
      "<row><Passenger ID>419</Passenger ID><Survival (1: Survived, 0: Died)>0</Survival (1: Survived, 0: Died)><Passenger Class>2</Passenger Class><Name>Matthews, Mr. William John</Name><Sex>male</Sex><Age>30</Age><Number of Siblings/Spouses Aboard>0</Number of Siblings/Spouses Aboard><Number of Parents/Children Aboard>0</Number of Parents/Children Aboard><Ticket Number>28228</Ticket Number><Fare>13</Fare><Cabin></Cabin><Port of Embarkation>S</Port of Embarkation></row>\n",
      "<row><Passenger ID>420</Passenger ID><Survival (1: Survived, 0: Died)>0</Survival (1: Survived, 0: Died)><Passenger Class>3</Passenger Class><Name>Van Impe, Miss. Catharina</Name><Sex>female</Sex><Age>10</Age><Number of Siblings/Spouses Aboard>0</Number of Siblings/Spouses Aboard><Number of Parents/Children Aboard>2</Number of Parents/Children Aboard><Ticket Number>345773</Ticket Number><Fare>24.15</Fare><Cabin></Cabin><Port of Embarkation>S</Port of Embarkation></row>\n",
      "<row><Passenger ID>421</Passenger ID><Survival (1: Survived, 0: Died)>0</Survival (1: Survived, 0: Died)><Passenger Class>3</Passenger Class><Name>Gheorgheff, Mr. Stanio</Name><Sex>male</Sex><Age></Age><Number of Siblings/Spouses Aboard>0</Number of Siblings/Spouses Aboard><Number of Parents/Children Aboard>0</Number of Parents/Children Aboard><Ticket Number>349254</Ticket Number><Fare>7.8958</Fare><Cabin></Cabin><Port of Embarkation>C</Port of Embarkation></row>\n",
      "<row><Passenger ID>422</Passenger ID><Survival (1: Survived, 0: Died)>0</Survival (1: Survived, 0: Died)><Passenger Class>3</Passenger Class><Name>Charters, Mr. David</Name><Sex>male</Sex><Age>21</Age><Number of Siblings/Spouses Aboard>0</Number of Siblings/Spouses Aboard><Number of Parents/Children Aboard>0</Number of Parents/Children Aboard><Ticket Number>A/5. 13032</Ticket Number><Fare>7.7333</Fare><Cabin></Cabin><Port of Embarkation>Q</Port of Embarkation></row>\n",
      "<row><Passenger ID>423</Passenger ID><Survival (1: Survived, 0: Died)>0</Survival (1: Survived, 0: Died)><Passenger Class>3</Passenger Class><Name>Zimmerman, Mr. Leo</Name><Sex>male</Sex><Age>29</Age><Number of Siblings/Spouses Aboard>0</Number of Siblings/Spouses Aboard><Number of Parents/Children Aboard>0</Number of Parents/Children Aboard><Ticket Number>315082</Ticket Number><Fare>7.875</Fare><Cabin></Cabin><Port of Embarkation>S</Port of Embarkation></row>\n",
      "<row><Passenger ID>424</Passenger ID><Survival (1: Survived, 0: Died)>0</Survival (1: Survived, 0: Died)><Passenger Class>3</Passenger Class><Name>Danbom, Mrs. Ernst Gilbert (Anna Sigrid Maria Brogren)</Name><Sex>female</Sex><Age>28</Age><Number of Siblings/Spouses Aboard>1</Number of Siblings/Spouses Aboard><Number of Parents/Children Aboard>1</Number of Parents/Children Aboard><Ticket Number>347080</Ticket Number><Fare>14.4</Fare><Cabin></Cabin><Port of Embarkation>S</Port of Embarkation></row>\n",
      "<row><Passenger ID>425</Passenger ID><Survival (1: Survived, 0: Died)>0</Survival (1: Survived, 0: Died)><Passenger Class>3</Passenger Class><Name>Rosblom, Mr. Viktor Richard</Name><Sex>male</Sex><Age>18</Age><Number of Siblings/Spouses Aboard>1</Number of Siblings/Spouses Aboard><Number of Parents/Children Aboard>1</Number of Parents/Children Aboard><Ticket Number>370129</Ticket Number><Fare>20.2125</Fare><Cabin></Cabin><Port of Embarkation>S</Port of Embarkation></row>\n",
      "<row><Passenger ID>426</Passenger ID><Survival (1: Survived, 0: Died)>0</Survival (1: Survived, 0: Died)><Passenger Class>3</Passenger Class><Name>Wiseman, Mr. Phillippe</Name><Sex>male</Sex><Age></Age><Number of Siblings/Spouses Aboard>0</Number of Siblings/Spouses Aboard><Number of Parents/Children Aboard>0</Number of Parents/Children Aboard><Ticket Number>A/4. 34244</Ticket Number><Fare>7.25</Fare><Cabin></Cabin><Port of Embarkation>S</Port of Embarkation></row>\n",
      "<row><Passenger ID>427</Passenger ID><Survival (1: Survived, 0: Died)>1</Survival (1: Survived, 0: Died)><Passenger Class>2</Passenger Class><Name>Clarke, Mrs. Charles V (Ada Maria Winfield)</Name><Sex>female</Sex><Age>28</Age><Number of Siblings/Spouses Aboard>1</Number of Siblings/Spouses Aboard><Number of Parents/Children Aboard>0</Number of Parents/Children Aboard><Ticket Number>2003</Ticket Number><Fare>26</Fare><Cabin></Cabin><Port of Embarkation>S</Port of Embarkation></row>\n",
      "<row><Passenger ID>428</Passenger ID><Survival (1: Survived, 0: Died)>1</Survival (1: Survived, 0: Died)><Passenger Class>2</Passenger Class><Name>Phillips, Miss. Kate Florence (\"Mrs Kate Louise Phillips Marshall\")</Name><Sex>female</Sex><Age>19</Age><Number of Siblings/Spouses Aboard>0</Number of Siblings/Spouses Aboard><Number of Parents/Children Aboard>0</Number of Parents/Children Aboard><Ticket Number>250655</Ticket Number><Fare>26</Fare><Cabin></Cabin><Port of Embarkation>S</Port of Embarkation></row>\n",
      "<row><Passenger ID>429</Passenger ID><Survival (1: Survived, 0: Died)>0</Survival (1: Survived, 0: Died)><Passenger Class>3</Passenger Class><Name>Flynn, Mr. James</Name><Sex>male</Sex><Age></Age><Number of Siblings/Spouses Aboard>0</Number of Siblings/Spouses Aboard><Number of Parents/Children Aboard>0</Number of Parents/Children Aboard><Ticket Number>364851</Ticket Number><Fare>7.75</Fare><Cabin></Cabin><Port of Embarkation>Q</Port of Embarkation></row>\n",
      "<row><Passenger ID>430</Passenger ID><Survival (1: Survived, 0: Died)>1</Survival (1: Survived, 0: Died)><Passenger Class>3</Passenger Class><Name>Pickard, Mr. Berk (Berk Trembisky)</Name><Sex>male</Sex><Age>32</Age><Number of Siblings/Spouses Aboard>0</Number of Siblings/Spouses Aboard><Number of Parents/Children Aboard>0</Number of Parents/Children Aboard><Ticket Number>SOTON/O.Q. 392078</Ticket Number><Fare>8.05</Fare><Cabin>E10</Cabin><Port of Embarkation>S</Port of Embarkation></row>\n",
      "<row><Passenger ID>431</Passenger ID><Survival (1: Survived, 0: Died)>1</Survival (1: Survived, 0: Died)><Passenger Class>1</Passenger Class><Name>Bjornstrom-Steffansson, Mr. Mauritz Hakan</Name><Sex>male</Sex><Age>28</Age><Number of Siblings/Spouses Aboard>0</Number of Siblings/Spouses Aboard><Number of Parents/Children Aboard>0</Number of Parents/Children Aboard><Ticket Number>110564</Ticket Number><Fare>26.55</Fare><Cabin>C52</Cabin><Port of Embarkation>S</Port of Embarkation></row>\n",
      "<row><Passenger ID>432</Passenger ID><Survival (1: Survived, 0: Died)>1</Survival (1: Survived, 0: Died)><Passenger Class>3</Passenger Class><Name>Thorneycroft, Mrs. Percival (Florence Kate White)</Name><Sex>female</Sex><Age></Age><Number of Siblings/Spouses Aboard>1</Number of Siblings/Spouses Aboard><Number of Parents/Children Aboard>0</Number of Parents/Children Aboard><Ticket Number>376564</Ticket Number><Fare>16.1</Fare><Cabin></Cabin><Port of Embarkation>S</Port of Embarkation></row>\n",
      "<row><Passenger ID>433</Passenger ID><Survival (1: Survived, 0: Died)>1</Survival (1: Survived, 0: Died)><Passenger Class>2</Passenger Class><Name>Louch, Mrs. Charles Alexander (Alice Adelaide Slow)</Name><Sex>female</Sex><Age>42</Age><Number of Siblings/Spouses Aboard>1</Number of Siblings/Spouses Aboard><Number of Parents/Children Aboard>0</Number of Parents/Children Aboard><Ticket Number>SC/AH 3085</Ticket Number><Fare>26</Fare><Cabin></Cabin><Port of Embarkation>S</Port of Embarkation></row>\n",
      "<row><Passenger ID>434</Passenger ID><Survival (1: Survived, 0: Died)>0</Survival (1: Survived, 0: Died)><Passenger Class>3</Passenger Class><Name>Kallio, Mr. Nikolai Erland</Name><Sex>male</Sex><Age>17</Age><Number of Siblings/Spouses Aboard>0</Number of Siblings/Spouses Aboard><Number of Parents/Children Aboard>0</Number of Parents/Children Aboard><Ticket Number>STON/O 2. 3101274</Ticket Number><Fare>7.125</Fare><Cabin></Cabin><Port of Embarkation>S</Port of Embarkation></row>\n",
      "<row><Passenger ID>435</Passenger ID><Survival (1: Survived, 0: Died)>0</Survival (1: Survived, 0: Died)><Passenger Class>1</Passenger Class><Name>Silvey, Mr. William Baird</Name><Sex>male</Sex><Age>50</Age><Number of Siblings/Spouses Aboard>1</Number of Siblings/Spouses Aboard><Number of Parents/Children Aboard>0</Number of Parents/Children Aboard><Ticket Number>13507</Ticket Number><Fare>55.9</Fare><Cabin>E44</Cabin><Port of Embarkation>S</Port of Embarkation></row>\n",
      "<row><Passenger ID>436</Passenger ID><Survival (1: Survived, 0: Died)>1</Survival (1: Survived, 0: Died)><Passenger Class>1</Passenger Class><Name>Carter, Miss. Lucile Polk</Name><Sex>female</Sex><Age>14</Age><Number of Siblings/Spouses Aboard>1</Number of Siblings/Spouses Aboard><Number of Parents/Children Aboard>2</Number of Parents/Children Aboard><Ticket Number>113760</Ticket Number><Fare>120</Fare><Cabin>B96 B98</Cabin><Port of Embarkation>S</Port of Embarkation></row>\n",
      "<row><Passenger ID>437</Passenger ID><Survival (1: Survived, 0: Died)>0</Survival (1: Survived, 0: Died)><Passenger Class>3</Passenger Class><Name>Ford, Miss. Doolina Margaret \"Daisy\"</Name><Sex>female</Sex><Age>21</Age><Number of Siblings/Spouses Aboard>2</Number of Siblings/Spouses Aboard><Number of Parents/Children Aboard>2</Number of Parents/Children Aboard><Ticket Number>W./C. 6608</Ticket Number><Fare>34.375</Fare><Cabin></Cabin><Port of Embarkation>S</Port of Embarkation></row>\n",
      "<row><Passenger ID>438</Passenger ID><Survival (1: Survived, 0: Died)>1</Survival (1: Survived, 0: Died)><Passenger Class>2</Passenger Class><Name>Richards, Mrs. Sidney (Emily Hocking)</Name><Sex>female</Sex><Age>24</Age><Number of Siblings/Spouses Aboard>2</Number of Siblings/Spouses Aboard><Number of Parents/Children Aboard>3</Number of Parents/Children Aboard><Ticket Number>29106</Ticket Number><Fare>18.75</Fare><Cabin></Cabin><Port of Embarkation>S</Port of Embarkation></row>\n",
      "<row><Passenger ID>439</Passenger ID><Survival (1: Survived, 0: Died)>0</Survival (1: Survived, 0: Died)><Passenger Class>1</Passenger Class><Name>Fortune, Mr. Mark</Name><Sex>male</Sex><Age>64</Age><Number of Siblings/Spouses Aboard>1</Number of Siblings/Spouses Aboard><Number of Parents/Children Aboard>4</Number of Parents/Children Aboard><Ticket Number>19950</Ticket Number><Fare>263</Fare><Cabin>C23 C25 C27</Cabin><Port of Embarkation>S</Port of Embarkation></row>\n",
      "<row><Passenger ID>440</Passenger ID><Survival (1: Survived, 0: Died)>0</Survival (1: Survived, 0: Died)><Passenger Class>2</Passenger Class><Name>Kvillner, Mr. Johan Henrik Johannesson</Name><Sex>male</Sex><Age>31</Age><Number of Siblings/Spouses Aboard>0</Number of Siblings/Spouses Aboard><Number of Parents/Children Aboard>0</Number of Parents/Children Aboard><Ticket Number>C.A. 18723</Ticket Number><Fare>10.5</Fare><Cabin></Cabin><Port of Embarkation>S</Port of Embarkation></row>\n",
      "<row><Passenger ID>441</Passenger ID><Survival (1: Survived, 0: Died)>1</Survival (1: Survived, 0: Died)><Passenger Class>2</Passenger Class><Name>Hart, Mrs. Benjamin (Esther Ada Bloomfield)</Name><Sex>female</Sex><Age>45</Age><Number of Siblings/Spouses Aboard>1</Number of Siblings/Spouses Aboard><Number of Parents/Children Aboard>1</Number of Parents/Children Aboard><Ticket Number>F.C.C. 13529</Ticket Number><Fare>26.25</Fare><Cabin></Cabin><Port of Embarkation>S</Port of Embarkation></row>\n",
      "<row><Passenger ID>442</Passenger ID><Survival (1: Survived, 0: Died)>0</Survival (1: Survived, 0: Died)><Passenger Class>3</Passenger Class><Name>Hampe, Mr. Leon</Name><Sex>male</Sex><Age>20</Age><Number of Siblings/Spouses Aboard>0</Number of Siblings/Spouses Aboard><Number of Parents/Children Aboard>0</Number of Parents/Children Aboard><Ticket Number>345769</Ticket Number><Fare>9.5</Fare><Cabin></Cabin><Port of Embarkation>S</Port of Embarkation></row>\n",
      "<row><Passenger ID>443</Passenger ID><Survival (1: Survived, 0: Died)>0</Survival (1: Survived, 0: Died)><Passenger Class>3</Passenger Class><Name>Petterson, Mr. Johan Emil</Name><Sex>male</Sex><Age>25</Age><Number of Siblings/Spouses Aboard>1</Number of Siblings/Spouses Aboard><Number of Parents/Children Aboard>0</Number of Parents/Children Aboard><Ticket Number>347076</Ticket Number><Fare>7.775</Fare><Cabin></Cabin><Port of Embarkation>S</Port of Embarkation></row>\n",
      "<row><Passenger ID>444</Passenger ID><Survival (1: Survived, 0: Died)>1</Survival (1: Survived, 0: Died)><Passenger Class>2</Passenger Class><Name>Reynaldo, Ms. Encarnacion</Name><Sex>female</Sex><Age>28</Age><Number of Siblings/Spouses Aboard>0</Number of Siblings/Spouses Aboard><Number of Parents/Children Aboard>0</Number of Parents/Children Aboard><Ticket Number>230434</Ticket Number><Fare>13</Fare><Cabin></Cabin><Port of Embarkation>S</Port of Embarkation></row>\n",
      "<row><Passenger ID>445</Passenger ID><Survival (1: Survived, 0: Died)>1</Survival (1: Survived, 0: Died)><Passenger Class>3</Passenger Class><Name>Johannesen-Bratthammer, Mr. Bernt</Name><Sex>male</Sex><Age></Age><Number of Siblings/Spouses Aboard>0</Number of Siblings/Spouses Aboard><Number of Parents/Children Aboard>0</Number of Parents/Children Aboard><Ticket Number>65306</Ticket Number><Fare>8.1125</Fare><Cabin></Cabin><Port of Embarkation>S</Port of Embarkation></row>\n",
      "<row><Passenger ID>446</Passenger ID><Survival (1: Survived, 0: Died)>1</Survival (1: Survived, 0: Died)><Passenger Class>1</Passenger Class><Name>Dodge, Master. Washington</Name><Sex>male</Sex><Age>4</Age><Number of Siblings/Spouses Aboard>0</Number of Siblings/Spouses Aboard><Number of Parents/Children Aboard>2</Number of Parents/Children Aboard><Ticket Number>33638</Ticket Number><Fare>81.8583</Fare><Cabin>A34</Cabin><Port of Embarkation>S</Port of Embarkation></row>\n",
      "<row><Passenger ID>447</Passenger ID><Survival (1: Survived, 0: Died)>1</Survival (1: Survived, 0: Died)><Passenger Class>2</Passenger Class><Name>Mellinger, Miss. Madeleine Violet</Name><Sex>female</Sex><Age>13</Age><Number of Siblings/Spouses Aboard>0</Number of Siblings/Spouses Aboard><Number of Parents/Children Aboard>1</Number of Parents/Children Aboard><Ticket Number>250644</Ticket Number><Fare>19.5</Fare><Cabin></Cabin><Port of Embarkation>S</Port of Embarkation></row>\n",
      "<row><Passenger ID>448</Passenger ID><Survival (1: Survived, 0: Died)>1</Survival (1: Survived, 0: Died)><Passenger Class>1</Passenger Class><Name>Seward, Mr. Frederic Kimber</Name><Sex>male</Sex><Age>34</Age><Number of Siblings/Spouses Aboard>0</Number of Siblings/Spouses Aboard><Number of Parents/Children Aboard>0</Number of Parents/Children Aboard><Ticket Number>113794</Ticket Number><Fare>26.55</Fare><Cabin></Cabin><Port of Embarkation>S</Port of Embarkation></row>\n",
      "<row><Passenger ID>449</Passenger ID><Survival (1: Survived, 0: Died)>1</Survival (1: Survived, 0: Died)><Passenger Class>3</Passenger Class><Name>Baclini, Miss. Marie Catherine</Name><Sex>female</Sex><Age>5</Age><Number of Siblings/Spouses Aboard>2</Number of Siblings/Spouses Aboard><Number of Parents/Children Aboard>1</Number of Parents/Children Aboard><Ticket Number>2666</Ticket Number><Fare>19.2583</Fare><Cabin></Cabin><Port of Embarkation>C</Port of Embarkation></row>\n",
      "<row><Passenger ID>450</Passenger ID><Survival (1: Survived, 0: Died)>1</Survival (1: Survived, 0: Died)><Passenger Class>1</Passenger Class><Name>Peuchen, Major. Arthur Godfrey</Name><Sex>male</Sex><Age>52</Age><Number of Siblings/Spouses Aboard>0</Number of Siblings/Spouses Aboard><Number of Parents/Children Aboard>0</Number of Parents/Children Aboard><Ticket Number>113786</Ticket Number><Fare>30.5</Fare><Cabin>C104</Cabin><Port of Embarkation>S</Port of Embarkation></row>\n",
      "<row><Passenger ID>451</Passenger ID><Survival (1: Survived, 0: Died)>0</Survival (1: Survived, 0: Died)><Passenger Class>2</Passenger Class><Name>West, Mr. Edwy Arthur</Name><Sex>male</Sex><Age>36</Age><Number of Siblings/Spouses Aboard>1</Number of Siblings/Spouses Aboard><Number of Parents/Children Aboard>2</Number of Parents/Children Aboard><Ticket Number>C.A. 34651</Ticket Number><Fare>27.75</Fare><Cabin></Cabin><Port of Embarkation>S</Port of Embarkation></row>\n",
      "<row><Passenger ID>452</Passenger ID><Survival (1: Survived, 0: Died)>0</Survival (1: Survived, 0: Died)><Passenger Class>3</Passenger Class><Name>Hagland, Mr. Ingvald Olai Olsen</Name><Sex>male</Sex><Age></Age><Number of Siblings/Spouses Aboard>1</Number of Siblings/Spouses Aboard><Number of Parents/Children Aboard>0</Number of Parents/Children Aboard><Ticket Number>65303</Ticket Number><Fare>19.9667</Fare><Cabin></Cabin><Port of Embarkation>S</Port of Embarkation></row>\n",
      "<row><Passenger ID>453</Passenger ID><Survival (1: Survived, 0: Died)>0</Survival (1: Survived, 0: Died)><Passenger Class>1</Passenger Class><Name>Foreman, Mr. Benjamin Laventall</Name><Sex>male</Sex><Age>30</Age><Number of Siblings/Spouses Aboard>0</Number of Siblings/Spouses Aboard><Number of Parents/Children Aboard>0</Number of Parents/Children Aboard><Ticket Number>113051</Ticket Number><Fare>27.75</Fare><Cabin>C111</Cabin><Port of Embarkation>C</Port of Embarkation></row>\n",
      "<row><Passenger ID>454</Passenger ID><Survival (1: Survived, 0: Died)>1</Survival (1: Survived, 0: Died)><Passenger Class>1</Passenger Class><Name>Goldenberg, Mr. Samuel L</Name><Sex>male</Sex><Age>49</Age><Number of Siblings/Spouses Aboard>1</Number of Siblings/Spouses Aboard><Number of Parents/Children Aboard>0</Number of Parents/Children Aboard><Ticket Number>17453</Ticket Number><Fare>89.1042</Fare><Cabin>C92</Cabin><Port of Embarkation>C</Port of Embarkation></row>\n",
      "<row><Passenger ID>455</Passenger ID><Survival (1: Survived, 0: Died)>0</Survival (1: Survived, 0: Died)><Passenger Class>3</Passenger Class><Name>Peduzzi, Mr. Joseph</Name><Sex>male</Sex><Age></Age><Number of Siblings/Spouses Aboard>0</Number of Siblings/Spouses Aboard><Number of Parents/Children Aboard>0</Number of Parents/Children Aboard><Ticket Number>A/5 2817</Ticket Number><Fare>8.05</Fare><Cabin></Cabin><Port of Embarkation>S</Port of Embarkation></row>\n",
      "<row><Passenger ID>456</Passenger ID><Survival (1: Survived, 0: Died)>1</Survival (1: Survived, 0: Died)><Passenger Class>3</Passenger Class><Name>Jalsevac, Mr. Ivan</Name><Sex>male</Sex><Age>29</Age><Number of Siblings/Spouses Aboard>0</Number of Siblings/Spouses Aboard><Number of Parents/Children Aboard>0</Number of Parents/Children Aboard><Ticket Number>349240</Ticket Number><Fare>7.8958</Fare><Cabin></Cabin><Port of Embarkation>C</Port of Embarkation></row>\n",
      "<row><Passenger ID>457</Passenger ID><Survival (1: Survived, 0: Died)>0</Survival (1: Survived, 0: Died)><Passenger Class>1</Passenger Class><Name>Millet, Mr. Francis Davis</Name><Sex>male</Sex><Age>65</Age><Number of Siblings/Spouses Aboard>0</Number of Siblings/Spouses Aboard><Number of Parents/Children Aboard>0</Number of Parents/Children Aboard><Ticket Number>13509</Ticket Number><Fare>26.55</Fare><Cabin>E38</Cabin><Port of Embarkation>S</Port of Embarkation></row>\n",
      "<row><Passenger ID>458</Passenger ID><Survival (1: Survived, 0: Died)>1</Survival (1: Survived, 0: Died)><Passenger Class>1</Passenger Class><Name>Kenyon, Mrs. Frederick R (Marion)</Name><Sex>female</Sex><Age></Age><Number of Siblings/Spouses Aboard>1</Number of Siblings/Spouses Aboard><Number of Parents/Children Aboard>0</Number of Parents/Children Aboard><Ticket Number>17464</Ticket Number><Fare>51.8625</Fare><Cabin>D21</Cabin><Port of Embarkation>S</Port of Embarkation></row>\n",
      "<row><Passenger ID>459</Passenger ID><Survival (1: Survived, 0: Died)>1</Survival (1: Survived, 0: Died)><Passenger Class>2</Passenger Class><Name>Toomey, Miss. Ellen</Name><Sex>female</Sex><Age>50</Age><Number of Siblings/Spouses Aboard>0</Number of Siblings/Spouses Aboard><Number of Parents/Children Aboard>0</Number of Parents/Children Aboard><Ticket Number>F.C.C. 13531</Ticket Number><Fare>10.5</Fare><Cabin></Cabin><Port of Embarkation>S</Port of Embarkation></row>\n",
      "<row><Passenger ID>460</Passenger ID><Survival (1: Survived, 0: Died)>0</Survival (1: Survived, 0: Died)><Passenger Class>3</Passenger Class><Name>O'Connor, Mr. Maurice</Name><Sex>male</Sex><Age></Age><Number of Siblings/Spouses Aboard>0</Number of Siblings/Spouses Aboard><Number of Parents/Children Aboard>0</Number of Parents/Children Aboard><Ticket Number>371060</Ticket Number><Fare>7.75</Fare><Cabin></Cabin><Port of Embarkation>Q</Port of Embarkation></row>\n",
      "<row><Passenger ID>461</Passenger ID><Survival (1: Survived, 0: Died)>1</Survival (1: Survived, 0: Died)><Passenger Class>1</Passenger Class><Name>Anderson, Mr. Harry</Name><Sex>male</Sex><Age>48</Age><Number of Siblings/Spouses Aboard>0</Number of Siblings/Spouses Aboard><Number of Parents/Children Aboard>0</Number of Parents/Children Aboard><Ticket Number>19952</Ticket Number><Fare>26.55</Fare><Cabin>E12</Cabin><Port of Embarkation>S</Port of Embarkation></row>\n",
      "<row><Passenger ID>462</Passenger ID><Survival (1: Survived, 0: Died)>0</Survival (1: Survived, 0: Died)><Passenger Class>3</Passenger Class><Name>Morley, Mr. William</Name><Sex>male</Sex><Age>34</Age><Number of Siblings/Spouses Aboard>0</Number of Siblings/Spouses Aboard><Number of Parents/Children Aboard>0</Number of Parents/Children Aboard><Ticket Number>364506</Ticket Number><Fare>8.05</Fare><Cabin></Cabin><Port of Embarkation>S</Port of Embarkation></row>\n",
      "<row><Passenger ID>463</Passenger ID><Survival (1: Survived, 0: Died)>0</Survival (1: Survived, 0: Died)><Passenger Class>1</Passenger Class><Name>Gee, Mr. Arthur H</Name><Sex>male</Sex><Age>47</Age><Number of Siblings/Spouses Aboard>0</Number of Siblings/Spouses Aboard><Number of Parents/Children Aboard>0</Number of Parents/Children Aboard><Ticket Number>111320</Ticket Number><Fare>38.5</Fare><Cabin>E63</Cabin><Port of Embarkation>S</Port of Embarkation></row>\n",
      "<row><Passenger ID>464</Passenger ID><Survival (1: Survived, 0: Died)>0</Survival (1: Survived, 0: Died)><Passenger Class>2</Passenger Class><Name>Milling, Mr. Jacob Christian</Name><Sex>male</Sex><Age>48</Age><Number of Siblings/Spouses Aboard>0</Number of Siblings/Spouses Aboard><Number of Parents/Children Aboard>0</Number of Parents/Children Aboard><Ticket Number>234360</Ticket Number><Fare>13</Fare><Cabin></Cabin><Port of Embarkation>S</Port of Embarkation></row>\n",
      "<row><Passenger ID>465</Passenger ID><Survival (1: Survived, 0: Died)>0</Survival (1: Survived, 0: Died)><Passenger Class>3</Passenger Class><Name>Maisner, Mr. Simon</Name><Sex>male</Sex><Age></Age><Number of Siblings/Spouses Aboard>0</Number of Siblings/Spouses Aboard><Number of Parents/Children Aboard>0</Number of Parents/Children Aboard><Ticket Number>A/S 2816</Ticket Number><Fare>8.05</Fare><Cabin></Cabin><Port of Embarkation>S</Port of Embarkation></row>\n",
      "<row><Passenger ID>466</Passenger ID><Survival (1: Survived, 0: Died)>0</Survival (1: Survived, 0: Died)><Passenger Class>3</Passenger Class><Name>Goncalves, Mr. Manuel Estanslas</Name><Sex>male</Sex><Age>38</Age><Number of Siblings/Spouses Aboard>0</Number of Siblings/Spouses Aboard><Number of Parents/Children Aboard>0</Number of Parents/Children Aboard><Ticket Number>SOTON/O.Q. 3101306</Ticket Number><Fare>7.05</Fare><Cabin></Cabin><Port of Embarkation>S</Port of Embarkation></row>\n",
      "<row><Passenger ID>467</Passenger ID><Survival (1: Survived, 0: Died)>0</Survival (1: Survived, 0: Died)><Passenger Class>2</Passenger Class><Name>Campbell, Mr. William</Name><Sex>male</Sex><Age></Age><Number of Siblings/Spouses Aboard>0</Number of Siblings/Spouses Aboard><Number of Parents/Children Aboard>0</Number of Parents/Children Aboard><Ticket Number>239853</Ticket Number><Fare>0</Fare><Cabin></Cabin><Port of Embarkation>S</Port of Embarkation></row>\n",
      "<row><Passenger ID>468</Passenger ID><Survival (1: Survived, 0: Died)>0</Survival (1: Survived, 0: Died)><Passenger Class>1</Passenger Class><Name>Smart, Mr. John Montgomery</Name><Sex>male</Sex><Age>56</Age><Number of Siblings/Spouses Aboard>0</Number of Siblings/Spouses Aboard><Number of Parents/Children Aboard>0</Number of Parents/Children Aboard><Ticket Number>113792</Ticket Number><Fare>26.55</Fare><Cabin></Cabin><Port of Embarkation>S</Port of Embarkation></row>\n",
      "<row><Passenger ID>469</Passenger ID><Survival (1: Survived, 0: Died)>0</Survival (1: Survived, 0: Died)><Passenger Class>3</Passenger Class><Name>Scanlan, Mr. James</Name><Sex>male</Sex><Age></Age><Number of Siblings/Spouses Aboard>0</Number of Siblings/Spouses Aboard><Number of Parents/Children Aboard>0</Number of Parents/Children Aboard><Ticket Number>36209</Ticket Number><Fare>7.725</Fare><Cabin></Cabin><Port of Embarkation>Q</Port of Embarkation></row>\n",
      "<row><Passenger ID>470</Passenger ID><Survival (1: Survived, 0: Died)>1</Survival (1: Survived, 0: Died)><Passenger Class>3</Passenger Class><Name>Baclini, Miss. Helene Barbara</Name><Sex>female</Sex><Age>0.75</Age><Number of Siblings/Spouses Aboard>2</Number of Siblings/Spouses Aboard><Number of Parents/Children Aboard>1</Number of Parents/Children Aboard><Ticket Number>2666</Ticket Number><Fare>19.2583</Fare><Cabin></Cabin><Port of Embarkation>C</Port of Embarkation></row>\n",
      "<row><Passenger ID>471</Passenger ID><Survival (1: Survived, 0: Died)>0</Survival (1: Survived, 0: Died)><Passenger Class>3</Passenger Class><Name>Keefe, Mr. Arthur</Name><Sex>male</Sex><Age></Age><Number of Siblings/Spouses Aboard>0</Number of Siblings/Spouses Aboard><Number of Parents/Children Aboard>0</Number of Parents/Children Aboard><Ticket Number>323592</Ticket Number><Fare>7.25</Fare><Cabin></Cabin><Port of Embarkation>S</Port of Embarkation></row>\n",
      "<row><Passenger ID>472</Passenger ID><Survival (1: Survived, 0: Died)>0</Survival (1: Survived, 0: Died)><Passenger Class>3</Passenger Class><Name>Cacic, Mr. Luka</Name><Sex>male</Sex><Age>38</Age><Number of Siblings/Spouses Aboard>0</Number of Siblings/Spouses Aboard><Number of Parents/Children Aboard>0</Number of Parents/Children Aboard><Ticket Number>315089</Ticket Number><Fare>8.6625</Fare><Cabin></Cabin><Port of Embarkation>S</Port of Embarkation></row>\n",
      "<row><Passenger ID>473</Passenger ID><Survival (1: Survived, 0: Died)>1</Survival (1: Survived, 0: Died)><Passenger Class>2</Passenger Class><Name>West, Mrs. Edwy Arthur (Ada Mary Worth)</Name><Sex>female</Sex><Age>33</Age><Number of Siblings/Spouses Aboard>1</Number of Siblings/Spouses Aboard><Number of Parents/Children Aboard>2</Number of Parents/Children Aboard><Ticket Number>C.A. 34651</Ticket Number><Fare>27.75</Fare><Cabin></Cabin><Port of Embarkation>S</Port of Embarkation></row>\n",
      "<row><Passenger ID>474</Passenger ID><Survival (1: Survived, 0: Died)>1</Survival (1: Survived, 0: Died)><Passenger Class>2</Passenger Class><Name>Jerwan, Mrs. Amin S (Marie Marthe Thuillard)</Name><Sex>female</Sex><Age>23</Age><Number of Siblings/Spouses Aboard>0</Number of Siblings/Spouses Aboard><Number of Parents/Children Aboard>0</Number of Parents/Children Aboard><Ticket Number>SC/AH Basle 541</Ticket Number><Fare>13.7917</Fare><Cabin>D</Cabin><Port of Embarkation>C</Port of Embarkation></row>\n",
      "<row><Passenger ID>475</Passenger ID><Survival (1: Survived, 0: Died)>0</Survival (1: Survived, 0: Died)><Passenger Class>3</Passenger Class><Name>Strandberg, Miss. Ida Sofia</Name><Sex>female</Sex><Age>22</Age><Number of Siblings/Spouses Aboard>0</Number of Siblings/Spouses Aboard><Number of Parents/Children Aboard>0</Number of Parents/Children Aboard><Ticket Number>7553</Ticket Number><Fare>9.8375</Fare><Cabin></Cabin><Port of Embarkation>S</Port of Embarkation></row>\n",
      "<row><Passenger ID>476</Passenger ID><Survival (1: Survived, 0: Died)>0</Survival (1: Survived, 0: Died)><Passenger Class>1</Passenger Class><Name>Clifford, Mr. George Quincy</Name><Sex>male</Sex><Age></Age><Number of Siblings/Spouses Aboard>0</Number of Siblings/Spouses Aboard><Number of Parents/Children Aboard>0</Number of Parents/Children Aboard><Ticket Number>110465</Ticket Number><Fare>52</Fare><Cabin>A14</Cabin><Port of Embarkation>S</Port of Embarkation></row>\n",
      "<row><Passenger ID>477</Passenger ID><Survival (1: Survived, 0: Died)>0</Survival (1: Survived, 0: Died)><Passenger Class>2</Passenger Class><Name>Renouf, Mr. Peter Henry</Name><Sex>male</Sex><Age>34</Age><Number of Siblings/Spouses Aboard>1</Number of Siblings/Spouses Aboard><Number of Parents/Children Aboard>0</Number of Parents/Children Aboard><Ticket Number>31027</Ticket Number><Fare>21</Fare><Cabin></Cabin><Port of Embarkation>S</Port of Embarkation></row>\n",
      "<row><Passenger ID>478</Passenger ID><Survival (1: Survived, 0: Died)>0</Survival (1: Survived, 0: Died)><Passenger Class>3</Passenger Class><Name>Braund, Mr. Lewis Richard</Name><Sex>male</Sex><Age>29</Age><Number of Siblings/Spouses Aboard>1</Number of Siblings/Spouses Aboard><Number of Parents/Children Aboard>0</Number of Parents/Children Aboard><Ticket Number>3460</Ticket Number><Fare>7.0458</Fare><Cabin></Cabin><Port of Embarkation>S</Port of Embarkation></row>\n",
      "<row><Passenger ID>479</Passenger ID><Survival (1: Survived, 0: Died)>0</Survival (1: Survived, 0: Died)><Passenger Class>3</Passenger Class><Name>Karlsson, Mr. Nils August</Name><Sex>male</Sex><Age>22</Age><Number of Siblings/Spouses Aboard>0</Number of Siblings/Spouses Aboard><Number of Parents/Children Aboard>0</Number of Parents/Children Aboard><Ticket Number>350060</Ticket Number><Fare>7.5208</Fare><Cabin></Cabin><Port of Embarkation>S</Port of Embarkation></row>\n",
      "<row><Passenger ID>480</Passenger ID><Survival (1: Survived, 0: Died)>1</Survival (1: Survived, 0: Died)><Passenger Class>3</Passenger Class><Name>Hirvonen, Miss. Hildur E</Name><Sex>female</Sex><Age>2</Age><Number of Siblings/Spouses Aboard>0</Number of Siblings/Spouses Aboard><Number of Parents/Children Aboard>1</Number of Parents/Children Aboard><Ticket Number>3101298</Ticket Number><Fare>12.2875</Fare><Cabin></Cabin><Port of Embarkation>S</Port of Embarkation></row>\n",
      "<row><Passenger ID>481</Passenger ID><Survival (1: Survived, 0: Died)>0</Survival (1: Survived, 0: Died)><Passenger Class>3</Passenger Class><Name>Goodwin, Master. Harold Victor</Name><Sex>male</Sex><Age>9</Age><Number of Siblings/Spouses Aboard>5</Number of Siblings/Spouses Aboard><Number of Parents/Children Aboard>2</Number of Parents/Children Aboard><Ticket Number>CA 2144</Ticket Number><Fare>46.9</Fare><Cabin></Cabin><Port of Embarkation>S</Port of Embarkation></row>\n",
      "<row><Passenger ID>482</Passenger ID><Survival (1: Survived, 0: Died)>0</Survival (1: Survived, 0: Died)><Passenger Class>2</Passenger Class><Name>Frost, Mr. Anthony Wood \"Archie\"</Name><Sex>male</Sex><Age></Age><Number of Siblings/Spouses Aboard>0</Number of Siblings/Spouses Aboard><Number of Parents/Children Aboard>0</Number of Parents/Children Aboard><Ticket Number>239854</Ticket Number><Fare>0</Fare><Cabin></Cabin><Port of Embarkation>S</Port of Embarkation></row>\n",
      "<row><Passenger ID>483</Passenger ID><Survival (1: Survived, 0: Died)>0</Survival (1: Survived, 0: Died)><Passenger Class>3</Passenger Class><Name>Rouse, Mr. Richard Henry</Name><Sex>male</Sex><Age>50</Age><Number of Siblings/Spouses Aboard>0</Number of Siblings/Spouses Aboard><Number of Parents/Children Aboard>0</Number of Parents/Children Aboard><Ticket Number>A/5 3594</Ticket Number><Fare>8.05</Fare><Cabin></Cabin><Port of Embarkation>S</Port of Embarkation></row>\n",
      "<row><Passenger ID>484</Passenger ID><Survival (1: Survived, 0: Died)>1</Survival (1: Survived, 0: Died)><Passenger Class>3</Passenger Class><Name>Turkula, Mrs. (Hedwig)</Name><Sex>female</Sex><Age>63</Age><Number of Siblings/Spouses Aboard>0</Number of Siblings/Spouses Aboard><Number of Parents/Children Aboard>0</Number of Parents/Children Aboard><Ticket Number>4134</Ticket Number><Fare>9.5875</Fare><Cabin></Cabin><Port of Embarkation>S</Port of Embarkation></row>\n",
      "<row><Passenger ID>485</Passenger ID><Survival (1: Survived, 0: Died)>1</Survival (1: Survived, 0: Died)><Passenger Class>1</Passenger Class><Name>Bishop, Mr. Dickinson H</Name><Sex>male</Sex><Age>25</Age><Number of Siblings/Spouses Aboard>1</Number of Siblings/Spouses Aboard><Number of Parents/Children Aboard>0</Number of Parents/Children Aboard><Ticket Number>11967</Ticket Number><Fare>91.0792</Fare><Cabin>B49</Cabin><Port of Embarkation>C</Port of Embarkation></row>\n",
      "<row><Passenger ID>486</Passenger ID><Survival (1: Survived, 0: Died)>0</Survival (1: Survived, 0: Died)><Passenger Class>3</Passenger Class><Name>Lefebre, Miss. Jeannie</Name><Sex>female</Sex><Age></Age><Number of Siblings/Spouses Aboard>3</Number of Siblings/Spouses Aboard><Number of Parents/Children Aboard>1</Number of Parents/Children Aboard><Ticket Number>4133</Ticket Number><Fare>25.4667</Fare><Cabin></Cabin><Port of Embarkation>S</Port of Embarkation></row>\n",
      "<row><Passenger ID>487</Passenger ID><Survival (1: Survived, 0: Died)>1</Survival (1: Survived, 0: Died)><Passenger Class>1</Passenger Class><Name>Hoyt, Mrs. Frederick Maxfield (Jane Anne Forby)</Name><Sex>female</Sex><Age>35</Age><Number of Siblings/Spouses Aboard>1</Number of Siblings/Spouses Aboard><Number of Parents/Children Aboard>0</Number of Parents/Children Aboard><Ticket Number>19943</Ticket Number><Fare>90</Fare><Cabin>C93</Cabin><Port of Embarkation>S</Port of Embarkation></row>\n",
      "<row><Passenger ID>488</Passenger ID><Survival (1: Survived, 0: Died)>0</Survival (1: Survived, 0: Died)><Passenger Class>1</Passenger Class><Name>Kent, Mr. Edward Austin</Name><Sex>male</Sex><Age>58</Age><Number of Siblings/Spouses Aboard>0</Number of Siblings/Spouses Aboard><Number of Parents/Children Aboard>0</Number of Parents/Children Aboard><Ticket Number>11771</Ticket Number><Fare>29.7</Fare><Cabin>B37</Cabin><Port of Embarkation>C</Port of Embarkation></row>\n",
      "<row><Passenger ID>489</Passenger ID><Survival (1: Survived, 0: Died)>0</Survival (1: Survived, 0: Died)><Passenger Class>3</Passenger Class><Name>Somerton, Mr. Francis William</Name><Sex>male</Sex><Age>30</Age><Number of Siblings/Spouses Aboard>0</Number of Siblings/Spouses Aboard><Number of Parents/Children Aboard>0</Number of Parents/Children Aboard><Ticket Number>A.5. 18509</Ticket Number><Fare>8.05</Fare><Cabin></Cabin><Port of Embarkation>S</Port of Embarkation></row>\n",
      "<row><Passenger ID>490</Passenger ID><Survival (1: Survived, 0: Died)>1</Survival (1: Survived, 0: Died)><Passenger Class>3</Passenger Class><Name>Coutts, Master. Eden Leslie \"Neville\"</Name><Sex>male</Sex><Age>9</Age><Number of Siblings/Spouses Aboard>1</Number of Siblings/Spouses Aboard><Number of Parents/Children Aboard>1</Number of Parents/Children Aboard><Ticket Number>C.A. 37671</Ticket Number><Fare>15.9</Fare><Cabin></Cabin><Port of Embarkation>S</Port of Embarkation></row>\n",
      "<row><Passenger ID>491</Passenger ID><Survival (1: Survived, 0: Died)>0</Survival (1: Survived, 0: Died)><Passenger Class>3</Passenger Class><Name>Hagland, Mr. Konrad Mathias Reiersen</Name><Sex>male</Sex><Age></Age><Number of Siblings/Spouses Aboard>1</Number of Siblings/Spouses Aboard><Number of Parents/Children Aboard>0</Number of Parents/Children Aboard><Ticket Number>65304</Ticket Number><Fare>19.9667</Fare><Cabin></Cabin><Port of Embarkation>S</Port of Embarkation></row>\n",
      "<row><Passenger ID>492</Passenger ID><Survival (1: Survived, 0: Died)>0</Survival (1: Survived, 0: Died)><Passenger Class>3</Passenger Class><Name>Windelov, Mr. Einar</Name><Sex>male</Sex><Age>21</Age><Number of Siblings/Spouses Aboard>0</Number of Siblings/Spouses Aboard><Number of Parents/Children Aboard>0</Number of Parents/Children Aboard><Ticket Number>SOTON/OQ 3101317</Ticket Number><Fare>7.25</Fare><Cabin></Cabin><Port of Embarkation>S</Port of Embarkation></row>\n",
      "<row><Passenger ID>493</Passenger ID><Survival (1: Survived, 0: Died)>0</Survival (1: Survived, 0: Died)><Passenger Class>1</Passenger Class><Name>Molson, Mr. Harry Markland</Name><Sex>male</Sex><Age>55</Age><Number of Siblings/Spouses Aboard>0</Number of Siblings/Spouses Aboard><Number of Parents/Children Aboard>0</Number of Parents/Children Aboard><Ticket Number>113787</Ticket Number><Fare>30.5</Fare><Cabin>C30</Cabin><Port of Embarkation>S</Port of Embarkation></row>\n",
      "<row><Passenger ID>494</Passenger ID><Survival (1: Survived, 0: Died)>0</Survival (1: Survived, 0: Died)><Passenger Class>1</Passenger Class><Name>Artagaveytia, Mr. Ramon</Name><Sex>male</Sex><Age>71</Age><Number of Siblings/Spouses Aboard>0</Number of Siblings/Spouses Aboard><Number of Parents/Children Aboard>0</Number of Parents/Children Aboard><Ticket Number>PC 17609</Ticket Number><Fare>49.5042</Fare><Cabin></Cabin><Port of Embarkation>C</Port of Embarkation></row>\n",
      "<row><Passenger ID>495</Passenger ID><Survival (1: Survived, 0: Died)>0</Survival (1: Survived, 0: Died)><Passenger Class>3</Passenger Class><Name>Stanley, Mr. Edward Roland</Name><Sex>male</Sex><Age>21</Age><Number of Siblings/Spouses Aboard>0</Number of Siblings/Spouses Aboard><Number of Parents/Children Aboard>0</Number of Parents/Children Aboard><Ticket Number>A/4 45380</Ticket Number><Fare>8.05</Fare><Cabin></Cabin><Port of Embarkation>S</Port of Embarkation></row>\n",
      "<row><Passenger ID>496</Passenger ID><Survival (1: Survived, 0: Died)>0</Survival (1: Survived, 0: Died)><Passenger Class>3</Passenger Class><Name>Yousseff, Mr. Gerious</Name><Sex>male</Sex><Age></Age><Number of Siblings/Spouses Aboard>0</Number of Siblings/Spouses Aboard><Number of Parents/Children Aboard>0</Number of Parents/Children Aboard><Ticket Number>2627</Ticket Number><Fare>14.4583</Fare><Cabin></Cabin><Port of Embarkation>C</Port of Embarkation></row>\n",
      "<row><Passenger ID>497</Passenger ID><Survival (1: Survived, 0: Died)>1</Survival (1: Survived, 0: Died)><Passenger Class>1</Passenger Class><Name>Eustis, Miss. Elizabeth Mussey</Name><Sex>female</Sex><Age>54</Age><Number of Siblings/Spouses Aboard>1</Number of Siblings/Spouses Aboard><Number of Parents/Children Aboard>0</Number of Parents/Children Aboard><Ticket Number>36947</Ticket Number><Fare>78.2667</Fare><Cabin>D20</Cabin><Port of Embarkation>C</Port of Embarkation></row>\n",
      "<row><Passenger ID>498</Passenger ID><Survival (1: Survived, 0: Died)>0</Survival (1: Survived, 0: Died)><Passenger Class>3</Passenger Class><Name>Shellard, Mr. Frederick William</Name><Sex>male</Sex><Age></Age><Number of Siblings/Spouses Aboard>0</Number of Siblings/Spouses Aboard><Number of Parents/Children Aboard>0</Number of Parents/Children Aboard><Ticket Number>C.A. 6212</Ticket Number><Fare>15.1</Fare><Cabin></Cabin><Port of Embarkation>S</Port of Embarkation></row>\n",
      "<row><Passenger ID>499</Passenger ID><Survival (1: Survived, 0: Died)>0</Survival (1: Survived, 0: Died)><Passenger Class>1</Passenger Class><Name>Allison, Mrs. Hudson J C (Bessie Waldo Daniels)</Name><Sex>female</Sex><Age>25</Age><Number of Siblings/Spouses Aboard>1</Number of Siblings/Spouses Aboard><Number of Parents/Children Aboard>2</Number of Parents/Children Aboard><Ticket Number>113781</Ticket Number><Fare>151.55</Fare><Cabin>C22 C26</Cabin><Port of Embarkation>S</Port of Embarkation></row>\n",
      "<row><Passenger ID>500</Passenger ID><Survival (1: Survived, 0: Died)>0</Survival (1: Survived, 0: Died)><Passenger Class>3</Passenger Class><Name>Svensson, Mr. Olof</Name><Sex>male</Sex><Age>24</Age><Number of Siblings/Spouses Aboard>0</Number of Siblings/Spouses Aboard><Number of Parents/Children Aboard>0</Number of Parents/Children Aboard><Ticket Number>350035</Ticket Number><Fare>7.7958</Fare><Cabin></Cabin><Port of Embarkation>S</Port of Embarkation></row>\n",
      "<row><Passenger ID>501</Passenger ID><Survival (1: Survived, 0: Died)>0</Survival (1: Survived, 0: Died)><Passenger Class>3</Passenger Class><Name>Calic, Mr. Petar</Name><Sex>male</Sex><Age>17</Age><Number of Siblings/Spouses Aboard>0</Number of Siblings/Spouses Aboard><Number of Parents/Children Aboard>0</Number of Parents/Children Aboard><Ticket Number>315086</Ticket Number><Fare>8.6625</Fare><Cabin></Cabin><Port of Embarkation>S</Port of Embarkation></row>\n",
      "<row><Passenger ID>502</Passenger ID><Survival (1: Survived, 0: Died)>0</Survival (1: Survived, 0: Died)><Passenger Class>3</Passenger Class><Name>Canavan, Miss. Mary</Name><Sex>female</Sex><Age>21</Age><Number of Siblings/Spouses Aboard>0</Number of Siblings/Spouses Aboard><Number of Parents/Children Aboard>0</Number of Parents/Children Aboard><Ticket Number>364846</Ticket Number><Fare>7.75</Fare><Cabin></Cabin><Port of Embarkation>Q</Port of Embarkation></row>\n",
      "<row><Passenger ID>503</Passenger ID><Survival (1: Survived, 0: Died)>0</Survival (1: Survived, 0: Died)><Passenger Class>3</Passenger Class><Name>O'Sullivan, Miss. Bridget Mary</Name><Sex>female</Sex><Age></Age><Number of Siblings/Spouses Aboard>0</Number of Siblings/Spouses Aboard><Number of Parents/Children Aboard>0</Number of Parents/Children Aboard><Ticket Number>330909</Ticket Number><Fare>7.6292</Fare><Cabin></Cabin><Port of Embarkation>Q</Port of Embarkation></row>\n",
      "<row><Passenger ID>504</Passenger ID><Survival (1: Survived, 0: Died)>0</Survival (1: Survived, 0: Died)><Passenger Class>3</Passenger Class><Name>Laitinen, Miss. Kristina Sofia</Name><Sex>female</Sex><Age>37</Age><Number of Siblings/Spouses Aboard>0</Number of Siblings/Spouses Aboard><Number of Parents/Children Aboard>0</Number of Parents/Children Aboard><Ticket Number>4135</Ticket Number><Fare>9.5875</Fare><Cabin></Cabin><Port of Embarkation>S</Port of Embarkation></row>\n",
      "<row><Passenger ID>505</Passenger ID><Survival (1: Survived, 0: Died)>1</Survival (1: Survived, 0: Died)><Passenger Class>1</Passenger Class><Name>Maioni, Miss. Roberta</Name><Sex>female</Sex><Age>16</Age><Number of Siblings/Spouses Aboard>0</Number of Siblings/Spouses Aboard><Number of Parents/Children Aboard>0</Number of Parents/Children Aboard><Ticket Number>110152</Ticket Number><Fare>86.5</Fare><Cabin>B79</Cabin><Port of Embarkation>S</Port of Embarkation></row>\n",
      "<row><Passenger ID>506</Passenger ID><Survival (1: Survived, 0: Died)>0</Survival (1: Survived, 0: Died)><Passenger Class>1</Passenger Class><Name>Penasco y Castellana, Mr. Victor de Satode</Name><Sex>male</Sex><Age>18</Age><Number of Siblings/Spouses Aboard>1</Number of Siblings/Spouses Aboard><Number of Parents/Children Aboard>0</Number of Parents/Children Aboard><Ticket Number>PC 17758</Ticket Number><Fare>108.9</Fare><Cabin>C65</Cabin><Port of Embarkation>C</Port of Embarkation></row>\n",
      "<row><Passenger ID>507</Passenger ID><Survival (1: Survived, 0: Died)>1</Survival (1: Survived, 0: Died)><Passenger Class>2</Passenger Class><Name>Quick, Mrs. Frederick Charles (Jane Richards)</Name><Sex>female</Sex><Age>33</Age><Number of Siblings/Spouses Aboard>0</Number of Siblings/Spouses Aboard><Number of Parents/Children Aboard>2</Number of Parents/Children Aboard><Ticket Number>26360</Ticket Number><Fare>26</Fare><Cabin></Cabin><Port of Embarkation>S</Port of Embarkation></row>\n",
      "<row><Passenger ID>508</Passenger ID><Survival (1: Survived, 0: Died)>1</Survival (1: Survived, 0: Died)><Passenger Class>1</Passenger Class><Name>Bradley, Mr. George (\"George Arthur Brayton\")</Name><Sex>male</Sex><Age></Age><Number of Siblings/Spouses Aboard>0</Number of Siblings/Spouses Aboard><Number of Parents/Children Aboard>0</Number of Parents/Children Aboard><Ticket Number>111427</Ticket Number><Fare>26.55</Fare><Cabin></Cabin><Port of Embarkation>S</Port of Embarkation></row>\n",
      "<row><Passenger ID>509</Passenger ID><Survival (1: Survived, 0: Died)>0</Survival (1: Survived, 0: Died)><Passenger Class>3</Passenger Class><Name>Olsen, Mr. Henry Margido</Name><Sex>male</Sex><Age>28</Age><Number of Siblings/Spouses Aboard>0</Number of Siblings/Spouses Aboard><Number of Parents/Children Aboard>0</Number of Parents/Children Aboard><Ticket Number>C 4001</Ticket Number><Fare>22.525</Fare><Cabin></Cabin><Port of Embarkation>S</Port of Embarkation></row>\n",
      "<row><Passenger ID>510</Passenger ID><Survival (1: Survived, 0: Died)>1</Survival (1: Survived, 0: Died)><Passenger Class>3</Passenger Class><Name>Lang, Mr. Fang</Name><Sex>male</Sex><Age>26</Age><Number of Siblings/Spouses Aboard>0</Number of Siblings/Spouses Aboard><Number of Parents/Children Aboard>0</Number of Parents/Children Aboard><Ticket Number>1601</Ticket Number><Fare>56.4958</Fare><Cabin></Cabin><Port of Embarkation>S</Port of Embarkation></row>\n",
      "<row><Passenger ID>511</Passenger ID><Survival (1: Survived, 0: Died)>1</Survival (1: Survived, 0: Died)><Passenger Class>3</Passenger Class><Name>Daly, Mr. Eugene Patrick</Name><Sex>male</Sex><Age>29</Age><Number of Siblings/Spouses Aboard>0</Number of Siblings/Spouses Aboard><Number of Parents/Children Aboard>0</Number of Parents/Children Aboard><Ticket Number>382651</Ticket Number><Fare>7.75</Fare><Cabin></Cabin><Port of Embarkation>Q</Port of Embarkation></row>\n",
      "<row><Passenger ID>512</Passenger ID><Survival (1: Survived, 0: Died)>0</Survival (1: Survived, 0: Died)><Passenger Class>3</Passenger Class><Name>Webber, Mr. James</Name><Sex>male</Sex><Age></Age><Number of Siblings/Spouses Aboard>0</Number of Siblings/Spouses Aboard><Number of Parents/Children Aboard>0</Number of Parents/Children Aboard><Ticket Number>SOTON/OQ 3101316</Ticket Number><Fare>8.05</Fare><Cabin></Cabin><Port of Embarkation>S</Port of Embarkation></row>\n",
      "<row><Passenger ID>513</Passenger ID><Survival (1: Survived, 0: Died)>1</Survival (1: Survived, 0: Died)><Passenger Class>1</Passenger Class><Name>McGough, Mr. James Robert</Name><Sex>male</Sex><Age>36</Age><Number of Siblings/Spouses Aboard>0</Number of Siblings/Spouses Aboard><Number of Parents/Children Aboard>0</Number of Parents/Children Aboard><Ticket Number>PC 17473</Ticket Number><Fare>26.2875</Fare><Cabin>E25</Cabin><Port of Embarkation>S</Port of Embarkation></row>\n",
      "<row><Passenger ID>514</Passenger ID><Survival (1: Survived, 0: Died)>1</Survival (1: Survived, 0: Died)><Passenger Class>1</Passenger Class><Name>Rothschild, Mrs. Martin (Elizabeth L. Barrett)</Name><Sex>female</Sex><Age>54</Age><Number of Siblings/Spouses Aboard>1</Number of Siblings/Spouses Aboard><Number of Parents/Children Aboard>0</Number of Parents/Children Aboard><Ticket Number>PC 17603</Ticket Number><Fare>59.4</Fare><Cabin></Cabin><Port of Embarkation>C</Port of Embarkation></row>\n",
      "<row><Passenger ID>515</Passenger ID><Survival (1: Survived, 0: Died)>0</Survival (1: Survived, 0: Died)><Passenger Class>3</Passenger Class><Name>Coleff, Mr. Satio</Name><Sex>male</Sex><Age>24</Age><Number of Siblings/Spouses Aboard>0</Number of Siblings/Spouses Aboard><Number of Parents/Children Aboard>0</Number of Parents/Children Aboard><Ticket Number>349209</Ticket Number><Fare>7.4958</Fare><Cabin></Cabin><Port of Embarkation>S</Port of Embarkation></row>\n",
      "<row><Passenger ID>516</Passenger ID><Survival (1: Survived, 0: Died)>0</Survival (1: Survived, 0: Died)><Passenger Class>1</Passenger Class><Name>Walker, Mr. William Anderson</Name><Sex>male</Sex><Age>47</Age><Number of Siblings/Spouses Aboard>0</Number of Siblings/Spouses Aboard><Number of Parents/Children Aboard>0</Number of Parents/Children Aboard><Ticket Number>36967</Ticket Number><Fare>34.0208</Fare><Cabin>D46</Cabin><Port of Embarkation>S</Port of Embarkation></row>\n",
      "<row><Passenger ID>517</Passenger ID><Survival (1: Survived, 0: Died)>1</Survival (1: Survived, 0: Died)><Passenger Class>2</Passenger Class><Name>Lemore, Mrs. (Amelia Milley)</Name><Sex>female</Sex><Age>34</Age><Number of Siblings/Spouses Aboard>0</Number of Siblings/Spouses Aboard><Number of Parents/Children Aboard>0</Number of Parents/Children Aboard><Ticket Number>C.A. 34260</Ticket Number><Fare>10.5</Fare><Cabin>F33</Cabin><Port of Embarkation>S</Port of Embarkation></row>\n",
      "<row><Passenger ID>518</Passenger ID><Survival (1: Survived, 0: Died)>0</Survival (1: Survived, 0: Died)><Passenger Class>3</Passenger Class><Name>Ryan, Mr. Patrick</Name><Sex>male</Sex><Age></Age><Number of Siblings/Spouses Aboard>0</Number of Siblings/Spouses Aboard><Number of Parents/Children Aboard>0</Number of Parents/Children Aboard><Ticket Number>371110</Ticket Number><Fare>24.15</Fare><Cabin></Cabin><Port of Embarkation>Q</Port of Embarkation></row>\n",
      "<row><Passenger ID>519</Passenger ID><Survival (1: Survived, 0: Died)>1</Survival (1: Survived, 0: Died)><Passenger Class>2</Passenger Class><Name>Angle, Mrs. William A (Florence \"Mary\" Agnes Hughes)</Name><Sex>female</Sex><Age>36</Age><Number of Siblings/Spouses Aboard>1</Number of Siblings/Spouses Aboard><Number of Parents/Children Aboard>0</Number of Parents/Children Aboard><Ticket Number>226875</Ticket Number><Fare>26</Fare><Cabin></Cabin><Port of Embarkation>S</Port of Embarkation></row>\n",
      "<row><Passenger ID>520</Passenger ID><Survival (1: Survived, 0: Died)>0</Survival (1: Survived, 0: Died)><Passenger Class>3</Passenger Class><Name>Pavlovic, Mr. Stefo</Name><Sex>male</Sex><Age>32</Age><Number of Siblings/Spouses Aboard>0</Number of Siblings/Spouses Aboard><Number of Parents/Children Aboard>0</Number of Parents/Children Aboard><Ticket Number>349242</Ticket Number><Fare>7.8958</Fare><Cabin></Cabin><Port of Embarkation>S</Port of Embarkation></row>\n",
      "<row><Passenger ID>521</Passenger ID><Survival (1: Survived, 0: Died)>1</Survival (1: Survived, 0: Died)><Passenger Class>1</Passenger Class><Name>Perreault, Miss. Anne</Name><Sex>female</Sex><Age>30</Age><Number of Siblings/Spouses Aboard>0</Number of Siblings/Spouses Aboard><Number of Parents/Children Aboard>0</Number of Parents/Children Aboard><Ticket Number>12749</Ticket Number><Fare>93.5</Fare><Cabin>B73</Cabin><Port of Embarkation>S</Port of Embarkation></row>\n",
      "<row><Passenger ID>522</Passenger ID><Survival (1: Survived, 0: Died)>0</Survival (1: Survived, 0: Died)><Passenger Class>3</Passenger Class><Name>Vovk, Mr. Janko</Name><Sex>male</Sex><Age>22</Age><Number of Siblings/Spouses Aboard>0</Number of Siblings/Spouses Aboard><Number of Parents/Children Aboard>0</Number of Parents/Children Aboard><Ticket Number>349252</Ticket Number><Fare>7.8958</Fare><Cabin></Cabin><Port of Embarkation>S</Port of Embarkation></row>\n",
      "<row><Passenger ID>523</Passenger ID><Survival (1: Survived, 0: Died)>0</Survival (1: Survived, 0: Died)><Passenger Class>3</Passenger Class><Name>Lahoud, Mr. Sarkis</Name><Sex>male</Sex><Age></Age><Number of Siblings/Spouses Aboard>0</Number of Siblings/Spouses Aboard><Number of Parents/Children Aboard>0</Number of Parents/Children Aboard><Ticket Number>2624</Ticket Number><Fare>7.225</Fare><Cabin></Cabin><Port of Embarkation>C</Port of Embarkation></row>\n",
      "<row><Passenger ID>524</Passenger ID><Survival (1: Survived, 0: Died)>1</Survival (1: Survived, 0: Died)><Passenger Class>1</Passenger Class><Name>Hippach, Mrs. Louis Albert (Ida Sophia Fischer)</Name><Sex>female</Sex><Age>44</Age><Number of Siblings/Spouses Aboard>0</Number of Siblings/Spouses Aboard><Number of Parents/Children Aboard>1</Number of Parents/Children Aboard><Ticket Number>111361</Ticket Number><Fare>57.9792</Fare><Cabin>B18</Cabin><Port of Embarkation>C</Port of Embarkation></row>\n",
      "<row><Passenger ID>525</Passenger ID><Survival (1: Survived, 0: Died)>0</Survival (1: Survived, 0: Died)><Passenger Class>3</Passenger Class><Name>Kassem, Mr. Fared</Name><Sex>male</Sex><Age></Age><Number of Siblings/Spouses Aboard>0</Number of Siblings/Spouses Aboard><Number of Parents/Children Aboard>0</Number of Parents/Children Aboard><Ticket Number>2700</Ticket Number><Fare>7.2292</Fare><Cabin></Cabin><Port of Embarkation>C</Port of Embarkation></row>\n",
      "<row><Passenger ID>526</Passenger ID><Survival (1: Survived, 0: Died)>0</Survival (1: Survived, 0: Died)><Passenger Class>3</Passenger Class><Name>Farrell, Mr. James</Name><Sex>male</Sex><Age>40.5</Age><Number of Siblings/Spouses Aboard>0</Number of Siblings/Spouses Aboard><Number of Parents/Children Aboard>0</Number of Parents/Children Aboard><Ticket Number>367232</Ticket Number><Fare>7.75</Fare><Cabin></Cabin><Port of Embarkation>Q</Port of Embarkation></row>\n",
      "<row><Passenger ID>527</Passenger ID><Survival (1: Survived, 0: Died)>1</Survival (1: Survived, 0: Died)><Passenger Class>2</Passenger Class><Name>Ridsdale, Miss. Lucy</Name><Sex>female</Sex><Age>50</Age><Number of Siblings/Spouses Aboard>0</Number of Siblings/Spouses Aboard><Number of Parents/Children Aboard>0</Number of Parents/Children Aboard><Ticket Number>W./C. 14258</Ticket Number><Fare>10.5</Fare><Cabin></Cabin><Port of Embarkation>S</Port of Embarkation></row>\n",
      "<row><Passenger ID>528</Passenger ID><Survival (1: Survived, 0: Died)>0</Survival (1: Survived, 0: Died)><Passenger Class>1</Passenger Class><Name>Farthing, Mr. John</Name><Sex>male</Sex><Age></Age><Number of Siblings/Spouses Aboard>0</Number of Siblings/Spouses Aboard><Number of Parents/Children Aboard>0</Number of Parents/Children Aboard><Ticket Number>PC 17483</Ticket Number><Fare>221.7792</Fare><Cabin>C95</Cabin><Port of Embarkation>S</Port of Embarkation></row>\n",
      "<row><Passenger ID>529</Passenger ID><Survival (1: Survived, 0: Died)>0</Survival (1: Survived, 0: Died)><Passenger Class>3</Passenger Class><Name>Salonen, Mr. Johan Werner</Name><Sex>male</Sex><Age>39</Age><Number of Siblings/Spouses Aboard>0</Number of Siblings/Spouses Aboard><Number of Parents/Children Aboard>0</Number of Parents/Children Aboard><Ticket Number>3101296</Ticket Number><Fare>7.925</Fare><Cabin></Cabin><Port of Embarkation>S</Port of Embarkation></row>\n",
      "<row><Passenger ID>530</Passenger ID><Survival (1: Survived, 0: Died)>0</Survival (1: Survived, 0: Died)><Passenger Class>2</Passenger Class><Name>Hocking, Mr. Richard George</Name><Sex>male</Sex><Age>23</Age><Number of Siblings/Spouses Aboard>2</Number of Siblings/Spouses Aboard><Number of Parents/Children Aboard>1</Number of Parents/Children Aboard><Ticket Number>29104</Ticket Number><Fare>11.5</Fare><Cabin></Cabin><Port of Embarkation>S</Port of Embarkation></row>\n",
      "<row><Passenger ID>531</Passenger ID><Survival (1: Survived, 0: Died)>1</Survival (1: Survived, 0: Died)><Passenger Class>2</Passenger Class><Name>Quick, Miss. Phyllis May</Name><Sex>female</Sex><Age>2</Age><Number of Siblings/Spouses Aboard>1</Number of Siblings/Spouses Aboard><Number of Parents/Children Aboard>1</Number of Parents/Children Aboard><Ticket Number>26360</Ticket Number><Fare>26</Fare><Cabin></Cabin><Port of Embarkation>S</Port of Embarkation></row>\n",
      "<row><Passenger ID>532</Passenger ID><Survival (1: Survived, 0: Died)>0</Survival (1: Survived, 0: Died)><Passenger Class>3</Passenger Class><Name>Toufik, Mr. Nakli</Name><Sex>male</Sex><Age></Age><Number of Siblings/Spouses Aboard>0</Number of Siblings/Spouses Aboard><Number of Parents/Children Aboard>0</Number of Parents/Children Aboard><Ticket Number>2641</Ticket Number><Fare>7.2292</Fare><Cabin></Cabin><Port of Embarkation>C</Port of Embarkation></row>\n",
      "<row><Passenger ID>533</Passenger ID><Survival (1: Survived, 0: Died)>0</Survival (1: Survived, 0: Died)><Passenger Class>3</Passenger Class><Name>Elias, Mr. Joseph Jr</Name><Sex>male</Sex><Age>17</Age><Number of Siblings/Spouses Aboard>1</Number of Siblings/Spouses Aboard><Number of Parents/Children Aboard>1</Number of Parents/Children Aboard><Ticket Number>2690</Ticket Number><Fare>7.2292</Fare><Cabin></Cabin><Port of Embarkation>C</Port of Embarkation></row>\n",
      "<row><Passenger ID>534</Passenger ID><Survival (1: Survived, 0: Died)>1</Survival (1: Survived, 0: Died)><Passenger Class>3</Passenger Class><Name>Peter, Mrs. Catherine (Catherine Rizk)</Name><Sex>female</Sex><Age></Age><Number of Siblings/Spouses Aboard>0</Number of Siblings/Spouses Aboard><Number of Parents/Children Aboard>2</Number of Parents/Children Aboard><Ticket Number>2668</Ticket Number><Fare>22.3583</Fare><Cabin></Cabin><Port of Embarkation>C</Port of Embarkation></row>\n",
      "<row><Passenger ID>535</Passenger ID><Survival (1: Survived, 0: Died)>0</Survival (1: Survived, 0: Died)><Passenger Class>3</Passenger Class><Name>Cacic, Miss. Marija</Name><Sex>female</Sex><Age>30</Age><Number of Siblings/Spouses Aboard>0</Number of Siblings/Spouses Aboard><Number of Parents/Children Aboard>0</Number of Parents/Children Aboard><Ticket Number>315084</Ticket Number><Fare>8.6625</Fare><Cabin></Cabin><Port of Embarkation>S</Port of Embarkation></row>\n",
      "<row><Passenger ID>536</Passenger ID><Survival (1: Survived, 0: Died)>1</Survival (1: Survived, 0: Died)><Passenger Class>2</Passenger Class><Name>Hart, Miss. Eva Miriam</Name><Sex>female</Sex><Age>7</Age><Number of Siblings/Spouses Aboard>0</Number of Siblings/Spouses Aboard><Number of Parents/Children Aboard>2</Number of Parents/Children Aboard><Ticket Number>F.C.C. 13529</Ticket Number><Fare>26.25</Fare><Cabin></Cabin><Port of Embarkation>S</Port of Embarkation></row>\n",
      "<row><Passenger ID>537</Passenger ID><Survival (1: Survived, 0: Died)>0</Survival (1: Survived, 0: Died)><Passenger Class>1</Passenger Class><Name>Butt, Major. Archibald Willingham</Name><Sex>male</Sex><Age>45</Age><Number of Siblings/Spouses Aboard>0</Number of Siblings/Spouses Aboard><Number of Parents/Children Aboard>0</Number of Parents/Children Aboard><Ticket Number>113050</Ticket Number><Fare>26.55</Fare><Cabin>B38</Cabin><Port of Embarkation>S</Port of Embarkation></row>\n",
      "<row><Passenger ID>538</Passenger ID><Survival (1: Survived, 0: Died)>1</Survival (1: Survived, 0: Died)><Passenger Class>1</Passenger Class><Name>LeRoy, Miss. Bertha</Name><Sex>female</Sex><Age>30</Age><Number of Siblings/Spouses Aboard>0</Number of Siblings/Spouses Aboard><Number of Parents/Children Aboard>0</Number of Parents/Children Aboard><Ticket Number>PC 17761</Ticket Number><Fare>106.425</Fare><Cabin></Cabin><Port of Embarkation>C</Port of Embarkation></row>\n",
      "<row><Passenger ID>539</Passenger ID><Survival (1: Survived, 0: Died)>0</Survival (1: Survived, 0: Died)><Passenger Class>3</Passenger Class><Name>Risien, Mr. Samuel Beard</Name><Sex>male</Sex><Age></Age><Number of Siblings/Spouses Aboard>0</Number of Siblings/Spouses Aboard><Number of Parents/Children Aboard>0</Number of Parents/Children Aboard><Ticket Number>364498</Ticket Number><Fare>14.5</Fare><Cabin></Cabin><Port of Embarkation>S</Port of Embarkation></row>\n",
      "<row><Passenger ID>540</Passenger ID><Survival (1: Survived, 0: Died)>1</Survival (1: Survived, 0: Died)><Passenger Class>1</Passenger Class><Name>Frolicher, Miss. Hedwig Margaritha</Name><Sex>female</Sex><Age>22</Age><Number of Siblings/Spouses Aboard>0</Number of Siblings/Spouses Aboard><Number of Parents/Children Aboard>2</Number of Parents/Children Aboard><Ticket Number>13568</Ticket Number><Fare>49.5</Fare><Cabin>B39</Cabin><Port of Embarkation>C</Port of Embarkation></row>\n",
      "<row><Passenger ID>541</Passenger ID><Survival (1: Survived, 0: Died)>1</Survival (1: Survived, 0: Died)><Passenger Class>1</Passenger Class><Name>Crosby, Miss. Harriet R</Name><Sex>female</Sex><Age>36</Age><Number of Siblings/Spouses Aboard>0</Number of Siblings/Spouses Aboard><Number of Parents/Children Aboard>2</Number of Parents/Children Aboard><Ticket Number>WE/P 5735</Ticket Number><Fare>71</Fare><Cabin>B22</Cabin><Port of Embarkation>S</Port of Embarkation></row>\n",
      "<row><Passenger ID>542</Passenger ID><Survival (1: Survived, 0: Died)>0</Survival (1: Survived, 0: Died)><Passenger Class>3</Passenger Class><Name>Andersson, Miss. Ingeborg Constanzia</Name><Sex>female</Sex><Age>9</Age><Number of Siblings/Spouses Aboard>4</Number of Siblings/Spouses Aboard><Number of Parents/Children Aboard>2</Number of Parents/Children Aboard><Ticket Number>347082</Ticket Number><Fare>31.275</Fare><Cabin></Cabin><Port of Embarkation>S</Port of Embarkation></row>\n",
      "<row><Passenger ID>543</Passenger ID><Survival (1: Survived, 0: Died)>0</Survival (1: Survived, 0: Died)><Passenger Class>3</Passenger Class><Name>Andersson, Miss. Sigrid Elisabeth</Name><Sex>female</Sex><Age>11</Age><Number of Siblings/Spouses Aboard>4</Number of Siblings/Spouses Aboard><Number of Parents/Children Aboard>2</Number of Parents/Children Aboard><Ticket Number>347082</Ticket Number><Fare>31.275</Fare><Cabin></Cabin><Port of Embarkation>S</Port of Embarkation></row>\n",
      "<row><Passenger ID>544</Passenger ID><Survival (1: Survived, 0: Died)>1</Survival (1: Survived, 0: Died)><Passenger Class>2</Passenger Class><Name>Beane, Mr. Edward</Name><Sex>male</Sex><Age>32</Age><Number of Siblings/Spouses Aboard>1</Number of Siblings/Spouses Aboard><Number of Parents/Children Aboard>0</Number of Parents/Children Aboard><Ticket Number>2908</Ticket Number><Fare>26</Fare><Cabin></Cabin><Port of Embarkation>S</Port of Embarkation></row>\n",
      "<row><Passenger ID>545</Passenger ID><Survival (1: Survived, 0: Died)>0</Survival (1: Survived, 0: Died)><Passenger Class>1</Passenger Class><Name>Douglas, Mr. Walter Donald</Name><Sex>male</Sex><Age>50</Age><Number of Siblings/Spouses Aboard>1</Number of Siblings/Spouses Aboard><Number of Parents/Children Aboard>0</Number of Parents/Children Aboard><Ticket Number>PC 17761</Ticket Number><Fare>106.425</Fare><Cabin>C86</Cabin><Port of Embarkation>C</Port of Embarkation></row>\n",
      "<row><Passenger ID>546</Passenger ID><Survival (1: Survived, 0: Died)>0</Survival (1: Survived, 0: Died)><Passenger Class>1</Passenger Class><Name>Nicholson, Mr. Arthur Ernest</Name><Sex>male</Sex><Age>64</Age><Number of Siblings/Spouses Aboard>0</Number of Siblings/Spouses Aboard><Number of Parents/Children Aboard>0</Number of Parents/Children Aboard><Ticket Number>693</Ticket Number><Fare>26</Fare><Cabin></Cabin><Port of Embarkation>S</Port of Embarkation></row>\n",
      "<row><Passenger ID>547</Passenger ID><Survival (1: Survived, 0: Died)>1</Survival (1: Survived, 0: Died)><Passenger Class>2</Passenger Class><Name>Beane, Mrs. Edward (Ethel Clarke)</Name><Sex>female</Sex><Age>19</Age><Number of Siblings/Spouses Aboard>1</Number of Siblings/Spouses Aboard><Number of Parents/Children Aboard>0</Number of Parents/Children Aboard><Ticket Number>2908</Ticket Number><Fare>26</Fare><Cabin></Cabin><Port of Embarkation>S</Port of Embarkation></row>\n",
      "<row><Passenger ID>548</Passenger ID><Survival (1: Survived, 0: Died)>1</Survival (1: Survived, 0: Died)><Passenger Class>2</Passenger Class><Name>Padro y Manent, Mr. Julian</Name><Sex>male</Sex><Age></Age><Number of Siblings/Spouses Aboard>0</Number of Siblings/Spouses Aboard><Number of Parents/Children Aboard>0</Number of Parents/Children Aboard><Ticket Number>SC/PARIS 2146</Ticket Number><Fare>13.8625</Fare><Cabin></Cabin><Port of Embarkation>C</Port of Embarkation></row>\n",
      "<row><Passenger ID>549</Passenger ID><Survival (1: Survived, 0: Died)>0</Survival (1: Survived, 0: Died)><Passenger Class>3</Passenger Class><Name>Goldsmith, Mr. Frank John</Name><Sex>male</Sex><Age>33</Age><Number of Siblings/Spouses Aboard>1</Number of Siblings/Spouses Aboard><Number of Parents/Children Aboard>1</Number of Parents/Children Aboard><Ticket Number>363291</Ticket Number><Fare>20.525</Fare><Cabin></Cabin><Port of Embarkation>S</Port of Embarkation></row>\n",
      "<row><Passenger ID>550</Passenger ID><Survival (1: Survived, 0: Died)>1</Survival (1: Survived, 0: Died)><Passenger Class>2</Passenger Class><Name>Davies, Master. John Morgan Jr</Name><Sex>male</Sex><Age>8</Age><Number of Siblings/Spouses Aboard>1</Number of Siblings/Spouses Aboard><Number of Parents/Children Aboard>1</Number of Parents/Children Aboard><Ticket Number>C.A. 33112</Ticket Number><Fare>36.75</Fare><Cabin></Cabin><Port of Embarkation>S</Port of Embarkation></row>\n",
      "<row><Passenger ID>551</Passenger ID><Survival (1: Survived, 0: Died)>1</Survival (1: Survived, 0: Died)><Passenger Class>1</Passenger Class><Name>Thayer, Mr. John Borland Jr</Name><Sex>male</Sex><Age>17</Age><Number of Siblings/Spouses Aboard>0</Number of Siblings/Spouses Aboard><Number of Parents/Children Aboard>2</Number of Parents/Children Aboard><Ticket Number>17421</Ticket Number><Fare>110.8833</Fare><Cabin>C70</Cabin><Port of Embarkation>C</Port of Embarkation></row>\n",
      "<row><Passenger ID>552</Passenger ID><Survival (1: Survived, 0: Died)>0</Survival (1: Survived, 0: Died)><Passenger Class>2</Passenger Class><Name>Sharp, Mr. Percival James R</Name><Sex>male</Sex><Age>27</Age><Number of Siblings/Spouses Aboard>0</Number of Siblings/Spouses Aboard><Number of Parents/Children Aboard>0</Number of Parents/Children Aboard><Ticket Number>244358</Ticket Number><Fare>26</Fare><Cabin></Cabin><Port of Embarkation>S</Port of Embarkation></row>\n",
      "<row><Passenger ID>553</Passenger ID><Survival (1: Survived, 0: Died)>0</Survival (1: Survived, 0: Died)><Passenger Class>3</Passenger Class><Name>O'Brien, Mr. Timothy</Name><Sex>male</Sex><Age></Age><Number of Siblings/Spouses Aboard>0</Number of Siblings/Spouses Aboard><Number of Parents/Children Aboard>0</Number of Parents/Children Aboard><Ticket Number>330979</Ticket Number><Fare>7.8292</Fare><Cabin></Cabin><Port of Embarkation>Q</Port of Embarkation></row>\n",
      "<row><Passenger ID>554</Passenger ID><Survival (1: Survived, 0: Died)>1</Survival (1: Survived, 0: Died)><Passenger Class>3</Passenger Class><Name>Leeni, Mr. Fahim (\"Philip Zenni\")</Name><Sex>male</Sex><Age>22</Age><Number of Siblings/Spouses Aboard>0</Number of Siblings/Spouses Aboard><Number of Parents/Children Aboard>0</Number of Parents/Children Aboard><Ticket Number>2620</Ticket Number><Fare>7.225</Fare><Cabin></Cabin><Port of Embarkation>C</Port of Embarkation></row>\n",
      "<row><Passenger ID>555</Passenger ID><Survival (1: Survived, 0: Died)>1</Survival (1: Survived, 0: Died)><Passenger Class>3</Passenger Class><Name>Ohman, Miss. Velin</Name><Sex>female</Sex><Age>22</Age><Number of Siblings/Spouses Aboard>0</Number of Siblings/Spouses Aboard><Number of Parents/Children Aboard>0</Number of Parents/Children Aboard><Ticket Number>347085</Ticket Number><Fare>7.775</Fare><Cabin></Cabin><Port of Embarkation>S</Port of Embarkation></row>\n",
      "<row><Passenger ID>556</Passenger ID><Survival (1: Survived, 0: Died)>0</Survival (1: Survived, 0: Died)><Passenger Class>1</Passenger Class><Name>Wright, Mr. George</Name><Sex>male</Sex><Age>62</Age><Number of Siblings/Spouses Aboard>0</Number of Siblings/Spouses Aboard><Number of Parents/Children Aboard>0</Number of Parents/Children Aboard><Ticket Number>113807</Ticket Number><Fare>26.55</Fare><Cabin></Cabin><Port of Embarkation>S</Port of Embarkation></row>\n",
      "<row><Passenger ID>557</Passenger ID><Survival (1: Survived, 0: Died)>1</Survival (1: Survived, 0: Died)><Passenger Class>1</Passenger Class><Name>Duff Gordon, Lady. (Lucille Christiana Sutherland) (\"Mrs Morgan\")</Name><Sex>female</Sex><Age>48</Age><Number of Siblings/Spouses Aboard>1</Number of Siblings/Spouses Aboard><Number of Parents/Children Aboard>0</Number of Parents/Children Aboard><Ticket Number>11755</Ticket Number><Fare>39.6</Fare><Cabin>A16</Cabin><Port of Embarkation>C</Port of Embarkation></row>\n",
      "<row><Passenger ID>558</Passenger ID><Survival (1: Survived, 0: Died)>0</Survival (1: Survived, 0: Died)><Passenger Class>1</Passenger Class><Name>Robbins, Mr. Victor</Name><Sex>male</Sex><Age></Age><Number of Siblings/Spouses Aboard>0</Number of Siblings/Spouses Aboard><Number of Parents/Children Aboard>0</Number of Parents/Children Aboard><Ticket Number>PC 17757</Ticket Number><Fare>227.525</Fare><Cabin></Cabin><Port of Embarkation>C</Port of Embarkation></row>\n",
      "<row><Passenger ID>559</Passenger ID><Survival (1: Survived, 0: Died)>1</Survival (1: Survived, 0: Died)><Passenger Class>1</Passenger Class><Name>Taussig, Mrs. Emil (Tillie Mandelbaum)</Name><Sex>female</Sex><Age>39</Age><Number of Siblings/Spouses Aboard>1</Number of Siblings/Spouses Aboard><Number of Parents/Children Aboard>1</Number of Parents/Children Aboard><Ticket Number>110413</Ticket Number><Fare>79.65</Fare><Cabin>E67</Cabin><Port of Embarkation>S</Port of Embarkation></row>\n",
      "<row><Passenger ID>560</Passenger ID><Survival (1: Survived, 0: Died)>1</Survival (1: Survived, 0: Died)><Passenger Class>3</Passenger Class><Name>de Messemaeker, Mrs. Guillaume Joseph (Emma)</Name><Sex>female</Sex><Age>36</Age><Number of Siblings/Spouses Aboard>1</Number of Siblings/Spouses Aboard><Number of Parents/Children Aboard>0</Number of Parents/Children Aboard><Ticket Number>345572</Ticket Number><Fare>17.4</Fare><Cabin></Cabin><Port of Embarkation>S</Port of Embarkation></row>\n",
      "<row><Passenger ID>561</Passenger ID><Survival (1: Survived, 0: Died)>0</Survival (1: Survived, 0: Died)><Passenger Class>3</Passenger Class><Name>Morrow, Mr. Thomas Rowan</Name><Sex>male</Sex><Age></Age><Number of Siblings/Spouses Aboard>0</Number of Siblings/Spouses Aboard><Number of Parents/Children Aboard>0</Number of Parents/Children Aboard><Ticket Number>372622</Ticket Number><Fare>7.75</Fare><Cabin></Cabin><Port of Embarkation>Q</Port of Embarkation></row>\n",
      "<row><Passenger ID>562</Passenger ID><Survival (1: Survived, 0: Died)>0</Survival (1: Survived, 0: Died)><Passenger Class>3</Passenger Class><Name>Sivic, Mr. Husein</Name><Sex>male</Sex><Age>40</Age><Number of Siblings/Spouses Aboard>0</Number of Siblings/Spouses Aboard><Number of Parents/Children Aboard>0</Number of Parents/Children Aboard><Ticket Number>349251</Ticket Number><Fare>7.8958</Fare><Cabin></Cabin><Port of Embarkation>S</Port of Embarkation></row>\n",
      "<row><Passenger ID>563</Passenger ID><Survival (1: Survived, 0: Died)>0</Survival (1: Survived, 0: Died)><Passenger Class>2</Passenger Class><Name>Norman, Mr. Robert Douglas</Name><Sex>male</Sex><Age>28</Age><Number of Siblings/Spouses Aboard>0</Number of Siblings/Spouses Aboard><Number of Parents/Children Aboard>0</Number of Parents/Children Aboard><Ticket Number>218629</Ticket Number><Fare>13.5</Fare><Cabin></Cabin><Port of Embarkation>S</Port of Embarkation></row>\n",
      "<row><Passenger ID>564</Passenger ID><Survival (1: Survived, 0: Died)>0</Survival (1: Survived, 0: Died)><Passenger Class>3</Passenger Class><Name>Simmons, Mr. John</Name><Sex>male</Sex><Age></Age><Number of Siblings/Spouses Aboard>0</Number of Siblings/Spouses Aboard><Number of Parents/Children Aboard>0</Number of Parents/Children Aboard><Ticket Number>SOTON/OQ 392082</Ticket Number><Fare>8.05</Fare><Cabin></Cabin><Port of Embarkation>S</Port of Embarkation></row>\n",
      "<row><Passenger ID>565</Passenger ID><Survival (1: Survived, 0: Died)>0</Survival (1: Survived, 0: Died)><Passenger Class>3</Passenger Class><Name>Meanwell, Miss. (Marion Ogden)</Name><Sex>female</Sex><Age></Age><Number of Siblings/Spouses Aboard>0</Number of Siblings/Spouses Aboard><Number of Parents/Children Aboard>0</Number of Parents/Children Aboard><Ticket Number>SOTON/O.Q. 392087</Ticket Number><Fare>8.05</Fare><Cabin></Cabin><Port of Embarkation>S</Port of Embarkation></row>\n",
      "<row><Passenger ID>566</Passenger ID><Survival (1: Survived, 0: Died)>0</Survival (1: Survived, 0: Died)><Passenger Class>3</Passenger Class><Name>Davies, Mr. Alfred J</Name><Sex>male</Sex><Age>24</Age><Number of Siblings/Spouses Aboard>2</Number of Siblings/Spouses Aboard><Number of Parents/Children Aboard>0</Number of Parents/Children Aboard><Ticket Number>A/4 48871</Ticket Number><Fare>24.15</Fare><Cabin></Cabin><Port of Embarkation>S</Port of Embarkation></row>\n",
      "<row><Passenger ID>567</Passenger ID><Survival (1: Survived, 0: Died)>0</Survival (1: Survived, 0: Died)><Passenger Class>3</Passenger Class><Name>Stoytcheff, Mr. Ilia</Name><Sex>male</Sex><Age>19</Age><Number of Siblings/Spouses Aboard>0</Number of Siblings/Spouses Aboard><Number of Parents/Children Aboard>0</Number of Parents/Children Aboard><Ticket Number>349205</Ticket Number><Fare>7.8958</Fare><Cabin></Cabin><Port of Embarkation>S</Port of Embarkation></row>\n",
      "<row><Passenger ID>568</Passenger ID><Survival (1: Survived, 0: Died)>0</Survival (1: Survived, 0: Died)><Passenger Class>3</Passenger Class><Name>Palsson, Mrs. Nils (Alma Cornelia Berglund)</Name><Sex>female</Sex><Age>29</Age><Number of Siblings/Spouses Aboard>0</Number of Siblings/Spouses Aboard><Number of Parents/Children Aboard>4</Number of Parents/Children Aboard><Ticket Number>349909</Ticket Number><Fare>21.075</Fare><Cabin></Cabin><Port of Embarkation>S</Port of Embarkation></row>\n",
      "<row><Passenger ID>569</Passenger ID><Survival (1: Survived, 0: Died)>0</Survival (1: Survived, 0: Died)><Passenger Class>3</Passenger Class><Name>Doharr, Mr. Tannous</Name><Sex>male</Sex><Age></Age><Number of Siblings/Spouses Aboard>0</Number of Siblings/Spouses Aboard><Number of Parents/Children Aboard>0</Number of Parents/Children Aboard><Ticket Number>2686</Ticket Number><Fare>7.2292</Fare><Cabin></Cabin><Port of Embarkation>C</Port of Embarkation></row>\n",
      "<row><Passenger ID>570</Passenger ID><Survival (1: Survived, 0: Died)>1</Survival (1: Survived, 0: Died)><Passenger Class>3</Passenger Class><Name>Jonsson, Mr. Carl</Name><Sex>male</Sex><Age>32</Age><Number of Siblings/Spouses Aboard>0</Number of Siblings/Spouses Aboard><Number of Parents/Children Aboard>0</Number of Parents/Children Aboard><Ticket Number>350417</Ticket Number><Fare>7.8542</Fare><Cabin></Cabin><Port of Embarkation>S</Port of Embarkation></row>\n",
      "<row><Passenger ID>571</Passenger ID><Survival (1: Survived, 0: Died)>1</Survival (1: Survived, 0: Died)><Passenger Class>2</Passenger Class><Name>Harris, Mr. George</Name><Sex>male</Sex><Age>62</Age><Number of Siblings/Spouses Aboard>0</Number of Siblings/Spouses Aboard><Number of Parents/Children Aboard>0</Number of Parents/Children Aboard><Ticket Number>S.W./PP 752</Ticket Number><Fare>10.5</Fare><Cabin></Cabin><Port of Embarkation>S</Port of Embarkation></row>\n",
      "<row><Passenger ID>572</Passenger ID><Survival (1: Survived, 0: Died)>1</Survival (1: Survived, 0: Died)><Passenger Class>1</Passenger Class><Name>Appleton, Mrs. Edward Dale (Charlotte Lamson)</Name><Sex>female</Sex><Age>53</Age><Number of Siblings/Spouses Aboard>2</Number of Siblings/Spouses Aboard><Number of Parents/Children Aboard>0</Number of Parents/Children Aboard><Ticket Number>11769</Ticket Number><Fare>51.4792</Fare><Cabin>C101</Cabin><Port of Embarkation>S</Port of Embarkation></row>\n",
      "<row><Passenger ID>573</Passenger ID><Survival (1: Survived, 0: Died)>1</Survival (1: Survived, 0: Died)><Passenger Class>1</Passenger Class><Name>Flynn, Mr. John Irwin (\"Irving\")</Name><Sex>male</Sex><Age>36</Age><Number of Siblings/Spouses Aboard>0</Number of Siblings/Spouses Aboard><Number of Parents/Children Aboard>0</Number of Parents/Children Aboard><Ticket Number>PC 17474</Ticket Number><Fare>26.3875</Fare><Cabin>E25</Cabin><Port of Embarkation>S</Port of Embarkation></row>\n",
      "<row><Passenger ID>574</Passenger ID><Survival (1: Survived, 0: Died)>1</Survival (1: Survived, 0: Died)><Passenger Class>3</Passenger Class><Name>Kelly, Miss. Mary</Name><Sex>female</Sex><Age></Age><Number of Siblings/Spouses Aboard>0</Number of Siblings/Spouses Aboard><Number of Parents/Children Aboard>0</Number of Parents/Children Aboard><Ticket Number>14312</Ticket Number><Fare>7.75</Fare><Cabin></Cabin><Port of Embarkation>Q</Port of Embarkation></row>\n",
      "<row><Passenger ID>575</Passenger ID><Survival (1: Survived, 0: Died)>0</Survival (1: Survived, 0: Died)><Passenger Class>3</Passenger Class><Name>Rush, Mr. Alfred George John</Name><Sex>male</Sex><Age>16</Age><Number of Siblings/Spouses Aboard>0</Number of Siblings/Spouses Aboard><Number of Parents/Children Aboard>0</Number of Parents/Children Aboard><Ticket Number>A/4. 20589</Ticket Number><Fare>8.05</Fare><Cabin></Cabin><Port of Embarkation>S</Port of Embarkation></row>\n",
      "<row><Passenger ID>576</Passenger ID><Survival (1: Survived, 0: Died)>0</Survival (1: Survived, 0: Died)><Passenger Class>3</Passenger Class><Name>Patchett, Mr. George</Name><Sex>male</Sex><Age>19</Age><Number of Siblings/Spouses Aboard>0</Number of Siblings/Spouses Aboard><Number of Parents/Children Aboard>0</Number of Parents/Children Aboard><Ticket Number>358585</Ticket Number><Fare>14.5</Fare><Cabin></Cabin><Port of Embarkation>S</Port of Embarkation></row>\n",
      "<row><Passenger ID>577</Passenger ID><Survival (1: Survived, 0: Died)>1</Survival (1: Survived, 0: Died)><Passenger Class>2</Passenger Class><Name>Garside, Miss. Ethel</Name><Sex>female</Sex><Age>34</Age><Number of Siblings/Spouses Aboard>0</Number of Siblings/Spouses Aboard><Number of Parents/Children Aboard>0</Number of Parents/Children Aboard><Ticket Number>243880</Ticket Number><Fare>13</Fare><Cabin></Cabin><Port of Embarkation>S</Port of Embarkation></row>\n",
      "<row><Passenger ID>578</Passenger ID><Survival (1: Survived, 0: Died)>1</Survival (1: Survived, 0: Died)><Passenger Class>1</Passenger Class><Name>Silvey, Mrs. William Baird (Alice Munger)</Name><Sex>female</Sex><Age>39</Age><Number of Siblings/Spouses Aboard>1</Number of Siblings/Spouses Aboard><Number of Parents/Children Aboard>0</Number of Parents/Children Aboard><Ticket Number>13507</Ticket Number><Fare>55.9</Fare><Cabin>E44</Cabin><Port of Embarkation>S</Port of Embarkation></row>\n",
      "<row><Passenger ID>579</Passenger ID><Survival (1: Survived, 0: Died)>0</Survival (1: Survived, 0: Died)><Passenger Class>3</Passenger Class><Name>Caram, Mrs. Joseph (Maria Elias)</Name><Sex>female</Sex><Age></Age><Number of Siblings/Spouses Aboard>1</Number of Siblings/Spouses Aboard><Number of Parents/Children Aboard>0</Number of Parents/Children Aboard><Ticket Number>2689</Ticket Number><Fare>14.4583</Fare><Cabin></Cabin><Port of Embarkation>C</Port of Embarkation></row>\n",
      "<row><Passenger ID>580</Passenger ID><Survival (1: Survived, 0: Died)>1</Survival (1: Survived, 0: Died)><Passenger Class>3</Passenger Class><Name>Jussila, Mr. Eiriik</Name><Sex>male</Sex><Age>32</Age><Number of Siblings/Spouses Aboard>0</Number of Siblings/Spouses Aboard><Number of Parents/Children Aboard>0</Number of Parents/Children Aboard><Ticket Number>STON/O 2. 3101286</Ticket Number><Fare>7.925</Fare><Cabin></Cabin><Port of Embarkation>S</Port of Embarkation></row>\n",
      "<row><Passenger ID>581</Passenger ID><Survival (1: Survived, 0: Died)>1</Survival (1: Survived, 0: Died)><Passenger Class>2</Passenger Class><Name>Christy, Miss. Julie Rachel</Name><Sex>female</Sex><Age>25</Age><Number of Siblings/Spouses Aboard>1</Number of Siblings/Spouses Aboard><Number of Parents/Children Aboard>1</Number of Parents/Children Aboard><Ticket Number>237789</Ticket Number><Fare>30</Fare><Cabin></Cabin><Port of Embarkation>S</Port of Embarkation></row>\n",
      "<row><Passenger ID>582</Passenger ID><Survival (1: Survived, 0: Died)>1</Survival (1: Survived, 0: Died)><Passenger Class>1</Passenger Class><Name>Thayer, Mrs. John Borland (Marian Longstreth Morris)</Name><Sex>female</Sex><Age>39</Age><Number of Siblings/Spouses Aboard>1</Number of Siblings/Spouses Aboard><Number of Parents/Children Aboard>1</Number of Parents/Children Aboard><Ticket Number>17421</Ticket Number><Fare>110.8833</Fare><Cabin>C68</Cabin><Port of Embarkation>C</Port of Embarkation></row>\n",
      "<row><Passenger ID>583</Passenger ID><Survival (1: Survived, 0: Died)>0</Survival (1: Survived, 0: Died)><Passenger Class>2</Passenger Class><Name>Downton, Mr. William James</Name><Sex>male</Sex><Age>54</Age><Number of Siblings/Spouses Aboard>0</Number of Siblings/Spouses Aboard><Number of Parents/Children Aboard>0</Number of Parents/Children Aboard><Ticket Number>28403</Ticket Number><Fare>26</Fare><Cabin></Cabin><Port of Embarkation>S</Port of Embarkation></row>\n",
      "<row><Passenger ID>584</Passenger ID><Survival (1: Survived, 0: Died)>0</Survival (1: Survived, 0: Died)><Passenger Class>1</Passenger Class><Name>Ross, Mr. John Hugo</Name><Sex>male</Sex><Age>36</Age><Number of Siblings/Spouses Aboard>0</Number of Siblings/Spouses Aboard><Number of Parents/Children Aboard>0</Number of Parents/Children Aboard><Ticket Number>13049</Ticket Number><Fare>40.125</Fare><Cabin>A10</Cabin><Port of Embarkation>C</Port of Embarkation></row>\n",
      "<row><Passenger ID>585</Passenger ID><Survival (1: Survived, 0: Died)>0</Survival (1: Survived, 0: Died)><Passenger Class>3</Passenger Class><Name>Paulner, Mr. Uscher</Name><Sex>male</Sex><Age></Age><Number of Siblings/Spouses Aboard>0</Number of Siblings/Spouses Aboard><Number of Parents/Children Aboard>0</Number of Parents/Children Aboard><Ticket Number>3411</Ticket Number><Fare>8.7125</Fare><Cabin></Cabin><Port of Embarkation>C</Port of Embarkation></row>\n",
      "<row><Passenger ID>586</Passenger ID><Survival (1: Survived, 0: Died)>1</Survival (1: Survived, 0: Died)><Passenger Class>1</Passenger Class><Name>Taussig, Miss. Ruth</Name><Sex>female</Sex><Age>18</Age><Number of Siblings/Spouses Aboard>0</Number of Siblings/Spouses Aboard><Number of Parents/Children Aboard>2</Number of Parents/Children Aboard><Ticket Number>110413</Ticket Number><Fare>79.65</Fare><Cabin>E68</Cabin><Port of Embarkation>S</Port of Embarkation></row>\n",
      "<row><Passenger ID>587</Passenger ID><Survival (1: Survived, 0: Died)>0</Survival (1: Survived, 0: Died)><Passenger Class>2</Passenger Class><Name>Jarvis, Mr. John Denzil</Name><Sex>male</Sex><Age>47</Age><Number of Siblings/Spouses Aboard>0</Number of Siblings/Spouses Aboard><Number of Parents/Children Aboard>0</Number of Parents/Children Aboard><Ticket Number>237565</Ticket Number><Fare>15</Fare><Cabin></Cabin><Port of Embarkation>S</Port of Embarkation></row>\n",
      "<row><Passenger ID>588</Passenger ID><Survival (1: Survived, 0: Died)>1</Survival (1: Survived, 0: Died)><Passenger Class>1</Passenger Class><Name>Frolicher-Stehli, Mr. Maxmillian</Name><Sex>male</Sex><Age>60</Age><Number of Siblings/Spouses Aboard>1</Number of Siblings/Spouses Aboard><Number of Parents/Children Aboard>1</Number of Parents/Children Aboard><Ticket Number>13567</Ticket Number><Fare>79.2</Fare><Cabin>B41</Cabin><Port of Embarkation>C</Port of Embarkation></row>\n",
      "<row><Passenger ID>589</Passenger ID><Survival (1: Survived, 0: Died)>0</Survival (1: Survived, 0: Died)><Passenger Class>3</Passenger Class><Name>Gilinski, Mr. Eliezer</Name><Sex>male</Sex><Age>22</Age><Number of Siblings/Spouses Aboard>0</Number of Siblings/Spouses Aboard><Number of Parents/Children Aboard>0</Number of Parents/Children Aboard><Ticket Number>14973</Ticket Number><Fare>8.05</Fare><Cabin></Cabin><Port of Embarkation>S</Port of Embarkation></row>\n",
      "<row><Passenger ID>590</Passenger ID><Survival (1: Survived, 0: Died)>0</Survival (1: Survived, 0: Died)><Passenger Class>3</Passenger Class><Name>Murdlin, Mr. Joseph</Name><Sex>male</Sex><Age></Age><Number of Siblings/Spouses Aboard>0</Number of Siblings/Spouses Aboard><Number of Parents/Children Aboard>0</Number of Parents/Children Aboard><Ticket Number>A./5. 3235</Ticket Number><Fare>8.05</Fare><Cabin></Cabin><Port of Embarkation>S</Port of Embarkation></row>\n",
      "<row><Passenger ID>591</Passenger ID><Survival (1: Survived, 0: Died)>0</Survival (1: Survived, 0: Died)><Passenger Class>3</Passenger Class><Name>Rintamaki, Mr. Matti</Name><Sex>male</Sex><Age>35</Age><Number of Siblings/Spouses Aboard>0</Number of Siblings/Spouses Aboard><Number of Parents/Children Aboard>0</Number of Parents/Children Aboard><Ticket Number>STON/O 2. 3101273</Ticket Number><Fare>7.125</Fare><Cabin></Cabin><Port of Embarkation>S</Port of Embarkation></row>\n",
      "<row><Passenger ID>592</Passenger ID><Survival (1: Survived, 0: Died)>1</Survival (1: Survived, 0: Died)><Passenger Class>1</Passenger Class><Name>Stephenson, Mrs. Walter Bertram (Martha Eustis)</Name><Sex>female</Sex><Age>52</Age><Number of Siblings/Spouses Aboard>1</Number of Siblings/Spouses Aboard><Number of Parents/Children Aboard>0</Number of Parents/Children Aboard><Ticket Number>36947</Ticket Number><Fare>78.2667</Fare><Cabin>D20</Cabin><Port of Embarkation>C</Port of Embarkation></row>\n",
      "<row><Passenger ID>593</Passenger ID><Survival (1: Survived, 0: Died)>0</Survival (1: Survived, 0: Died)><Passenger Class>3</Passenger Class><Name>Elsbury, Mr. William James</Name><Sex>male</Sex><Age>47</Age><Number of Siblings/Spouses Aboard>0</Number of Siblings/Spouses Aboard><Number of Parents/Children Aboard>0</Number of Parents/Children Aboard><Ticket Number>A/5 3902</Ticket Number><Fare>7.25</Fare><Cabin></Cabin><Port of Embarkation>S</Port of Embarkation></row>\n",
      "<row><Passenger ID>594</Passenger ID><Survival (1: Survived, 0: Died)>0</Survival (1: Survived, 0: Died)><Passenger Class>3</Passenger Class><Name>Bourke, Miss. Mary</Name><Sex>female</Sex><Age></Age><Number of Siblings/Spouses Aboard>0</Number of Siblings/Spouses Aboard><Number of Parents/Children Aboard>2</Number of Parents/Children Aboard><Ticket Number>364848</Ticket Number><Fare>7.75</Fare><Cabin></Cabin><Port of Embarkation>Q</Port of Embarkation></row>\n",
      "<row><Passenger ID>595</Passenger ID><Survival (1: Survived, 0: Died)>0</Survival (1: Survived, 0: Died)><Passenger Class>2</Passenger Class><Name>Chapman, Mr. John Henry</Name><Sex>male</Sex><Age>37</Age><Number of Siblings/Spouses Aboard>1</Number of Siblings/Spouses Aboard><Number of Parents/Children Aboard>0</Number of Parents/Children Aboard><Ticket Number>SC/AH 29037</Ticket Number><Fare>26</Fare><Cabin></Cabin><Port of Embarkation>S</Port of Embarkation></row>\n",
      "<row><Passenger ID>596</Passenger ID><Survival (1: Survived, 0: Died)>0</Survival (1: Survived, 0: Died)><Passenger Class>3</Passenger Class><Name>Van Impe, Mr. Jean Baptiste</Name><Sex>male</Sex><Age>36</Age><Number of Siblings/Spouses Aboard>1</Number of Siblings/Spouses Aboard><Number of Parents/Children Aboard>1</Number of Parents/Children Aboard><Ticket Number>345773</Ticket Number><Fare>24.15</Fare><Cabin></Cabin><Port of Embarkation>S</Port of Embarkation></row>\n",
      "<row><Passenger ID>597</Passenger ID><Survival (1: Survived, 0: Died)>1</Survival (1: Survived, 0: Died)><Passenger Class>2</Passenger Class><Name>Leitch, Miss. Jessie Wills</Name><Sex>female</Sex><Age></Age><Number of Siblings/Spouses Aboard>0</Number of Siblings/Spouses Aboard><Number of Parents/Children Aboard>0</Number of Parents/Children Aboard><Ticket Number>248727</Ticket Number><Fare>33</Fare><Cabin></Cabin><Port of Embarkation>S</Port of Embarkation></row>\n",
      "<row><Passenger ID>598</Passenger ID><Survival (1: Survived, 0: Died)>0</Survival (1: Survived, 0: Died)><Passenger Class>3</Passenger Class><Name>Johnson, Mr. Alfred</Name><Sex>male</Sex><Age>49</Age><Number of Siblings/Spouses Aboard>0</Number of Siblings/Spouses Aboard><Number of Parents/Children Aboard>0</Number of Parents/Children Aboard><Ticket Number>LINE</Ticket Number><Fare>0</Fare><Cabin></Cabin><Port of Embarkation>S</Port of Embarkation></row>\n",
      "<row><Passenger ID>599</Passenger ID><Survival (1: Survived, 0: Died)>0</Survival (1: Survived, 0: Died)><Passenger Class>3</Passenger Class><Name>Boulos, Mr. Hanna</Name><Sex>male</Sex><Age></Age><Number of Siblings/Spouses Aboard>0</Number of Siblings/Spouses Aboard><Number of Parents/Children Aboard>0</Number of Parents/Children Aboard><Ticket Number>2664</Ticket Number><Fare>7.225</Fare><Cabin></Cabin><Port of Embarkation>C</Port of Embarkation></row>\n",
      "<row><Passenger ID>600</Passenger ID><Survival (1: Survived, 0: Died)>1</Survival (1: Survived, 0: Died)><Passenger Class>1</Passenger Class><Name>Duff Gordon, Sir. Cosmo Edmund (\"Mr Morgan\")</Name><Sex>male</Sex><Age>49</Age><Number of Siblings/Spouses Aboard>1</Number of Siblings/Spouses Aboard><Number of Parents/Children Aboard>0</Number of Parents/Children Aboard><Ticket Number>PC 17485</Ticket Number><Fare>56.9292</Fare><Cabin>A20</Cabin><Port of Embarkation>C</Port of Embarkation></row>\n",
      "<row><Passenger ID>601</Passenger ID><Survival (1: Survived, 0: Died)>1</Survival (1: Survived, 0: Died)><Passenger Class>2</Passenger Class><Name>Jacobsohn, Mrs. Sidney Samuel (Amy Frances Christy)</Name><Sex>female</Sex><Age>24</Age><Number of Siblings/Spouses Aboard>2</Number of Siblings/Spouses Aboard><Number of Parents/Children Aboard>1</Number of Parents/Children Aboard><Ticket Number>243847</Ticket Number><Fare>27</Fare><Cabin></Cabin><Port of Embarkation>S</Port of Embarkation></row>\n",
      "<row><Passenger ID>602</Passenger ID><Survival (1: Survived, 0: Died)>0</Survival (1: Survived, 0: Died)><Passenger Class>3</Passenger Class><Name>Slabenoff, Mr. Petco</Name><Sex>male</Sex><Age></Age><Number of Siblings/Spouses Aboard>0</Number of Siblings/Spouses Aboard><Number of Parents/Children Aboard>0</Number of Parents/Children Aboard><Ticket Number>349214</Ticket Number><Fare>7.8958</Fare><Cabin></Cabin><Port of Embarkation>S</Port of Embarkation></row>\n",
      "<row><Passenger ID>603</Passenger ID><Survival (1: Survived, 0: Died)>0</Survival (1: Survived, 0: Died)><Passenger Class>1</Passenger Class><Name>Harrington, Mr. Charles H</Name><Sex>male</Sex><Age></Age><Number of Siblings/Spouses Aboard>0</Number of Siblings/Spouses Aboard><Number of Parents/Children Aboard>0</Number of Parents/Children Aboard><Ticket Number>113796</Ticket Number><Fare>42.4</Fare><Cabin></Cabin><Port of Embarkation>S</Port of Embarkation></row>\n",
      "<row><Passenger ID>604</Passenger ID><Survival (1: Survived, 0: Died)>0</Survival (1: Survived, 0: Died)><Passenger Class>3</Passenger Class><Name>Torber, Mr. Ernst William</Name><Sex>male</Sex><Age>44</Age><Number of Siblings/Spouses Aboard>0</Number of Siblings/Spouses Aboard><Number of Parents/Children Aboard>0</Number of Parents/Children Aboard><Ticket Number>364511</Ticket Number><Fare>8.05</Fare><Cabin></Cabin><Port of Embarkation>S</Port of Embarkation></row>\n",
      "<row><Passenger ID>605</Passenger ID><Survival (1: Survived, 0: Died)>1</Survival (1: Survived, 0: Died)><Passenger Class>1</Passenger Class><Name>Homer, Mr. Harry (\"Mr E Haven\")</Name><Sex>male</Sex><Age>35</Age><Number of Siblings/Spouses Aboard>0</Number of Siblings/Spouses Aboard><Number of Parents/Children Aboard>0</Number of Parents/Children Aboard><Ticket Number>111426</Ticket Number><Fare>26.55</Fare><Cabin></Cabin><Port of Embarkation>C</Port of Embarkation></row>\n",
      "<row><Passenger ID>606</Passenger ID><Survival (1: Survived, 0: Died)>0</Survival (1: Survived, 0: Died)><Passenger Class>3</Passenger Class><Name>Lindell, Mr. Edvard Bengtsson</Name><Sex>male</Sex><Age>36</Age><Number of Siblings/Spouses Aboard>1</Number of Siblings/Spouses Aboard><Number of Parents/Children Aboard>0</Number of Parents/Children Aboard><Ticket Number>349910</Ticket Number><Fare>15.55</Fare><Cabin></Cabin><Port of Embarkation>S</Port of Embarkation></row>\n",
      "<row><Passenger ID>607</Passenger ID><Survival (1: Survived, 0: Died)>0</Survival (1: Survived, 0: Died)><Passenger Class>3</Passenger Class><Name>Karaic, Mr. Milan</Name><Sex>male</Sex><Age>30</Age><Number of Siblings/Spouses Aboard>0</Number of Siblings/Spouses Aboard><Number of Parents/Children Aboard>0</Number of Parents/Children Aboard><Ticket Number>349246</Ticket Number><Fare>7.8958</Fare><Cabin></Cabin><Port of Embarkation>S</Port of Embarkation></row>\n",
      "<row><Passenger ID>608</Passenger ID><Survival (1: Survived, 0: Died)>1</Survival (1: Survived, 0: Died)><Passenger Class>1</Passenger Class><Name>Daniel, Mr. Robert Williams</Name><Sex>male</Sex><Age>27</Age><Number of Siblings/Spouses Aboard>0</Number of Siblings/Spouses Aboard><Number of Parents/Children Aboard>0</Number of Parents/Children Aboard><Ticket Number>113804</Ticket Number><Fare>30.5</Fare><Cabin></Cabin><Port of Embarkation>S</Port of Embarkation></row>\n",
      "<row><Passenger ID>609</Passenger ID><Survival (1: Survived, 0: Died)>1</Survival (1: Survived, 0: Died)><Passenger Class>2</Passenger Class><Name>Laroche, Mrs. Joseph (Juliette Marie Louise Lafargue)</Name><Sex>female</Sex><Age>22</Age><Number of Siblings/Spouses Aboard>1</Number of Siblings/Spouses Aboard><Number of Parents/Children Aboard>2</Number of Parents/Children Aboard><Ticket Number>SC/Paris 2123</Ticket Number><Fare>41.5792</Fare><Cabin></Cabin><Port of Embarkation>C</Port of Embarkation></row>\n",
      "<row><Passenger ID>610</Passenger ID><Survival (1: Survived, 0: Died)>1</Survival (1: Survived, 0: Died)><Passenger Class>1</Passenger Class><Name>Shutes, Miss. Elizabeth W</Name><Sex>female</Sex><Age>40</Age><Number of Siblings/Spouses Aboard>0</Number of Siblings/Spouses Aboard><Number of Parents/Children Aboard>0</Number of Parents/Children Aboard><Ticket Number>PC 17582</Ticket Number><Fare>153.4625</Fare><Cabin>C125</Cabin><Port of Embarkation>S</Port of Embarkation></row>\n",
      "<row><Passenger ID>611</Passenger ID><Survival (1: Survived, 0: Died)>0</Survival (1: Survived, 0: Died)><Passenger Class>3</Passenger Class><Name>Andersson, Mrs. Anders Johan (Alfrida Konstantia Brogren)</Name><Sex>female</Sex><Age>39</Age><Number of Siblings/Spouses Aboard>1</Number of Siblings/Spouses Aboard><Number of Parents/Children Aboard>5</Number of Parents/Children Aboard><Ticket Number>347082</Ticket Number><Fare>31.275</Fare><Cabin></Cabin><Port of Embarkation>S</Port of Embarkation></row>\n",
      "<row><Passenger ID>612</Passenger ID><Survival (1: Survived, 0: Died)>0</Survival (1: Survived, 0: Died)><Passenger Class>3</Passenger Class><Name>Jardin, Mr. Jose Neto</Name><Sex>male</Sex><Age></Age><Number of Siblings/Spouses Aboard>0</Number of Siblings/Spouses Aboard><Number of Parents/Children Aboard>0</Number of Parents/Children Aboard><Ticket Number>SOTON/O.Q. 3101305</Ticket Number><Fare>7.05</Fare><Cabin></Cabin><Port of Embarkation>S</Port of Embarkation></row>\n",
      "<row><Passenger ID>613</Passenger ID><Survival (1: Survived, 0: Died)>1</Survival (1: Survived, 0: Died)><Passenger Class>3</Passenger Class><Name>Murphy, Miss. Margaret Jane</Name><Sex>female</Sex><Age></Age><Number of Siblings/Spouses Aboard>1</Number of Siblings/Spouses Aboard><Number of Parents/Children Aboard>0</Number of Parents/Children Aboard><Ticket Number>367230</Ticket Number><Fare>15.5</Fare><Cabin></Cabin><Port of Embarkation>Q</Port of Embarkation></row>\n",
      "<row><Passenger ID>614</Passenger ID><Survival (1: Survived, 0: Died)>0</Survival (1: Survived, 0: Died)><Passenger Class>3</Passenger Class><Name>Horgan, Mr. John</Name><Sex>male</Sex><Age></Age><Number of Siblings/Spouses Aboard>0</Number of Siblings/Spouses Aboard><Number of Parents/Children Aboard>0</Number of Parents/Children Aboard><Ticket Number>370377</Ticket Number><Fare>7.75</Fare><Cabin></Cabin><Port of Embarkation>Q</Port of Embarkation></row>\n",
      "<row><Passenger ID>615</Passenger ID><Survival (1: Survived, 0: Died)>0</Survival (1: Survived, 0: Died)><Passenger Class>3</Passenger Class><Name>Brocklebank, Mr. William Alfred</Name><Sex>male</Sex><Age>35</Age><Number of Siblings/Spouses Aboard>0</Number of Siblings/Spouses Aboard><Number of Parents/Children Aboard>0</Number of Parents/Children Aboard><Ticket Number>364512</Ticket Number><Fare>8.05</Fare><Cabin></Cabin><Port of Embarkation>S</Port of Embarkation></row>\n",
      "<row><Passenger ID>616</Passenger ID><Survival (1: Survived, 0: Died)>1</Survival (1: Survived, 0: Died)><Passenger Class>2</Passenger Class><Name>Herman, Miss. Alice</Name><Sex>female</Sex><Age>24</Age><Number of Siblings/Spouses Aboard>1</Number of Siblings/Spouses Aboard><Number of Parents/Children Aboard>2</Number of Parents/Children Aboard><Ticket Number>220845</Ticket Number><Fare>65</Fare><Cabin></Cabin><Port of Embarkation>S</Port of Embarkation></row>\n",
      "<row><Passenger ID>617</Passenger ID><Survival (1: Survived, 0: Died)>0</Survival (1: Survived, 0: Died)><Passenger Class>3</Passenger Class><Name>Danbom, Mr. Ernst Gilbert</Name><Sex>male</Sex><Age>34</Age><Number of Siblings/Spouses Aboard>1</Number of Siblings/Spouses Aboard><Number of Parents/Children Aboard>1</Number of Parents/Children Aboard><Ticket Number>347080</Ticket Number><Fare>14.4</Fare><Cabin></Cabin><Port of Embarkation>S</Port of Embarkation></row>\n",
      "<row><Passenger ID>618</Passenger ID><Survival (1: Survived, 0: Died)>0</Survival (1: Survived, 0: Died)><Passenger Class>3</Passenger Class><Name>Lobb, Mrs. William Arthur (Cordelia K Stanlick)</Name><Sex>female</Sex><Age>26</Age><Number of Siblings/Spouses Aboard>1</Number of Siblings/Spouses Aboard><Number of Parents/Children Aboard>0</Number of Parents/Children Aboard><Ticket Number>A/5. 3336</Ticket Number><Fare>16.1</Fare><Cabin></Cabin><Port of Embarkation>S</Port of Embarkation></row>\n",
      "<row><Passenger ID>619</Passenger ID><Survival (1: Survived, 0: Died)>1</Survival (1: Survived, 0: Died)><Passenger Class>2</Passenger Class><Name>Becker, Miss. Marion Louise</Name><Sex>female</Sex><Age>4</Age><Number of Siblings/Spouses Aboard>2</Number of Siblings/Spouses Aboard><Number of Parents/Children Aboard>1</Number of Parents/Children Aboard><Ticket Number>230136</Ticket Number><Fare>39</Fare><Cabin>F4</Cabin><Port of Embarkation>S</Port of Embarkation></row>\n",
      "<row><Passenger ID>620</Passenger ID><Survival (1: Survived, 0: Died)>0</Survival (1: Survived, 0: Died)><Passenger Class>2</Passenger Class><Name>Gavey, Mr. Lawrence</Name><Sex>male</Sex><Age>26</Age><Number of Siblings/Spouses Aboard>0</Number of Siblings/Spouses Aboard><Number of Parents/Children Aboard>0</Number of Parents/Children Aboard><Ticket Number>31028</Ticket Number><Fare>10.5</Fare><Cabin></Cabin><Port of Embarkation>S</Port of Embarkation></row>\n",
      "<row><Passenger ID>621</Passenger ID><Survival (1: Survived, 0: Died)>0</Survival (1: Survived, 0: Died)><Passenger Class>3</Passenger Class><Name>Yasbeck, Mr. Antoni</Name><Sex>male</Sex><Age>27</Age><Number of Siblings/Spouses Aboard>1</Number of Siblings/Spouses Aboard><Number of Parents/Children Aboard>0</Number of Parents/Children Aboard><Ticket Number>2659</Ticket Number><Fare>14.4542</Fare><Cabin></Cabin><Port of Embarkation>C</Port of Embarkation></row>\n",
      "<row><Passenger ID>622</Passenger ID><Survival (1: Survived, 0: Died)>1</Survival (1: Survived, 0: Died)><Passenger Class>1</Passenger Class><Name>Kimball, Mr. Edwin Nelson Jr</Name><Sex>male</Sex><Age>42</Age><Number of Siblings/Spouses Aboard>1</Number of Siblings/Spouses Aboard><Number of Parents/Children Aboard>0</Number of Parents/Children Aboard><Ticket Number>11753</Ticket Number><Fare>52.5542</Fare><Cabin>D19</Cabin><Port of Embarkation>S</Port of Embarkation></row>\n",
      "<row><Passenger ID>623</Passenger ID><Survival (1: Survived, 0: Died)>1</Survival (1: Survived, 0: Died)><Passenger Class>3</Passenger Class><Name>Nakid, Mr. Sahid</Name><Sex>male</Sex><Age>20</Age><Number of Siblings/Spouses Aboard>1</Number of Siblings/Spouses Aboard><Number of Parents/Children Aboard>1</Number of Parents/Children Aboard><Ticket Number>2653</Ticket Number><Fare>15.7417</Fare><Cabin></Cabin><Port of Embarkation>C</Port of Embarkation></row>\n",
      "<row><Passenger ID>624</Passenger ID><Survival (1: Survived, 0: Died)>0</Survival (1: Survived, 0: Died)><Passenger Class>3</Passenger Class><Name>Hansen, Mr. Henry Damsgaard</Name><Sex>male</Sex><Age>21</Age><Number of Siblings/Spouses Aboard>0</Number of Siblings/Spouses Aboard><Number of Parents/Children Aboard>0</Number of Parents/Children Aboard><Ticket Number>350029</Ticket Number><Fare>7.8542</Fare><Cabin></Cabin><Port of Embarkation>S</Port of Embarkation></row>\n",
      "<row><Passenger ID>625</Passenger ID><Survival (1: Survived, 0: Died)>0</Survival (1: Survived, 0: Died)><Passenger Class>3</Passenger Class><Name>Bowen, Mr. David John \"Dai\"</Name><Sex>male</Sex><Age>21</Age><Number of Siblings/Spouses Aboard>0</Number of Siblings/Spouses Aboard><Number of Parents/Children Aboard>0</Number of Parents/Children Aboard><Ticket Number>54636</Ticket Number><Fare>16.1</Fare><Cabin></Cabin><Port of Embarkation>S</Port of Embarkation></row>\n",
      "<row><Passenger ID>626</Passenger ID><Survival (1: Survived, 0: Died)>0</Survival (1: Survived, 0: Died)><Passenger Class>1</Passenger Class><Name>Sutton, Mr. Frederick</Name><Sex>male</Sex><Age>61</Age><Number of Siblings/Spouses Aboard>0</Number of Siblings/Spouses Aboard><Number of Parents/Children Aboard>0</Number of Parents/Children Aboard><Ticket Number>36963</Ticket Number><Fare>32.3208</Fare><Cabin>D50</Cabin><Port of Embarkation>S</Port of Embarkation></row>\n",
      "<row><Passenger ID>627</Passenger ID><Survival (1: Survived, 0: Died)>0</Survival (1: Survived, 0: Died)><Passenger Class>2</Passenger Class><Name>Kirkland, Rev. Charles Leonard</Name><Sex>male</Sex><Age>57</Age><Number of Siblings/Spouses Aboard>0</Number of Siblings/Spouses Aboard><Number of Parents/Children Aboard>0</Number of Parents/Children Aboard><Ticket Number>219533</Ticket Number><Fare>12.35</Fare><Cabin></Cabin><Port of Embarkation>Q</Port of Embarkation></row>\n",
      "<row><Passenger ID>628</Passenger ID><Survival (1: Survived, 0: Died)>1</Survival (1: Survived, 0: Died)><Passenger Class>1</Passenger Class><Name>Longley, Miss. Gretchen Fiske</Name><Sex>female</Sex><Age>21</Age><Number of Siblings/Spouses Aboard>0</Number of Siblings/Spouses Aboard><Number of Parents/Children Aboard>0</Number of Parents/Children Aboard><Ticket Number>13502</Ticket Number><Fare>77.9583</Fare><Cabin>D9</Cabin><Port of Embarkation>S</Port of Embarkation></row>\n",
      "<row><Passenger ID>629</Passenger ID><Survival (1: Survived, 0: Died)>0</Survival (1: Survived, 0: Died)><Passenger Class>3</Passenger Class><Name>Bostandyeff, Mr. Guentcho</Name><Sex>male</Sex><Age>26</Age><Number of Siblings/Spouses Aboard>0</Number of Siblings/Spouses Aboard><Number of Parents/Children Aboard>0</Number of Parents/Children Aboard><Ticket Number>349224</Ticket Number><Fare>7.8958</Fare><Cabin></Cabin><Port of Embarkation>S</Port of Embarkation></row>\n",
      "<row><Passenger ID>630</Passenger ID><Survival (1: Survived, 0: Died)>0</Survival (1: Survived, 0: Died)><Passenger Class>3</Passenger Class><Name>O'Connell, Mr. Patrick D</Name><Sex>male</Sex><Age></Age><Number of Siblings/Spouses Aboard>0</Number of Siblings/Spouses Aboard><Number of Parents/Children Aboard>0</Number of Parents/Children Aboard><Ticket Number>334912</Ticket Number><Fare>7.7333</Fare><Cabin></Cabin><Port of Embarkation>Q</Port of Embarkation></row>\n",
      "<row><Passenger ID>631</Passenger ID><Survival (1: Survived, 0: Died)>1</Survival (1: Survived, 0: Died)><Passenger Class>1</Passenger Class><Name>Barkworth, Mr. Algernon Henry Wilson</Name><Sex>male</Sex><Age>80</Age><Number of Siblings/Spouses Aboard>0</Number of Siblings/Spouses Aboard><Number of Parents/Children Aboard>0</Number of Parents/Children Aboard><Ticket Number>27042</Ticket Number><Fare>30</Fare><Cabin>A23</Cabin><Port of Embarkation>S</Port of Embarkation></row>\n",
      "<row><Passenger ID>632</Passenger ID><Survival (1: Survived, 0: Died)>0</Survival (1: Survived, 0: Died)><Passenger Class>3</Passenger Class><Name>Lundahl, Mr. Johan Svensson</Name><Sex>male</Sex><Age>51</Age><Number of Siblings/Spouses Aboard>0</Number of Siblings/Spouses Aboard><Number of Parents/Children Aboard>0</Number of Parents/Children Aboard><Ticket Number>347743</Ticket Number><Fare>7.0542</Fare><Cabin></Cabin><Port of Embarkation>S</Port of Embarkation></row>\n",
      "<row><Passenger ID>633</Passenger ID><Survival (1: Survived, 0: Died)>1</Survival (1: Survived, 0: Died)><Passenger Class>1</Passenger Class><Name>Stahelin-Maeglin, Dr. Max</Name><Sex>male</Sex><Age>32</Age><Number of Siblings/Spouses Aboard>0</Number of Siblings/Spouses Aboard><Number of Parents/Children Aboard>0</Number of Parents/Children Aboard><Ticket Number>13214</Ticket Number><Fare>30.5</Fare><Cabin>B50</Cabin><Port of Embarkation>C</Port of Embarkation></row>\n",
      "<row><Passenger ID>634</Passenger ID><Survival (1: Survived, 0: Died)>0</Survival (1: Survived, 0: Died)><Passenger Class>1</Passenger Class><Name>Parr, Mr. William Henry Marsh</Name><Sex>male</Sex><Age></Age><Number of Siblings/Spouses Aboard>0</Number of Siblings/Spouses Aboard><Number of Parents/Children Aboard>0</Number of Parents/Children Aboard><Ticket Number>112052</Ticket Number><Fare>0</Fare><Cabin></Cabin><Port of Embarkation>S</Port of Embarkation></row>\n",
      "<row><Passenger ID>635</Passenger ID><Survival (1: Survived, 0: Died)>0</Survival (1: Survived, 0: Died)><Passenger Class>3</Passenger Class><Name>Skoog, Miss. Mabel</Name><Sex>female</Sex><Age>9</Age><Number of Siblings/Spouses Aboard>3</Number of Siblings/Spouses Aboard><Number of Parents/Children Aboard>2</Number of Parents/Children Aboard><Ticket Number>347088</Ticket Number><Fare>27.9</Fare><Cabin></Cabin><Port of Embarkation>S</Port of Embarkation></row>\n",
      "<row><Passenger ID>636</Passenger ID><Survival (1: Survived, 0: Died)>1</Survival (1: Survived, 0: Died)><Passenger Class>2</Passenger Class><Name>Davis, Miss. Mary</Name><Sex>female</Sex><Age>28</Age><Number of Siblings/Spouses Aboard>0</Number of Siblings/Spouses Aboard><Number of Parents/Children Aboard>0</Number of Parents/Children Aboard><Ticket Number>237668</Ticket Number><Fare>13</Fare><Cabin></Cabin><Port of Embarkation>S</Port of Embarkation></row>\n",
      "<row><Passenger ID>637</Passenger ID><Survival (1: Survived, 0: Died)>0</Survival (1: Survived, 0: Died)><Passenger Class>3</Passenger Class><Name>Leinonen, Mr. Antti Gustaf</Name><Sex>male</Sex><Age>32</Age><Number of Siblings/Spouses Aboard>0</Number of Siblings/Spouses Aboard><Number of Parents/Children Aboard>0</Number of Parents/Children Aboard><Ticket Number>STON/O 2. 3101292</Ticket Number><Fare>7.925</Fare><Cabin></Cabin><Port of Embarkation>S</Port of Embarkation></row>\n",
      "<row><Passenger ID>638</Passenger ID><Survival (1: Survived, 0: Died)>0</Survival (1: Survived, 0: Died)><Passenger Class>2</Passenger Class><Name>Collyer, Mr. Harvey</Name><Sex>male</Sex><Age>31</Age><Number of Siblings/Spouses Aboard>1</Number of Siblings/Spouses Aboard><Number of Parents/Children Aboard>1</Number of Parents/Children Aboard><Ticket Number>C.A. 31921</Ticket Number><Fare>26.25</Fare><Cabin></Cabin><Port of Embarkation>S</Port of Embarkation></row>\n",
      "<row><Passenger ID>639</Passenger ID><Survival (1: Survived, 0: Died)>0</Survival (1: Survived, 0: Died)><Passenger Class>3</Passenger Class><Name>Panula, Mrs. Juha (Maria Emilia Ojala)</Name><Sex>female</Sex><Age>41</Age><Number of Siblings/Spouses Aboard>0</Number of Siblings/Spouses Aboard><Number of Parents/Children Aboard>5</Number of Parents/Children Aboard><Ticket Number>3101295</Ticket Number><Fare>39.6875</Fare><Cabin></Cabin><Port of Embarkation>S</Port of Embarkation></row>\n",
      "<row><Passenger ID>640</Passenger ID><Survival (1: Survived, 0: Died)>0</Survival (1: Survived, 0: Died)><Passenger Class>3</Passenger Class><Name>Thorneycroft, Mr. Percival</Name><Sex>male</Sex><Age></Age><Number of Siblings/Spouses Aboard>1</Number of Siblings/Spouses Aboard><Number of Parents/Children Aboard>0</Number of Parents/Children Aboard><Ticket Number>376564</Ticket Number><Fare>16.1</Fare><Cabin></Cabin><Port of Embarkation>S</Port of Embarkation></row>\n",
      "<row><Passenger ID>641</Passenger ID><Survival (1: Survived, 0: Died)>0</Survival (1: Survived, 0: Died)><Passenger Class>3</Passenger Class><Name>Jensen, Mr. Hans Peder</Name><Sex>male</Sex><Age>20</Age><Number of Siblings/Spouses Aboard>0</Number of Siblings/Spouses Aboard><Number of Parents/Children Aboard>0</Number of Parents/Children Aboard><Ticket Number>350050</Ticket Number><Fare>7.8542</Fare><Cabin></Cabin><Port of Embarkation>S</Port of Embarkation></row>\n",
      "<row><Passenger ID>642</Passenger ID><Survival (1: Survived, 0: Died)>1</Survival (1: Survived, 0: Died)><Passenger Class>1</Passenger Class><Name>Sagesser, Mlle. Emma</Name><Sex>female</Sex><Age>24</Age><Number of Siblings/Spouses Aboard>0</Number of Siblings/Spouses Aboard><Number of Parents/Children Aboard>0</Number of Parents/Children Aboard><Ticket Number>PC 17477</Ticket Number><Fare>69.3</Fare><Cabin>B35</Cabin><Port of Embarkation>C</Port of Embarkation></row>\n",
      "<row><Passenger ID>643</Passenger ID><Survival (1: Survived, 0: Died)>0</Survival (1: Survived, 0: Died)><Passenger Class>3</Passenger Class><Name>Skoog, Miss. Margit Elizabeth</Name><Sex>female</Sex><Age>2</Age><Number of Siblings/Spouses Aboard>3</Number of Siblings/Spouses Aboard><Number of Parents/Children Aboard>2</Number of Parents/Children Aboard><Ticket Number>347088</Ticket Number><Fare>27.9</Fare><Cabin></Cabin><Port of Embarkation>S</Port of Embarkation></row>\n",
      "<row><Passenger ID>644</Passenger ID><Survival (1: Survived, 0: Died)>1</Survival (1: Survived, 0: Died)><Passenger Class>3</Passenger Class><Name>Foo, Mr. Choong</Name><Sex>male</Sex><Age></Age><Number of Siblings/Spouses Aboard>0</Number of Siblings/Spouses Aboard><Number of Parents/Children Aboard>0</Number of Parents/Children Aboard><Ticket Number>1601</Ticket Number><Fare>56.4958</Fare><Cabin></Cabin><Port of Embarkation>S</Port of Embarkation></row>\n",
      "<row><Passenger ID>645</Passenger ID><Survival (1: Survived, 0: Died)>1</Survival (1: Survived, 0: Died)><Passenger Class>3</Passenger Class><Name>Baclini, Miss. Eugenie</Name><Sex>female</Sex><Age>0.75</Age><Number of Siblings/Spouses Aboard>2</Number of Siblings/Spouses Aboard><Number of Parents/Children Aboard>1</Number of Parents/Children Aboard><Ticket Number>2666</Ticket Number><Fare>19.2583</Fare><Cabin></Cabin><Port of Embarkation>C</Port of Embarkation></row>\n",
      "<row><Passenger ID>646</Passenger ID><Survival (1: Survived, 0: Died)>1</Survival (1: Survived, 0: Died)><Passenger Class>1</Passenger Class><Name>Harper, Mr. Henry Sleeper</Name><Sex>male</Sex><Age>48</Age><Number of Siblings/Spouses Aboard>1</Number of Siblings/Spouses Aboard><Number of Parents/Children Aboard>0</Number of Parents/Children Aboard><Ticket Number>PC 17572</Ticket Number><Fare>76.7292</Fare><Cabin>D33</Cabin><Port of Embarkation>C</Port of Embarkation></row>\n",
      "<row><Passenger ID>647</Passenger ID><Survival (1: Survived, 0: Died)>0</Survival (1: Survived, 0: Died)><Passenger Class>3</Passenger Class><Name>Cor, Mr. Liudevit</Name><Sex>male</Sex><Age>19</Age><Number of Siblings/Spouses Aboard>0</Number of Siblings/Spouses Aboard><Number of Parents/Children Aboard>0</Number of Parents/Children Aboard><Ticket Number>349231</Ticket Number><Fare>7.8958</Fare><Cabin></Cabin><Port of Embarkation>S</Port of Embarkation></row>\n",
      "<row><Passenger ID>648</Passenger ID><Survival (1: Survived, 0: Died)>1</Survival (1: Survived, 0: Died)><Passenger Class>1</Passenger Class><Name>Simonius-Blumer, Col. Oberst Alfons</Name><Sex>male</Sex><Age>56</Age><Number of Siblings/Spouses Aboard>0</Number of Siblings/Spouses Aboard><Number of Parents/Children Aboard>0</Number of Parents/Children Aboard><Ticket Number>13213</Ticket Number><Fare>35.5</Fare><Cabin>A26</Cabin><Port of Embarkation>C</Port of Embarkation></row>\n",
      "<row><Passenger ID>649</Passenger ID><Survival (1: Survived, 0: Died)>0</Survival (1: Survived, 0: Died)><Passenger Class>3</Passenger Class><Name>Willey, Mr. Edward</Name><Sex>male</Sex><Age></Age><Number of Siblings/Spouses Aboard>0</Number of Siblings/Spouses Aboard><Number of Parents/Children Aboard>0</Number of Parents/Children Aboard><Ticket Number>S.O./P.P. 751</Ticket Number><Fare>7.55</Fare><Cabin></Cabin><Port of Embarkation>S</Port of Embarkation></row>\n",
      "<row><Passenger ID>650</Passenger ID><Survival (1: Survived, 0: Died)>1</Survival (1: Survived, 0: Died)><Passenger Class>3</Passenger Class><Name>Stanley, Miss. Amy Zillah Elsie</Name><Sex>female</Sex><Age>23</Age><Number of Siblings/Spouses Aboard>0</Number of Siblings/Spouses Aboard><Number of Parents/Children Aboard>0</Number of Parents/Children Aboard><Ticket Number>CA. 2314</Ticket Number><Fare>7.55</Fare><Cabin></Cabin><Port of Embarkation>S</Port of Embarkation></row>\n",
      "<row><Passenger ID>651</Passenger ID><Survival (1: Survived, 0: Died)>0</Survival (1: Survived, 0: Died)><Passenger Class>3</Passenger Class><Name>Mitkoff, Mr. Mito</Name><Sex>male</Sex><Age></Age><Number of Siblings/Spouses Aboard>0</Number of Siblings/Spouses Aboard><Number of Parents/Children Aboard>0</Number of Parents/Children Aboard><Ticket Number>349221</Ticket Number><Fare>7.8958</Fare><Cabin></Cabin><Port of Embarkation>S</Port of Embarkation></row>\n",
      "<row><Passenger ID>652</Passenger ID><Survival (1: Survived, 0: Died)>1</Survival (1: Survived, 0: Died)><Passenger Class>2</Passenger Class><Name>Doling, Miss. Elsie</Name><Sex>female</Sex><Age>18</Age><Number of Siblings/Spouses Aboard>0</Number of Siblings/Spouses Aboard><Number of Parents/Children Aboard>1</Number of Parents/Children Aboard><Ticket Number>231919</Ticket Number><Fare>23</Fare><Cabin></Cabin><Port of Embarkation>S</Port of Embarkation></row>\n",
      "<row><Passenger ID>653</Passenger ID><Survival (1: Survived, 0: Died)>0</Survival (1: Survived, 0: Died)><Passenger Class>3</Passenger Class><Name>Kalvik, Mr. Johannes Halvorsen</Name><Sex>male</Sex><Age>21</Age><Number of Siblings/Spouses Aboard>0</Number of Siblings/Spouses Aboard><Number of Parents/Children Aboard>0</Number of Parents/Children Aboard><Ticket Number>8475</Ticket Number><Fare>8.4333</Fare><Cabin></Cabin><Port of Embarkation>S</Port of Embarkation></row>\n",
      "<row><Passenger ID>654</Passenger ID><Survival (1: Survived, 0: Died)>1</Survival (1: Survived, 0: Died)><Passenger Class>3</Passenger Class><Name>O'Leary, Miss. Hanora \"Norah\"</Name><Sex>female</Sex><Age></Age><Number of Siblings/Spouses Aboard>0</Number of Siblings/Spouses Aboard><Number of Parents/Children Aboard>0</Number of Parents/Children Aboard><Ticket Number>330919</Ticket Number><Fare>7.8292</Fare><Cabin></Cabin><Port of Embarkation>Q</Port of Embarkation></row>\n",
      "<row><Passenger ID>655</Passenger ID><Survival (1: Survived, 0: Died)>0</Survival (1: Survived, 0: Died)><Passenger Class>3</Passenger Class><Name>Hegarty, Miss. Hanora \"Nora\"</Name><Sex>female</Sex><Age>18</Age><Number of Siblings/Spouses Aboard>0</Number of Siblings/Spouses Aboard><Number of Parents/Children Aboard>0</Number of Parents/Children Aboard><Ticket Number>365226</Ticket Number><Fare>6.75</Fare><Cabin></Cabin><Port of Embarkation>Q</Port of Embarkation></row>\n",
      "<row><Passenger ID>656</Passenger ID><Survival (1: Survived, 0: Died)>0</Survival (1: Survived, 0: Died)><Passenger Class>2</Passenger Class><Name>Hickman, Mr. Leonard Mark</Name><Sex>male</Sex><Age>24</Age><Number of Siblings/Spouses Aboard>2</Number of Siblings/Spouses Aboard><Number of Parents/Children Aboard>0</Number of Parents/Children Aboard><Ticket Number>S.O.C. 14879</Ticket Number><Fare>73.5</Fare><Cabin></Cabin><Port of Embarkation>S</Port of Embarkation></row>\n",
      "<row><Passenger ID>657</Passenger ID><Survival (1: Survived, 0: Died)>0</Survival (1: Survived, 0: Died)><Passenger Class>3</Passenger Class><Name>Radeff, Mr. Alexander</Name><Sex>male</Sex><Age></Age><Number of Siblings/Spouses Aboard>0</Number of Siblings/Spouses Aboard><Number of Parents/Children Aboard>0</Number of Parents/Children Aboard><Ticket Number>349223</Ticket Number><Fare>7.8958</Fare><Cabin></Cabin><Port of Embarkation>S</Port of Embarkation></row>\n",
      "<row><Passenger ID>658</Passenger ID><Survival (1: Survived, 0: Died)>0</Survival (1: Survived, 0: Died)><Passenger Class>3</Passenger Class><Name>Bourke, Mrs. John (Catherine)</Name><Sex>female</Sex><Age>32</Age><Number of Siblings/Spouses Aboard>1</Number of Siblings/Spouses Aboard><Number of Parents/Children Aboard>1</Number of Parents/Children Aboard><Ticket Number>364849</Ticket Number><Fare>15.5</Fare><Cabin></Cabin><Port of Embarkation>Q</Port of Embarkation></row>\n",
      "<row><Passenger ID>659</Passenger ID><Survival (1: Survived, 0: Died)>0</Survival (1: Survived, 0: Died)><Passenger Class>2</Passenger Class><Name>Eitemiller, Mr. George Floyd</Name><Sex>male</Sex><Age>23</Age><Number of Siblings/Spouses Aboard>0</Number of Siblings/Spouses Aboard><Number of Parents/Children Aboard>0</Number of Parents/Children Aboard><Ticket Number>29751</Ticket Number><Fare>13</Fare><Cabin></Cabin><Port of Embarkation>S</Port of Embarkation></row>\n",
      "<row><Passenger ID>660</Passenger ID><Survival (1: Survived, 0: Died)>0</Survival (1: Survived, 0: Died)><Passenger Class>1</Passenger Class><Name>Newell, Mr. Arthur Webster</Name><Sex>male</Sex><Age>58</Age><Number of Siblings/Spouses Aboard>0</Number of Siblings/Spouses Aboard><Number of Parents/Children Aboard>2</Number of Parents/Children Aboard><Ticket Number>35273</Ticket Number><Fare>113.275</Fare><Cabin>D48</Cabin><Port of Embarkation>C</Port of Embarkation></row>\n",
      "<row><Passenger ID>661</Passenger ID><Survival (1: Survived, 0: Died)>1</Survival (1: Survived, 0: Died)><Passenger Class>1</Passenger Class><Name>Frauenthal, Dr. Henry William</Name><Sex>male</Sex><Age>50</Age><Number of Siblings/Spouses Aboard>2</Number of Siblings/Spouses Aboard><Number of Parents/Children Aboard>0</Number of Parents/Children Aboard><Ticket Number>PC 17611</Ticket Number><Fare>133.65</Fare><Cabin></Cabin><Port of Embarkation>S</Port of Embarkation></row>\n",
      "<row><Passenger ID>662</Passenger ID><Survival (1: Survived, 0: Died)>0</Survival (1: Survived, 0: Died)><Passenger Class>3</Passenger Class><Name>Badt, Mr. Mohamed</Name><Sex>male</Sex><Age>40</Age><Number of Siblings/Spouses Aboard>0</Number of Siblings/Spouses Aboard><Number of Parents/Children Aboard>0</Number of Parents/Children Aboard><Ticket Number>2623</Ticket Number><Fare>7.225</Fare><Cabin></Cabin><Port of Embarkation>C</Port of Embarkation></row>\n",
      "<row><Passenger ID>663</Passenger ID><Survival (1: Survived, 0: Died)>0</Survival (1: Survived, 0: Died)><Passenger Class>1</Passenger Class><Name>Colley, Mr. Edward Pomeroy</Name><Sex>male</Sex><Age>47</Age><Number of Siblings/Spouses Aboard>0</Number of Siblings/Spouses Aboard><Number of Parents/Children Aboard>0</Number of Parents/Children Aboard><Ticket Number>5727</Ticket Number><Fare>25.5875</Fare><Cabin>E58</Cabin><Port of Embarkation>S</Port of Embarkation></row>\n",
      "<row><Passenger ID>664</Passenger ID><Survival (1: Survived, 0: Died)>0</Survival (1: Survived, 0: Died)><Passenger Class>3</Passenger Class><Name>Coleff, Mr. Peju</Name><Sex>male</Sex><Age>36</Age><Number of Siblings/Spouses Aboard>0</Number of Siblings/Spouses Aboard><Number of Parents/Children Aboard>0</Number of Parents/Children Aboard><Ticket Number>349210</Ticket Number><Fare>7.4958</Fare><Cabin></Cabin><Port of Embarkation>S</Port of Embarkation></row>\n",
      "<row><Passenger ID>665</Passenger ID><Survival (1: Survived, 0: Died)>1</Survival (1: Survived, 0: Died)><Passenger Class>3</Passenger Class><Name>Lindqvist, Mr. Eino William</Name><Sex>male</Sex><Age>20</Age><Number of Siblings/Spouses Aboard>1</Number of Siblings/Spouses Aboard><Number of Parents/Children Aboard>0</Number of Parents/Children Aboard><Ticket Number>STON/O 2. 3101285</Ticket Number><Fare>7.925</Fare><Cabin></Cabin><Port of Embarkation>S</Port of Embarkation></row>\n",
      "<row><Passenger ID>666</Passenger ID><Survival (1: Survived, 0: Died)>0</Survival (1: Survived, 0: Died)><Passenger Class>2</Passenger Class><Name>Hickman, Mr. Lewis</Name><Sex>male</Sex><Age>32</Age><Number of Siblings/Spouses Aboard>2</Number of Siblings/Spouses Aboard><Number of Parents/Children Aboard>0</Number of Parents/Children Aboard><Ticket Number>S.O.C. 14879</Ticket Number><Fare>73.5</Fare><Cabin></Cabin><Port of Embarkation>S</Port of Embarkation></row>\n",
      "<row><Passenger ID>667</Passenger ID><Survival (1: Survived, 0: Died)>0</Survival (1: Survived, 0: Died)><Passenger Class>2</Passenger Class><Name>Butler, Mr. Reginald Fenton</Name><Sex>male</Sex><Age>25</Age><Number of Siblings/Spouses Aboard>0</Number of Siblings/Spouses Aboard><Number of Parents/Children Aboard>0</Number of Parents/Children Aboard><Ticket Number>234686</Ticket Number><Fare>13</Fare><Cabin></Cabin><Port of Embarkation>S</Port of Embarkation></row>\n",
      "<row><Passenger ID>668</Passenger ID><Survival (1: Survived, 0: Died)>0</Survival (1: Survived, 0: Died)><Passenger Class>3</Passenger Class><Name>Rommetvedt, Mr. Knud Paust</Name><Sex>male</Sex><Age></Age><Number of Siblings/Spouses Aboard>0</Number of Siblings/Spouses Aboard><Number of Parents/Children Aboard>0</Number of Parents/Children Aboard><Ticket Number>312993</Ticket Number><Fare>7.775</Fare><Cabin></Cabin><Port of Embarkation>S</Port of Embarkation></row>\n",
      "<row><Passenger ID>669</Passenger ID><Survival (1: Survived, 0: Died)>0</Survival (1: Survived, 0: Died)><Passenger Class>3</Passenger Class><Name>Cook, Mr. Jacob</Name><Sex>male</Sex><Age>43</Age><Number of Siblings/Spouses Aboard>0</Number of Siblings/Spouses Aboard><Number of Parents/Children Aboard>0</Number of Parents/Children Aboard><Ticket Number>A/5 3536</Ticket Number><Fare>8.05</Fare><Cabin></Cabin><Port of Embarkation>S</Port of Embarkation></row>\n",
      "<row><Passenger ID>670</Passenger ID><Survival (1: Survived, 0: Died)>1</Survival (1: Survived, 0: Died)><Passenger Class>1</Passenger Class><Name>Taylor, Mrs. Elmer Zebley (Juliet Cummins Wright)</Name><Sex>female</Sex><Age></Age><Number of Siblings/Spouses Aboard>1</Number of Siblings/Spouses Aboard><Number of Parents/Children Aboard>0</Number of Parents/Children Aboard><Ticket Number>19996</Ticket Number><Fare>52</Fare><Cabin>C126</Cabin><Port of Embarkation>S</Port of Embarkation></row>\n",
      "<row><Passenger ID>671</Passenger ID><Survival (1: Survived, 0: Died)>1</Survival (1: Survived, 0: Died)><Passenger Class>2</Passenger Class><Name>Brown, Mrs. Thomas William Solomon (Elizabeth Catherine Ford)</Name><Sex>female</Sex><Age>40</Age><Number of Siblings/Spouses Aboard>1</Number of Siblings/Spouses Aboard><Number of Parents/Children Aboard>1</Number of Parents/Children Aboard><Ticket Number>29750</Ticket Number><Fare>39</Fare><Cabin></Cabin><Port of Embarkation>S</Port of Embarkation></row>\n",
      "<row><Passenger ID>672</Passenger ID><Survival (1: Survived, 0: Died)>0</Survival (1: Survived, 0: Died)><Passenger Class>1</Passenger Class><Name>Davidson, Mr. Thornton</Name><Sex>male</Sex><Age>31</Age><Number of Siblings/Spouses Aboard>1</Number of Siblings/Spouses Aboard><Number of Parents/Children Aboard>0</Number of Parents/Children Aboard><Ticket Number>F.C. 12750</Ticket Number><Fare>52</Fare><Cabin>B71</Cabin><Port of Embarkation>S</Port of Embarkation></row>\n",
      "<row><Passenger ID>673</Passenger ID><Survival (1: Survived, 0: Died)>0</Survival (1: Survived, 0: Died)><Passenger Class>2</Passenger Class><Name>Mitchell, Mr. Henry Michael</Name><Sex>male</Sex><Age>70</Age><Number of Siblings/Spouses Aboard>0</Number of Siblings/Spouses Aboard><Number of Parents/Children Aboard>0</Number of Parents/Children Aboard><Ticket Number>C.A. 24580</Ticket Number><Fare>10.5</Fare><Cabin></Cabin><Port of Embarkation>S</Port of Embarkation></row>\n",
      "<row><Passenger ID>674</Passenger ID><Survival (1: Survived, 0: Died)>1</Survival (1: Survived, 0: Died)><Passenger Class>2</Passenger Class><Name>Wilhelms, Mr. Charles</Name><Sex>male</Sex><Age>31</Age><Number of Siblings/Spouses Aboard>0</Number of Siblings/Spouses Aboard><Number of Parents/Children Aboard>0</Number of Parents/Children Aboard><Ticket Number>244270</Ticket Number><Fare>13</Fare><Cabin></Cabin><Port of Embarkation>S</Port of Embarkation></row>\n",
      "<row><Passenger ID>675</Passenger ID><Survival (1: Survived, 0: Died)>0</Survival (1: Survived, 0: Died)><Passenger Class>2</Passenger Class><Name>Watson, Mr. Ennis Hastings</Name><Sex>male</Sex><Age></Age><Number of Siblings/Spouses Aboard>0</Number of Siblings/Spouses Aboard><Number of Parents/Children Aboard>0</Number of Parents/Children Aboard><Ticket Number>239856</Ticket Number><Fare>0</Fare><Cabin></Cabin><Port of Embarkation>S</Port of Embarkation></row>\n",
      "<row><Passenger ID>676</Passenger ID><Survival (1: Survived, 0: Died)>0</Survival (1: Survived, 0: Died)><Passenger Class>3</Passenger Class><Name>Edvardsson, Mr. Gustaf Hjalmar</Name><Sex>male</Sex><Age>18</Age><Number of Siblings/Spouses Aboard>0</Number of Siblings/Spouses Aboard><Number of Parents/Children Aboard>0</Number of Parents/Children Aboard><Ticket Number>349912</Ticket Number><Fare>7.775</Fare><Cabin></Cabin><Port of Embarkation>S</Port of Embarkation></row>\n",
      "<row><Passenger ID>677</Passenger ID><Survival (1: Survived, 0: Died)>0</Survival (1: Survived, 0: Died)><Passenger Class>3</Passenger Class><Name>Sawyer, Mr. Frederick Charles</Name><Sex>male</Sex><Age>24.5</Age><Number of Siblings/Spouses Aboard>0</Number of Siblings/Spouses Aboard><Number of Parents/Children Aboard>0</Number of Parents/Children Aboard><Ticket Number>342826</Ticket Number><Fare>8.05</Fare><Cabin></Cabin><Port of Embarkation>S</Port of Embarkation></row>\n",
      "<row><Passenger ID>678</Passenger ID><Survival (1: Survived, 0: Died)>1</Survival (1: Survived, 0: Died)><Passenger Class>3</Passenger Class><Name>Turja, Miss. Anna Sofia</Name><Sex>female</Sex><Age>18</Age><Number of Siblings/Spouses Aboard>0</Number of Siblings/Spouses Aboard><Number of Parents/Children Aboard>0</Number of Parents/Children Aboard><Ticket Number>4138</Ticket Number><Fare>9.8417</Fare><Cabin></Cabin><Port of Embarkation>S</Port of Embarkation></row>\n",
      "<row><Passenger ID>679</Passenger ID><Survival (1: Survived, 0: Died)>0</Survival (1: Survived, 0: Died)><Passenger Class>3</Passenger Class><Name>Goodwin, Mrs. Frederick (Augusta Tyler)</Name><Sex>female</Sex><Age>43</Age><Number of Siblings/Spouses Aboard>1</Number of Siblings/Spouses Aboard><Number of Parents/Children Aboard>6</Number of Parents/Children Aboard><Ticket Number>CA 2144</Ticket Number><Fare>46.9</Fare><Cabin></Cabin><Port of Embarkation>S</Port of Embarkation></row>\n",
      "<row><Passenger ID>680</Passenger ID><Survival (1: Survived, 0: Died)>1</Survival (1: Survived, 0: Died)><Passenger Class>1</Passenger Class><Name>Cardeza, Mr. Thomas Drake Martinez</Name><Sex>male</Sex><Age>36</Age><Number of Siblings/Spouses Aboard>0</Number of Siblings/Spouses Aboard><Number of Parents/Children Aboard>1</Number of Parents/Children Aboard><Ticket Number>PC 17755</Ticket Number><Fare>512.3292</Fare><Cabin>B51 B53 B55</Cabin><Port of Embarkation>C</Port of Embarkation></row>\n",
      "<row><Passenger ID>681</Passenger ID><Survival (1: Survived, 0: Died)>0</Survival (1: Survived, 0: Died)><Passenger Class>3</Passenger Class><Name>Peters, Miss. Katie</Name><Sex>female</Sex><Age></Age><Number of Siblings/Spouses Aboard>0</Number of Siblings/Spouses Aboard><Number of Parents/Children Aboard>0</Number of Parents/Children Aboard><Ticket Number>330935</Ticket Number><Fare>8.1375</Fare><Cabin></Cabin><Port of Embarkation>Q</Port of Embarkation></row>\n",
      "<row><Passenger ID>682</Passenger ID><Survival (1: Survived, 0: Died)>1</Survival (1: Survived, 0: Died)><Passenger Class>1</Passenger Class><Name>Hassab, Mr. Hammad</Name><Sex>male</Sex><Age>27</Age><Number of Siblings/Spouses Aboard>0</Number of Siblings/Spouses Aboard><Number of Parents/Children Aboard>0</Number of Parents/Children Aboard><Ticket Number>PC 17572</Ticket Number><Fare>76.7292</Fare><Cabin>D49</Cabin><Port of Embarkation>C</Port of Embarkation></row>\n",
      "<row><Passenger ID>683</Passenger ID><Survival (1: Survived, 0: Died)>0</Survival (1: Survived, 0: Died)><Passenger Class>3</Passenger Class><Name>Olsvigen, Mr. Thor Anderson</Name><Sex>male</Sex><Age>20</Age><Number of Siblings/Spouses Aboard>0</Number of Siblings/Spouses Aboard><Number of Parents/Children Aboard>0</Number of Parents/Children Aboard><Ticket Number>6563</Ticket Number><Fare>9.225</Fare><Cabin></Cabin><Port of Embarkation>S</Port of Embarkation></row>\n",
      "<row><Passenger ID>684</Passenger ID><Survival (1: Survived, 0: Died)>0</Survival (1: Survived, 0: Died)><Passenger Class>3</Passenger Class><Name>Goodwin, Mr. Charles Edward</Name><Sex>male</Sex><Age>14</Age><Number of Siblings/Spouses Aboard>5</Number of Siblings/Spouses Aboard><Number of Parents/Children Aboard>2</Number of Parents/Children Aboard><Ticket Number>CA 2144</Ticket Number><Fare>46.9</Fare><Cabin></Cabin><Port of Embarkation>S</Port of Embarkation></row>\n",
      "<row><Passenger ID>685</Passenger ID><Survival (1: Survived, 0: Died)>0</Survival (1: Survived, 0: Died)><Passenger Class>2</Passenger Class><Name>Brown, Mr. Thomas William Solomon</Name><Sex>male</Sex><Age>60</Age><Number of Siblings/Spouses Aboard>1</Number of Siblings/Spouses Aboard><Number of Parents/Children Aboard>1</Number of Parents/Children Aboard><Ticket Number>29750</Ticket Number><Fare>39</Fare><Cabin></Cabin><Port of Embarkation>S</Port of Embarkation></row>\n",
      "<row><Passenger ID>686</Passenger ID><Survival (1: Survived, 0: Died)>0</Survival (1: Survived, 0: Died)><Passenger Class>2</Passenger Class><Name>Laroche, Mr. Joseph Philippe Lemercier</Name><Sex>male</Sex><Age>25</Age><Number of Siblings/Spouses Aboard>1</Number of Siblings/Spouses Aboard><Number of Parents/Children Aboard>2</Number of Parents/Children Aboard><Ticket Number>SC/Paris 2123</Ticket Number><Fare>41.5792</Fare><Cabin></Cabin><Port of Embarkation>C</Port of Embarkation></row>\n",
      "<row><Passenger ID>687</Passenger ID><Survival (1: Survived, 0: Died)>0</Survival (1: Survived, 0: Died)><Passenger Class>3</Passenger Class><Name>Panula, Mr. Jaako Arnold</Name><Sex>male</Sex><Age>14</Age><Number of Siblings/Spouses Aboard>4</Number of Siblings/Spouses Aboard><Number of Parents/Children Aboard>1</Number of Parents/Children Aboard><Ticket Number>3101295</Ticket Number><Fare>39.6875</Fare><Cabin></Cabin><Port of Embarkation>S</Port of Embarkation></row>\n",
      "<row><Passenger ID>688</Passenger ID><Survival (1: Survived, 0: Died)>0</Survival (1: Survived, 0: Died)><Passenger Class>3</Passenger Class><Name>Dakic, Mr. Branko</Name><Sex>male</Sex><Age>19</Age><Number of Siblings/Spouses Aboard>0</Number of Siblings/Spouses Aboard><Number of Parents/Children Aboard>0</Number of Parents/Children Aboard><Ticket Number>349228</Ticket Number><Fare>10.1708</Fare><Cabin></Cabin><Port of Embarkation>S</Port of Embarkation></row>\n",
      "<row><Passenger ID>689</Passenger ID><Survival (1: Survived, 0: Died)>0</Survival (1: Survived, 0: Died)><Passenger Class>3</Passenger Class><Name>Fischer, Mr. Eberhard Thelander</Name><Sex>male</Sex><Age>18</Age><Number of Siblings/Spouses Aboard>0</Number of Siblings/Spouses Aboard><Number of Parents/Children Aboard>0</Number of Parents/Children Aboard><Ticket Number>350036</Ticket Number><Fare>7.7958</Fare><Cabin></Cabin><Port of Embarkation>S</Port of Embarkation></row>\n",
      "<row><Passenger ID>690</Passenger ID><Survival (1: Survived, 0: Died)>1</Survival (1: Survived, 0: Died)><Passenger Class>1</Passenger Class><Name>Madill, Miss. Georgette Alexandra</Name><Sex>female</Sex><Age>15</Age><Number of Siblings/Spouses Aboard>0</Number of Siblings/Spouses Aboard><Number of Parents/Children Aboard>1</Number of Parents/Children Aboard><Ticket Number>24160</Ticket Number><Fare>211.3375</Fare><Cabin>B5</Cabin><Port of Embarkation>S</Port of Embarkation></row>\n",
      "<row><Passenger ID>691</Passenger ID><Survival (1: Survived, 0: Died)>1</Survival (1: Survived, 0: Died)><Passenger Class>1</Passenger Class><Name>Dick, Mr. Albert Adrian</Name><Sex>male</Sex><Age>31</Age><Number of Siblings/Spouses Aboard>1</Number of Siblings/Spouses Aboard><Number of Parents/Children Aboard>0</Number of Parents/Children Aboard><Ticket Number>17474</Ticket Number><Fare>57</Fare><Cabin>B20</Cabin><Port of Embarkation>S</Port of Embarkation></row>\n",
      "<row><Passenger ID>692</Passenger ID><Survival (1: Survived, 0: Died)>1</Survival (1: Survived, 0: Died)><Passenger Class>3</Passenger Class><Name>Karun, Miss. Manca</Name><Sex>female</Sex><Age>4</Age><Number of Siblings/Spouses Aboard>0</Number of Siblings/Spouses Aboard><Number of Parents/Children Aboard>1</Number of Parents/Children Aboard><Ticket Number>349256</Ticket Number><Fare>13.4167</Fare><Cabin></Cabin><Port of Embarkation>C</Port of Embarkation></row>\n",
      "<row><Passenger ID>693</Passenger ID><Survival (1: Survived, 0: Died)>1</Survival (1: Survived, 0: Died)><Passenger Class>3</Passenger Class><Name>Lam, Mr. Ali</Name><Sex>male</Sex><Age></Age><Number of Siblings/Spouses Aboard>0</Number of Siblings/Spouses Aboard><Number of Parents/Children Aboard>0</Number of Parents/Children Aboard><Ticket Number>1601</Ticket Number><Fare>56.4958</Fare><Cabin></Cabin><Port of Embarkation>S</Port of Embarkation></row>\n",
      "<row><Passenger ID>694</Passenger ID><Survival (1: Survived, 0: Died)>0</Survival (1: Survived, 0: Died)><Passenger Class>3</Passenger Class><Name>Saad, Mr. Khalil</Name><Sex>male</Sex><Age>25</Age><Number of Siblings/Spouses Aboard>0</Number of Siblings/Spouses Aboard><Number of Parents/Children Aboard>0</Number of Parents/Children Aboard><Ticket Number>2672</Ticket Number><Fare>7.225</Fare><Cabin></Cabin><Port of Embarkation>C</Port of Embarkation></row>\n",
      "<row><Passenger ID>695</Passenger ID><Survival (1: Survived, 0: Died)>0</Survival (1: Survived, 0: Died)><Passenger Class>1</Passenger Class><Name>Weir, Col. John</Name><Sex>male</Sex><Age>60</Age><Number of Siblings/Spouses Aboard>0</Number of Siblings/Spouses Aboard><Number of Parents/Children Aboard>0</Number of Parents/Children Aboard><Ticket Number>113800</Ticket Number><Fare>26.55</Fare><Cabin></Cabin><Port of Embarkation>S</Port of Embarkation></row>\n",
      "<row><Passenger ID>696</Passenger ID><Survival (1: Survived, 0: Died)>0</Survival (1: Survived, 0: Died)><Passenger Class>2</Passenger Class><Name>Chapman, Mr. Charles Henry</Name><Sex>male</Sex><Age>52</Age><Number of Siblings/Spouses Aboard>0</Number of Siblings/Spouses Aboard><Number of Parents/Children Aboard>0</Number of Parents/Children Aboard><Ticket Number>248731</Ticket Number><Fare>13.5</Fare><Cabin></Cabin><Port of Embarkation>S</Port of Embarkation></row>\n",
      "<row><Passenger ID>697</Passenger ID><Survival (1: Survived, 0: Died)>0</Survival (1: Survived, 0: Died)><Passenger Class>3</Passenger Class><Name>Kelly, Mr. James</Name><Sex>male</Sex><Age>44</Age><Number of Siblings/Spouses Aboard>0</Number of Siblings/Spouses Aboard><Number of Parents/Children Aboard>0</Number of Parents/Children Aboard><Ticket Number>363592</Ticket Number><Fare>8.05</Fare><Cabin></Cabin><Port of Embarkation>S</Port of Embarkation></row>\n",
      "<row><Passenger ID>698</Passenger ID><Survival (1: Survived, 0: Died)>1</Survival (1: Survived, 0: Died)><Passenger Class>3</Passenger Class><Name>Mullens, Miss. Katherine \"Katie\"</Name><Sex>female</Sex><Age></Age><Number of Siblings/Spouses Aboard>0</Number of Siblings/Spouses Aboard><Number of Parents/Children Aboard>0</Number of Parents/Children Aboard><Ticket Number>35852</Ticket Number><Fare>7.7333</Fare><Cabin></Cabin><Port of Embarkation>Q</Port of Embarkation></row>\n",
      "<row><Passenger ID>699</Passenger ID><Survival (1: Survived, 0: Died)>0</Survival (1: Survived, 0: Died)><Passenger Class>1</Passenger Class><Name>Thayer, Mr. John Borland</Name><Sex>male</Sex><Age>49</Age><Number of Siblings/Spouses Aboard>1</Number of Siblings/Spouses Aboard><Number of Parents/Children Aboard>1</Number of Parents/Children Aboard><Ticket Number>17421</Ticket Number><Fare>110.8833</Fare><Cabin>C68</Cabin><Port of Embarkation>C</Port of Embarkation></row>\n",
      "<row><Passenger ID>700</Passenger ID><Survival (1: Survived, 0: Died)>0</Survival (1: Survived, 0: Died)><Passenger Class>3</Passenger Class><Name>Humblen, Mr. Adolf Mathias Nicolai Olsen</Name><Sex>male</Sex><Age>42</Age><Number of Siblings/Spouses Aboard>0</Number of Siblings/Spouses Aboard><Number of Parents/Children Aboard>0</Number of Parents/Children Aboard><Ticket Number>348121</Ticket Number><Fare>7.65</Fare><Cabin>F G63</Cabin><Port of Embarkation>S</Port of Embarkation></row>\n",
      "<row><Passenger ID>701</Passenger ID><Survival (1: Survived, 0: Died)>1</Survival (1: Survived, 0: Died)><Passenger Class>1</Passenger Class><Name>Astor, Mrs. John Jacob (Madeleine Talmadge Force)</Name><Sex>female</Sex><Age>18</Age><Number of Siblings/Spouses Aboard>1</Number of Siblings/Spouses Aboard><Number of Parents/Children Aboard>0</Number of Parents/Children Aboard><Ticket Number>PC 17757</Ticket Number><Fare>227.525</Fare><Cabin>C62 C64</Cabin><Port of Embarkation>C</Port of Embarkation></row>\n",
      "<row><Passenger ID>702</Passenger ID><Survival (1: Survived, 0: Died)>1</Survival (1: Survived, 0: Died)><Passenger Class>1</Passenger Class><Name>Silverthorne, Mr. Spencer Victor</Name><Sex>male</Sex><Age>35</Age><Number of Siblings/Spouses Aboard>0</Number of Siblings/Spouses Aboard><Number of Parents/Children Aboard>0</Number of Parents/Children Aboard><Ticket Number>PC 17475</Ticket Number><Fare>26.2875</Fare><Cabin>E24</Cabin><Port of Embarkation>S</Port of Embarkation></row>\n",
      "<row><Passenger ID>703</Passenger ID><Survival (1: Survived, 0: Died)>0</Survival (1: Survived, 0: Died)><Passenger Class>3</Passenger Class><Name>Barbara, Miss. Saiide</Name><Sex>female</Sex><Age>18</Age><Number of Siblings/Spouses Aboard>0</Number of Siblings/Spouses Aboard><Number of Parents/Children Aboard>1</Number of Parents/Children Aboard><Ticket Number>2691</Ticket Number><Fare>14.4542</Fare><Cabin></Cabin><Port of Embarkation>C</Port of Embarkation></row>\n",
      "<row><Passenger ID>704</Passenger ID><Survival (1: Survived, 0: Died)>0</Survival (1: Survived, 0: Died)><Passenger Class>3</Passenger Class><Name>Gallagher, Mr. Martin</Name><Sex>male</Sex><Age>25</Age><Number of Siblings/Spouses Aboard>0</Number of Siblings/Spouses Aboard><Number of Parents/Children Aboard>0</Number of Parents/Children Aboard><Ticket Number>36864</Ticket Number><Fare>7.7417</Fare><Cabin></Cabin><Port of Embarkation>Q</Port of Embarkation></row>\n",
      "<row><Passenger ID>705</Passenger ID><Survival (1: Survived, 0: Died)>0</Survival (1: Survived, 0: Died)><Passenger Class>3</Passenger Class><Name>Hansen, Mr. Henrik Juul</Name><Sex>male</Sex><Age>26</Age><Number of Siblings/Spouses Aboard>1</Number of Siblings/Spouses Aboard><Number of Parents/Children Aboard>0</Number of Parents/Children Aboard><Ticket Number>350025</Ticket Number><Fare>7.8542</Fare><Cabin></Cabin><Port of Embarkation>S</Port of Embarkation></row>\n",
      "<row><Passenger ID>706</Passenger ID><Survival (1: Survived, 0: Died)>0</Survival (1: Survived, 0: Died)><Passenger Class>2</Passenger Class><Name>Morley, Mr. Henry Samuel (\"Mr Henry Marshall\")</Name><Sex>male</Sex><Age>39</Age><Number of Siblings/Spouses Aboard>0</Number of Siblings/Spouses Aboard><Number of Parents/Children Aboard>0</Number of Parents/Children Aboard><Ticket Number>250655</Ticket Number><Fare>26</Fare><Cabin></Cabin><Port of Embarkation>S</Port of Embarkation></row>\n",
      "<row><Passenger ID>707</Passenger ID><Survival (1: Survived, 0: Died)>1</Survival (1: Survived, 0: Died)><Passenger Class>2</Passenger Class><Name>Kelly, Mrs. Florence \"Fannie\"</Name><Sex>female</Sex><Age>45</Age><Number of Siblings/Spouses Aboard>0</Number of Siblings/Spouses Aboard><Number of Parents/Children Aboard>0</Number of Parents/Children Aboard><Ticket Number>223596</Ticket Number><Fare>13.5</Fare><Cabin></Cabin><Port of Embarkation>S</Port of Embarkation></row>\n",
      "<row><Passenger ID>708</Passenger ID><Survival (1: Survived, 0: Died)>1</Survival (1: Survived, 0: Died)><Passenger Class>1</Passenger Class><Name>Calderhead, Mr. Edward Pennington</Name><Sex>male</Sex><Age>42</Age><Number of Siblings/Spouses Aboard>0</Number of Siblings/Spouses Aboard><Number of Parents/Children Aboard>0</Number of Parents/Children Aboard><Ticket Number>PC 17476</Ticket Number><Fare>26.2875</Fare><Cabin>E24</Cabin><Port of Embarkation>S</Port of Embarkation></row>\n",
      "<row><Passenger ID>709</Passenger ID><Survival (1: Survived, 0: Died)>1</Survival (1: Survived, 0: Died)><Passenger Class>1</Passenger Class><Name>Cleaver, Miss. Alice</Name><Sex>female</Sex><Age>22</Age><Number of Siblings/Spouses Aboard>0</Number of Siblings/Spouses Aboard><Number of Parents/Children Aboard>0</Number of Parents/Children Aboard><Ticket Number>113781</Ticket Number><Fare>151.55</Fare><Cabin></Cabin><Port of Embarkation>S</Port of Embarkation></row>\n",
      "<row><Passenger ID>710</Passenger ID><Survival (1: Survived, 0: Died)>1</Survival (1: Survived, 0: Died)><Passenger Class>3</Passenger Class><Name>Moubarek, Master. Halim Gonios (\"William George\")</Name><Sex>male</Sex><Age></Age><Number of Siblings/Spouses Aboard>1</Number of Siblings/Spouses Aboard><Number of Parents/Children Aboard>1</Number of Parents/Children Aboard><Ticket Number>2661</Ticket Number><Fare>15.2458</Fare><Cabin></Cabin><Port of Embarkation>C</Port of Embarkation></row>\n",
      "<row><Passenger ID>711</Passenger ID><Survival (1: Survived, 0: Died)>1</Survival (1: Survived, 0: Died)><Passenger Class>1</Passenger Class><Name>Mayne, Mlle. Berthe Antonine (\"Mrs de Villiers\")</Name><Sex>female</Sex><Age>24</Age><Number of Siblings/Spouses Aboard>0</Number of Siblings/Spouses Aboard><Number of Parents/Children Aboard>0</Number of Parents/Children Aboard><Ticket Number>PC 17482</Ticket Number><Fare>49.5042</Fare><Cabin>C90</Cabin><Port of Embarkation>C</Port of Embarkation></row>\n",
      "<row><Passenger ID>712</Passenger ID><Survival (1: Survived, 0: Died)>0</Survival (1: Survived, 0: Died)><Passenger Class>1</Passenger Class><Name>Klaber, Mr. Herman</Name><Sex>male</Sex><Age></Age><Number of Siblings/Spouses Aboard>0</Number of Siblings/Spouses Aboard><Number of Parents/Children Aboard>0</Number of Parents/Children Aboard><Ticket Number>113028</Ticket Number><Fare>26.55</Fare><Cabin>C124</Cabin><Port of Embarkation>S</Port of Embarkation></row>\n",
      "<row><Passenger ID>713</Passenger ID><Survival (1: Survived, 0: Died)>1</Survival (1: Survived, 0: Died)><Passenger Class>1</Passenger Class><Name>Taylor, Mr. Elmer Zebley</Name><Sex>male</Sex><Age>48</Age><Number of Siblings/Spouses Aboard>1</Number of Siblings/Spouses Aboard><Number of Parents/Children Aboard>0</Number of Parents/Children Aboard><Ticket Number>19996</Ticket Number><Fare>52</Fare><Cabin>C126</Cabin><Port of Embarkation>S</Port of Embarkation></row>\n",
      "<row><Passenger ID>714</Passenger ID><Survival (1: Survived, 0: Died)>0</Survival (1: Survived, 0: Died)><Passenger Class>3</Passenger Class><Name>Larsson, Mr. August Viktor</Name><Sex>male</Sex><Age>29</Age><Number of Siblings/Spouses Aboard>0</Number of Siblings/Spouses Aboard><Number of Parents/Children Aboard>0</Number of Parents/Children Aboard><Ticket Number>7545</Ticket Number><Fare>9.4833</Fare><Cabin></Cabin><Port of Embarkation>S</Port of Embarkation></row>\n",
      "<row><Passenger ID>715</Passenger ID><Survival (1: Survived, 0: Died)>0</Survival (1: Survived, 0: Died)><Passenger Class>2</Passenger Class><Name>Greenberg, Mr. Samuel</Name><Sex>male</Sex><Age>52</Age><Number of Siblings/Spouses Aboard>0</Number of Siblings/Spouses Aboard><Number of Parents/Children Aboard>0</Number of Parents/Children Aboard><Ticket Number>250647</Ticket Number><Fare>13</Fare><Cabin></Cabin><Port of Embarkation>S</Port of Embarkation></row>\n",
      "<row><Passenger ID>716</Passenger ID><Survival (1: Survived, 0: Died)>0</Survival (1: Survived, 0: Died)><Passenger Class>3</Passenger Class><Name>Soholt, Mr. Peter Andreas Lauritz Andersen</Name><Sex>male</Sex><Age>19</Age><Number of Siblings/Spouses Aboard>0</Number of Siblings/Spouses Aboard><Number of Parents/Children Aboard>0</Number of Parents/Children Aboard><Ticket Number>348124</Ticket Number><Fare>7.65</Fare><Cabin>F G73</Cabin><Port of Embarkation>S</Port of Embarkation></row>\n",
      "<row><Passenger ID>717</Passenger ID><Survival (1: Survived, 0: Died)>1</Survival (1: Survived, 0: Died)><Passenger Class>1</Passenger Class><Name>Endres, Miss. Caroline Louise</Name><Sex>female</Sex><Age>38</Age><Number of Siblings/Spouses Aboard>0</Number of Siblings/Spouses Aboard><Number of Parents/Children Aboard>0</Number of Parents/Children Aboard><Ticket Number>PC 17757</Ticket Number><Fare>227.525</Fare><Cabin>C45</Cabin><Port of Embarkation>C</Port of Embarkation></row>\n",
      "<row><Passenger ID>718</Passenger ID><Survival (1: Survived, 0: Died)>1</Survival (1: Survived, 0: Died)><Passenger Class>2</Passenger Class><Name>Troutt, Miss. Edwina Celia \"Winnie\"</Name><Sex>female</Sex><Age>27</Age><Number of Siblings/Spouses Aboard>0</Number of Siblings/Spouses Aboard><Number of Parents/Children Aboard>0</Number of Parents/Children Aboard><Ticket Number>34218</Ticket Number><Fare>10.5</Fare><Cabin>E101</Cabin><Port of Embarkation>S</Port of Embarkation></row>\n",
      "<row><Passenger ID>719</Passenger ID><Survival (1: Survived, 0: Died)>0</Survival (1: Survived, 0: Died)><Passenger Class>3</Passenger Class><Name>McEvoy, Mr. Michael</Name><Sex>male</Sex><Age></Age><Number of Siblings/Spouses Aboard>0</Number of Siblings/Spouses Aboard><Number of Parents/Children Aboard>0</Number of Parents/Children Aboard><Ticket Number>36568</Ticket Number><Fare>15.5</Fare><Cabin></Cabin><Port of Embarkation>Q</Port of Embarkation></row>\n",
      "<row><Passenger ID>720</Passenger ID><Survival (1: Survived, 0: Died)>0</Survival (1: Survived, 0: Died)><Passenger Class>3</Passenger Class><Name>Johnson, Mr. Malkolm Joackim</Name><Sex>male</Sex><Age>33</Age><Number of Siblings/Spouses Aboard>0</Number of Siblings/Spouses Aboard><Number of Parents/Children Aboard>0</Number of Parents/Children Aboard><Ticket Number>347062</Ticket Number><Fare>7.775</Fare><Cabin></Cabin><Port of Embarkation>S</Port of Embarkation></row>\n",
      "<row><Passenger ID>721</Passenger ID><Survival (1: Survived, 0: Died)>1</Survival (1: Survived, 0: Died)><Passenger Class>2</Passenger Class><Name>Harper, Miss. Annie Jessie \"Nina\"</Name><Sex>female</Sex><Age>6</Age><Number of Siblings/Spouses Aboard>0</Number of Siblings/Spouses Aboard><Number of Parents/Children Aboard>1</Number of Parents/Children Aboard><Ticket Number>248727</Ticket Number><Fare>33</Fare><Cabin></Cabin><Port of Embarkation>S</Port of Embarkation></row>\n",
      "<row><Passenger ID>722</Passenger ID><Survival (1: Survived, 0: Died)>0</Survival (1: Survived, 0: Died)><Passenger Class>3</Passenger Class><Name>Jensen, Mr. Svend Lauritz</Name><Sex>male</Sex><Age>17</Age><Number of Siblings/Spouses Aboard>1</Number of Siblings/Spouses Aboard><Number of Parents/Children Aboard>0</Number of Parents/Children Aboard><Ticket Number>350048</Ticket Number><Fare>7.0542</Fare><Cabin></Cabin><Port of Embarkation>S</Port of Embarkation></row>\n",
      "<row><Passenger ID>723</Passenger ID><Survival (1: Survived, 0: Died)>0</Survival (1: Survived, 0: Died)><Passenger Class>2</Passenger Class><Name>Gillespie, Mr. William Henry</Name><Sex>male</Sex><Age>34</Age><Number of Siblings/Spouses Aboard>0</Number of Siblings/Spouses Aboard><Number of Parents/Children Aboard>0</Number of Parents/Children Aboard><Ticket Number>12233</Ticket Number><Fare>13</Fare><Cabin></Cabin><Port of Embarkation>S</Port of Embarkation></row>\n",
      "<row><Passenger ID>724</Passenger ID><Survival (1: Survived, 0: Died)>0</Survival (1: Survived, 0: Died)><Passenger Class>2</Passenger Class><Name>Hodges, Mr. Henry Price</Name><Sex>male</Sex><Age>50</Age><Number of Siblings/Spouses Aboard>0</Number of Siblings/Spouses Aboard><Number of Parents/Children Aboard>0</Number of Parents/Children Aboard><Ticket Number>250643</Ticket Number><Fare>13</Fare><Cabin></Cabin><Port of Embarkation>S</Port of Embarkation></row>\n",
      "<row><Passenger ID>725</Passenger ID><Survival (1: Survived, 0: Died)>1</Survival (1: Survived, 0: Died)><Passenger Class>1</Passenger Class><Name>Chambers, Mr. Norman Campbell</Name><Sex>male</Sex><Age>27</Age><Number of Siblings/Spouses Aboard>1</Number of Siblings/Spouses Aboard><Number of Parents/Children Aboard>0</Number of Parents/Children Aboard><Ticket Number>113806</Ticket Number><Fare>53.1</Fare><Cabin>E8</Cabin><Port of Embarkation>S</Port of Embarkation></row>\n",
      "<row><Passenger ID>726</Passenger ID><Survival (1: Survived, 0: Died)>0</Survival (1: Survived, 0: Died)><Passenger Class>3</Passenger Class><Name>Oreskovic, Mr. Luka</Name><Sex>male</Sex><Age>20</Age><Number of Siblings/Spouses Aboard>0</Number of Siblings/Spouses Aboard><Number of Parents/Children Aboard>0</Number of Parents/Children Aboard><Ticket Number>315094</Ticket Number><Fare>8.6625</Fare><Cabin></Cabin><Port of Embarkation>S</Port of Embarkation></row>\n",
      "<row><Passenger ID>727</Passenger ID><Survival (1: Survived, 0: Died)>1</Survival (1: Survived, 0: Died)><Passenger Class>2</Passenger Class><Name>Renouf, Mrs. Peter Henry (Lillian Jefferys)</Name><Sex>female</Sex><Age>30</Age><Number of Siblings/Spouses Aboard>3</Number of Siblings/Spouses Aboard><Number of Parents/Children Aboard>0</Number of Parents/Children Aboard><Ticket Number>31027</Ticket Number><Fare>21</Fare><Cabin></Cabin><Port of Embarkation>S</Port of Embarkation></row>\n",
      "<row><Passenger ID>728</Passenger ID><Survival (1: Survived, 0: Died)>1</Survival (1: Survived, 0: Died)><Passenger Class>3</Passenger Class><Name>Mannion, Miss. Margareth</Name><Sex>female</Sex><Age></Age><Number of Siblings/Spouses Aboard>0</Number of Siblings/Spouses Aboard><Number of Parents/Children Aboard>0</Number of Parents/Children Aboard><Ticket Number>36866</Ticket Number><Fare>7.7375</Fare><Cabin></Cabin><Port of Embarkation>Q</Port of Embarkation></row>\n",
      "<row><Passenger ID>729</Passenger ID><Survival (1: Survived, 0: Died)>0</Survival (1: Survived, 0: Died)><Passenger Class>2</Passenger Class><Name>Bryhl, Mr. Kurt Arnold Gottfrid</Name><Sex>male</Sex><Age>25</Age><Number of Siblings/Spouses Aboard>1</Number of Siblings/Spouses Aboard><Number of Parents/Children Aboard>0</Number of Parents/Children Aboard><Ticket Number>236853</Ticket Number><Fare>26</Fare><Cabin></Cabin><Port of Embarkation>S</Port of Embarkation></row>\n",
      "<row><Passenger ID>730</Passenger ID><Survival (1: Survived, 0: Died)>0</Survival (1: Survived, 0: Died)><Passenger Class>3</Passenger Class><Name>Ilmakangas, Miss. Pieta Sofia</Name><Sex>female</Sex><Age>25</Age><Number of Siblings/Spouses Aboard>1</Number of Siblings/Spouses Aboard><Number of Parents/Children Aboard>0</Number of Parents/Children Aboard><Ticket Number>STON/O2. 3101271</Ticket Number><Fare>7.925</Fare><Cabin></Cabin><Port of Embarkation>S</Port of Embarkation></row>\n",
      "<row><Passenger ID>731</Passenger ID><Survival (1: Survived, 0: Died)>1</Survival (1: Survived, 0: Died)><Passenger Class>1</Passenger Class><Name>Allen, Miss. Elisabeth Walton</Name><Sex>female</Sex><Age>29</Age><Number of Siblings/Spouses Aboard>0</Number of Siblings/Spouses Aboard><Number of Parents/Children Aboard>0</Number of Parents/Children Aboard><Ticket Number>24160</Ticket Number><Fare>211.3375</Fare><Cabin>B5</Cabin><Port of Embarkation>S</Port of Embarkation></row>\n",
      "<row><Passenger ID>732</Passenger ID><Survival (1: Survived, 0: Died)>0</Survival (1: Survived, 0: Died)><Passenger Class>3</Passenger Class><Name>Hassan, Mr. Houssein G N</Name><Sex>male</Sex><Age>11</Age><Number of Siblings/Spouses Aboard>0</Number of Siblings/Spouses Aboard><Number of Parents/Children Aboard>0</Number of Parents/Children Aboard><Ticket Number>2699</Ticket Number><Fare>18.7875</Fare><Cabin></Cabin><Port of Embarkation>C</Port of Embarkation></row>\n",
      "<row><Passenger ID>733</Passenger ID><Survival (1: Survived, 0: Died)>0</Survival (1: Survived, 0: Died)><Passenger Class>2</Passenger Class><Name>Knight, Mr. Robert J</Name><Sex>male</Sex><Age></Age><Number of Siblings/Spouses Aboard>0</Number of Siblings/Spouses Aboard><Number of Parents/Children Aboard>0</Number of Parents/Children Aboard><Ticket Number>239855</Ticket Number><Fare>0</Fare><Cabin></Cabin><Port of Embarkation>S</Port of Embarkation></row>\n",
      "<row><Passenger ID>734</Passenger ID><Survival (1: Survived, 0: Died)>0</Survival (1: Survived, 0: Died)><Passenger Class>2</Passenger Class><Name>Berriman, Mr. William John</Name><Sex>male</Sex><Age>23</Age><Number of Siblings/Spouses Aboard>0</Number of Siblings/Spouses Aboard><Number of Parents/Children Aboard>0</Number of Parents/Children Aboard><Ticket Number>28425</Ticket Number><Fare>13</Fare><Cabin></Cabin><Port of Embarkation>S</Port of Embarkation></row>\n",
      "<row><Passenger ID>735</Passenger ID><Survival (1: Survived, 0: Died)>0</Survival (1: Survived, 0: Died)><Passenger Class>2</Passenger Class><Name>Troupiansky, Mr. Moses Aaron</Name><Sex>male</Sex><Age>23</Age><Number of Siblings/Spouses Aboard>0</Number of Siblings/Spouses Aboard><Number of Parents/Children Aboard>0</Number of Parents/Children Aboard><Ticket Number>233639</Ticket Number><Fare>13</Fare><Cabin></Cabin><Port of Embarkation>S</Port of Embarkation></row>\n",
      "<row><Passenger ID>736</Passenger ID><Survival (1: Survived, 0: Died)>0</Survival (1: Survived, 0: Died)><Passenger Class>3</Passenger Class><Name>Williams, Mr. Leslie</Name><Sex>male</Sex><Age>28.5</Age><Number of Siblings/Spouses Aboard>0</Number of Siblings/Spouses Aboard><Number of Parents/Children Aboard>0</Number of Parents/Children Aboard><Ticket Number>54636</Ticket Number><Fare>16.1</Fare><Cabin></Cabin><Port of Embarkation>S</Port of Embarkation></row>\n",
      "<row><Passenger ID>737</Passenger ID><Survival (1: Survived, 0: Died)>0</Survival (1: Survived, 0: Died)><Passenger Class>3</Passenger Class><Name>Ford, Mrs. Edward (Margaret Ann Watson)</Name><Sex>female</Sex><Age>48</Age><Number of Siblings/Spouses Aboard>1</Number of Siblings/Spouses Aboard><Number of Parents/Children Aboard>3</Number of Parents/Children Aboard><Ticket Number>W./C. 6608</Ticket Number><Fare>34.375</Fare><Cabin></Cabin><Port of Embarkation>S</Port of Embarkation></row>\n",
      "<row><Passenger ID>738</Passenger ID><Survival (1: Survived, 0: Died)>1</Survival (1: Survived, 0: Died)><Passenger Class>1</Passenger Class><Name>Lesurer, Mr. Gustave J</Name><Sex>male</Sex><Age>35</Age><Number of Siblings/Spouses Aboard>0</Number of Siblings/Spouses Aboard><Number of Parents/Children Aboard>0</Number of Parents/Children Aboard><Ticket Number>PC 17755</Ticket Number><Fare>512.3292</Fare><Cabin>B101</Cabin><Port of Embarkation>C</Port of Embarkation></row>\n",
      "<row><Passenger ID>739</Passenger ID><Survival (1: Survived, 0: Died)>0</Survival (1: Survived, 0: Died)><Passenger Class>3</Passenger Class><Name>Ivanoff, Mr. Kanio</Name><Sex>male</Sex><Age></Age><Number of Siblings/Spouses Aboard>0</Number of Siblings/Spouses Aboard><Number of Parents/Children Aboard>0</Number of Parents/Children Aboard><Ticket Number>349201</Ticket Number><Fare>7.8958</Fare><Cabin></Cabin><Port of Embarkation>S</Port of Embarkation></row>\n",
      "<row><Passenger ID>740</Passenger ID><Survival (1: Survived, 0: Died)>0</Survival (1: Survived, 0: Died)><Passenger Class>3</Passenger Class><Name>Nankoff, Mr. Minko</Name><Sex>male</Sex><Age></Age><Number of Siblings/Spouses Aboard>0</Number of Siblings/Spouses Aboard><Number of Parents/Children Aboard>0</Number of Parents/Children Aboard><Ticket Number>349218</Ticket Number><Fare>7.8958</Fare><Cabin></Cabin><Port of Embarkation>S</Port of Embarkation></row>\n",
      "<row><Passenger ID>741</Passenger ID><Survival (1: Survived, 0: Died)>1</Survival (1: Survived, 0: Died)><Passenger Class>1</Passenger Class><Name>Hawksford, Mr. Walter James</Name><Sex>male</Sex><Age></Age><Number of Siblings/Spouses Aboard>0</Number of Siblings/Spouses Aboard><Number of Parents/Children Aboard>0</Number of Parents/Children Aboard><Ticket Number>16988</Ticket Number><Fare>30</Fare><Cabin>D45</Cabin><Port of Embarkation>S</Port of Embarkation></row>\n",
      "<row><Passenger ID>742</Passenger ID><Survival (1: Survived, 0: Died)>0</Survival (1: Survived, 0: Died)><Passenger Class>1</Passenger Class><Name>Cavendish, Mr. Tyrell William</Name><Sex>male</Sex><Age>36</Age><Number of Siblings/Spouses Aboard>1</Number of Siblings/Spouses Aboard><Number of Parents/Children Aboard>0</Number of Parents/Children Aboard><Ticket Number>19877</Ticket Number><Fare>78.85</Fare><Cabin>C46</Cabin><Port of Embarkation>S</Port of Embarkation></row>\n",
      "<row><Passenger ID>743</Passenger ID><Survival (1: Survived, 0: Died)>1</Survival (1: Survived, 0: Died)><Passenger Class>1</Passenger Class><Name>Ryerson, Miss. Susan Parker \"Suzette\"</Name><Sex>female</Sex><Age>21</Age><Number of Siblings/Spouses Aboard>2</Number of Siblings/Spouses Aboard><Number of Parents/Children Aboard>2</Number of Parents/Children Aboard><Ticket Number>PC 17608</Ticket Number><Fare>262.375</Fare><Cabin>B57 B59 B63 B66</Cabin><Port of Embarkation>C</Port of Embarkation></row>\n",
      "<row><Passenger ID>744</Passenger ID><Survival (1: Survived, 0: Died)>0</Survival (1: Survived, 0: Died)><Passenger Class>3</Passenger Class><Name>McNamee, Mr. Neal</Name><Sex>male</Sex><Age>24</Age><Number of Siblings/Spouses Aboard>1</Number of Siblings/Spouses Aboard><Number of Parents/Children Aboard>0</Number of Parents/Children Aboard><Ticket Number>376566</Ticket Number><Fare>16.1</Fare><Cabin></Cabin><Port of Embarkation>S</Port of Embarkation></row>\n",
      "<row><Passenger ID>745</Passenger ID><Survival (1: Survived, 0: Died)>1</Survival (1: Survived, 0: Died)><Passenger Class>3</Passenger Class><Name>Stranden, Mr. Juho</Name><Sex>male</Sex><Age>31</Age><Number of Siblings/Spouses Aboard>0</Number of Siblings/Spouses Aboard><Number of Parents/Children Aboard>0</Number of Parents/Children Aboard><Ticket Number>STON/O 2. 3101288</Ticket Number><Fare>7.925</Fare><Cabin></Cabin><Port of Embarkation>S</Port of Embarkation></row>\n",
      "<row><Passenger ID>746</Passenger ID><Survival (1: Survived, 0: Died)>0</Survival (1: Survived, 0: Died)><Passenger Class>1</Passenger Class><Name>Crosby, Capt. Edward Gifford</Name><Sex>male</Sex><Age>70</Age><Number of Siblings/Spouses Aboard>1</Number of Siblings/Spouses Aboard><Number of Parents/Children Aboard>1</Number of Parents/Children Aboard><Ticket Number>WE/P 5735</Ticket Number><Fare>71</Fare><Cabin>B22</Cabin><Port of Embarkation>S</Port of Embarkation></row>\n",
      "<row><Passenger ID>747</Passenger ID><Survival (1: Survived, 0: Died)>0</Survival (1: Survived, 0: Died)><Passenger Class>3</Passenger Class><Name>Abbott, Mr. Rossmore Edward</Name><Sex>male</Sex><Age>16</Age><Number of Siblings/Spouses Aboard>1</Number of Siblings/Spouses Aboard><Number of Parents/Children Aboard>1</Number of Parents/Children Aboard><Ticket Number>C.A. 2673</Ticket Number><Fare>20.25</Fare><Cabin></Cabin><Port of Embarkation>S</Port of Embarkation></row>\n",
      "<row><Passenger ID>748</Passenger ID><Survival (1: Survived, 0: Died)>1</Survival (1: Survived, 0: Died)><Passenger Class>2</Passenger Class><Name>Sinkkonen, Miss. Anna</Name><Sex>female</Sex><Age>30</Age><Number of Siblings/Spouses Aboard>0</Number of Siblings/Spouses Aboard><Number of Parents/Children Aboard>0</Number of Parents/Children Aboard><Ticket Number>250648</Ticket Number><Fare>13</Fare><Cabin></Cabin><Port of Embarkation>S</Port of Embarkation></row>\n",
      "<row><Passenger ID>749</Passenger ID><Survival (1: Survived, 0: Died)>0</Survival (1: Survived, 0: Died)><Passenger Class>1</Passenger Class><Name>Marvin, Mr. Daniel Warner</Name><Sex>male</Sex><Age>19</Age><Number of Siblings/Spouses Aboard>1</Number of Siblings/Spouses Aboard><Number of Parents/Children Aboard>0</Number of Parents/Children Aboard><Ticket Number>113773</Ticket Number><Fare>53.1</Fare><Cabin>D30</Cabin><Port of Embarkation>S</Port of Embarkation></row>\n",
      "<row><Passenger ID>750</Passenger ID><Survival (1: Survived, 0: Died)>0</Survival (1: Survived, 0: Died)><Passenger Class>3</Passenger Class><Name>Connaghton, Mr. Michael</Name><Sex>male</Sex><Age>31</Age><Number of Siblings/Spouses Aboard>0</Number of Siblings/Spouses Aboard><Number of Parents/Children Aboard>0</Number of Parents/Children Aboard><Ticket Number>335097</Ticket Number><Fare>7.75</Fare><Cabin></Cabin><Port of Embarkation>Q</Port of Embarkation></row>\n",
      "<row><Passenger ID>751</Passenger ID><Survival (1: Survived, 0: Died)>1</Survival (1: Survived, 0: Died)><Passenger Class>2</Passenger Class><Name>Wells, Miss. Joan</Name><Sex>female</Sex><Age>4</Age><Number of Siblings/Spouses Aboard>1</Number of Siblings/Spouses Aboard><Number of Parents/Children Aboard>1</Number of Parents/Children Aboard><Ticket Number>29103</Ticket Number><Fare>23</Fare><Cabin></Cabin><Port of Embarkation>S</Port of Embarkation></row>\n",
      "<row><Passenger ID>752</Passenger ID><Survival (1: Survived, 0: Died)>1</Survival (1: Survived, 0: Died)><Passenger Class>3</Passenger Class><Name>Moor, Master. Meier</Name><Sex>male</Sex><Age>6</Age><Number of Siblings/Spouses Aboard>0</Number of Siblings/Spouses Aboard><Number of Parents/Children Aboard>1</Number of Parents/Children Aboard><Ticket Number>392096</Ticket Number><Fare>12.475</Fare><Cabin>E121</Cabin><Port of Embarkation>S</Port of Embarkation></row>\n",
      "<row><Passenger ID>753</Passenger ID><Survival (1: Survived, 0: Died)>0</Survival (1: Survived, 0: Died)><Passenger Class>3</Passenger Class><Name>Vande Velde, Mr. Johannes Joseph</Name><Sex>male</Sex><Age>33</Age><Number of Siblings/Spouses Aboard>0</Number of Siblings/Spouses Aboard><Number of Parents/Children Aboard>0</Number of Parents/Children Aboard><Ticket Number>345780</Ticket Number><Fare>9.5</Fare><Cabin></Cabin><Port of Embarkation>S</Port of Embarkation></row>\n",
      "<row><Passenger ID>754</Passenger ID><Survival (1: Survived, 0: Died)>0</Survival (1: Survived, 0: Died)><Passenger Class>3</Passenger Class><Name>Jonkoff, Mr. Lalio</Name><Sex>male</Sex><Age>23</Age><Number of Siblings/Spouses Aboard>0</Number of Siblings/Spouses Aboard><Number of Parents/Children Aboard>0</Number of Parents/Children Aboard><Ticket Number>349204</Ticket Number><Fare>7.8958</Fare><Cabin></Cabin><Port of Embarkation>S</Port of Embarkation></row>\n",
      "<row><Passenger ID>755</Passenger ID><Survival (1: Survived, 0: Died)>1</Survival (1: Survived, 0: Died)><Passenger Class>2</Passenger Class><Name>Herman, Mrs. Samuel (Jane Laver)</Name><Sex>female</Sex><Age>48</Age><Number of Siblings/Spouses Aboard>1</Number of Siblings/Spouses Aboard><Number of Parents/Children Aboard>2</Number of Parents/Children Aboard><Ticket Number>220845</Ticket Number><Fare>65</Fare><Cabin></Cabin><Port of Embarkation>S</Port of Embarkation></row>\n",
      "<row><Passenger ID>756</Passenger ID><Survival (1: Survived, 0: Died)>1</Survival (1: Survived, 0: Died)><Passenger Class>2</Passenger Class><Name>Hamalainen, Master. Viljo</Name><Sex>male</Sex><Age>0.67</Age><Number of Siblings/Spouses Aboard>1</Number of Siblings/Spouses Aboard><Number of Parents/Children Aboard>1</Number of Parents/Children Aboard><Ticket Number>250649</Ticket Number><Fare>14.5</Fare><Cabin></Cabin><Port of Embarkation>S</Port of Embarkation></row>\n",
      "<row><Passenger ID>757</Passenger ID><Survival (1: Survived, 0: Died)>0</Survival (1: Survived, 0: Died)><Passenger Class>3</Passenger Class><Name>Carlsson, Mr. August Sigfrid</Name><Sex>male</Sex><Age>28</Age><Number of Siblings/Spouses Aboard>0</Number of Siblings/Spouses Aboard><Number of Parents/Children Aboard>0</Number of Parents/Children Aboard><Ticket Number>350042</Ticket Number><Fare>7.7958</Fare><Cabin></Cabin><Port of Embarkation>S</Port of Embarkation></row>\n",
      "<row><Passenger ID>758</Passenger ID><Survival (1: Survived, 0: Died)>0</Survival (1: Survived, 0: Died)><Passenger Class>2</Passenger Class><Name>Bailey, Mr. Percy Andrew</Name><Sex>male</Sex><Age>18</Age><Number of Siblings/Spouses Aboard>0</Number of Siblings/Spouses Aboard><Number of Parents/Children Aboard>0</Number of Parents/Children Aboard><Ticket Number>29108</Ticket Number><Fare>11.5</Fare><Cabin></Cabin><Port of Embarkation>S</Port of Embarkation></row>\n",
      "<row><Passenger ID>759</Passenger ID><Survival (1: Survived, 0: Died)>0</Survival (1: Survived, 0: Died)><Passenger Class>3</Passenger Class><Name>Theobald, Mr. Thomas Leonard</Name><Sex>male</Sex><Age>34</Age><Number of Siblings/Spouses Aboard>0</Number of Siblings/Spouses Aboard><Number of Parents/Children Aboard>0</Number of Parents/Children Aboard><Ticket Number>363294</Ticket Number><Fare>8.05</Fare><Cabin></Cabin><Port of Embarkation>S</Port of Embarkation></row>\n",
      "<row><Passenger ID>760</Passenger ID><Survival (1: Survived, 0: Died)>1</Survival (1: Survived, 0: Died)><Passenger Class>1</Passenger Class><Name>Rothes, the Countess. of (Lucy Noel Martha Dyer-Edwards)</Name><Sex>female</Sex><Age>33</Age><Number of Siblings/Spouses Aboard>0</Number of Siblings/Spouses Aboard><Number of Parents/Children Aboard>0</Number of Parents/Children Aboard><Ticket Number>110152</Ticket Number><Fare>86.5</Fare><Cabin>B77</Cabin><Port of Embarkation>S</Port of Embarkation></row>\n",
      "<row><Passenger ID>761</Passenger ID><Survival (1: Survived, 0: Died)>0</Survival (1: Survived, 0: Died)><Passenger Class>3</Passenger Class><Name>Garfirth, Mr. John</Name><Sex>male</Sex><Age></Age><Number of Siblings/Spouses Aboard>0</Number of Siblings/Spouses Aboard><Number of Parents/Children Aboard>0</Number of Parents/Children Aboard><Ticket Number>358585</Ticket Number><Fare>14.5</Fare><Cabin></Cabin><Port of Embarkation>S</Port of Embarkation></row>\n",
      "<row><Passenger ID>762</Passenger ID><Survival (1: Survived, 0: Died)>0</Survival (1: Survived, 0: Died)><Passenger Class>3</Passenger Class><Name>Nirva, Mr. Iisakki Antino Aijo</Name><Sex>male</Sex><Age>41</Age><Number of Siblings/Spouses Aboard>0</Number of Siblings/Spouses Aboard><Number of Parents/Children Aboard>0</Number of Parents/Children Aboard><Ticket Number>SOTON/O2 3101272</Ticket Number><Fare>7.125</Fare><Cabin></Cabin><Port of Embarkation>S</Port of Embarkation></row>\n",
      "<row><Passenger ID>763</Passenger ID><Survival (1: Survived, 0: Died)>1</Survival (1: Survived, 0: Died)><Passenger Class>3</Passenger Class><Name>Barah, Mr. Hanna Assi</Name><Sex>male</Sex><Age>20</Age><Number of Siblings/Spouses Aboard>0</Number of Siblings/Spouses Aboard><Number of Parents/Children Aboard>0</Number of Parents/Children Aboard><Ticket Number>2663</Ticket Number><Fare>7.2292</Fare><Cabin></Cabin><Port of Embarkation>C</Port of Embarkation></row>\n",
      "<row><Passenger ID>764</Passenger ID><Survival (1: Survived, 0: Died)>1</Survival (1: Survived, 0: Died)><Passenger Class>1</Passenger Class><Name>Carter, Mrs. William Ernest (Lucile Polk)</Name><Sex>female</Sex><Age>36</Age><Number of Siblings/Spouses Aboard>1</Number of Siblings/Spouses Aboard><Number of Parents/Children Aboard>2</Number of Parents/Children Aboard><Ticket Number>113760</Ticket Number><Fare>120</Fare><Cabin>B96 B98</Cabin><Port of Embarkation>S</Port of Embarkation></row>\n",
      "<row><Passenger ID>765</Passenger ID><Survival (1: Survived, 0: Died)>0</Survival (1: Survived, 0: Died)><Passenger Class>3</Passenger Class><Name>Eklund, Mr. Hans Linus</Name><Sex>male</Sex><Age>16</Age><Number of Siblings/Spouses Aboard>0</Number of Siblings/Spouses Aboard><Number of Parents/Children Aboard>0</Number of Parents/Children Aboard><Ticket Number>347074</Ticket Number><Fare>7.775</Fare><Cabin></Cabin><Port of Embarkation>S</Port of Embarkation></row>\n",
      "<row><Passenger ID>766</Passenger ID><Survival (1: Survived, 0: Died)>1</Survival (1: Survived, 0: Died)><Passenger Class>1</Passenger Class><Name>Hogeboom, Mrs. John C (Anna Andrews)</Name><Sex>female</Sex><Age>51</Age><Number of Siblings/Spouses Aboard>1</Number of Siblings/Spouses Aboard><Number of Parents/Children Aboard>0</Number of Parents/Children Aboard><Ticket Number>13502</Ticket Number><Fare>77.9583</Fare><Cabin>D11</Cabin><Port of Embarkation>S</Port of Embarkation></row>\n",
      "<row><Passenger ID>767</Passenger ID><Survival (1: Survived, 0: Died)>0</Survival (1: Survived, 0: Died)><Passenger Class>1</Passenger Class><Name>Brewe, Dr. Arthur Jackson</Name><Sex>male</Sex><Age></Age><Number of Siblings/Spouses Aboard>0</Number of Siblings/Spouses Aboard><Number of Parents/Children Aboard>0</Number of Parents/Children Aboard><Ticket Number>112379</Ticket Number><Fare>39.6</Fare><Cabin></Cabin><Port of Embarkation>C</Port of Embarkation></row>\n",
      "<row><Passenger ID>768</Passenger ID><Survival (1: Survived, 0: Died)>0</Survival (1: Survived, 0: Died)><Passenger Class>3</Passenger Class><Name>Mangan, Miss. Mary</Name><Sex>female</Sex><Age>30.5</Age><Number of Siblings/Spouses Aboard>0</Number of Siblings/Spouses Aboard><Number of Parents/Children Aboard>0</Number of Parents/Children Aboard><Ticket Number>364850</Ticket Number><Fare>7.75</Fare><Cabin></Cabin><Port of Embarkation>Q</Port of Embarkation></row>\n",
      "<row><Passenger ID>769</Passenger ID><Survival (1: Survived, 0: Died)>0</Survival (1: Survived, 0: Died)><Passenger Class>3</Passenger Class><Name>Moran, Mr. Daniel J</Name><Sex>male</Sex><Age></Age><Number of Siblings/Spouses Aboard>1</Number of Siblings/Spouses Aboard><Number of Parents/Children Aboard>0</Number of Parents/Children Aboard><Ticket Number>371110</Ticket Number><Fare>24.15</Fare><Cabin></Cabin><Port of Embarkation>Q</Port of Embarkation></row>\n",
      "<row><Passenger ID>770</Passenger ID><Survival (1: Survived, 0: Died)>0</Survival (1: Survived, 0: Died)><Passenger Class>3</Passenger Class><Name>Gronnestad, Mr. Daniel Danielsen</Name><Sex>male</Sex><Age>32</Age><Number of Siblings/Spouses Aboard>0</Number of Siblings/Spouses Aboard><Number of Parents/Children Aboard>0</Number of Parents/Children Aboard><Ticket Number>8471</Ticket Number><Fare>8.3625</Fare><Cabin></Cabin><Port of Embarkation>S</Port of Embarkation></row>\n",
      "<row><Passenger ID>771</Passenger ID><Survival (1: Survived, 0: Died)>0</Survival (1: Survived, 0: Died)><Passenger Class>3</Passenger Class><Name>Lievens, Mr. Rene Aime</Name><Sex>male</Sex><Age>24</Age><Number of Siblings/Spouses Aboard>0</Number of Siblings/Spouses Aboard><Number of Parents/Children Aboard>0</Number of Parents/Children Aboard><Ticket Number>345781</Ticket Number><Fare>9.5</Fare><Cabin></Cabin><Port of Embarkation>S</Port of Embarkation></row>\n",
      "<row><Passenger ID>772</Passenger ID><Survival (1: Survived, 0: Died)>0</Survival (1: Survived, 0: Died)><Passenger Class>3</Passenger Class><Name>Jensen, Mr. Niels Peder</Name><Sex>male</Sex><Age>48</Age><Number of Siblings/Spouses Aboard>0</Number of Siblings/Spouses Aboard><Number of Parents/Children Aboard>0</Number of Parents/Children Aboard><Ticket Number>350047</Ticket Number><Fare>7.8542</Fare><Cabin></Cabin><Port of Embarkation>S</Port of Embarkation></row>\n",
      "<row><Passenger ID>773</Passenger ID><Survival (1: Survived, 0: Died)>0</Survival (1: Survived, 0: Died)><Passenger Class>2</Passenger Class><Name>Mack, Mrs. (Mary)</Name><Sex>female</Sex><Age>57</Age><Number of Siblings/Spouses Aboard>0</Number of Siblings/Spouses Aboard><Number of Parents/Children Aboard>0</Number of Parents/Children Aboard><Ticket Number>S.O./P.P. 3</Ticket Number><Fare>10.5</Fare><Cabin>E77</Cabin><Port of Embarkation>S</Port of Embarkation></row>\n",
      "<row><Passenger ID>774</Passenger ID><Survival (1: Survived, 0: Died)>0</Survival (1: Survived, 0: Died)><Passenger Class>3</Passenger Class><Name>Elias, Mr. Dibo</Name><Sex>male</Sex><Age></Age><Number of Siblings/Spouses Aboard>0</Number of Siblings/Spouses Aboard><Number of Parents/Children Aboard>0</Number of Parents/Children Aboard><Ticket Number>2674</Ticket Number><Fare>7.225</Fare><Cabin></Cabin><Port of Embarkation>C</Port of Embarkation></row>\n",
      "<row><Passenger ID>775</Passenger ID><Survival (1: Survived, 0: Died)>1</Survival (1: Survived, 0: Died)><Passenger Class>2</Passenger Class><Name>Hocking, Mrs. Elizabeth (Eliza Needs)</Name><Sex>female</Sex><Age>54</Age><Number of Siblings/Spouses Aboard>1</Number of Siblings/Spouses Aboard><Number of Parents/Children Aboard>3</Number of Parents/Children Aboard><Ticket Number>29105</Ticket Number><Fare>23</Fare><Cabin></Cabin><Port of Embarkation>S</Port of Embarkation></row>\n",
      "<row><Passenger ID>776</Passenger ID><Survival (1: Survived, 0: Died)>0</Survival (1: Survived, 0: Died)><Passenger Class>3</Passenger Class><Name>Myhrman, Mr. Pehr Fabian Oliver Malkolm</Name><Sex>male</Sex><Age>18</Age><Number of Siblings/Spouses Aboard>0</Number of Siblings/Spouses Aboard><Number of Parents/Children Aboard>0</Number of Parents/Children Aboard><Ticket Number>347078</Ticket Number><Fare>7.75</Fare><Cabin></Cabin><Port of Embarkation>S</Port of Embarkation></row>\n",
      "<row><Passenger ID>777</Passenger ID><Survival (1: Survived, 0: Died)>0</Survival (1: Survived, 0: Died)><Passenger Class>3</Passenger Class><Name>Tobin, Mr. Roger</Name><Sex>male</Sex><Age></Age><Number of Siblings/Spouses Aboard>0</Number of Siblings/Spouses Aboard><Number of Parents/Children Aboard>0</Number of Parents/Children Aboard><Ticket Number>383121</Ticket Number><Fare>7.75</Fare><Cabin>F38</Cabin><Port of Embarkation>Q</Port of Embarkation></row>\n",
      "<row><Passenger ID>778</Passenger ID><Survival (1: Survived, 0: Died)>1</Survival (1: Survived, 0: Died)><Passenger Class>3</Passenger Class><Name>Emanuel, Miss. Virginia Ethel</Name><Sex>female</Sex><Age>5</Age><Number of Siblings/Spouses Aboard>0</Number of Siblings/Spouses Aboard><Number of Parents/Children Aboard>0</Number of Parents/Children Aboard><Ticket Number>364516</Ticket Number><Fare>12.475</Fare><Cabin></Cabin><Port of Embarkation>S</Port of Embarkation></row>\n",
      "<row><Passenger ID>779</Passenger ID><Survival (1: Survived, 0: Died)>0</Survival (1: Survived, 0: Died)><Passenger Class>3</Passenger Class><Name>Kilgannon, Mr. Thomas J</Name><Sex>male</Sex><Age></Age><Number of Siblings/Spouses Aboard>0</Number of Siblings/Spouses Aboard><Number of Parents/Children Aboard>0</Number of Parents/Children Aboard><Ticket Number>36865</Ticket Number><Fare>7.7375</Fare><Cabin></Cabin><Port of Embarkation>Q</Port of Embarkation></row>\n",
      "<row><Passenger ID>780</Passenger ID><Survival (1: Survived, 0: Died)>1</Survival (1: Survived, 0: Died)><Passenger Class>1</Passenger Class><Name>Robert, Mrs. Edward Scott (Elisabeth Walton McMillan)</Name><Sex>female</Sex><Age>43</Age><Number of Siblings/Spouses Aboard>0</Number of Siblings/Spouses Aboard><Number of Parents/Children Aboard>1</Number of Parents/Children Aboard><Ticket Number>24160</Ticket Number><Fare>211.3375</Fare><Cabin>B3</Cabin><Port of Embarkation>S</Port of Embarkation></row>\n",
      "<row><Passenger ID>781</Passenger ID><Survival (1: Survived, 0: Died)>1</Survival (1: Survived, 0: Died)><Passenger Class>3</Passenger Class><Name>Ayoub, Miss. Banoura</Name><Sex>female</Sex><Age>13</Age><Number of Siblings/Spouses Aboard>0</Number of Siblings/Spouses Aboard><Number of Parents/Children Aboard>0</Number of Parents/Children Aboard><Ticket Number>2687</Ticket Number><Fare>7.2292</Fare><Cabin></Cabin><Port of Embarkation>C</Port of Embarkation></row>\n",
      "<row><Passenger ID>782</Passenger ID><Survival (1: Survived, 0: Died)>1</Survival (1: Survived, 0: Died)><Passenger Class>1</Passenger Class><Name>Dick, Mrs. Albert Adrian (Vera Gillespie)</Name><Sex>female</Sex><Age>17</Age><Number of Siblings/Spouses Aboard>1</Number of Siblings/Spouses Aboard><Number of Parents/Children Aboard>0</Number of Parents/Children Aboard><Ticket Number>17474</Ticket Number><Fare>57</Fare><Cabin>B20</Cabin><Port of Embarkation>S</Port of Embarkation></row>\n",
      "<row><Passenger ID>783</Passenger ID><Survival (1: Survived, 0: Died)>0</Survival (1: Survived, 0: Died)><Passenger Class>1</Passenger Class><Name>Long, Mr. Milton Clyde</Name><Sex>male</Sex><Age>29</Age><Number of Siblings/Spouses Aboard>0</Number of Siblings/Spouses Aboard><Number of Parents/Children Aboard>0</Number of Parents/Children Aboard><Ticket Number>113501</Ticket Number><Fare>30</Fare><Cabin>D6</Cabin><Port of Embarkation>S</Port of Embarkation></row>\n",
      "<row><Passenger ID>784</Passenger ID><Survival (1: Survived, 0: Died)>0</Survival (1: Survived, 0: Died)><Passenger Class>3</Passenger Class><Name>Johnston, Mr. Andrew G</Name><Sex>male</Sex><Age></Age><Number of Siblings/Spouses Aboard>1</Number of Siblings/Spouses Aboard><Number of Parents/Children Aboard>2</Number of Parents/Children Aboard><Ticket Number>W./C. 6607</Ticket Number><Fare>23.45</Fare><Cabin></Cabin><Port of Embarkation>S</Port of Embarkation></row>\n",
      "<row><Passenger ID>785</Passenger ID><Survival (1: Survived, 0: Died)>0</Survival (1: Survived, 0: Died)><Passenger Class>3</Passenger Class><Name>Ali, Mr. William</Name><Sex>male</Sex><Age>25</Age><Number of Siblings/Spouses Aboard>0</Number of Siblings/Spouses Aboard><Number of Parents/Children Aboard>0</Number of Parents/Children Aboard><Ticket Number>SOTON/O.Q. 3101312</Ticket Number><Fare>7.05</Fare><Cabin></Cabin><Port of Embarkation>S</Port of Embarkation></row>\n",
      "<row><Passenger ID>786</Passenger ID><Survival (1: Survived, 0: Died)>0</Survival (1: Survived, 0: Died)><Passenger Class>3</Passenger Class><Name>Harmer, Mr. Abraham (David Lishin)</Name><Sex>male</Sex><Age>25</Age><Number of Siblings/Spouses Aboard>0</Number of Siblings/Spouses Aboard><Number of Parents/Children Aboard>0</Number of Parents/Children Aboard><Ticket Number>374887</Ticket Number><Fare>7.25</Fare><Cabin></Cabin><Port of Embarkation>S</Port of Embarkation></row>\n",
      "<row><Passenger ID>787</Passenger ID><Survival (1: Survived, 0: Died)>1</Survival (1: Survived, 0: Died)><Passenger Class>3</Passenger Class><Name>Sjoblom, Miss. Anna Sofia</Name><Sex>female</Sex><Age>18</Age><Number of Siblings/Spouses Aboard>0</Number of Siblings/Spouses Aboard><Number of Parents/Children Aboard>0</Number of Parents/Children Aboard><Ticket Number>3101265</Ticket Number><Fare>7.4958</Fare><Cabin></Cabin><Port of Embarkation>S</Port of Embarkation></row>\n",
      "<row><Passenger ID>788</Passenger ID><Survival (1: Survived, 0: Died)>0</Survival (1: Survived, 0: Died)><Passenger Class>3</Passenger Class><Name>Rice, Master. George Hugh</Name><Sex>male</Sex><Age>8</Age><Number of Siblings/Spouses Aboard>4</Number of Siblings/Spouses Aboard><Number of Parents/Children Aboard>1</Number of Parents/Children Aboard><Ticket Number>382652</Ticket Number><Fare>29.125</Fare><Cabin></Cabin><Port of Embarkation>Q</Port of Embarkation></row>\n",
      "<row><Passenger ID>789</Passenger ID><Survival (1: Survived, 0: Died)>1</Survival (1: Survived, 0: Died)><Passenger Class>3</Passenger Class><Name>Dean, Master. Bertram Vere</Name><Sex>male</Sex><Age>1</Age><Number of Siblings/Spouses Aboard>1</Number of Siblings/Spouses Aboard><Number of Parents/Children Aboard>2</Number of Parents/Children Aboard><Ticket Number>C.A. 2315</Ticket Number><Fare>20.575</Fare><Cabin></Cabin><Port of Embarkation>S</Port of Embarkation></row>\n",
      "<row><Passenger ID>790</Passenger ID><Survival (1: Survived, 0: Died)>0</Survival (1: Survived, 0: Died)><Passenger Class>1</Passenger Class><Name>Guggenheim, Mr. Benjamin</Name><Sex>male</Sex><Age>46</Age><Number of Siblings/Spouses Aboard>0</Number of Siblings/Spouses Aboard><Number of Parents/Children Aboard>0</Number of Parents/Children Aboard><Ticket Number>PC 17593</Ticket Number><Fare>79.2</Fare><Cabin>B82 B84</Cabin><Port of Embarkation>C</Port of Embarkation></row>\n",
      "<row><Passenger ID>791</Passenger ID><Survival (1: Survived, 0: Died)>0</Survival (1: Survived, 0: Died)><Passenger Class>3</Passenger Class><Name>Keane, Mr. Andrew \"Andy\"</Name><Sex>male</Sex><Age></Age><Number of Siblings/Spouses Aboard>0</Number of Siblings/Spouses Aboard><Number of Parents/Children Aboard>0</Number of Parents/Children Aboard><Ticket Number>12460</Ticket Number><Fare>7.75</Fare><Cabin></Cabin><Port of Embarkation>Q</Port of Embarkation></row>\n",
      "<row><Passenger ID>792</Passenger ID><Survival (1: Survived, 0: Died)>0</Survival (1: Survived, 0: Died)><Passenger Class>2</Passenger Class><Name>Gaskell, Mr. Alfred</Name><Sex>male</Sex><Age>16</Age><Number of Siblings/Spouses Aboard>0</Number of Siblings/Spouses Aboard><Number of Parents/Children Aboard>0</Number of Parents/Children Aboard><Ticket Number>239865</Ticket Number><Fare>26</Fare><Cabin></Cabin><Port of Embarkation>S</Port of Embarkation></row>\n",
      "<row><Passenger ID>793</Passenger ID><Survival (1: Survived, 0: Died)>0</Survival (1: Survived, 0: Died)><Passenger Class>3</Passenger Class><Name>Sage, Miss. Stella Anna</Name><Sex>female</Sex><Age></Age><Number of Siblings/Spouses Aboard>8</Number of Siblings/Spouses Aboard><Number of Parents/Children Aboard>2</Number of Parents/Children Aboard><Ticket Number>CA. 2343</Ticket Number><Fare>69.55</Fare><Cabin></Cabin><Port of Embarkation>S</Port of Embarkation></row>\n",
      "<row><Passenger ID>794</Passenger ID><Survival (1: Survived, 0: Died)>0</Survival (1: Survived, 0: Died)><Passenger Class>1</Passenger Class><Name>Hoyt, Mr. William Fisher</Name><Sex>male</Sex><Age></Age><Number of Siblings/Spouses Aboard>0</Number of Siblings/Spouses Aboard><Number of Parents/Children Aboard>0</Number of Parents/Children Aboard><Ticket Number>PC 17600</Ticket Number><Fare>30.6958</Fare><Cabin></Cabin><Port of Embarkation>C</Port of Embarkation></row>\n",
      "<row><Passenger ID>795</Passenger ID><Survival (1: Survived, 0: Died)>0</Survival (1: Survived, 0: Died)><Passenger Class>3</Passenger Class><Name>Dantcheff, Mr. Ristiu</Name><Sex>male</Sex><Age>25</Age><Number of Siblings/Spouses Aboard>0</Number of Siblings/Spouses Aboard><Number of Parents/Children Aboard>0</Number of Parents/Children Aboard><Ticket Number>349203</Ticket Number><Fare>7.8958</Fare><Cabin></Cabin><Port of Embarkation>S</Port of Embarkation></row>\n",
      "<row><Passenger ID>796</Passenger ID><Survival (1: Survived, 0: Died)>0</Survival (1: Survived, 0: Died)><Passenger Class>2</Passenger Class><Name>Otter, Mr. Richard</Name><Sex>male</Sex><Age>39</Age><Number of Siblings/Spouses Aboard>0</Number of Siblings/Spouses Aboard><Number of Parents/Children Aboard>0</Number of Parents/Children Aboard><Ticket Number>28213</Ticket Number><Fare>13</Fare><Cabin></Cabin><Port of Embarkation>S</Port of Embarkation></row>\n",
      "<row><Passenger ID>797</Passenger ID><Survival (1: Survived, 0: Died)>1</Survival (1: Survived, 0: Died)><Passenger Class>1</Passenger Class><Name>Leader, Dr. Alice (Farnham)</Name><Sex>female</Sex><Age>49</Age><Number of Siblings/Spouses Aboard>0</Number of Siblings/Spouses Aboard><Number of Parents/Children Aboard>0</Number of Parents/Children Aboard><Ticket Number>17465</Ticket Number><Fare>25.9292</Fare><Cabin>D17</Cabin><Port of Embarkation>S</Port of Embarkation></row>\n",
      "<row><Passenger ID>798</Passenger ID><Survival (1: Survived, 0: Died)>1</Survival (1: Survived, 0: Died)><Passenger Class>3</Passenger Class><Name>Osman, Mrs. Mara</Name><Sex>female</Sex><Age>31</Age><Number of Siblings/Spouses Aboard>0</Number of Siblings/Spouses Aboard><Number of Parents/Children Aboard>0</Number of Parents/Children Aboard><Ticket Number>349244</Ticket Number><Fare>8.6833</Fare><Cabin></Cabin><Port of Embarkation>S</Port of Embarkation></row>\n",
      "<row><Passenger ID>799</Passenger ID><Survival (1: Survived, 0: Died)>0</Survival (1: Survived, 0: Died)><Passenger Class>3</Passenger Class><Name>Ibrahim Shawah, Mr. Yousseff</Name><Sex>male</Sex><Age>30</Age><Number of Siblings/Spouses Aboard>0</Number of Siblings/Spouses Aboard><Number of Parents/Children Aboard>0</Number of Parents/Children Aboard><Ticket Number>2685</Ticket Number><Fare>7.2292</Fare><Cabin></Cabin><Port of Embarkation>C</Port of Embarkation></row>\n",
      "<row><Passenger ID>800</Passenger ID><Survival (1: Survived, 0: Died)>0</Survival (1: Survived, 0: Died)><Passenger Class>3</Passenger Class><Name>Van Impe, Mrs. Jean Baptiste (Rosalie Paula Govaert)</Name><Sex>female</Sex><Age>30</Age><Number of Siblings/Spouses Aboard>1</Number of Siblings/Spouses Aboard><Number of Parents/Children Aboard>1</Number of Parents/Children Aboard><Ticket Number>345773</Ticket Number><Fare>24.15</Fare><Cabin></Cabin><Port of Embarkation>S</Port of Embarkation></row>\n",
      "<row><Passenger ID>801</Passenger ID><Survival (1: Survived, 0: Died)>0</Survival (1: Survived, 0: Died)><Passenger Class>2</Passenger Class><Name>Ponesell, Mr. Martin</Name><Sex>male</Sex><Age>34</Age><Number of Siblings/Spouses Aboard>0</Number of Siblings/Spouses Aboard><Number of Parents/Children Aboard>0</Number of Parents/Children Aboard><Ticket Number>250647</Ticket Number><Fare>13</Fare><Cabin></Cabin><Port of Embarkation>S</Port of Embarkation></row>\n",
      "<row><Passenger ID>802</Passenger ID><Survival (1: Survived, 0: Died)>1</Survival (1: Survived, 0: Died)><Passenger Class>2</Passenger Class><Name>Collyer, Mrs. Harvey (Charlotte Annie Tate)</Name><Sex>female</Sex><Age>31</Age><Number of Siblings/Spouses Aboard>1</Number of Siblings/Spouses Aboard><Number of Parents/Children Aboard>1</Number of Parents/Children Aboard><Ticket Number>C.A. 31921</Ticket Number><Fare>26.25</Fare><Cabin></Cabin><Port of Embarkation>S</Port of Embarkation></row>\n",
      "<row><Passenger ID>803</Passenger ID><Survival (1: Survived, 0: Died)>1</Survival (1: Survived, 0: Died)><Passenger Class>1</Passenger Class><Name>Carter, Master. William Thornton II</Name><Sex>male</Sex><Age>11</Age><Number of Siblings/Spouses Aboard>1</Number of Siblings/Spouses Aboard><Number of Parents/Children Aboard>2</Number of Parents/Children Aboard><Ticket Number>113760</Ticket Number><Fare>120</Fare><Cabin>B96 B98</Cabin><Port of Embarkation>S</Port of Embarkation></row>\n",
      "<row><Passenger ID>804</Passenger ID><Survival (1: Survived, 0: Died)>1</Survival (1: Survived, 0: Died)><Passenger Class>3</Passenger Class><Name>Thomas, Master. Assad Alexander</Name><Sex>male</Sex><Age>0.42</Age><Number of Siblings/Spouses Aboard>0</Number of Siblings/Spouses Aboard><Number of Parents/Children Aboard>1</Number of Parents/Children Aboard><Ticket Number>2625</Ticket Number><Fare>8.5167</Fare><Cabin></Cabin><Port of Embarkation>C</Port of Embarkation></row>\n",
      "<row><Passenger ID>805</Passenger ID><Survival (1: Survived, 0: Died)>1</Survival (1: Survived, 0: Died)><Passenger Class>3</Passenger Class><Name>Hedman, Mr. Oskar Arvid</Name><Sex>male</Sex><Age>27</Age><Number of Siblings/Spouses Aboard>0</Number of Siblings/Spouses Aboard><Number of Parents/Children Aboard>0</Number of Parents/Children Aboard><Ticket Number>347089</Ticket Number><Fare>6.975</Fare><Cabin></Cabin><Port of Embarkation>S</Port of Embarkation></row>\n",
      "<row><Passenger ID>806</Passenger ID><Survival (1: Survived, 0: Died)>0</Survival (1: Survived, 0: Died)><Passenger Class>3</Passenger Class><Name>Johansson, Mr. Karl Johan</Name><Sex>male</Sex><Age>31</Age><Number of Siblings/Spouses Aboard>0</Number of Siblings/Spouses Aboard><Number of Parents/Children Aboard>0</Number of Parents/Children Aboard><Ticket Number>347063</Ticket Number><Fare>7.775</Fare><Cabin></Cabin><Port of Embarkation>S</Port of Embarkation></row>\n",
      "<row><Passenger ID>807</Passenger ID><Survival (1: Survived, 0: Died)>0</Survival (1: Survived, 0: Died)><Passenger Class>1</Passenger Class><Name>Andrews, Mr. Thomas Jr</Name><Sex>male</Sex><Age>39</Age><Number of Siblings/Spouses Aboard>0</Number of Siblings/Spouses Aboard><Number of Parents/Children Aboard>0</Number of Parents/Children Aboard><Ticket Number>112050</Ticket Number><Fare>0</Fare><Cabin>A36</Cabin><Port of Embarkation>S</Port of Embarkation></row>\n",
      "<row><Passenger ID>808</Passenger ID><Survival (1: Survived, 0: Died)>0</Survival (1: Survived, 0: Died)><Passenger Class>3</Passenger Class><Name>Pettersson, Miss. Ellen Natalia</Name><Sex>female</Sex><Age>18</Age><Number of Siblings/Spouses Aboard>0</Number of Siblings/Spouses Aboard><Number of Parents/Children Aboard>0</Number of Parents/Children Aboard><Ticket Number>347087</Ticket Number><Fare>7.775</Fare><Cabin></Cabin><Port of Embarkation>S</Port of Embarkation></row>\n",
      "<row><Passenger ID>809</Passenger ID><Survival (1: Survived, 0: Died)>0</Survival (1: Survived, 0: Died)><Passenger Class>2</Passenger Class><Name>Meyer, Mr. August</Name><Sex>male</Sex><Age>39</Age><Number of Siblings/Spouses Aboard>0</Number of Siblings/Spouses Aboard><Number of Parents/Children Aboard>0</Number of Parents/Children Aboard><Ticket Number>248723</Ticket Number><Fare>13</Fare><Cabin></Cabin><Port of Embarkation>S</Port of Embarkation></row>\n",
      "<row><Passenger ID>810</Passenger ID><Survival (1: Survived, 0: Died)>1</Survival (1: Survived, 0: Died)><Passenger Class>1</Passenger Class><Name>Chambers, Mrs. Norman Campbell (Bertha Griggs)</Name><Sex>female</Sex><Age>33</Age><Number of Siblings/Spouses Aboard>1</Number of Siblings/Spouses Aboard><Number of Parents/Children Aboard>0</Number of Parents/Children Aboard><Ticket Number>113806</Ticket Number><Fare>53.1</Fare><Cabin>E8</Cabin><Port of Embarkation>S</Port of Embarkation></row>\n",
      "<row><Passenger ID>811</Passenger ID><Survival (1: Survived, 0: Died)>0</Survival (1: Survived, 0: Died)><Passenger Class>3</Passenger Class><Name>Alexander, Mr. William</Name><Sex>male</Sex><Age>26</Age><Number of Siblings/Spouses Aboard>0</Number of Siblings/Spouses Aboard><Number of Parents/Children Aboard>0</Number of Parents/Children Aboard><Ticket Number>3474</Ticket Number><Fare>7.8875</Fare><Cabin></Cabin><Port of Embarkation>S</Port of Embarkation></row>\n",
      "<row><Passenger ID>812</Passenger ID><Survival (1: Survived, 0: Died)>0</Survival (1: Survived, 0: Died)><Passenger Class>3</Passenger Class><Name>Lester, Mr. James</Name><Sex>male</Sex><Age>39</Age><Number of Siblings/Spouses Aboard>0</Number of Siblings/Spouses Aboard><Number of Parents/Children Aboard>0</Number of Parents/Children Aboard><Ticket Number>A/4 48871</Ticket Number><Fare>24.15</Fare><Cabin></Cabin><Port of Embarkation>S</Port of Embarkation></row>\n",
      "<row><Passenger ID>813</Passenger ID><Survival (1: Survived, 0: Died)>0</Survival (1: Survived, 0: Died)><Passenger Class>2</Passenger Class><Name>Slemen, Mr. Richard James</Name><Sex>male</Sex><Age>35</Age><Number of Siblings/Spouses Aboard>0</Number of Siblings/Spouses Aboard><Number of Parents/Children Aboard>0</Number of Parents/Children Aboard><Ticket Number>28206</Ticket Number><Fare>10.5</Fare><Cabin></Cabin><Port of Embarkation>S</Port of Embarkation></row>\n",
      "<row><Passenger ID>814</Passenger ID><Survival (1: Survived, 0: Died)>0</Survival (1: Survived, 0: Died)><Passenger Class>3</Passenger Class><Name>Andersson, Miss. Ebba Iris Alfrida</Name><Sex>female</Sex><Age>6</Age><Number of Siblings/Spouses Aboard>4</Number of Siblings/Spouses Aboard><Number of Parents/Children Aboard>2</Number of Parents/Children Aboard><Ticket Number>347082</Ticket Number><Fare>31.275</Fare><Cabin></Cabin><Port of Embarkation>S</Port of Embarkation></row>\n",
      "<row><Passenger ID>815</Passenger ID><Survival (1: Survived, 0: Died)>0</Survival (1: Survived, 0: Died)><Passenger Class>3</Passenger Class><Name>Tomlin, Mr. Ernest Portage</Name><Sex>male</Sex><Age>30.5</Age><Number of Siblings/Spouses Aboard>0</Number of Siblings/Spouses Aboard><Number of Parents/Children Aboard>0</Number of Parents/Children Aboard><Ticket Number>364499</Ticket Number><Fare>8.05</Fare><Cabin></Cabin><Port of Embarkation>S</Port of Embarkation></row>\n",
      "<row><Passenger ID>816</Passenger ID><Survival (1: Survived, 0: Died)>0</Survival (1: Survived, 0: Died)><Passenger Class>1</Passenger Class><Name>Fry, Mr. Richard</Name><Sex>male</Sex><Age></Age><Number of Siblings/Spouses Aboard>0</Number of Siblings/Spouses Aboard><Number of Parents/Children Aboard>0</Number of Parents/Children Aboard><Ticket Number>112058</Ticket Number><Fare>0</Fare><Cabin>B102</Cabin><Port of Embarkation>S</Port of Embarkation></row>\n",
      "<row><Passenger ID>817</Passenger ID><Survival (1: Survived, 0: Died)>0</Survival (1: Survived, 0: Died)><Passenger Class>3</Passenger Class><Name>Heininen, Miss. Wendla Maria</Name><Sex>female</Sex><Age>23</Age><Number of Siblings/Spouses Aboard>0</Number of Siblings/Spouses Aboard><Number of Parents/Children Aboard>0</Number of Parents/Children Aboard><Ticket Number>STON/O2. 3101290</Ticket Number><Fare>7.925</Fare><Cabin></Cabin><Port of Embarkation>S</Port of Embarkation></row>\n",
      "<row><Passenger ID>818</Passenger ID><Survival (1: Survived, 0: Died)>0</Survival (1: Survived, 0: Died)><Passenger Class>2</Passenger Class><Name>Mallet, Mr. Albert</Name><Sex>male</Sex><Age>31</Age><Number of Siblings/Spouses Aboard>1</Number of Siblings/Spouses Aboard><Number of Parents/Children Aboard>1</Number of Parents/Children Aboard><Ticket Number>S.C./PARIS 2079</Ticket Number><Fare>37.0042</Fare><Cabin></Cabin><Port of Embarkation>C</Port of Embarkation></row>\n",
      "<row><Passenger ID>819</Passenger ID><Survival (1: Survived, 0: Died)>0</Survival (1: Survived, 0: Died)><Passenger Class>3</Passenger Class><Name>Holm, Mr. John Fredrik Alexander</Name><Sex>male</Sex><Age>43</Age><Number of Siblings/Spouses Aboard>0</Number of Siblings/Spouses Aboard><Number of Parents/Children Aboard>0</Number of Parents/Children Aboard><Ticket Number>C 7075</Ticket Number><Fare>6.45</Fare><Cabin></Cabin><Port of Embarkation>S</Port of Embarkation></row>\n",
      "<row><Passenger ID>820</Passenger ID><Survival (1: Survived, 0: Died)>0</Survival (1: Survived, 0: Died)><Passenger Class>3</Passenger Class><Name>Skoog, Master. Karl Thorsten</Name><Sex>male</Sex><Age>10</Age><Number of Siblings/Spouses Aboard>3</Number of Siblings/Spouses Aboard><Number of Parents/Children Aboard>2</Number of Parents/Children Aboard><Ticket Number>347088</Ticket Number><Fare>27.9</Fare><Cabin></Cabin><Port of Embarkation>S</Port of Embarkation></row>\n",
      "<row><Passenger ID>821</Passenger ID><Survival (1: Survived, 0: Died)>1</Survival (1: Survived, 0: Died)><Passenger Class>1</Passenger Class><Name>Hays, Mrs. Charles Melville (Clara Jennings Gregg)</Name><Sex>female</Sex><Age>52</Age><Number of Siblings/Spouses Aboard>1</Number of Siblings/Spouses Aboard><Number of Parents/Children Aboard>1</Number of Parents/Children Aboard><Ticket Number>12749</Ticket Number><Fare>93.5</Fare><Cabin>B69</Cabin><Port of Embarkation>S</Port of Embarkation></row>\n",
      "<row><Passenger ID>822</Passenger ID><Survival (1: Survived, 0: Died)>1</Survival (1: Survived, 0: Died)><Passenger Class>3</Passenger Class><Name>Lulic, Mr. Nikola</Name><Sex>male</Sex><Age>27</Age><Number of Siblings/Spouses Aboard>0</Number of Siblings/Spouses Aboard><Number of Parents/Children Aboard>0</Number of Parents/Children Aboard><Ticket Number>315098</Ticket Number><Fare>8.6625</Fare><Cabin></Cabin><Port of Embarkation>S</Port of Embarkation></row>\n",
      "<row><Passenger ID>823</Passenger ID><Survival (1: Survived, 0: Died)>0</Survival (1: Survived, 0: Died)><Passenger Class>1</Passenger Class><Name>Reuchlin, Jonkheer. John George</Name><Sex>male</Sex><Age>38</Age><Number of Siblings/Spouses Aboard>0</Number of Siblings/Spouses Aboard><Number of Parents/Children Aboard>0</Number of Parents/Children Aboard><Ticket Number>19972</Ticket Number><Fare>0</Fare><Cabin></Cabin><Port of Embarkation>S</Port of Embarkation></row>\n",
      "<row><Passenger ID>824</Passenger ID><Survival (1: Survived, 0: Died)>1</Survival (1: Survived, 0: Died)><Passenger Class>3</Passenger Class><Name>Moor, Mrs. (Beila)</Name><Sex>female</Sex><Age>27</Age><Number of Siblings/Spouses Aboard>0</Number of Siblings/Spouses Aboard><Number of Parents/Children Aboard>1</Number of Parents/Children Aboard><Ticket Number>392096</Ticket Number><Fare>12.475</Fare><Cabin>E121</Cabin><Port of Embarkation>S</Port of Embarkation></row>\n",
      "<row><Passenger ID>825</Passenger ID><Survival (1: Survived, 0: Died)>0</Survival (1: Survived, 0: Died)><Passenger Class>3</Passenger Class><Name>Panula, Master. Urho Abraham</Name><Sex>male</Sex><Age>2</Age><Number of Siblings/Spouses Aboard>4</Number of Siblings/Spouses Aboard><Number of Parents/Children Aboard>1</Number of Parents/Children Aboard><Ticket Number>3101295</Ticket Number><Fare>39.6875</Fare><Cabin></Cabin><Port of Embarkation>S</Port of Embarkation></row>\n",
      "<row><Passenger ID>826</Passenger ID><Survival (1: Survived, 0: Died)>0</Survival (1: Survived, 0: Died)><Passenger Class>3</Passenger Class><Name>Flynn, Mr. John</Name><Sex>male</Sex><Age></Age><Number of Siblings/Spouses Aboard>0</Number of Siblings/Spouses Aboard><Number of Parents/Children Aboard>0</Number of Parents/Children Aboard><Ticket Number>368323</Ticket Number><Fare>6.95</Fare><Cabin></Cabin><Port of Embarkation>Q</Port of Embarkation></row>\n",
      "<row><Passenger ID>827</Passenger ID><Survival (1: Survived, 0: Died)>0</Survival (1: Survived, 0: Died)><Passenger Class>3</Passenger Class><Name>Lam, Mr. Len</Name><Sex>male</Sex><Age></Age><Number of Siblings/Spouses Aboard>0</Number of Siblings/Spouses Aboard><Number of Parents/Children Aboard>0</Number of Parents/Children Aboard><Ticket Number>1601</Ticket Number><Fare>56.4958</Fare><Cabin></Cabin><Port of Embarkation>S</Port of Embarkation></row>\n",
      "<row><Passenger ID>828</Passenger ID><Survival (1: Survived, 0: Died)>1</Survival (1: Survived, 0: Died)><Passenger Class>2</Passenger Class><Name>Mallet, Master. Andre</Name><Sex>male</Sex><Age>1</Age><Number of Siblings/Spouses Aboard>0</Number of Siblings/Spouses Aboard><Number of Parents/Children Aboard>2</Number of Parents/Children Aboard><Ticket Number>S.C./PARIS 2079</Ticket Number><Fare>37.0042</Fare><Cabin></Cabin><Port of Embarkation>C</Port of Embarkation></row>\n",
      "<row><Passenger ID>829</Passenger ID><Survival (1: Survived, 0: Died)>1</Survival (1: Survived, 0: Died)><Passenger Class>3</Passenger Class><Name>McCormack, Mr. Thomas Joseph</Name><Sex>male</Sex><Age></Age><Number of Siblings/Spouses Aboard>0</Number of Siblings/Spouses Aboard><Number of Parents/Children Aboard>0</Number of Parents/Children Aboard><Ticket Number>367228</Ticket Number><Fare>7.75</Fare><Cabin></Cabin><Port of Embarkation>Q</Port of Embarkation></row>\n",
      "<row><Passenger ID>830</Passenger ID><Survival (1: Survived, 0: Died)>1</Survival (1: Survived, 0: Died)><Passenger Class>1</Passenger Class><Name>Stone, Mrs. George Nelson (Martha Evelyn)</Name><Sex>female</Sex><Age>62</Age><Number of Siblings/Spouses Aboard>0</Number of Siblings/Spouses Aboard><Number of Parents/Children Aboard>0</Number of Parents/Children Aboard><Ticket Number>113572</Ticket Number><Fare>80</Fare><Cabin>B28</Cabin><Port of Embarkation></Port of Embarkation></row>\n",
      "<row><Passenger ID>831</Passenger ID><Survival (1: Survived, 0: Died)>1</Survival (1: Survived, 0: Died)><Passenger Class>3</Passenger Class><Name>Yasbeck, Mrs. Antoni (Selini Alexander)</Name><Sex>female</Sex><Age>15</Age><Number of Siblings/Spouses Aboard>1</Number of Siblings/Spouses Aboard><Number of Parents/Children Aboard>0</Number of Parents/Children Aboard><Ticket Number>2659</Ticket Number><Fare>14.4542</Fare><Cabin></Cabin><Port of Embarkation>C</Port of Embarkation></row>\n",
      "<row><Passenger ID>832</Passenger ID><Survival (1: Survived, 0: Died)>1</Survival (1: Survived, 0: Died)><Passenger Class>2</Passenger Class><Name>Richards, Master. George Sibley</Name><Sex>male</Sex><Age>0.83</Age><Number of Siblings/Spouses Aboard>1</Number of Siblings/Spouses Aboard><Number of Parents/Children Aboard>1</Number of Parents/Children Aboard><Ticket Number>29106</Ticket Number><Fare>18.75</Fare><Cabin></Cabin><Port of Embarkation>S</Port of Embarkation></row>\n",
      "<row><Passenger ID>833</Passenger ID><Survival (1: Survived, 0: Died)>0</Survival (1: Survived, 0: Died)><Passenger Class>3</Passenger Class><Name>Saad, Mr. Amin</Name><Sex>male</Sex><Age></Age><Number of Siblings/Spouses Aboard>0</Number of Siblings/Spouses Aboard><Number of Parents/Children Aboard>0</Number of Parents/Children Aboard><Ticket Number>2671</Ticket Number><Fare>7.2292</Fare><Cabin></Cabin><Port of Embarkation>C</Port of Embarkation></row>\n",
      "<row><Passenger ID>834</Passenger ID><Survival (1: Survived, 0: Died)>0</Survival (1: Survived, 0: Died)><Passenger Class>3</Passenger Class><Name>Augustsson, Mr. Albert</Name><Sex>male</Sex><Age>23</Age><Number of Siblings/Spouses Aboard>0</Number of Siblings/Spouses Aboard><Number of Parents/Children Aboard>0</Number of Parents/Children Aboard><Ticket Number>347468</Ticket Number><Fare>7.8542</Fare><Cabin></Cabin><Port of Embarkation>S</Port of Embarkation></row>\n",
      "<row><Passenger ID>835</Passenger ID><Survival (1: Survived, 0: Died)>0</Survival (1: Survived, 0: Died)><Passenger Class>3</Passenger Class><Name>Allum, Mr. Owen George</Name><Sex>male</Sex><Age>18</Age><Number of Siblings/Spouses Aboard>0</Number of Siblings/Spouses Aboard><Number of Parents/Children Aboard>0</Number of Parents/Children Aboard><Ticket Number>2223</Ticket Number><Fare>8.3</Fare><Cabin></Cabin><Port of Embarkation>S</Port of Embarkation></row>\n",
      "<row><Passenger ID>836</Passenger ID><Survival (1: Survived, 0: Died)>1</Survival (1: Survived, 0: Died)><Passenger Class>1</Passenger Class><Name>Compton, Miss. Sara Rebecca</Name><Sex>female</Sex><Age>39</Age><Number of Siblings/Spouses Aboard>1</Number of Siblings/Spouses Aboard><Number of Parents/Children Aboard>1</Number of Parents/Children Aboard><Ticket Number>PC 17756</Ticket Number><Fare>83.1583</Fare><Cabin>E49</Cabin><Port of Embarkation>C</Port of Embarkation></row>\n",
      "<row><Passenger ID>837</Passenger ID><Survival (1: Survived, 0: Died)>0</Survival (1: Survived, 0: Died)><Passenger Class>3</Passenger Class><Name>Pasic, Mr. Jakob</Name><Sex>male</Sex><Age>21</Age><Number of Siblings/Spouses Aboard>0</Number of Siblings/Spouses Aboard><Number of Parents/Children Aboard>0</Number of Parents/Children Aboard><Ticket Number>315097</Ticket Number><Fare>8.6625</Fare><Cabin></Cabin><Port of Embarkation>S</Port of Embarkation></row>\n",
      "<row><Passenger ID>838</Passenger ID><Survival (1: Survived, 0: Died)>0</Survival (1: Survived, 0: Died)><Passenger Class>3</Passenger Class><Name>Sirota, Mr. Maurice</Name><Sex>male</Sex><Age></Age><Number of Siblings/Spouses Aboard>0</Number of Siblings/Spouses Aboard><Number of Parents/Children Aboard>0</Number of Parents/Children Aboard><Ticket Number>392092</Ticket Number><Fare>8.05</Fare><Cabin></Cabin><Port of Embarkation>S</Port of Embarkation></row>\n",
      "<row><Passenger ID>839</Passenger ID><Survival (1: Survived, 0: Died)>1</Survival (1: Survived, 0: Died)><Passenger Class>3</Passenger Class><Name>Chip, Mr. Chang</Name><Sex>male</Sex><Age>32</Age><Number of Siblings/Spouses Aboard>0</Number of Siblings/Spouses Aboard><Number of Parents/Children Aboard>0</Number of Parents/Children Aboard><Ticket Number>1601</Ticket Number><Fare>56.4958</Fare><Cabin></Cabin><Port of Embarkation>S</Port of Embarkation></row>\n",
      "<row><Passenger ID>840</Passenger ID><Survival (1: Survived, 0: Died)>1</Survival (1: Survived, 0: Died)><Passenger Class>1</Passenger Class><Name>Marechal, Mr. Pierre</Name><Sex>male</Sex><Age></Age><Number of Siblings/Spouses Aboard>0</Number of Siblings/Spouses Aboard><Number of Parents/Children Aboard>0</Number of Parents/Children Aboard><Ticket Number>11774</Ticket Number><Fare>29.7</Fare><Cabin>C47</Cabin><Port of Embarkation>C</Port of Embarkation></row>\n",
      "<row><Passenger ID>841</Passenger ID><Survival (1: Survived, 0: Died)>0</Survival (1: Survived, 0: Died)><Passenger Class>3</Passenger Class><Name>Alhomaki, Mr. Ilmari Rudolf</Name><Sex>male</Sex><Age>20</Age><Number of Siblings/Spouses Aboard>0</Number of Siblings/Spouses Aboard><Number of Parents/Children Aboard>0</Number of Parents/Children Aboard><Ticket Number>SOTON/O2 3101287</Ticket Number><Fare>7.925</Fare><Cabin></Cabin><Port of Embarkation>S</Port of Embarkation></row>\n",
      "<row><Passenger ID>842</Passenger ID><Survival (1: Survived, 0: Died)>0</Survival (1: Survived, 0: Died)><Passenger Class>2</Passenger Class><Name>Mudd, Mr. Thomas Charles</Name><Sex>male</Sex><Age>16</Age><Number of Siblings/Spouses Aboard>0</Number of Siblings/Spouses Aboard><Number of Parents/Children Aboard>0</Number of Parents/Children Aboard><Ticket Number>S.O./P.P. 3</Ticket Number><Fare>10.5</Fare><Cabin></Cabin><Port of Embarkation>S</Port of Embarkation></row>\n",
      "<row><Passenger ID>843</Passenger ID><Survival (1: Survived, 0: Died)>1</Survival (1: Survived, 0: Died)><Passenger Class>1</Passenger Class><Name>Serepeca, Miss. Augusta</Name><Sex>female</Sex><Age>30</Age><Number of Siblings/Spouses Aboard>0</Number of Siblings/Spouses Aboard><Number of Parents/Children Aboard>0</Number of Parents/Children Aboard><Ticket Number>113798</Ticket Number><Fare>31</Fare><Cabin></Cabin><Port of Embarkation>C</Port of Embarkation></row>\n",
      "<row><Passenger ID>844</Passenger ID><Survival (1: Survived, 0: Died)>0</Survival (1: Survived, 0: Died)><Passenger Class>3</Passenger Class><Name>Lemberopolous, Mr. Peter L</Name><Sex>male</Sex><Age>34.5</Age><Number of Siblings/Spouses Aboard>0</Number of Siblings/Spouses Aboard><Number of Parents/Children Aboard>0</Number of Parents/Children Aboard><Ticket Number>2683</Ticket Number><Fare>6.4375</Fare><Cabin></Cabin><Port of Embarkation>C</Port of Embarkation></row>\n",
      "<row><Passenger ID>845</Passenger ID><Survival (1: Survived, 0: Died)>0</Survival (1: Survived, 0: Died)><Passenger Class>3</Passenger Class><Name>Culumovic, Mr. Jeso</Name><Sex>male</Sex><Age>17</Age><Number of Siblings/Spouses Aboard>0</Number of Siblings/Spouses Aboard><Number of Parents/Children Aboard>0</Number of Parents/Children Aboard><Ticket Number>315090</Ticket Number><Fare>8.6625</Fare><Cabin></Cabin><Port of Embarkation>S</Port of Embarkation></row>\n",
      "<row><Passenger ID>846</Passenger ID><Survival (1: Survived, 0: Died)>0</Survival (1: Survived, 0: Died)><Passenger Class>3</Passenger Class><Name>Abbing, Mr. Anthony</Name><Sex>male</Sex><Age>42</Age><Number of Siblings/Spouses Aboard>0</Number of Siblings/Spouses Aboard><Number of Parents/Children Aboard>0</Number of Parents/Children Aboard><Ticket Number>C.A. 5547</Ticket Number><Fare>7.55</Fare><Cabin></Cabin><Port of Embarkation>S</Port of Embarkation></row>\n",
      "<row><Passenger ID>847</Passenger ID><Survival (1: Survived, 0: Died)>0</Survival (1: Survived, 0: Died)><Passenger Class>3</Passenger Class><Name>Sage, Mr. Douglas Bullen</Name><Sex>male</Sex><Age></Age><Number of Siblings/Spouses Aboard>8</Number of Siblings/Spouses Aboard><Number of Parents/Children Aboard>2</Number of Parents/Children Aboard><Ticket Number>CA. 2343</Ticket Number><Fare>69.55</Fare><Cabin></Cabin><Port of Embarkation>S</Port of Embarkation></row>\n",
      "<row><Passenger ID>848</Passenger ID><Survival (1: Survived, 0: Died)>0</Survival (1: Survived, 0: Died)><Passenger Class>3</Passenger Class><Name>Markoff, Mr. Marin</Name><Sex>male</Sex><Age>35</Age><Number of Siblings/Spouses Aboard>0</Number of Siblings/Spouses Aboard><Number of Parents/Children Aboard>0</Number of Parents/Children Aboard><Ticket Number>349213</Ticket Number><Fare>7.8958</Fare><Cabin></Cabin><Port of Embarkation>C</Port of Embarkation></row>\n",
      "<row><Passenger ID>849</Passenger ID><Survival (1: Survived, 0: Died)>0</Survival (1: Survived, 0: Died)><Passenger Class>2</Passenger Class><Name>Harper, Rev. John</Name><Sex>male</Sex><Age>28</Age><Number of Siblings/Spouses Aboard>0</Number of Siblings/Spouses Aboard><Number of Parents/Children Aboard>1</Number of Parents/Children Aboard><Ticket Number>248727</Ticket Number><Fare>33</Fare><Cabin></Cabin><Port of Embarkation>S</Port of Embarkation></row>\n",
      "<row><Passenger ID>850</Passenger ID><Survival (1: Survived, 0: Died)>1</Survival (1: Survived, 0: Died)><Passenger Class>1</Passenger Class><Name>Goldenberg, Mrs. Samuel L (Edwiga Grabowska)</Name><Sex>female</Sex><Age></Age><Number of Siblings/Spouses Aboard>1</Number of Siblings/Spouses Aboard><Number of Parents/Children Aboard>0</Number of Parents/Children Aboard><Ticket Number>17453</Ticket Number><Fare>89.1042</Fare><Cabin>C92</Cabin><Port of Embarkation>C</Port of Embarkation></row>\n",
      "<row><Passenger ID>851</Passenger ID><Survival (1: Survived, 0: Died)>0</Survival (1: Survived, 0: Died)><Passenger Class>3</Passenger Class><Name>Andersson, Master. Sigvard Harald Elias</Name><Sex>male</Sex><Age>4</Age><Number of Siblings/Spouses Aboard>4</Number of Siblings/Spouses Aboard><Number of Parents/Children Aboard>2</Number of Parents/Children Aboard><Ticket Number>347082</Ticket Number><Fare>31.275</Fare><Cabin></Cabin><Port of Embarkation>S</Port of Embarkation></row>\n",
      "<row><Passenger ID>852</Passenger ID><Survival (1: Survived, 0: Died)>0</Survival (1: Survived, 0: Died)><Passenger Class>3</Passenger Class><Name>Svensson, Mr. Johan</Name><Sex>male</Sex><Age>74</Age><Number of Siblings/Spouses Aboard>0</Number of Siblings/Spouses Aboard><Number of Parents/Children Aboard>0</Number of Parents/Children Aboard><Ticket Number>347060</Ticket Number><Fare>7.775</Fare><Cabin></Cabin><Port of Embarkation>S</Port of Embarkation></row>\n",
      "<row><Passenger ID>853</Passenger ID><Survival (1: Survived, 0: Died)>0</Survival (1: Survived, 0: Died)><Passenger Class>3</Passenger Class><Name>Boulos, Miss. Nourelain</Name><Sex>female</Sex><Age>9</Age><Number of Siblings/Spouses Aboard>1</Number of Siblings/Spouses Aboard><Number of Parents/Children Aboard>1</Number of Parents/Children Aboard><Ticket Number>2678</Ticket Number><Fare>15.2458</Fare><Cabin></Cabin><Port of Embarkation>C</Port of Embarkation></row>\n",
      "<row><Passenger ID>854</Passenger ID><Survival (1: Survived, 0: Died)>1</Survival (1: Survived, 0: Died)><Passenger Class>1</Passenger Class><Name>Lines, Miss. Mary Conover</Name><Sex>female</Sex><Age>16</Age><Number of Siblings/Spouses Aboard>0</Number of Siblings/Spouses Aboard><Number of Parents/Children Aboard>1</Number of Parents/Children Aboard><Ticket Number>PC 17592</Ticket Number><Fare>39.4</Fare><Cabin>D28</Cabin><Port of Embarkation>S</Port of Embarkation></row>\n",
      "<row><Passenger ID>855</Passenger ID><Survival (1: Survived, 0: Died)>0</Survival (1: Survived, 0: Died)><Passenger Class>2</Passenger Class><Name>Carter, Mrs. Ernest Courtenay (Lilian Hughes)</Name><Sex>female</Sex><Age>44</Age><Number of Siblings/Spouses Aboard>1</Number of Siblings/Spouses Aboard><Number of Parents/Children Aboard>0</Number of Parents/Children Aboard><Ticket Number>244252</Ticket Number><Fare>26</Fare><Cabin></Cabin><Port of Embarkation>S</Port of Embarkation></row>\n",
      "<row><Passenger ID>856</Passenger ID><Survival (1: Survived, 0: Died)>1</Survival (1: Survived, 0: Died)><Passenger Class>3</Passenger Class><Name>Aks, Mrs. Sam (Leah Rosen)</Name><Sex>female</Sex><Age>18</Age><Number of Siblings/Spouses Aboard>0</Number of Siblings/Spouses Aboard><Number of Parents/Children Aboard>1</Number of Parents/Children Aboard><Ticket Number>392091</Ticket Number><Fare>9.35</Fare><Cabin></Cabin><Port of Embarkation>S</Port of Embarkation></row>\n",
      "<row><Passenger ID>857</Passenger ID><Survival (1: Survived, 0: Died)>1</Survival (1: Survived, 0: Died)><Passenger Class>1</Passenger Class><Name>Wick, Mrs. George Dennick (Mary Hitchcock)</Name><Sex>female</Sex><Age>45</Age><Number of Siblings/Spouses Aboard>1</Number of Siblings/Spouses Aboard><Number of Parents/Children Aboard>1</Number of Parents/Children Aboard><Ticket Number>36928</Ticket Number><Fare>164.8667</Fare><Cabin></Cabin><Port of Embarkation>S</Port of Embarkation></row>\n",
      "<row><Passenger ID>858</Passenger ID><Survival (1: Survived, 0: Died)>1</Survival (1: Survived, 0: Died)><Passenger Class>1</Passenger Class><Name>Daly, Mr. Peter Denis</Name><Sex>male</Sex><Age>51</Age><Number of Siblings/Spouses Aboard>0</Number of Siblings/Spouses Aboard><Number of Parents/Children Aboard>0</Number of Parents/Children Aboard><Ticket Number>113055</Ticket Number><Fare>26.55</Fare><Cabin>E17</Cabin><Port of Embarkation>S</Port of Embarkation></row>\n",
      "<row><Passenger ID>859</Passenger ID><Survival (1: Survived, 0: Died)>1</Survival (1: Survived, 0: Died)><Passenger Class>3</Passenger Class><Name>Baclini, Mrs. Solomon (Latifa Qurban)</Name><Sex>female</Sex><Age>24</Age><Number of Siblings/Spouses Aboard>0</Number of Siblings/Spouses Aboard><Number of Parents/Children Aboard>3</Number of Parents/Children Aboard><Ticket Number>2666</Ticket Number><Fare>19.2583</Fare><Cabin></Cabin><Port of Embarkation>C</Port of Embarkation></row>\n",
      "<row><Passenger ID>860</Passenger ID><Survival (1: Survived, 0: Died)>0</Survival (1: Survived, 0: Died)><Passenger Class>3</Passenger Class><Name>Razi, Mr. Raihed</Name><Sex>male</Sex><Age></Age><Number of Siblings/Spouses Aboard>0</Number of Siblings/Spouses Aboard><Number of Parents/Children Aboard>0</Number of Parents/Children Aboard><Ticket Number>2629</Ticket Number><Fare>7.2292</Fare><Cabin></Cabin><Port of Embarkation>C</Port of Embarkation></row>\n",
      "<row><Passenger ID>861</Passenger ID><Survival (1: Survived, 0: Died)>0</Survival (1: Survived, 0: Died)><Passenger Class>3</Passenger Class><Name>Hansen, Mr. Claus Peter</Name><Sex>male</Sex><Age>41</Age><Number of Siblings/Spouses Aboard>2</Number of Siblings/Spouses Aboard><Number of Parents/Children Aboard>0</Number of Parents/Children Aboard><Ticket Number>350026</Ticket Number><Fare>14.1083</Fare><Cabin></Cabin><Port of Embarkation>S</Port of Embarkation></row>\n",
      "<row><Passenger ID>862</Passenger ID><Survival (1: Survived, 0: Died)>0</Survival (1: Survived, 0: Died)><Passenger Class>2</Passenger Class><Name>Giles, Mr. Frederick Edward</Name><Sex>male</Sex><Age>21</Age><Number of Siblings/Spouses Aboard>1</Number of Siblings/Spouses Aboard><Number of Parents/Children Aboard>0</Number of Parents/Children Aboard><Ticket Number>28134</Ticket Number><Fare>11.5</Fare><Cabin></Cabin><Port of Embarkation>S</Port of Embarkation></row>\n",
      "<row><Passenger ID>863</Passenger ID><Survival (1: Survived, 0: Died)>1</Survival (1: Survived, 0: Died)><Passenger Class>1</Passenger Class><Name>Swift, Mrs. Frederick Joel (Margaret Welles Barron)</Name><Sex>female</Sex><Age>48</Age><Number of Siblings/Spouses Aboard>0</Number of Siblings/Spouses Aboard><Number of Parents/Children Aboard>0</Number of Parents/Children Aboard><Ticket Number>17466</Ticket Number><Fare>25.9292</Fare><Cabin>D17</Cabin><Port of Embarkation>S</Port of Embarkation></row>\n",
      "<row><Passenger ID>864</Passenger ID><Survival (1: Survived, 0: Died)>0</Survival (1: Survived, 0: Died)><Passenger Class>3</Passenger Class><Name>Sage, Miss. Dorothy Edith \"Dolly\"</Name><Sex>female</Sex><Age></Age><Number of Siblings/Spouses Aboard>8</Number of Siblings/Spouses Aboard><Number of Parents/Children Aboard>2</Number of Parents/Children Aboard><Ticket Number>CA. 2343</Ticket Number><Fare>69.55</Fare><Cabin></Cabin><Port of Embarkation>S</Port of Embarkation></row>\n",
      "<row><Passenger ID>865</Passenger ID><Survival (1: Survived, 0: Died)>0</Survival (1: Survived, 0: Died)><Passenger Class>2</Passenger Class><Name>Gill, Mr. John William</Name><Sex>male</Sex><Age>24</Age><Number of Siblings/Spouses Aboard>0</Number of Siblings/Spouses Aboard><Number of Parents/Children Aboard>0</Number of Parents/Children Aboard><Ticket Number>233866</Ticket Number><Fare>13</Fare><Cabin></Cabin><Port of Embarkation>S</Port of Embarkation></row>\n",
      "<row><Passenger ID>866</Passenger ID><Survival (1: Survived, 0: Died)>1</Survival (1: Survived, 0: Died)><Passenger Class>2</Passenger Class><Name>Bystrom, Mrs. (Karolina)</Name><Sex>female</Sex><Age>42</Age><Number of Siblings/Spouses Aboard>0</Number of Siblings/Spouses Aboard><Number of Parents/Children Aboard>0</Number of Parents/Children Aboard><Ticket Number>236852</Ticket Number><Fare>13</Fare><Cabin></Cabin><Port of Embarkation>S</Port of Embarkation></row>\n",
      "<row><Passenger ID>867</Passenger ID><Survival (1: Survived, 0: Died)>1</Survival (1: Survived, 0: Died)><Passenger Class>2</Passenger Class><Name>Duran y More, Miss. Asuncion</Name><Sex>female</Sex><Age>27</Age><Number of Siblings/Spouses Aboard>1</Number of Siblings/Spouses Aboard><Number of Parents/Children Aboard>0</Number of Parents/Children Aboard><Ticket Number>SC/PARIS 2149</Ticket Number><Fare>13.8583</Fare><Cabin></Cabin><Port of Embarkation>C</Port of Embarkation></row>\n",
      "<row><Passenger ID>868</Passenger ID><Survival (1: Survived, 0: Died)>0</Survival (1: Survived, 0: Died)><Passenger Class>1</Passenger Class><Name>Roebling, Mr. Washington Augustus II</Name><Sex>male</Sex><Age>31</Age><Number of Siblings/Spouses Aboard>0</Number of Siblings/Spouses Aboard><Number of Parents/Children Aboard>0</Number of Parents/Children Aboard><Ticket Number>PC 17590</Ticket Number><Fare>50.4958</Fare><Cabin>A24</Cabin><Port of Embarkation>S</Port of Embarkation></row>\n",
      "<row><Passenger ID>869</Passenger ID><Survival (1: Survived, 0: Died)>0</Survival (1: Survived, 0: Died)><Passenger Class>3</Passenger Class><Name>van Melkebeke, Mr. Philemon</Name><Sex>male</Sex><Age></Age><Number of Siblings/Spouses Aboard>0</Number of Siblings/Spouses Aboard><Number of Parents/Children Aboard>0</Number of Parents/Children Aboard><Ticket Number>345777</Ticket Number><Fare>9.5</Fare><Cabin></Cabin><Port of Embarkation>S</Port of Embarkation></row>\n",
      "<row><Passenger ID>870</Passenger ID><Survival (1: Survived, 0: Died)>1</Survival (1: Survived, 0: Died)><Passenger Class>3</Passenger Class><Name>Johnson, Master. Harold Theodor</Name><Sex>male</Sex><Age>4</Age><Number of Siblings/Spouses Aboard>1</Number of Siblings/Spouses Aboard><Number of Parents/Children Aboard>1</Number of Parents/Children Aboard><Ticket Number>347742</Ticket Number><Fare>11.1333</Fare><Cabin></Cabin><Port of Embarkation>S</Port of Embarkation></row>\n",
      "<row><Passenger ID>871</Passenger ID><Survival (1: Survived, 0: Died)>0</Survival (1: Survived, 0: Died)><Passenger Class>3</Passenger Class><Name>Balkic, Mr. Cerin</Name><Sex>male</Sex><Age>26</Age><Number of Siblings/Spouses Aboard>0</Number of Siblings/Spouses Aboard><Number of Parents/Children Aboard>0</Number of Parents/Children Aboard><Ticket Number>349248</Ticket Number><Fare>7.8958</Fare><Cabin></Cabin><Port of Embarkation>S</Port of Embarkation></row>\n",
      "<row><Passenger ID>872</Passenger ID><Survival (1: Survived, 0: Died)>1</Survival (1: Survived, 0: Died)><Passenger Class>1</Passenger Class><Name>Beckwith, Mrs. Richard Leonard (Sallie Monypeny)</Name><Sex>female</Sex><Age>47</Age><Number of Siblings/Spouses Aboard>1</Number of Siblings/Spouses Aboard><Number of Parents/Children Aboard>1</Number of Parents/Children Aboard><Ticket Number>11751</Ticket Number><Fare>52.5542</Fare><Cabin>D35</Cabin><Port of Embarkation>S</Port of Embarkation></row>\n",
      "<row><Passenger ID>873</Passenger ID><Survival (1: Survived, 0: Died)>0</Survival (1: Survived, 0: Died)><Passenger Class>1</Passenger Class><Name>Carlsson, Mr. Frans Olof</Name><Sex>male</Sex><Age>33</Age><Number of Siblings/Spouses Aboard>0</Number of Siblings/Spouses Aboard><Number of Parents/Children Aboard>0</Number of Parents/Children Aboard><Ticket Number>695</Ticket Number><Fare>5</Fare><Cabin>B51 B53 B55</Cabin><Port of Embarkation>S</Port of Embarkation></row>\n",
      "<row><Passenger ID>874</Passenger ID><Survival (1: Survived, 0: Died)>0</Survival (1: Survived, 0: Died)><Passenger Class>3</Passenger Class><Name>Vander Cruyssen, Mr. Victor</Name><Sex>male</Sex><Age>47</Age><Number of Siblings/Spouses Aboard>0</Number of Siblings/Spouses Aboard><Number of Parents/Children Aboard>0</Number of Parents/Children Aboard><Ticket Number>345765</Ticket Number><Fare>9</Fare><Cabin></Cabin><Port of Embarkation>S</Port of Embarkation></row>\n",
      "<row><Passenger ID>875</Passenger ID><Survival (1: Survived, 0: Died)>1</Survival (1: Survived, 0: Died)><Passenger Class>2</Passenger Class><Name>Abelson, Mrs. Samuel (Hannah Wizosky)</Name><Sex>female</Sex><Age>28</Age><Number of Siblings/Spouses Aboard>1</Number of Siblings/Spouses Aboard><Number of Parents/Children Aboard>0</Number of Parents/Children Aboard><Ticket Number>P/PP 3381</Ticket Number><Fare>24</Fare><Cabin></Cabin><Port of Embarkation>C</Port of Embarkation></row>\n",
      "<row><Passenger ID>876</Passenger ID><Survival (1: Survived, 0: Died)>1</Survival (1: Survived, 0: Died)><Passenger Class>3</Passenger Class><Name>Najib, Miss. Adele Kiamie \"Jane\"</Name><Sex>female</Sex><Age>15</Age><Number of Siblings/Spouses Aboard>0</Number of Siblings/Spouses Aboard><Number of Parents/Children Aboard>0</Number of Parents/Children Aboard><Ticket Number>2667</Ticket Number><Fare>7.225</Fare><Cabin></Cabin><Port of Embarkation>C</Port of Embarkation></row>\n",
      "<row><Passenger ID>877</Passenger ID><Survival (1: Survived, 0: Died)>0</Survival (1: Survived, 0: Died)><Passenger Class>3</Passenger Class><Name>Gustafsson, Mr. Alfred Ossian</Name><Sex>male</Sex><Age>20</Age><Number of Siblings/Spouses Aboard>0</Number of Siblings/Spouses Aboard><Number of Parents/Children Aboard>0</Number of Parents/Children Aboard><Ticket Number>7534</Ticket Number><Fare>9.8458</Fare><Cabin></Cabin><Port of Embarkation>S</Port of Embarkation></row>\n",
      "<row><Passenger ID>878</Passenger ID><Survival (1: Survived, 0: Died)>0</Survival (1: Survived, 0: Died)><Passenger Class>3</Passenger Class><Name>Petroff, Mr. Nedelio</Name><Sex>male</Sex><Age>19</Age><Number of Siblings/Spouses Aboard>0</Number of Siblings/Spouses Aboard><Number of Parents/Children Aboard>0</Number of Parents/Children Aboard><Ticket Number>349212</Ticket Number><Fare>7.8958</Fare><Cabin></Cabin><Port of Embarkation>S</Port of Embarkation></row>\n",
      "<row><Passenger ID>879</Passenger ID><Survival (1: Survived, 0: Died)>0</Survival (1: Survived, 0: Died)><Passenger Class>3</Passenger Class><Name>Laleff, Mr. Kristo</Name><Sex>male</Sex><Age></Age><Number of Siblings/Spouses Aboard>0</Number of Siblings/Spouses Aboard><Number of Parents/Children Aboard>0</Number of Parents/Children Aboard><Ticket Number>349217</Ticket Number><Fare>7.8958</Fare><Cabin></Cabin><Port of Embarkation>S</Port of Embarkation></row>\n",
      "<row><Passenger ID>880</Passenger ID><Survival (1: Survived, 0: Died)>1</Survival (1: Survived, 0: Died)><Passenger Class>1</Passenger Class><Name>Potter, Mrs. Thomas Jr (Lily Alexenia Wilson)</Name><Sex>female</Sex><Age>56</Age><Number of Siblings/Spouses Aboard>0</Number of Siblings/Spouses Aboard><Number of Parents/Children Aboard>1</Number of Parents/Children Aboard><Ticket Number>11767</Ticket Number><Fare>83.1583</Fare><Cabin>C50</Cabin><Port of Embarkation>C</Port of Embarkation></row>\n",
      "<row><Passenger ID>881</Passenger ID><Survival (1: Survived, 0: Died)>1</Survival (1: Survived, 0: Died)><Passenger Class>2</Passenger Class><Name>Shelley, Mrs. William (Imanita Parrish Hall)</Name><Sex>female</Sex><Age>25</Age><Number of Siblings/Spouses Aboard>0</Number of Siblings/Spouses Aboard><Number of Parents/Children Aboard>1</Number of Parents/Children Aboard><Ticket Number>230433</Ticket Number><Fare>26</Fare><Cabin></Cabin><Port of Embarkation>S</Port of Embarkation></row>\n",
      "<row><Passenger ID>882</Passenger ID><Survival (1: Survived, 0: Died)>0</Survival (1: Survived, 0: Died)><Passenger Class>3</Passenger Class><Name>Markun, Mr. Johann</Name><Sex>male</Sex><Age>33</Age><Number of Siblings/Spouses Aboard>0</Number of Siblings/Spouses Aboard><Number of Parents/Children Aboard>0</Number of Parents/Children Aboard><Ticket Number>349257</Ticket Number><Fare>7.8958</Fare><Cabin></Cabin><Port of Embarkation>S</Port of Embarkation></row>\n",
      "<row><Passenger ID>883</Passenger ID><Survival (1: Survived, 0: Died)>0</Survival (1: Survived, 0: Died)><Passenger Class>3</Passenger Class><Name>Dahlberg, Miss. Gerda Ulrika</Name><Sex>female</Sex><Age>22</Age><Number of Siblings/Spouses Aboard>0</Number of Siblings/Spouses Aboard><Number of Parents/Children Aboard>0</Number of Parents/Children Aboard><Ticket Number>7552</Ticket Number><Fare>10.5167</Fare><Cabin></Cabin><Port of Embarkation>S</Port of Embarkation></row>\n",
      "<row><Passenger ID>884</Passenger ID><Survival (1: Survived, 0: Died)>0</Survival (1: Survived, 0: Died)><Passenger Class>2</Passenger Class><Name>Banfield, Mr. Frederick James</Name><Sex>male</Sex><Age>28</Age><Number of Siblings/Spouses Aboard>0</Number of Siblings/Spouses Aboard><Number of Parents/Children Aboard>0</Number of Parents/Children Aboard><Ticket Number>C.A./SOTON 34068</Ticket Number><Fare>10.5</Fare><Cabin></Cabin><Port of Embarkation>S</Port of Embarkation></row>\n",
      "<row><Passenger ID>885</Passenger ID><Survival (1: Survived, 0: Died)>0</Survival (1: Survived, 0: Died)><Passenger Class>3</Passenger Class><Name>Sutehall, Mr. Henry Jr</Name><Sex>male</Sex><Age>25</Age><Number of Siblings/Spouses Aboard>0</Number of Siblings/Spouses Aboard><Number of Parents/Children Aboard>0</Number of Parents/Children Aboard><Ticket Number>SOTON/OQ 392076</Ticket Number><Fare>7.05</Fare><Cabin></Cabin><Port of Embarkation>S</Port of Embarkation></row>\n",
      "<row><Passenger ID>886</Passenger ID><Survival (1: Survived, 0: Died)>0</Survival (1: Survived, 0: Died)><Passenger Class>3</Passenger Class><Name>Rice, Mrs. William (Margaret Norton)</Name><Sex>female</Sex><Age>39</Age><Number of Siblings/Spouses Aboard>0</Number of Siblings/Spouses Aboard><Number of Parents/Children Aboard>5</Number of Parents/Children Aboard><Ticket Number>382652</Ticket Number><Fare>29.125</Fare><Cabin></Cabin><Port of Embarkation>Q</Port of Embarkation></row>\n",
      "<row><Passenger ID>887</Passenger ID><Survival (1: Survived, 0: Died)>0</Survival (1: Survived, 0: Died)><Passenger Class>2</Passenger Class><Name>Montvila, Rev. Juozas</Name><Sex>male</Sex><Age>27</Age><Number of Siblings/Spouses Aboard>0</Number of Siblings/Spouses Aboard><Number of Parents/Children Aboard>0</Number of Parents/Children Aboard><Ticket Number>211536</Ticket Number><Fare>13</Fare><Cabin></Cabin><Port of Embarkation>S</Port of Embarkation></row>\n",
      "<row><Passenger ID>888</Passenger ID><Survival (1: Survived, 0: Died)>1</Survival (1: Survived, 0: Died)><Passenger Class>1</Passenger Class><Name>Graham, Miss. Margaret Edith</Name><Sex>female</Sex><Age>19</Age><Number of Siblings/Spouses Aboard>0</Number of Siblings/Spouses Aboard><Number of Parents/Children Aboard>0</Number of Parents/Children Aboard><Ticket Number>112053</Ticket Number><Fare>30</Fare><Cabin>B42</Cabin><Port of Embarkation>S</Port of Embarkation></row>\n",
      "<row><Passenger ID>889</Passenger ID><Survival (1: Survived, 0: Died)>0</Survival (1: Survived, 0: Died)><Passenger Class>3</Passenger Class><Name>Johnston, Miss. Catherine Helen \"Carrie\"</Name><Sex>female</Sex><Age></Age><Number of Siblings/Spouses Aboard>1</Number of Siblings/Spouses Aboard><Number of Parents/Children Aboard>2</Number of Parents/Children Aboard><Ticket Number>W./C. 6607</Ticket Number><Fare>23.45</Fare><Cabin></Cabin><Port of Embarkation>S</Port of Embarkation></row>\n",
      "<row><Passenger ID>890</Passenger ID><Survival (1: Survived, 0: Died)>1</Survival (1: Survived, 0: Died)><Passenger Class>1</Passenger Class><Name>Behr, Mr. Karl Howell</Name><Sex>male</Sex><Age>26</Age><Number of Siblings/Spouses Aboard>0</Number of Siblings/Spouses Aboard><Number of Parents/Children Aboard>0</Number of Parents/Children Aboard><Ticket Number>111369</Ticket Number><Fare>30</Fare><Cabin>C148</Cabin><Port of Embarkation>C</Port of Embarkation></row>\n",
      "<row><Passenger ID>891</Passenger ID><Survival (1: Survived, 0: Died)>0</Survival (1: Survived, 0: Died)><Passenger Class>3</Passenger Class><Name>Dooley, Mr. Patrick</Name><Sex>male</Sex><Age>32</Age><Number of Siblings/Spouses Aboard>0</Number of Siblings/Spouses Aboard><Number of Parents/Children Aboard>0</Number of Parents/Children Aboard><Ticket Number>370376</Ticket Number><Fare>7.75</Fare><Cabin></Cabin><Port of Embarkation>Q</Port of Embarkation></row>\n"
     ]
    }
   ],
   "source": [
    "for doc in docs[1:]: #전체 문서 반복 실행 진행행\n",
    "    row = doc.page_content.split(\"\\n\")\n",
    "    row_str = \"<row>\"\n",
    "    for element in row:\n",
    "        splitted_element = element.split(\":\")\n",
    "        value = splitted_element[-1]\n",
    "        col = \":\".join(splitted_element[:-1])\n",
    "        row_str += f\"<{col}>{value.strip()}</{col}>\"\n",
    "    row_str += \"</row>\"\n",
    "    print(row_str)"
   ]
  },
  {
   "cell_type": "markdown",
   "metadata": {},
   "source": [
    "source_column 인자를 사용하여 각 행에서 생성된 문서의 출처를 지정"
   ]
  },
  {
   "cell_type": "code",
   "execution_count": 15,
   "metadata": {},
   "outputs": [
    {
     "name": "stdout",
     "output_type": "stream",
     "text": [
      "page_content='PassengerId: 2\n",
      "Survived: 1\n",
      "Pclass: 1\n",
      "Name: Cumings, Mrs. John Bradley (Florence Briggs Thayer)\n",
      "Sex: female\n",
      "Age: 38\n",
      "SibSp: 1\n",
      "Parch: 0\n",
      "Ticket: PC 17599\n",
      "Fare: 71.2833\n",
      "Cabin: C85\n",
      "Embarked: C' metadata={'source': '2', 'row': 1}\n"
     ]
    }
   ],
   "source": [
    "loader = CSVLoader(\n",
    "    file_path=\"./data/titanic.csv\", source_column=\"PassengerId\"\n",
    ")  # CSV 로더 설정, 파일 경로 및 소스 컬럼 지정\n",
    "\n",
    "docs = loader.load()  # 데이터 로드\n",
    "\n",
    "print(docs[1])  # 데이터 출력"
   ]
  },
  {
   "cell_type": "markdown",
   "metadata": {},
   "source": [
    "**UnstructuredCSVLoader**\n",
    "\n",
    "테이블을 로드할 수 있습니다. elements 모드에서 사용할 경우 메타데이터에서 테이블의 HTML 표현이 제공됩니다."
   ]
  },
  {
   "cell_type": "code",
   "execution_count": 16,
   "metadata": {},
   "outputs": [
    {
     "name": "stdout",
     "output_type": "stream",
     "text": [
      "<table border=\"1\" class=\"dataframe\">\n",
      "  <tbody>\n",
      "    <tr>\n",
      "      <td>1</td>\n",
      "      <td>0</td>\n",
      "      <td>3</td>\n",
      "      <td>Braund, Mr. Owen Harris</td>\n",
      "      <td>male</td>\n",
      "      <td>22.00</td>\n",
      "      <td>1</td>\n",
      "      <td>0</td>\n",
      "      <td>A/5 21171</td>\n",
      "      <td>7.2500</td>\n",
      "      <td></td>\n",
      "      <td>S</td>\n",
      "    </tr>\n",
      "    <tr>\n",
      "      <td>2</td>\n",
      "      <td>1</td>\n",
      "      <td>1</td>\n",
      "      <td>Cumings, Mrs. John Bradley (Florence Briggs Thayer)</td>\n",
      "      <td>female</td>\n",
      "      <td>38.00</td>\n",
      "      <td>1</td>\n",
      "      <td>0</td>\n",
      "      <td>PC 17599</td>\n",
      "      <td>71.2833</td>\n",
      "      <td>C85</td>\n",
      "      <td>C</td>\n",
      "    </tr>\n",
      "    <tr>\n",
      "      <td>3</td>\n",
      "      <td>1</td>\n",
      "      <td>3</td>\n",
      "      <td>Heikkinen, Miss. Laina</td>\n",
      "      <td>female</td>\n",
      "      <td>26.00</td>\n",
      "      <td>0</td>\n",
      "      <td>0</td>\n",
      "      <td>STON/O2. 3101282</td>\n",
      "      <td>7.9250</td>\n",
      "      <td></td>\n",
      "      <td>S</td>\n",
      "    </tr>\n",
      "    <tr>\n",
      "      <td>4</td>\n",
      "      <td>1</td>\n",
      "      <td>1</td>\n",
      "      <td>Futrelle, Mrs. Jacques Heath (Lily May Peel)</td>\n",
      "\n"
     ]
    }
   ],
   "source": [
    "from langchain_community.document_loaders.csv_loader import UnstructuredCSVLoader\n",
    "\n",
    "# 비구조화 CSV 로더 인스턴스 생성\n",
    "loader = UnstructuredCSVLoader(file_path=\"./data/titanic.csv\", mode=\"elements\")\n",
    "\n",
    "# 문서 로드\n",
    "docs = loader.load()\n",
    "\n",
    "# 첫 번째 문서의 HTML 텍스트 메타데이터 출력\n",
    "print(docs[0].metadata[\"text_as_html\"][:1000])"
   ]
  },
  {
   "cell_type": "markdown",
   "metadata": {},
   "source": [
    "**DataFrameLoader**\n",
    "\n"
   ]
  },
  {
   "cell_type": "code",
   "execution_count": null,
   "metadata": {},
   "outputs": [],
   "source": [
    "import pandas as pd\n",
    "\n",
    "# CSV 파일 읽기\n",
    "df = pd.read_csv(\"./data/titanic.csv\") #파이썬에서 데이터 처리와 분석을 쉽게 할 수 있도록 도와주는 라이브러리리"
   ]
  },
  {
   "cell_type": "code",
   "execution_count": 18,
   "metadata": {},
   "outputs": [
    {
     "data": {
      "text/html": [
       "<div>\n",
       "<style scoped>\n",
       "    .dataframe tbody tr th:only-of-type {\n",
       "        vertical-align: middle;\n",
       "    }\n",
       "\n",
       "    .dataframe tbody tr th {\n",
       "        vertical-align: top;\n",
       "    }\n",
       "\n",
       "    .dataframe thead th {\n",
       "        text-align: right;\n",
       "    }\n",
       "</style>\n",
       "<table border=\"1\" class=\"dataframe\">\n",
       "  <thead>\n",
       "    <tr style=\"text-align: right;\">\n",
       "      <th></th>\n",
       "      <th>PassengerId</th>\n",
       "      <th>Survived</th>\n",
       "      <th>Pclass</th>\n",
       "      <th>Name</th>\n",
       "      <th>Sex</th>\n",
       "      <th>Age</th>\n",
       "      <th>SibSp</th>\n",
       "      <th>Parch</th>\n",
       "      <th>Ticket</th>\n",
       "      <th>Fare</th>\n",
       "      <th>Cabin</th>\n",
       "      <th>Embarked</th>\n",
       "    </tr>\n",
       "  </thead>\n",
       "  <tbody>\n",
       "    <tr>\n",
       "      <th>0</th>\n",
       "      <td>1</td>\n",
       "      <td>0</td>\n",
       "      <td>3</td>\n",
       "      <td>Braund, Mr. Owen Harris</td>\n",
       "      <td>male</td>\n",
       "      <td>22.0</td>\n",
       "      <td>1</td>\n",
       "      <td>0</td>\n",
       "      <td>A/5 21171</td>\n",
       "      <td>7.2500</td>\n",
       "      <td>NaN</td>\n",
       "      <td>S</td>\n",
       "    </tr>\n",
       "    <tr>\n",
       "      <th>1</th>\n",
       "      <td>2</td>\n",
       "      <td>1</td>\n",
       "      <td>1</td>\n",
       "      <td>Cumings, Mrs. John Bradley (Florence Briggs Th...</td>\n",
       "      <td>female</td>\n",
       "      <td>38.0</td>\n",
       "      <td>1</td>\n",
       "      <td>0</td>\n",
       "      <td>PC 17599</td>\n",
       "      <td>71.2833</td>\n",
       "      <td>C85</td>\n",
       "      <td>C</td>\n",
       "    </tr>\n",
       "    <tr>\n",
       "      <th>2</th>\n",
       "      <td>3</td>\n",
       "      <td>1</td>\n",
       "      <td>3</td>\n",
       "      <td>Heikkinen, Miss. Laina</td>\n",
       "      <td>female</td>\n",
       "      <td>26.0</td>\n",
       "      <td>0</td>\n",
       "      <td>0</td>\n",
       "      <td>STON/O2. 3101282</td>\n",
       "      <td>7.9250</td>\n",
       "      <td>NaN</td>\n",
       "      <td>S</td>\n",
       "    </tr>\n",
       "    <tr>\n",
       "      <th>3</th>\n",
       "      <td>4</td>\n",
       "      <td>1</td>\n",
       "      <td>1</td>\n",
       "      <td>Futrelle, Mrs. Jacques Heath (Lily May Peel)</td>\n",
       "      <td>female</td>\n",
       "      <td>35.0</td>\n",
       "      <td>1</td>\n",
       "      <td>0</td>\n",
       "      <td>113803</td>\n",
       "      <td>53.1000</td>\n",
       "      <td>C123</td>\n",
       "      <td>S</td>\n",
       "    </tr>\n",
       "    <tr>\n",
       "      <th>4</th>\n",
       "      <td>5</td>\n",
       "      <td>0</td>\n",
       "      <td>3</td>\n",
       "      <td>Allen, Mr. William Henry</td>\n",
       "      <td>male</td>\n",
       "      <td>35.0</td>\n",
       "      <td>0</td>\n",
       "      <td>0</td>\n",
       "      <td>373450</td>\n",
       "      <td>8.0500</td>\n",
       "      <td>NaN</td>\n",
       "      <td>S</td>\n",
       "    </tr>\n",
       "  </tbody>\n",
       "</table>\n",
       "</div>"
      ],
      "text/plain": [
       "   PassengerId  Survived  Pclass  \\\n",
       "0            1         0       3   \n",
       "1            2         1       1   \n",
       "2            3         1       3   \n",
       "3            4         1       1   \n",
       "4            5         0       3   \n",
       "\n",
       "                                                Name     Sex   Age  SibSp  \\\n",
       "0                            Braund, Mr. Owen Harris    male  22.0      1   \n",
       "1  Cumings, Mrs. John Bradley (Florence Briggs Th...  female  38.0      1   \n",
       "2                             Heikkinen, Miss. Laina  female  26.0      0   \n",
       "3       Futrelle, Mrs. Jacques Heath (Lily May Peel)  female  35.0      1   \n",
       "4                           Allen, Mr. William Henry    male  35.0      0   \n",
       "\n",
       "   Parch            Ticket     Fare Cabin Embarked  \n",
       "0      0         A/5 21171   7.2500   NaN        S  \n",
       "1      0          PC 17599  71.2833   C85        C  \n",
       "2      0  STON/O2. 3101282   7.9250   NaN        S  \n",
       "3      0            113803  53.1000  C123        S  \n",
       "4      0            373450   8.0500   NaN        S  "
      ]
     },
     "execution_count": 18,
     "metadata": {},
     "output_type": "execute_result"
    }
   ],
   "source": [
    "# 데이터프레임의 처음 다섯 행 조회\n",
    "df.head()"
   ]
  },
  {
   "cell_type": "code",
   "execution_count": null,
   "metadata": {},
   "outputs": [
    {
     "name": "stdout",
     "output_type": "stream",
     "text": [
      "Braund, Mr. Owen Harris\n",
      "{'PassengerId': 1, 'Survived': 0, 'Pclass': 3, 'Sex': 'male', 'Age': 22.0, 'SibSp': 1, 'Parch': 0, 'Ticket': 'A/5 21171', 'Fare': 7.25, 'Cabin': nan, 'Embarked': 'S'}\n"
     ]
    }
   ],
   "source": [
    "from langchain_community.document_loaders import DataFrameLoader\n",
    "\n",
    "# 데이터 프레임 로더 설정, 페이지 내용 컬럼 지정 엑셀 내 특정 위치 데이터를 뽑아내는데 용이하다.\n",
    "loader = DataFrameLoader(df, page_content_column=\"Name\")\n",
    "\n",
    "# 문서 로드\n",
    "docs = loader.load()\n",
    "\n",
    "# 데이터 출력\n",
    "print(docs[0].page_content)\n",
    "\n",
    "# 메타데이터 출력\n",
    "print(docs[0].metadata)"
   ]
  },
  {
   "cell_type": "code",
   "execution_count": null,
   "metadata": {},
   "outputs": [
    {
     "name": "stdout",
     "output_type": "stream",
     "text": [
      "page_content='Braund, Mr. Owen Harris' metadata={'PassengerId': 1, 'Survived': 0, 'Pclass': 3, 'Sex': 'male', 'Age': 22.0, 'SibSp': 1, 'Parch': 0, 'Ticket': 'A/5 21171', 'Fare': 7.25, 'Cabin': nan, 'Embarked': 'S'}\n"
     ]
    }
   ],
   "source": [
    "# 큰 테이블에 대한 지연 로딩, 전체 테이블을 메모리에 로드하지 않음\n",
    "for row in loader.lazy_load(): #lazy_load를 사용하여 하나씩 값을 생성\n",
    "    print(row)\n",
    "    break  # 첫 행만 출력"
   ]
  },
  {
   "cell_type": "markdown",
   "metadata": {},
   "source": [
    "## 04-Excel\n",
    "\n"
   ]
  },
  {
   "cell_type": "code",
   "execution_count": 31,
   "metadata": {},
   "outputs": [
    {
     "name": "stdout",
     "output_type": "stream",
     "text": [
      "1\n"
     ]
    }
   ],
   "source": [
    "from langchain_community.document_loaders import UnstructuredExcelLoader\n",
    "#import pandas as pd #기존 방식으로 엑셀 출력 시 RecursionError: maximum recursion depth exceeded while calling a Python object 오류 발생\n",
    "# UnstructuredExcelLoader 생성\n",
    "loader = UnstructuredExcelLoader(\"./data/titanic1.xlsx\", mode=\"elements\")\n",
    "\n",
    "# 문서 로드\n",
    "docs = loader.load()\n",
    "\n",
    "#df = pd.read_excel(\"./data/titanic.xlsx\")\n",
    "# 문서 길이 출력\n",
    "print(len(docs))\n",
    "\n",
    "#print(df.head())"
   ]
  },
  {
   "cell_type": "code",
   "execution_count": 33,
   "metadata": {},
   "outputs": [
    {
     "name": "stdout",
     "output_type": "stream",
     "text": [
      "\n",
      "\n",
      "\n",
      "PassengerId\n",
      "Survived\n",
      "Pclass\n",
      "Name\n",
      "Sex\n",
      "Age\n",
      "SibSp\n",
      "Parch\n",
      "Ticket\n",
      "Fare\n",
      "Cabin\n",
      "Embarked\n",
      "\n",
      "\n",
      "1\n",
      "0\n",
      "3\n",
      "Braund, Mr. Owen Harris\n",
      "male\n",
      "22\n",
      "1\n",
      "0\n",
      "A/5 21171\n",
      "7.25\n",
      "\n",
      "S\n",
      "\n",
      "\n",
      "2\n",
      "1\n",
      "1\n",
      "Cumings, Mrs. John Bradley (Florence Briggs Thayer)\n",
      "female\n",
      "38\n",
      "1\n",
      "0\n",
      "PC 17599\n",
      "71.2833\n",
      "C85\n",
      "C\n",
      "\n",
      "\n",
      "3\n",
      "1\n",
      "3\n",
      "Heikkinen, Miss. Laina\n",
      "female\n",
      "26\n",
      "0\n",
      "0\n",
      "STON/O2. 3101\n"
     ]
    }
   ],
   "source": [
    "# 문서 출력\n",
    "print(docs[0].page_content[:300])"
   ]
  },
  {
   "cell_type": "code",
   "execution_count": 34,
   "metadata": {},
   "outputs": [
    {
     "name": "stdout",
     "output_type": "stream",
     "text": [
      "<table border=\"1\" class=\"dataframe\">\n",
      "  <tbody>\n",
      "    <tr>\n",
      "      <td>PassengerId</td>\n",
      "      <td>Survived</td>\n",
      "      <td>Pclass</td>\n",
      "      <td>Name</td>\n",
      "      <td>Sex</td>\n",
      "      <td>Age</td>\n",
      "      <td>SibSp</td>\n",
      "      <td>Parch</td>\n",
      "      <td>Ticket</td>\n",
      "      <td>Fare</td>\n",
      "      <td>Cabin</td>\n",
      "      <td>Embarked</td>\n",
      "    </tr>\n",
      "    <tr>\n",
      "      <td>1</td>\n",
      "      <td>0</td>\n",
      "      <td>3</td>\n",
      "      <td>Braund, Mr. Owen Harris</td>\n",
      "      <td>male</td>\n",
      "      <td>22</td>\n",
      "      <td>1</td>\n",
      "      <td>0</td>\n",
      "      <td>A/5 21171</td>\n",
      "      <td>7.25</td>\n",
      "      <td></td>\n",
      "      <td>S</td>\n",
      "    </tr>\n",
      "    <tr>\n",
      "      <td>2</td>\n",
      "      <td>1</td>\n",
      "      <td>1</td>\n",
      "      <td>Cumings, Mrs. John Bradley (Florence Briggs Thayer)</td>\n",
      "      <td>female</td>\n",
      "      <td>38</td>\n",
      "      <td>1</td>\n",
      "      <td>0</td>\n",
      "      <td>PC 17599</td>\n",
      "      <td>71.2833</td>\n",
      "      <td>C85</td>\n",
      "      <td>C</td>\n",
      "    </tr>\n",
      "    <tr>\n",
      "      <td>3</td>\n",
      "      <td>1</td>\n",
      "      <td>3</td>\n",
      "      <td>Heikkinen, Miss. Laina</td>\n",
      "      <td>female</td>\n",
      " \n"
     ]
    }
   ],
   "source": [
    "# metadata 의 text_as_html 출력\n",
    "print(docs[0].metadata[\"text_as_html\"][:1000])"
   ]
  },
  {
   "cell_type": "markdown",
   "metadata": {},
   "source": [
    "**DataFrameLoader**"
   ]
  },
  {
   "cell_type": "code",
   "execution_count": 35,
   "metadata": {},
   "outputs": [],
   "source": [
    "import pandas as pd\n",
    "\n",
    "# Excel 파일 읽기\n",
    "df = pd.read_excel(\"./data/titanic.xlsx\")"
   ]
  },
  {
   "cell_type": "code",
   "execution_count": 36,
   "metadata": {},
   "outputs": [
    {
     "name": "stdout",
     "output_type": "stream",
     "text": [
      "Braund, Mr. Owen Harris\n",
      "{'PassengerId': 1, 'Survived': 0, 'Pclass': 3, 'Sex': 'male', 'Age': 22.0, 'SibSp': 1, 'Parch': 0, 'Ticket': 'A/5 21171', 'Fare': 7.25, 'Cabin': nan, 'Embarked': 'S'}\n"
     ]
    }
   ],
   "source": [
    "from langchain_community.document_loaders import DataFrameLoader\n",
    "\n",
    "# 데이터 프레임 로더 설정, 페이지 내용 컬럼 지정\n",
    "loader = DataFrameLoader(df, page_content_column=\"Name\")\n",
    "\n",
    "# 문서 로드\n",
    "docs = loader.load()\n",
    "\n",
    "# 데이터 출력\n",
    "print(docs[0].page_content)\n",
    "\n",
    "# 메타데이터 출력\n",
    "print(docs[0].metadata)"
   ]
  },
  {
   "cell_type": "markdown",
   "metadata": {},
   "source": [
    "## 05-Microsoft Word"
   ]
  },
  {
   "cell_type": "code",
   "execution_count": 37,
   "metadata": {},
   "outputs": [
    {
     "name": "stdout",
     "output_type": "stream",
     "text": [
      "1\n"
     ]
    }
   ],
   "source": [
    "from langchain_community.document_loaders import Docx2txtLoader\n",
    "\n",
    "loader = Docx2txtLoader(\"./data/sample-word-document.docx\")  # 문서 로더 초기화\n",
    "\n",
    "docs = loader.load()  # 문서 로딩\n",
    "\n",
    "print(len(docs))"
   ]
  },
  {
   "cell_type": "code",
   "execution_count": 38,
   "metadata": {},
   "outputs": [
    {
     "name": "stdout",
     "output_type": "stream",
     "text": [
      "1\n"
     ]
    }
   ],
   "source": [
    "from langchain_community.document_loaders import UnstructuredWordDocumentLoader\n",
    "# 비구조화 워드 문서 로더 인스턴스화\n",
    "loader = UnstructuredWordDocumentLoader(\"./data/sample-word-document.docx\")\n",
    "\n",
    "# 문서 로드\n",
    "docs = loader.load()\n",
    "\n",
    "print(len(docs))"
   ]
  },
  {
   "cell_type": "code",
   "execution_count": 39,
   "metadata": {},
   "outputs": [
    {
     "name": "stdout",
     "output_type": "stream",
     "text": [
      "{'source': './data/sample-word-document.docx'}\n"
     ]
    }
   ],
   "source": [
    "# metadata 출력\n",
    "print(docs[0].metadata)"
   ]
  },
  {
   "cell_type": "code",
   "execution_count": null,
   "metadata": {},
   "outputs": [
    {
     "name": "stdout",
     "output_type": "stream",
     "text": [
      "125\n"
     ]
    }
   ],
   "source": [
    "# UnstructuredWordDocumentLoader 의 elements 모드를 이용하여 요소들을 쉽게 분리할 수 있습니다.\n",
    "loader = UnstructuredWordDocumentLoader(\n",
    "    \"./data/sample-word-document.docx\", mode=\"elements\"\n",
    ")\n",
    "\n",
    "# 데이터 로드\n",
    "docs = loader.load()\n",
    "\n",
    "# 로드한 문서의 개수 출력\n",
    "print(len(docs))"
   ]
  },
  {
   "cell_type": "code",
   "execution_count": 45,
   "metadata": {},
   "outputs": [
    {
     "name": "stdout",
     "output_type": "stream",
     "text": [
      "Semantic Search\n"
     ]
    }
   ],
   "source": [
    "# 첫번째 문서의 내용 출력\n",
    "print(docs[0].page_content)"
   ]
  },
  {
   "cell_type": "code",
   "execution_count": 42,
   "metadata": {},
   "outputs": [
    {
     "data": {
      "text/plain": [
       "{'source': './data/sample-word-document.docx',\n",
       " 'filename': 'sample-word-document.docx',\n",
       " 'file_directory': './data',\n",
       " 'last_modified': '2025-03-17T17:18:54',\n",
       " 'filetype': 'application/vnd.openxmlformats-officedocument.wordprocessingml.document',\n",
       " 'category_depth': 0,\n",
       " 'page_number': 1,\n",
       " 'category': 'Title',\n",
       " 'element_id': '3dd5e0592f44354ea795b26adff789ba'}"
      ]
     },
     "execution_count": 42,
     "metadata": {},
     "output_type": "execute_result"
    }
   ],
   "source": [
    "# 첫번째 문서의 내용 출력\n",
    "docs[0].metadata"
   ]
  },
  {
   "cell_type": "markdown",
   "metadata": {},
   "source": [
    "## 06-Microsoft PowerPoint"
   ]
  },
  {
   "cell_type": "code",
   "execution_count": 46,
   "metadata": {},
   "outputs": [
    {
     "name": "stdout",
     "output_type": "stream",
     "text": [
      "1\n"
     ]
    }
   ],
   "source": [
    "from langchain_community.document_loaders import UnstructuredPowerPointLoader\n",
    "\n",
    "# UnstructuredPowerPointLoader 생성\n",
    "loader = UnstructuredPowerPointLoader(\"./data/sample-ppt.pptx\")\n",
    "\n",
    "# 데이터 로드\n",
    "docs = loader.load()\n",
    "\n",
    "# 로드한 문서의 개수 출력\n",
    "print(len(docs))"
   ]
  },
  {
   "cell_type": "code",
   "execution_count": null,
   "metadata": {},
   "outputs": [
    {
     "name": "stdout",
     "output_type": "stream",
     "text": [
      "17\n"
     ]
    }
   ],
   "source": [
    "# UnstructuredPowerPointLoader 생성\n",
    "loader = UnstructuredPowerPointLoader(\"./data/sample-ppt.pptx\", mode=\"elements\") #요소에 따라 분리 -> 이미지, 텍스트 박스, 기호 등 유의미한 대상을 요소로 인식\n",
    "\n",
    "# 데이터 로드\n",
    "docs = loader.load()\n",
    "\n",
    "print(len(docs))"
   ]
  },
  {
   "cell_type": "code",
   "execution_count": null,
   "metadata": {},
   "outputs": [
    {
     "name": "stdout",
     "output_type": "stream",
     "text": [
      "예시: 사용자가 \"태양계 행성\"이라고 검색하면, \"목성\", \"화성\" 등과 같이 관련된 행성에 대한 정보를 반환합니다.\n"
     ]
    }
   ],
   "source": [
    "print(docs[5].page_content)"
   ]
  },
  {
   "cell_type": "code",
   "execution_count": 49,
   "metadata": {},
   "outputs": [
    {
     "data": {
      "text/plain": [
       "{'source': './data/sample-ppt.pptx',\n",
       " 'filename': 'sample-ppt.pptx',\n",
       " 'file_directory': './data',\n",
       " 'last_modified': '2025-03-17T17:18:54',\n",
       " 'filetype': 'application/vnd.openxmlformats-officedocument.presentationml.presentation',\n",
       " 'page_number': 1,\n",
       " 'category': 'Title',\n",
       " 'element_id': '026af4246954475333b4704ddff7954b'}"
      ]
     },
     "execution_count": 49,
     "metadata": {},
     "output_type": "execute_result"
    }
   ],
   "source": [
    "docs[0].metadata\n"
   ]
  },
  {
   "cell_type": "markdown",
   "metadata": {},
   "source": [
    "## 07-WebBaseLoader"
   ]
  },
  {
   "cell_type": "code",
   "execution_count": null,
   "metadata": {},
   "outputs": [
    {
     "name": "stdout",
     "output_type": "stream",
     "text": [
      "문서의 수: 1\n"
     ]
    },
    {
     "data": {
      "text/plain": [
       "[Document(metadata={'source': 'https://n.news.naver.com/article/437/0000378416'}, page_content=\"\\n출산 직원에게 '1억원' 쏜다…회사의 파격적 저출생 정책\\n\\n\\n[앵커]올해 아이 낳을 계획이 있는 가족이라면 솔깃할 소식입니다. 정부가 저출생 대책으로 매달 주는 부모 급여, 0세 아이는 100만원으로 올렸습니다. 여기에 첫만남이용권, 아동수당까지 더하면 아이 돌까지 1년 동안 1520만원을 받습니다. 지자체도 경쟁하듯 지원에 나섰습니다. 인천시는 새로 태어난 아기, 18살될 때까지 1억원을 주겠다. 광주시도 17살될 때까지 7400만원 주겠다고 했습니다. 선거 때면 나타나서 아이 낳으면 현금 주겠다고 밝힌 사람이 있었죠. 과거에는 표만 노린 '황당 공약'이라는 비판이 따라다녔습니다. 그런데 지금은 출산율이 이보다 더 나쁠 수 없다보니, 이런 현금성 지원을 진지하게 정책화 하는 상황까지 온 겁니다. 게다가 기업들도 뛰어들고 있습니다. 이번에는 출산한 직원에게 단번에 1억원을 주겠다는 회사까지 나타났습니다.이상화 기자가 취재했습니다.[기자]한 그룹사가 오늘 파격적인 저출생 정책을 내놨습니다.2021년 이후 태어난 직원 자녀에 1억원씩, 총 70억원을 지원하고 앞으로도 이 정책을 이어가기로 했습니다.해당 기간에 연년생과 쌍둥이 자녀가 있으면 총 2억원을 받게 됩니다.[오현석/부영그룹 직원 : 아이 키우는 데 금전적으로 많이 힘든 세상이잖아요. 교육이나 생활하는 데 큰 도움이 될 거라 생각합니다.]만약 셋째까지 낳는 경우엔 국민주택을 제공하겠다는 뜻도 밝혔습니다.[이중근/부영그룹 회장 : 3년 이내에 세 아이를 갖는 분이 나올 것이고 따라서 주택을 제공할 수 있는 계기가 될 것으로 생각하고.][조용현/부영그룹 직원 : 와이프가 셋째도 갖고 싶어 했는데 경제적 부담 때문에 부정적이었거든요. (이제) 긍정적으로 생각할 수 있을 것 같습니다.]오늘 행사에서는, 회사가 제공하는 출산장려금은 받는 직원들의 세금 부담을 고려해 정부가 면세해달라는 제안도 나왔습니다.이같은 출산장려책은 점점 확산하는 분위기입니다.법정기간보다 육아휴직을 길게 주거나, 남성 직원의 육아휴직을 의무화한 곳도 있습니다.사내 어린이집을 밤 10시까지 운영하고 셋째를 낳으면 무조건 승진시켜 주기도 합니다.한 회사는 지난해 네쌍둥이를 낳은 직원에 의료비를 지원해 관심을 모았습니다.정부 대신 회사가 나서는 출산장려책이 사회적 분위기를 바꿀 거라는 기대가 커지는 가운데, 여력이 부족한 중소지원이 필요하다는 목소리도 나옵니다.[영상디자인 곽세미]\\n\\t\\t\\n\")]"
      ]
     },
     "execution_count": 61,
     "metadata": {},
     "output_type": "execute_result"
    }
   ],
   "source": [
    "import bs4\n",
    "from langchain_community.document_loaders import WebBaseLoader\n",
    "\n",
    "# 뉴스기사 내용을 로드합니다.\n",
    "loader = WebBaseLoader(\n",
    "    web_paths=(\"https://n.news.naver.com/article/437/0000378416\",),\n",
    "    bs_kwargs=dict(\n",
    "        parse_only=bs4.SoupStrainer(\n",
    "            \"div\",\n",
    "            attrs={\"class\": [\"newsct_article _article_body\", \"media_end_head_title\"]},\n",
    "        )\n",
    "    ),\n",
    "    header_template={ #봇의 접근을 차단하는 사이트를 접근하기 위해 실제 User_Agent 헤더를 실어서 보낸다. 없어도 호출 됨.\n",
    "        \"User_Agent\": \"Mozilla/5.0 (Windows NT 10.0; Win64; x64) AppleWebKit/537.36 (KHTML, like Gecko) Chrome/102.0.0.0 Safari/537.36\",\n",
    "    },\n",
    ")\n",
    "\n",
    "docs = loader.load()\n",
    "print(f\"문서의 수: {len(docs)}\")\n",
    "docs"
   ]
  },
  {
   "cell_type": "code",
   "execution_count": 62,
   "metadata": {},
   "outputs": [],
   "source": [
    "# ssl 인증 우회\n",
    "loader.requests_kwargs = {\"verify\": True}\n",
    "\n",
    "# 데이터 로드\n",
    "docs = loader.load()"
   ]
  },
  {
   "cell_type": "code",
   "execution_count": 78,
   "metadata": {},
   "outputs": [
    {
     "name": "stderr",
     "output_type": "stream",
     "text": [
      "Fetching pages: 100%|##########| 2/2 [00:00<00:00, 27.50it/s]"
     ]
    },
    {
     "name": "stdout",
     "output_type": "stream",
     "text": [
      "2\n"
     ]
    },
    {
     "name": "stderr",
     "output_type": "stream",
     "text": [
      "\n"
     ]
    }
   ],
   "source": [
    "#url의 리스트를 로더에 전달하여 여러 웹 페이지를 한 번에 로드할 수 있다.\n",
    "\n",
    "loader = WebBaseLoader(\n",
    "    web_paths=[\n",
    "        \"https://n.news.naver.com/article/437/0000378416\",\n",
    "        \"https://n.news.naver.com/mnews/hotissue/article/092/0002340014?type=series&cid=2000063\",\n",
    "    ],\n",
    "    bs_kwargs=dict(\n",
    "        parse_only=bs4.SoupStrainer(\n",
    "            \"div\",\n",
    "            attrs={\"class\": [\"newsct_article _article_body\", \"media_end_head_title\"]},\n",
    "        )\n",
    "    ),\n",
    "    header_template={\n",
    "        \"User-Agent\": \"Mozilla/5.0 (Windows NT 10.0; Win64; x64) AppleWebKit/537.36 (KHTML, like Gecko) Chrome/102.0.0.0 Safari/537.36\",\n",
    "    },\n",
    ")\n",
    "\n",
    "# 데이터 로드\n",
    "docs = loader.aload()\n",
    "\n",
    "# 문서 수 확인\n",
    "print(len(docs))"
   ]
  },
  {
   "cell_type": "code",
   "execution_count": null,
   "metadata": {},
   "outputs": [
    {
     "name": "stdout",
     "output_type": "stream",
     "text": [
      "\n",
      "출산 직원에게 '1억원' 쏜다…회사의 파격적 저출생 정책\n",
      "\n",
      "\n",
      "[앵커]올해 아이 낳을 계획이 있는 가족이라면 솔깃할 소식입니다. 정부가 저출생 대책으로 매달 주는 부모 급여, 0세 아이는 100만원으로 올렸습니다. 여기에 첫만남이용권, 아동수당까지 더하면 아이 돌까지 1년 동안 1520만원을 받습니다. 지자체도 경쟁하듯 지원에 나섰습니다. 인천시는 새로 태어난 아기, 18살될 때까지 1억원을 주겠다. 광주시도 17살될 때까지 7400만원 주겠다고 했습니다. 선거 때면 나타나서 아이 낳으면 현금 주겠다고 밝힌 사람이 있었죠. 과거에는 표만 노린 '황당 공약'이라는 비판이 따라다녔습니다. 그런데 지금은 출산율이 이보다 더 나쁠 수 없다보니, 이런 현금성 지원을 진지하게 정책화 하는 상황까지 온 겁니다. 게다가 기업들도 뛰어들고 있습니다. 이번에는 출산한 직원에게 단번에 1억원을 주겠다는 회사까지 나타났습니다.이상화 기자가 취재했습니다.[기자]한 그룹사가 오늘 파격적인 저출생 정책을 내놨\n",
      "==============================\n",
      "\n",
      "고속 성장하는 스타트업엔 레드팀이 필요하다\n",
      "\n",
      "\n",
      "[이균성의 溫技] 초심, 본질을 잃을 때한 스타트업 창업자와 최근 점심을 같이 했다. 조언을 구할 게 있다고 했다. 당장 급한 현안이 있는 건 아니었다. 여러 번 창업한 경험이 있는데 지금 하고 있는 아이템은 대박 느낌이 든다고 헸다. 그런데 오히려 더 조심해야겠다는 생각이 들더란다. 조언을 구하고자 하는 바도 성장이 예상될 때 무엇을 경계해야 할지 알고 싶다는 거였다. 적잖은 스타트업 창업자를 만났지만 드문 사례였다.2년 가까이 스타트업 창업자를 릴레이 인터뷰 하면서 의미 있게 생각했던 것이 두 가지 있다. 첫째, 회사라는 단어보다 팀이라는 어휘를 주로 쓰고 있다는 점이었다. 그 표현의 유래나 의미 때문이라기보다는 팀이라는 말이 더 정겨워 뜻 깊게 생각된 듯하다. 이해관계보다 지향하는 뜻에 더 중점을 두고 하나의 마음으로 한 곳을 향해 달려가는 집단을 가리키는 표현이라는 생각에 더 정겨웠다.스타트업 대표들의 창업 동기는 대부분 ‘사회\n"
     ]
    }
   ],
   "source": [
    "print(docs[0].page_content[:500]) #첫번째 URL 기사 500자까지 호출\n",
    "print(\"===\" * 10)\n",
    "print(docs[1].page_content[:500]) #두번째 URL 기사 500자까지 호출"
   ]
  },
  {
   "cell_type": "code",
   "execution_count": 79,
   "metadata": {},
   "outputs": [],
   "source": [
    "# jupyter notebook 에서만 실행(asyncio)\n",
    "import nest_asyncio #여러 코드를 한 번에 처리할 수 있도록 비동기 코드 실행을 가능 하도록 함.\n",
    "\n",
    "nest_asyncio.apply()"
   ]
  },
  {
   "cell_type": "code",
   "execution_count": 80,
   "metadata": {},
   "outputs": [
    {
     "name": "stderr",
     "output_type": "stream",
     "text": [
      "Fetching pages: 100%|##########| 2/2 [00:00<00:00, 12.72it/s]\n"
     ]
    }
   ],
   "source": [
    "# 초당 요청 수 설정\n",
    "loader.requests_per_second = 1\n",
    "\n",
    "# 비동기 로드\n",
    "docs = loader.aload()"
   ]
  },
  {
   "cell_type": "code",
   "execution_count": 81,
   "metadata": {},
   "outputs": [
    {
     "data": {
      "text/plain": [
       "[Document(metadata={'source': 'https://n.news.naver.com/article/437/0000378416'}, page_content=\"\\n출산 직원에게 '1억원' 쏜다…회사의 파격적 저출생 정책\\n\\n\\n[앵커]올해 아이 낳을 계획이 있는 가족이라면 솔깃할 소식입니다. 정부가 저출생 대책으로 매달 주는 부모 급여, 0세 아이는 100만원으로 올렸습니다. 여기에 첫만남이용권, 아동수당까지 더하면 아이 돌까지 1년 동안 1520만원을 받습니다. 지자체도 경쟁하듯 지원에 나섰습니다. 인천시는 새로 태어난 아기, 18살될 때까지 1억원을 주겠다. 광주시도 17살될 때까지 7400만원 주겠다고 했습니다. 선거 때면 나타나서 아이 낳으면 현금 주겠다고 밝힌 사람이 있었죠. 과거에는 표만 노린 '황당 공약'이라는 비판이 따라다녔습니다. 그런데 지금은 출산율이 이보다 더 나쁠 수 없다보니, 이런 현금성 지원을 진지하게 정책화 하는 상황까지 온 겁니다. 게다가 기업들도 뛰어들고 있습니다. 이번에는 출산한 직원에게 단번에 1억원을 주겠다는 회사까지 나타났습니다.이상화 기자가 취재했습니다.[기자]한 그룹사가 오늘 파격적인 저출생 정책을 내놨습니다.2021년 이후 태어난 직원 자녀에 1억원씩, 총 70억원을 지원하고 앞으로도 이 정책을 이어가기로 했습니다.해당 기간에 연년생과 쌍둥이 자녀가 있으면 총 2억원을 받게 됩니다.[오현석/부영그룹 직원 : 아이 키우는 데 금전적으로 많이 힘든 세상이잖아요. 교육이나 생활하는 데 큰 도움이 될 거라 생각합니다.]만약 셋째까지 낳는 경우엔 국민주택을 제공하겠다는 뜻도 밝혔습니다.[이중근/부영그룹 회장 : 3년 이내에 세 아이를 갖는 분이 나올 것이고 따라서 주택을 제공할 수 있는 계기가 될 것으로 생각하고.][조용현/부영그룹 직원 : 와이프가 셋째도 갖고 싶어 했는데 경제적 부담 때문에 부정적이었거든요. (이제) 긍정적으로 생각할 수 있을 것 같습니다.]오늘 행사에서는, 회사가 제공하는 출산장려금은 받는 직원들의 세금 부담을 고려해 정부가 면세해달라는 제안도 나왔습니다.이같은 출산장려책은 점점 확산하는 분위기입니다.법정기간보다 육아휴직을 길게 주거나, 남성 직원의 육아휴직을 의무화한 곳도 있습니다.사내 어린이집을 밤 10시까지 운영하고 셋째를 낳으면 무조건 승진시켜 주기도 합니다.한 회사는 지난해 네쌍둥이를 낳은 직원에 의료비를 지원해 관심을 모았습니다.정부 대신 회사가 나서는 출산장려책이 사회적 분위기를 바꿀 거라는 기대가 커지는 가운데, 여력이 부족한 중소지원이 필요하다는 목소리도 나옵니다.[영상디자인 곽세미]\\n\\t\\t\\n\"),\n",
       " Document(metadata={'source': 'https://n.news.naver.com/mnews/hotissue/article/092/0002340014?type=series&cid=2000063'}, page_content='\\n고속 성장하는 스타트업엔 레드팀이 필요하다\\n\\n\\n[이균성의 溫技] 초심, 본질을 잃을 때한 스타트업 창업자와 최근 점심을 같이 했다. 조언을 구할 게 있다고 했다. 당장 급한 현안이 있는 건 아니었다. 여러 번 창업한 경험이 있는데 지금 하고 있는 아이템은 대박 느낌이 든다고 헸다. 그런데 오히려 더 조심해야겠다는 생각이 들더란다. 조언을 구하고자 하는 바도 성장이 예상될 때 무엇을 경계해야 할지 알고 싶다는 거였다. 적잖은 스타트업 창업자를 만났지만 드문 사례였다.2년 가까이 스타트업 창업자를 릴레이 인터뷰 하면서 의미 있게 생각했던 것이 두 가지 있다. 첫째, 회사라는 단어보다 팀이라는 어휘를 주로 쓰고 있다는 점이었다. 그 표현의 유래나 의미 때문이라기보다는 팀이라는 말이 더 정겨워 뜻 깊게 생각된 듯하다. 이해관계보다 지향하는 뜻에 더 중점을 두고 하나의 마음으로 한 곳을 향해 달려가는 집단을 가리키는 표현이라는 생각에 더 정겨웠다.스타트업 대표들의 창업 동기는 대부분 ‘사회 문제를 기업 방식으로 푼다’는 거다. 인간 사회에는 풀어야 할 여러 문제가 있고 해결방법은 다양하다. 그런데 어떤 것은 기업의 방식으로 푸는 것이 가장 효율적일 수 있다. 이윤의 동기와 결합될 때 문제가 더 잘 풀릴 수 있는 사안도 많은 것이다. 그래서 ‘사회 문제를 기업 방식으로 푼다’는 창업 동기 또한 팀이라는 말 못잖게 마음에 들었다.\\n\\n\\n\\n스타트업 창업자 (출처=픽사베이)두 가지는 그러나 어떤 측면에서 보면 ‘정리된 지향’일 뿐 ‘내재적 실체’는 아닐 수도 있다. 지향은 관념과 구호만으로도 충분하지만, 실체는 쉬지 않고 끝없이 가꾸는 행동으로만 조금씩 구현되는 것일 텐데, 어떤 기업의 경우 전자만 요란하고 후자는 느슨해 보인다. 기업의 규모가 조금씩 커져갈수록 전자와 후자의 간극이 벌어지는 경향도 느껴진다. 이 경향이 기업 리스크의 본질로 생각된다.창업은 ‘사회 문제를 기업 방식으로 푼다’는 관념으로부터 출발한다. 어떤 문제의식을 느끼고 해결방안이 떠올랐을 때 팀을 꾸려 행동에 나서는 것이 창업이다. 그 행동이야 말로 ‘도전’이다. 그 행동을 통해 소비자가 느끼는 문제를 풀어낼 때 창업은 빛이 나고 기업의 존재 이유가 생기는 것이다. 안타까운 것은 첫 문제를 풀기도 어렵지만 문제를 풀고 나서는 더 큰 문제에 직면한다는 점이다.‘도전’은 그래서 대부분 ‘예고된 좌절’이기도 하다. 짧은 시간 안에 많은 창업가가 좌절하고 시간이 길어지면 좌절하지 않은 이가 드물다. 문제는 기하급수적으로 늘고 창업자 역량은 산술급수적으로 발전하기 때문이다. 문제는 달리는 호랑이와 같고 창업자는 그 위에 위태롭게 올라 탄 존재와 같다. 시간이 가면 갈수록 문제는 그의 통제 영역을 벗어난다. 그가 할 수 있는 일은 점점 줄어든다.스타트업으로 시작해 크게 성장한 여러 기업에서 최근 잡음이 끊이지 않는다. 창업자가 구속되거나, 파산 위기에 빠지거나, 협력사와 소비자의 거센 반발에 직면해 있다. 위기에 빠진 기업들에 대한 분석도 쏟아진다. 대부분 그 원인은 ‘무리(無理)’에서 찾아진다. 문어발식 확장, 인수합병을 위한 무리한 투자, 매출 부풀리기, 당장의 지표를 위해 미래의 이익을 당겨오는 방식 등이 그런 분석이다.무리는 사실 특별한 게 아니다. ‘정리된 지향’과 ‘내재적 실체’가 크게 벌어진 상태를 가리킨다. 지향과 실체가 벌어지면 팀이라는 초기 기업문화가 흔들리고, 소비자를 위한 사회문제 해결이라는 창업 동기도 사라져버린다. 오로지 앞뒤 가리지 않는 성장만이 유일한 가치가 된다. 맹목적 성장 추구야 말로 언젠가 반드시 떨어지고야 말 호랑이 등인데, 사달이 나기 전에는 그 사실을 알지 못 한다.기업은 달리는 자전거에 비유되곤 한다. 달리는 건 성장을 뜻하다. 성장하지 않으면 넘어진다는 의미다. 지속 성장은 그래서 꼭 필요하지만 그만큼 힘든 일이다. 하지만 성장 자체가 유일한 가치로 돌변하게 될 경우 기업은 사회 문제를 푸는 혁신 집단이 아니라 도리어 스스로 문제 덩어리로 전락해 사회에 부담이 될 수 있다. 찬사가 비난으로 바뀌는 건 순식간이다. 나락에 빠지는 것도 그렇다.문제를 풀기보다 키워 나락에 빠진 기업은 지향하는 모토와 실제 경영 사이의 간극이 되돌릴 수 없을 만큼 커져 있게 마련이다. 간극이 커가는 데도 승수 효과가 적용되는 것 같다. 처음엔 작았던 게 시간이 갈수록 감당할 수 없을 만큼 커진다. 그래서 고속 성장하는 스타트업에는 그 간극을 체크할 레드팀이 꼭 필요하다. 간극을 체크하지 않으면 본질을 잃게 되고 본질을 잃으면 지속성장도 없다.\\n\\n')]"
      ]
     },
     "execution_count": 81,
     "metadata": {},
     "output_type": "execute_result"
    }
   ],
   "source": [
    "# 결과 출력\n",
    "docs"
   ]
  },
  {
   "cell_type": "markdown",
   "metadata": {},
   "source": [
    "## 08-TXT Loader"
   ]
  },
  {
   "cell_type": "code",
   "execution_count": 90,
   "metadata": {},
   "outputs": [
    {
     "ename": "RuntimeError",
     "evalue": "Error loading ./data/appendix-keywords.txt",
     "output_type": "error",
     "traceback": [
      "\u001b[31m---------------------------------------------------------------------------\u001b[39m",
      "\u001b[31mUnicodeDecodeError\u001b[39m                        Traceback (most recent call last)",
      "\u001b[36mFile \u001b[39m\u001b[32mc:\\Users\\GoodusData\\myenv\\jsyenv\\Lib\\site-packages\\langchain_community\\document_loaders\\text.py:43\u001b[39m, in \u001b[36mTextLoader.lazy_load\u001b[39m\u001b[34m(self)\u001b[39m\n\u001b[32m     42\u001b[39m     \u001b[38;5;28;01mwith\u001b[39;00m \u001b[38;5;28mopen\u001b[39m(\u001b[38;5;28mself\u001b[39m.file_path, encoding=\u001b[38;5;28mself\u001b[39m.encoding) \u001b[38;5;28;01mas\u001b[39;00m f:\n\u001b[32m---> \u001b[39m\u001b[32m43\u001b[39m         text = f.read()\n\u001b[32m     44\u001b[39m \u001b[38;5;28;01mexcept\u001b[39;00m \u001b[38;5;167;01mUnicodeDecodeError\u001b[39;00m \u001b[38;5;28;01mas\u001b[39;00m e:\n",
      "\u001b[31mUnicodeDecodeError\u001b[39m: 'cp949' codec can't decode byte 0xec in position 19: illegal multibyte sequence",
      "\nThe above exception was the direct cause of the following exception:\n",
      "\u001b[31mRuntimeError\u001b[39m                              Traceback (most recent call last)",
      "\u001b[36mCell\u001b[39m\u001b[36m \u001b[39m\u001b[32mIn[90]\u001b[39m\u001b[32m, line 7\u001b[39m\n\u001b[32m      4\u001b[39m loader = TextLoader(\u001b[33m\"\u001b[39m\u001b[33m./data/appendix-keywords.txt\u001b[39m\u001b[33m\"\u001b[39m)\n\u001b[32m      6\u001b[39m \u001b[38;5;66;03m# 문서 로드\u001b[39;00m\n\u001b[32m----> \u001b[39m\u001b[32m7\u001b[39m docs = \u001b[43mloader\u001b[49m\u001b[43m.\u001b[49m\u001b[43mload\u001b[49m\u001b[43m(\u001b[49m\u001b[43m)\u001b[49m\n\u001b[32m      8\u001b[39m \u001b[38;5;28mprint\u001b[39m(\u001b[33mf\u001b[39m\u001b[33m\"\u001b[39m\u001b[33m문서의 수: \u001b[39m\u001b[38;5;132;01m{\u001b[39;00m\u001b[38;5;28mlen\u001b[39m(docs)\u001b[38;5;132;01m}\u001b[39;00m\u001b[38;5;130;01m\\n\u001b[39;00m\u001b[33m\"\u001b[39m)\n\u001b[32m      9\u001b[39m \u001b[38;5;28mprint\u001b[39m(\u001b[33m\"\u001b[39m\u001b[33m[메타데이터]\u001b[39m\u001b[38;5;130;01m\\n\u001b[39;00m\u001b[33m\"\u001b[39m)\n",
      "\u001b[36mFile \u001b[39m\u001b[32mc:\\Users\\GoodusData\\myenv\\jsyenv\\Lib\\site-packages\\langchain_core\\document_loaders\\base.py:32\u001b[39m, in \u001b[36mBaseLoader.load\u001b[39m\u001b[34m(self)\u001b[39m\n\u001b[32m     30\u001b[39m \u001b[38;5;28;01mdef\u001b[39;00m\u001b[38;5;250m \u001b[39m\u001b[34mload\u001b[39m(\u001b[38;5;28mself\u001b[39m) -> \u001b[38;5;28mlist\u001b[39m[Document]:\n\u001b[32m     31\u001b[39m \u001b[38;5;250m    \u001b[39m\u001b[33;03m\"\"\"Load data into Document objects.\"\"\"\u001b[39;00m\n\u001b[32m---> \u001b[39m\u001b[32m32\u001b[39m     \u001b[38;5;28;01mreturn\u001b[39;00m \u001b[38;5;28mlist\u001b[39m(\u001b[38;5;28mself\u001b[39m.lazy_load())\n",
      "\u001b[36mFile \u001b[39m\u001b[32mc:\\Users\\GoodusData\\myenv\\jsyenv\\Lib\\site-packages\\langchain_community\\document_loaders\\text.py:56\u001b[39m, in \u001b[36mTextLoader.lazy_load\u001b[39m\u001b[34m(self)\u001b[39m\n\u001b[32m     54\u001b[39m                 \u001b[38;5;28;01mcontinue\u001b[39;00m\n\u001b[32m     55\u001b[39m     \u001b[38;5;28;01melse\u001b[39;00m:\n\u001b[32m---> \u001b[39m\u001b[32m56\u001b[39m         \u001b[38;5;28;01mraise\u001b[39;00m \u001b[38;5;167;01mRuntimeError\u001b[39;00m(\u001b[33mf\u001b[39m\u001b[33m\"\u001b[39m\u001b[33mError loading \u001b[39m\u001b[38;5;132;01m{\u001b[39;00m\u001b[38;5;28mself\u001b[39m.file_path\u001b[38;5;132;01m}\u001b[39;00m\u001b[33m\"\u001b[39m) \u001b[38;5;28;01mfrom\u001b[39;00m\u001b[38;5;250m \u001b[39m\u001b[34;01me\u001b[39;00m\n\u001b[32m     57\u001b[39m \u001b[38;5;28;01mexcept\u001b[39;00m \u001b[38;5;167;01mException\u001b[39;00m \u001b[38;5;28;01mas\u001b[39;00m e:\n\u001b[32m     58\u001b[39m     \u001b[38;5;28;01mraise\u001b[39;00m \u001b[38;5;167;01mRuntimeError\u001b[39;00m(\u001b[33mf\u001b[39m\u001b[33m\"\u001b[39m\u001b[33mError loading \u001b[39m\u001b[38;5;132;01m{\u001b[39;00m\u001b[38;5;28mself\u001b[39m.file_path\u001b[38;5;132;01m}\u001b[39;00m\u001b[33m\"\u001b[39m) \u001b[38;5;28;01mfrom\u001b[39;00m\u001b[38;5;250m \u001b[39m\u001b[34;01me\u001b[39;00m\n",
      "\u001b[31mRuntimeError\u001b[39m: Error loading ./data/appendix-keywords.txt"
     ]
    }
   ],
   "source": [
    "from langchain_community.document_loaders import TextLoader\n",
    "\n",
    "# 텍스트 로더 생성\n",
    "loader = TextLoader(\"./data/appendix-keywords.txt\")\n",
    "\n",
    "# 문서 로드\n",
    "docs = loader.load()\n",
    "print(f\"문서의 수: {len(docs)}\\n\")\n",
    "print(\"[메타데이터]\\n\")\n",
    "print(docs[0].metadata)\n",
    "print(\"\\n========= [앞부분] 미리보기 =========\\n\")\n",
    "print(docs[0].page_content[:500])"
   ]
  },
  {
   "cell_type": "markdown",
   "metadata": {},
   "source": [
    "**TextLoader를 통한 파일 인코딩 자동 감지**"
   ]
  },
  {
   "cell_type": "code",
   "execution_count": null,
   "metadata": {},
   "outputs": [],
   "source": [
    "from langchain_community.document_loaders import DirectoryLoader\n",
    "\n",
    "path = \"data/\"\n",
    "\n",
    "text_loader_kwargs = {\"autodetect_encoding\": True} # 인코딩 전달 실패전에 인코딩을 자동으로 감지하도록 진행.\n",
    "\n",
    "loader = DirectoryLoader(\n",
    "    path,\n",
    "    glob=\"**/*.txt\",\n",
    "    loader_cls=TextLoader,\n",
    "    silent_errors=True, # silent_errors 매개변수를 전달하고 로드할 수 없는 파일을 건너뜀\n",
    "    loader_kwargs=text_loader_kwargs,\n",
    ")\n",
    "docs = loader.load()"
   ]
  }
 ],
 "metadata": {
  "kernelspec": {
   "display_name": "jsyenv",
   "language": "python",
   "name": "python3"
  },
  "language_info": {
   "codemirror_mode": {
    "name": "ipython",
    "version": 3
   },
   "file_extension": ".py",
   "mimetype": "text/x-python",
   "name": "python",
   "nbconvert_exporter": "python",
   "pygments_lexer": "ipython3",
   "version": "3.11.9"
  }
 },
 "nbformat": 4,
 "nbformat_minor": 2
}
